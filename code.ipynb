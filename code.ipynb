{
 "cells": [
  {
   "attachments": {},
   "cell_type": "markdown",
   "metadata": {},
   "source": [
    "<div align=\"center\">\n",
    "\n",
    "# JK Lakshmipat University\n",
    "## Computational Data Analysis (ES1101)\n",
    "## Sustainable Development Goals Project\n",
    "### Team 15B - Zero Hunger\n",
    "\n",
    "</div>\n",
    "<hr>"
   ]
  },
  {
   "attachments": {},
   "cell_type": "markdown",
   "metadata": {},
   "source": [
    "##### Importing the Necessary Libraries"
   ]
  },
  {
   "cell_type": "code",
   "execution_count": 1,
   "metadata": {},
   "outputs": [],
   "source": [
    "import numpy as np\n",
    "import pandas as pd\n",
    "from scipy import stats\n",
    "from sklearn.linear_model import LinearRegression\n",
    "\n",
    "import geopandas as gpd\n",
    "from geopandas import datasets\n",
    "import matplotlib.pyplot as plt\n",
    "\n",
    "import plotly.express as px\n",
    "import plotly.graph_objects as go\n",
    "from plotly.subplots import make_subplots"
   ]
  },
  {
   "attachments": {},
   "cell_type": "markdown",
   "metadata": {},
   "source": [
    "<hr>\n",
    "\n",
    "#### Objective 1 - Swastik Kulshreshtha (2022BTech105)\n",
    "To analyze the prevalence of stunting and malnutrition (wasting and overweightness) in children.\n",
    "* To access the prevalence of stunting in children across the world.\n",
    "* To access the prevalence of malnutrition in children across the world.\n",
    "* To correlate the prevalence of stunting and malnutrition along with the population growth across the world.\n",
    "* To illustrate the world regions requiring more work on removing stunting & malnutrition.\n",
    "* To estimate the future trend of prevalence of stunting and malnutrition in 2025 and 2030 for various regions of the world. \n",
    "\n",
    "<hr>"
   ]
  },
  {
   "attachments": {},
   "cell_type": "markdown",
   "metadata": {},
   "source": [
    "Reading the Dataset"
   ]
  },
  {
   "cell_type": "code",
   "execution_count": 2,
   "metadata": {},
   "outputs": [],
   "source": [
    "dataFrame = pd.read_csv(\"1 Data 1.csv\")\n",
    "dataPop = pd.read_csv(\"1 Data 2.csv\")"
   ]
  },
  {
   "attachments": {},
   "cell_type": "markdown",
   "metadata": {},
   "source": [
    "Splitting the data based on Regions, Sub-regions and Countries"
   ]
  },
  {
   "cell_type": "code",
   "execution_count": 3,
   "metadata": {},
   "outputs": [],
   "source": [
    "# Specify the UN M49 Codes\n",
    "regions, subregions = (1,2,5,9,10,21,142,150), (11,13,14,15,17,18,19,29,30,34,35,39,53,54,57,61,143,145,151,154,155,199,202,419,432,722,830)\n",
    "regionsIndex, subregionsIndex, countriesIndex = list(), list(), list(range(len(dataFrame)))\n",
    "\n",
    "for i in regions:\n",
    "    x = dataFrame.index[dataFrame['GeoAreaCode'] == i].tolist()\n",
    "    for j in x:\n",
    "        regionsIndex.append(j)\n",
    "for i in subregions:\n",
    "    x = dataFrame.index[dataFrame['GeoAreaCode'] == i].tolist()\n",
    "    for j in x:\n",
    "        subregionsIndex.append(j)\n",
    "for i in regionsIndex+subregionsIndex:\n",
    "    countriesIndex.remove(i)\n",
    "\n",
    "# Segregate the Data according to the Codes\n",
    "regionsData = dataFrame.loc[regionsIndex]\n",
    "subregionsData = dataFrame.loc[subregionsIndex]\n",
    "countriesData = dataFrame.loc[countriesIndex]"
   ]
  },
  {
   "attachments": {},
   "cell_type": "markdown",
   "metadata": {},
   "source": [
    "<div align='Center'>\n",
    "<hr>\n",
    "\n",
    "##### Problem Statement 1\n",
    "\n",
    "</div>"
   ]
  },
  {
   "attachments": {},
   "cell_type": "markdown",
   "metadata": {},
   "source": [
    "Segregating the Data"
   ]
  },
  {
   "cell_type": "code",
   "execution_count": 4,
   "metadata": {},
   "outputs": [],
   "source": [
    "# Specify the Data\n",
    "stuntingData = countriesData.loc[(countriesData['Indicator']=='2.2.1')&(countriesData['SeriesCode']=='SH_STA_STNT')]\n",
    "countries = np.unique(countriesData['GeoAreaName'].to_numpy())\n",
    "\n",
    "# Convert the Data into Dictionary\n",
    "stuntingRates = dict()\n",
    "for i in countries:\n",
    "    countryData = stuntingData.loc[stuntingData['GeoAreaName']==i]\n",
    "    data = {k:v for k,v in countryData[['TimePeriod', 'Value']].to_dict('split')['data']}\n",
    "    if data != {}:\n",
    "        for j in data:\n",
    "            try: data[j] = float(data[j])\n",
    "            except: data[j] = 0\n",
    "        rates = list(data.values())\n",
    "        stuntingRates[i] = - ((rates[-1] / rates[0]) ** (1 / (len(rates) - 1)) - 1)"
   ]
  },
  {
   "attachments": {},
   "cell_type": "markdown",
   "metadata": {},
   "source": [
    "Calculating the Descriptive Statistical Information"
   ]
  },
  {
   "cell_type": "code",
   "execution_count": 5,
   "metadata": {},
   "outputs": [
    {
     "name": "stdout",
     "output_type": "stream",
     "text": [
      "The Statistical Info from the data available for the 160 out of 162 countries:\n",
      "\tThe Mean Rate of Improvement in Prevalence of Stunting is:\t0.02118318654660719\n",
      "\tThe Median Rate of Improvement in Prevalence of Stunting is:\t0.02025723301898652\n",
      "\tThe Minimum Rate of Improvement in Prevalence of Stunting is:\t-0.03833327002221365 which is in Libya\n",
      "\tThe Maximum Rate of Improvement in Prevalence of Stunting is:\t0.07696284742950776 which is in Tonga\n"
     ]
    }
   ],
   "source": [
    "# Calculate the Statistical Information\n",
    "dataValues = np.array(tuple(stuntingRates.values()), dtype=float)\n",
    "table = [np.mean(dataValues), np.median(dataValues), np.min(dataValues), np.max(dataValues)]\n",
    "vals = {k:v for v,k in stuntingRates.items()}\n",
    "table[2] = [table[2], vals[table[2]]]\n",
    "table[3] = [table[3], vals[table[3]]]\n",
    "\n",
    "# Print the Information\n",
    "print(f'''The Statistical Info from the data available for the {len(vals)} out of {len(countries)} countries:\n",
    "\\tThe Mean Rate of Improvement in Prevalence of Stunting is:\\t{table[0]}\n",
    "\\tThe Median Rate of Improvement in Prevalence of Stunting is:\\t{table[1]}\n",
    "\\tThe Minimum Rate of Improvement in Prevalence of Stunting is:\\t{table[2][0]} which is in {table[2][1]}\n",
    "\\tThe Maximum Rate of Improvement in Prevalence of Stunting is:\\t{table[3][0]} which is in {table[3][1]}''')"
   ]
  },
  {
   "attachments": {},
   "cell_type": "markdown",
   "metadata": {},
   "source": [
    "Plotting the Graph"
   ]
  },
  {
   "cell_type": "code",
   "execution_count": 6,
   "metadata": {},
   "outputs": [
    {
     "data": {
      "application/vnd.plotly.v1+json": {
       "config": {
        "plotlyServerURL": "https://plot.ly"
       },
       "data": [
        {
         "alignmentgroup": "True",
         "boxpoints": "all",
         "hovertemplate": "x=%{x}<extra></extra>",
         "legendgroup": "",
         "marker": {
          "color": "#636efa"
         },
         "name": "",
         "notched": false,
         "offsetgroup": "",
         "orientation": "h",
         "showlegend": false,
         "type": "box",
         "x": [
          0.021849404442564446,
          0.05490440452018286,
          0.04235502591094498,
          0.011798127044665985,
          0.014752673242066972,
          0.03271733145139322,
          -0.024268453636266063,
          0.019767570154265668,
          0.03770357015873238,
          0.03040370837415851,
          0.01139388566727928,
          0.011348052143786092,
          0.027289974137319595,
          0.031448863621829304,
          0.008061319263435562,
          0.03586077226252138,
          0.04719755547875759,
          0.01652826326352219,
          0.01603145656384386,
          0.023425931677132916,
          0.024599729393888103,
          0.022067231457071457,
          0.024056661191357187,
          0.0039142621309707915,
          0.030439394001412157,
          0.02644046541364231,
          0.015664827695092254,
          0.003946347961385377,
          0.023246684096307924,
          0.009660832134722575,
          0.029297609282719184,
          0.07008106687538063,
          0.020773879544436546,
          0.030970208321748127,
          0.034597195587685925,
          -0.005542396282394613,
          0.00140755231604206,
          0.0038406577920363505,
          0.03126712944975185,
          0.05327548218003697,
          0.007885919598300317,
          -0.006277780326765292,
          0.02887014125404619,
          0.032784573701481134,
          0.009924887996385023,
          0.00933315362092424,
          0.04612541690977168,
          0.03394092670162263,
          -0.0014474283600227622,
          0.027592952852224295,
          0.024082667969549942,
          0.02409994374764013,
          0.01489321214704753,
          -0.012069792574162408,
          0.02873634118315771,
          0.03031543983263696,
          0.05088684682947808,
          -0.0032321381876456723,
          0.04172048247240312,
          0.010187473178167705,
          0.011371617004922174,
          0.007533031900226139,
          0.009514968686435421,
          0.025217862029839777,
          0.020547036963327936,
          0.0311844732270663,
          0.023580471358507937,
          0.013223152568378693,
          0.04082328480826192,
          0.04378185073352581,
          -0.006953371368468408,
          0.020951581602833502,
          0.020292328527732106,
          0.04741206464429182,
          0.03418797927422457,
          0.01558594653608436,
          -0.017993718011223514,
          0.047068500056593354,
          0.02460050206741826,
          0.02130883493386615,
          0.012161248787098455,
          0.02355210284464515,
          -0.03833327002221365,
          0.015729772199348013,
          0.020245365587399533,
          -0.00220326790627956,
          0.04215011077253972,
          0.0218765824651167,
          0.008507061567563201,
          0.025298352708091776,
          0.01873620206070914,
          0.025538990560925345,
          0.06858001760550136,
          0.00356657281492323,
          0.032926554168852484,
          0.014378834485737402,
          0.0306845520226664,
          0.024631423652103357,
          0.02860061708188466,
          0.03170040324233825,
          -0.010436047860110653,
          0.02880837291274363,
          0.005456100325383462,
          0.009004421290555786,
          0.03746826062387165,
          0.019142458575044152,
          -0.007575310729390106,
          0.010606291985743033,
          0.0068400489230483474,
          0.011430333544939608,
          -0.007236759030752049,
          0.06671274077135647,
          0.05241489676150912,
          0.010853351029734948,
          0.017888729805985992,
          0.01957157730575687,
          0.03510179406898173,
          0.013717711628200902,
          0.04497542214914507,
          0.017115337009365073,
          0.020269100450573507,
          0.015153101097815314,
          -0.005446470434498751,
          0.04730018493455734,
          0.05949599709515352,
          0.019303248981530574,
          0.029768865856717786,
          0.019177858828647976,
          0.018204151304511695,
          0.02234580585031054,
          0.007411052143283303,
          0.0075743189908902275,
          0.009535114623015706,
          0.011928002655684833,
          0.012555629710563343,
          0.011849782880255177,
          0.009513668170841316,
          0.027244355898796146,
          -0.0026036228036410147,
          0.048782339227037785,
          0.015760205457430176,
          0.005781218125120002,
          0.019377813998924687,
          0.07696284742950776,
          -0.019608299799666273,
          0.020069134687442314,
          0.06210730887413418,
          0.010993107630278831,
          0.022520683810125508,
          0.016991087734373966,
          0.019761897168170228,
          -0.0015886955575088457,
          0.039653351576621865,
          0.05312934143640691,
          -0.00672396888431237,
          0.025584254331246004,
          0.030927143928270895,
          0.019539293980116335,
          0.025368512352408112,
          0.016987271550435
         ],
         "x0": " ",
         "xaxis": "x",
         "y0": " ",
         "yaxis": "y"
        }
       ],
       "layout": {
        "boxmode": "group",
        "legend": {
         "tracegroupgap": 0
        },
        "margin": {
         "t": 60
        },
        "template": {
         "data": {
          "bar": [
           {
            "error_x": {
             "color": "#2a3f5f"
            },
            "error_y": {
             "color": "#2a3f5f"
            },
            "marker": {
             "line": {
              "color": "#E5ECF6",
              "width": 0.5
             },
             "pattern": {
              "fillmode": "overlay",
              "size": 10,
              "solidity": 0.2
             }
            },
            "type": "bar"
           }
          ],
          "barpolar": [
           {
            "marker": {
             "line": {
              "color": "#E5ECF6",
              "width": 0.5
             },
             "pattern": {
              "fillmode": "overlay",
              "size": 10,
              "solidity": 0.2
             }
            },
            "type": "barpolar"
           }
          ],
          "carpet": [
           {
            "aaxis": {
             "endlinecolor": "#2a3f5f",
             "gridcolor": "white",
             "linecolor": "white",
             "minorgridcolor": "white",
             "startlinecolor": "#2a3f5f"
            },
            "baxis": {
             "endlinecolor": "#2a3f5f",
             "gridcolor": "white",
             "linecolor": "white",
             "minorgridcolor": "white",
             "startlinecolor": "#2a3f5f"
            },
            "type": "carpet"
           }
          ],
          "choropleth": [
           {
            "colorbar": {
             "outlinewidth": 0,
             "ticks": ""
            },
            "type": "choropleth"
           }
          ],
          "contour": [
           {
            "colorbar": {
             "outlinewidth": 0,
             "ticks": ""
            },
            "colorscale": [
             [
              0,
              "#0d0887"
             ],
             [
              0.1111111111111111,
              "#46039f"
             ],
             [
              0.2222222222222222,
              "#7201a8"
             ],
             [
              0.3333333333333333,
              "#9c179e"
             ],
             [
              0.4444444444444444,
              "#bd3786"
             ],
             [
              0.5555555555555556,
              "#d8576b"
             ],
             [
              0.6666666666666666,
              "#ed7953"
             ],
             [
              0.7777777777777778,
              "#fb9f3a"
             ],
             [
              0.8888888888888888,
              "#fdca26"
             ],
             [
              1,
              "#f0f921"
             ]
            ],
            "type": "contour"
           }
          ],
          "contourcarpet": [
           {
            "colorbar": {
             "outlinewidth": 0,
             "ticks": ""
            },
            "type": "contourcarpet"
           }
          ],
          "heatmap": [
           {
            "colorbar": {
             "outlinewidth": 0,
             "ticks": ""
            },
            "colorscale": [
             [
              0,
              "#0d0887"
             ],
             [
              0.1111111111111111,
              "#46039f"
             ],
             [
              0.2222222222222222,
              "#7201a8"
             ],
             [
              0.3333333333333333,
              "#9c179e"
             ],
             [
              0.4444444444444444,
              "#bd3786"
             ],
             [
              0.5555555555555556,
              "#d8576b"
             ],
             [
              0.6666666666666666,
              "#ed7953"
             ],
             [
              0.7777777777777778,
              "#fb9f3a"
             ],
             [
              0.8888888888888888,
              "#fdca26"
             ],
             [
              1,
              "#f0f921"
             ]
            ],
            "type": "heatmap"
           }
          ],
          "heatmapgl": [
           {
            "colorbar": {
             "outlinewidth": 0,
             "ticks": ""
            },
            "colorscale": [
             [
              0,
              "#0d0887"
             ],
             [
              0.1111111111111111,
              "#46039f"
             ],
             [
              0.2222222222222222,
              "#7201a8"
             ],
             [
              0.3333333333333333,
              "#9c179e"
             ],
             [
              0.4444444444444444,
              "#bd3786"
             ],
             [
              0.5555555555555556,
              "#d8576b"
             ],
             [
              0.6666666666666666,
              "#ed7953"
             ],
             [
              0.7777777777777778,
              "#fb9f3a"
             ],
             [
              0.8888888888888888,
              "#fdca26"
             ],
             [
              1,
              "#f0f921"
             ]
            ],
            "type": "heatmapgl"
           }
          ],
          "histogram": [
           {
            "marker": {
             "pattern": {
              "fillmode": "overlay",
              "size": 10,
              "solidity": 0.2
             }
            },
            "type": "histogram"
           }
          ],
          "histogram2d": [
           {
            "colorbar": {
             "outlinewidth": 0,
             "ticks": ""
            },
            "colorscale": [
             [
              0,
              "#0d0887"
             ],
             [
              0.1111111111111111,
              "#46039f"
             ],
             [
              0.2222222222222222,
              "#7201a8"
             ],
             [
              0.3333333333333333,
              "#9c179e"
             ],
             [
              0.4444444444444444,
              "#bd3786"
             ],
             [
              0.5555555555555556,
              "#d8576b"
             ],
             [
              0.6666666666666666,
              "#ed7953"
             ],
             [
              0.7777777777777778,
              "#fb9f3a"
             ],
             [
              0.8888888888888888,
              "#fdca26"
             ],
             [
              1,
              "#f0f921"
             ]
            ],
            "type": "histogram2d"
           }
          ],
          "histogram2dcontour": [
           {
            "colorbar": {
             "outlinewidth": 0,
             "ticks": ""
            },
            "colorscale": [
             [
              0,
              "#0d0887"
             ],
             [
              0.1111111111111111,
              "#46039f"
             ],
             [
              0.2222222222222222,
              "#7201a8"
             ],
             [
              0.3333333333333333,
              "#9c179e"
             ],
             [
              0.4444444444444444,
              "#bd3786"
             ],
             [
              0.5555555555555556,
              "#d8576b"
             ],
             [
              0.6666666666666666,
              "#ed7953"
             ],
             [
              0.7777777777777778,
              "#fb9f3a"
             ],
             [
              0.8888888888888888,
              "#fdca26"
             ],
             [
              1,
              "#f0f921"
             ]
            ],
            "type": "histogram2dcontour"
           }
          ],
          "mesh3d": [
           {
            "colorbar": {
             "outlinewidth": 0,
             "ticks": ""
            },
            "type": "mesh3d"
           }
          ],
          "parcoords": [
           {
            "line": {
             "colorbar": {
              "outlinewidth": 0,
              "ticks": ""
             }
            },
            "type": "parcoords"
           }
          ],
          "pie": [
           {
            "automargin": true,
            "type": "pie"
           }
          ],
          "scatter": [
           {
            "fillpattern": {
             "fillmode": "overlay",
             "size": 10,
             "solidity": 0.2
            },
            "type": "scatter"
           }
          ],
          "scatter3d": [
           {
            "line": {
             "colorbar": {
              "outlinewidth": 0,
              "ticks": ""
             }
            },
            "marker": {
             "colorbar": {
              "outlinewidth": 0,
              "ticks": ""
             }
            },
            "type": "scatter3d"
           }
          ],
          "scattercarpet": [
           {
            "marker": {
             "colorbar": {
              "outlinewidth": 0,
              "ticks": ""
             }
            },
            "type": "scattercarpet"
           }
          ],
          "scattergeo": [
           {
            "marker": {
             "colorbar": {
              "outlinewidth": 0,
              "ticks": ""
             }
            },
            "type": "scattergeo"
           }
          ],
          "scattergl": [
           {
            "marker": {
             "colorbar": {
              "outlinewidth": 0,
              "ticks": ""
             }
            },
            "type": "scattergl"
           }
          ],
          "scattermapbox": [
           {
            "marker": {
             "colorbar": {
              "outlinewidth": 0,
              "ticks": ""
             }
            },
            "type": "scattermapbox"
           }
          ],
          "scatterpolar": [
           {
            "marker": {
             "colorbar": {
              "outlinewidth": 0,
              "ticks": ""
             }
            },
            "type": "scatterpolar"
           }
          ],
          "scatterpolargl": [
           {
            "marker": {
             "colorbar": {
              "outlinewidth": 0,
              "ticks": ""
             }
            },
            "type": "scatterpolargl"
           }
          ],
          "scatterternary": [
           {
            "marker": {
             "colorbar": {
              "outlinewidth": 0,
              "ticks": ""
             }
            },
            "type": "scatterternary"
           }
          ],
          "surface": [
           {
            "colorbar": {
             "outlinewidth": 0,
             "ticks": ""
            },
            "colorscale": [
             [
              0,
              "#0d0887"
             ],
             [
              0.1111111111111111,
              "#46039f"
             ],
             [
              0.2222222222222222,
              "#7201a8"
             ],
             [
              0.3333333333333333,
              "#9c179e"
             ],
             [
              0.4444444444444444,
              "#bd3786"
             ],
             [
              0.5555555555555556,
              "#d8576b"
             ],
             [
              0.6666666666666666,
              "#ed7953"
             ],
             [
              0.7777777777777778,
              "#fb9f3a"
             ],
             [
              0.8888888888888888,
              "#fdca26"
             ],
             [
              1,
              "#f0f921"
             ]
            ],
            "type": "surface"
           }
          ],
          "table": [
           {
            "cells": {
             "fill": {
              "color": "#EBF0F8"
             },
             "line": {
              "color": "white"
             }
            },
            "header": {
             "fill": {
              "color": "#C8D4E3"
             },
             "line": {
              "color": "white"
             }
            },
            "type": "table"
           }
          ]
         },
         "layout": {
          "annotationdefaults": {
           "arrowcolor": "#2a3f5f",
           "arrowhead": 0,
           "arrowwidth": 1
          },
          "autotypenumbers": "strict",
          "coloraxis": {
           "colorbar": {
            "outlinewidth": 0,
            "ticks": ""
           }
          },
          "colorscale": {
           "diverging": [
            [
             0,
             "#8e0152"
            ],
            [
             0.1,
             "#c51b7d"
            ],
            [
             0.2,
             "#de77ae"
            ],
            [
             0.3,
             "#f1b6da"
            ],
            [
             0.4,
             "#fde0ef"
            ],
            [
             0.5,
             "#f7f7f7"
            ],
            [
             0.6,
             "#e6f5d0"
            ],
            [
             0.7,
             "#b8e186"
            ],
            [
             0.8,
             "#7fbc41"
            ],
            [
             0.9,
             "#4d9221"
            ],
            [
             1,
             "#276419"
            ]
           ],
           "sequential": [
            [
             0,
             "#0d0887"
            ],
            [
             0.1111111111111111,
             "#46039f"
            ],
            [
             0.2222222222222222,
             "#7201a8"
            ],
            [
             0.3333333333333333,
             "#9c179e"
            ],
            [
             0.4444444444444444,
             "#bd3786"
            ],
            [
             0.5555555555555556,
             "#d8576b"
            ],
            [
             0.6666666666666666,
             "#ed7953"
            ],
            [
             0.7777777777777778,
             "#fb9f3a"
            ],
            [
             0.8888888888888888,
             "#fdca26"
            ],
            [
             1,
             "#f0f921"
            ]
           ],
           "sequentialminus": [
            [
             0,
             "#0d0887"
            ],
            [
             0.1111111111111111,
             "#46039f"
            ],
            [
             0.2222222222222222,
             "#7201a8"
            ],
            [
             0.3333333333333333,
             "#9c179e"
            ],
            [
             0.4444444444444444,
             "#bd3786"
            ],
            [
             0.5555555555555556,
             "#d8576b"
            ],
            [
             0.6666666666666666,
             "#ed7953"
            ],
            [
             0.7777777777777778,
             "#fb9f3a"
            ],
            [
             0.8888888888888888,
             "#fdca26"
            ],
            [
             1,
             "#f0f921"
            ]
           ]
          },
          "colorway": [
           "#636efa",
           "#EF553B",
           "#00cc96",
           "#ab63fa",
           "#FFA15A",
           "#19d3f3",
           "#FF6692",
           "#B6E880",
           "#FF97FF",
           "#FECB52"
          ],
          "font": {
           "color": "#2a3f5f"
          },
          "geo": {
           "bgcolor": "white",
           "lakecolor": "white",
           "landcolor": "#E5ECF6",
           "showlakes": true,
           "showland": true,
           "subunitcolor": "white"
          },
          "hoverlabel": {
           "align": "left"
          },
          "hovermode": "closest",
          "mapbox": {
           "style": "light"
          },
          "paper_bgcolor": "white",
          "plot_bgcolor": "#E5ECF6",
          "polar": {
           "angularaxis": {
            "gridcolor": "white",
            "linecolor": "white",
            "ticks": ""
           },
           "bgcolor": "#E5ECF6",
           "radialaxis": {
            "gridcolor": "white",
            "linecolor": "white",
            "ticks": ""
           }
          },
          "scene": {
           "xaxis": {
            "backgroundcolor": "#E5ECF6",
            "gridcolor": "white",
            "gridwidth": 2,
            "linecolor": "white",
            "showbackground": true,
            "ticks": "",
            "zerolinecolor": "white"
           },
           "yaxis": {
            "backgroundcolor": "#E5ECF6",
            "gridcolor": "white",
            "gridwidth": 2,
            "linecolor": "white",
            "showbackground": true,
            "ticks": "",
            "zerolinecolor": "white"
           },
           "zaxis": {
            "backgroundcolor": "#E5ECF6",
            "gridcolor": "white",
            "gridwidth": 2,
            "linecolor": "white",
            "showbackground": true,
            "ticks": "",
            "zerolinecolor": "white"
           }
          },
          "shapedefaults": {
           "line": {
            "color": "#2a3f5f"
           }
          },
          "ternary": {
           "aaxis": {
            "gridcolor": "white",
            "linecolor": "white",
            "ticks": ""
           },
           "baxis": {
            "gridcolor": "white",
            "linecolor": "white",
            "ticks": ""
           },
           "bgcolor": "#E5ECF6",
           "caxis": {
            "gridcolor": "white",
            "linecolor": "white",
            "ticks": ""
           }
          },
          "title": {
           "x": 0.05
          },
          "xaxis": {
           "automargin": true,
           "gridcolor": "white",
           "linecolor": "white",
           "ticks": "",
           "title": {
            "standoff": 15
           },
           "zerolinecolor": "white",
           "zerolinewidth": 2
          },
          "yaxis": {
           "automargin": true,
           "gridcolor": "white",
           "linecolor": "white",
           "ticks": "",
           "title": {
            "standoff": 15
           },
           "zerolinecolor": "white",
           "zerolinewidth": 2
          }
         }
        },
        "title": {
         "text": "Rate of Improvement in the Prevalence of Stunting"
        },
        "xaxis": {
         "anchor": "y",
         "domain": [
          0,
          1
         ],
         "title": {
          "text": "Rate of Improvement"
         }
        },
        "yaxis": {
         "anchor": "x",
         "domain": [
          0,
          1
         ]
        }
       }
      }
     },
     "metadata": {},
     "output_type": "display_data"
    }
   ],
   "source": [
    "# Configure the Data\n",
    "plotDF = pd.DataFrame({'Country': list(stuntingRates.keys()), 'Rate': list(stuntingRates.values())})\n",
    "\n",
    "# Plot the Data\n",
    "fig = px.box(x=dataValues, points='all')\n",
    "\n",
    "# Customise the Data\n",
    "fig.update_layout(title_text=\"Rate of Improvement in the Prevalence of Stunting\", xaxis_title=\"Rate of Improvement\")\n",
    "\n",
    "# Show the Data\n",
    "fig.show()"
   ]
  },
  {
   "cell_type": "code",
   "execution_count": 7,
   "metadata": {},
   "outputs": [
    {
     "data": {
      "text/plain": [
       "(0.48471098231507587, 3.887130866942939e-35)"
      ]
     },
     "execution_count": 7,
     "metadata": {},
     "output_type": "execute_result"
    }
   ],
   "source": [
    "def kstest(data):\n",
    "    data = sorted(data)\n",
    "    cval = stats.norm.cdf(data)\n",
    "    n = len(cval)\n",
    "    Dplus = np.arange(1.0, n + 1) / n - cval\n",
    "    Dplus = Dplus[Dplus.argmax()]\n",
    "    Dminus = cval - np.arange(0.0, n)/n\n",
    "    Dminus = Dminus[Dminus.argmax()]\n",
    "    if Dplus > Dminus:\n",
    "        D = Dplus\n",
    "    else:\n",
    "        D = Dminus\n",
    "    probA = stats.ksone.sf(D, len(data)) * 2\n",
    "    probB = np.clip(probA, 0, 1)\n",
    "    return (D, probB)\n",
    "    \n",
    "kstest(list(stuntingRates.values()))"
   ]
  },
  {
   "attachments": {},
   "cell_type": "markdown",
   "metadata": {},
   "source": [
    "<div align='Center'>\n",
    "<hr>\n",
    "\n",
    "##### Problem Statement 2\n",
    "\n",
    "</div>"
   ]
  },
  {
   "attachments": {},
   "cell_type": "markdown",
   "metadata": {},
   "source": [
    "Segregating the Data"
   ]
  },
  {
   "cell_type": "code",
   "execution_count": 8,
   "metadata": {},
   "outputs": [],
   "source": [
    "# Specify the Data\n",
    "countries = np.unique(countriesData['GeoAreaName'].to_numpy())\n",
    "wasteData = countriesData.loc[countriesData['SeriesCode']=='SH_STA_WASTN']\n",
    "ovrwtData = countriesData.loc[countriesData['SeriesCode']=='SN_STA_OVWGT']\n",
    "\n",
    "# Convert the Data into Dictionaries\n",
    "wasteRates, ovrwtRates = dict(), dict()\n",
    "for i in countries:\n",
    "    countryWasteData = wasteData.loc[wasteData['GeoAreaName']==i]\n",
    "    countryOvrWtData = ovrwtData.loc[ovrwtData['GeoAreaName']==i]\n",
    "    dataW = {k:v for k,v in countryWasteData[['TimePeriod', 'Value']].to_dict('split')['data']}\n",
    "    dataO = {k:v for k,v in countryOvrWtData[['TimePeriod', 'Value']].to_dict('split')['data']}\n",
    "    if dataW != {} and dataO != {}:\n",
    "        for j in dataW:\n",
    "            try: dataW[j] = float(dataW[j])\n",
    "            except: dataW[j] = 0\n",
    "        for j in dataO:\n",
    "            try: dataO[j] = float(dataO[j])\n",
    "            except: dataO[j] = 0\n",
    "        wRates, oRates = list(dataW.values()), list(dataO.values())\n",
    "        try:\n",
    "            wasteRates[i] = - ((wRates[-1] / wRates[0]) ** (1 / (len(wRates) - 1)) - 1)\n",
    "            ovrwtRates[i] = - ((oRates[-1] / oRates[0]) ** (1 / (len(oRates) - 1)) - 1)\n",
    "        except ZeroDivisionError: pass"
   ]
  },
  {
   "attachments": {},
   "cell_type": "markdown",
   "metadata": {},
   "source": [
    "Taking out Mean of Wasting & Overweight Data to find out the Mean Increase/Decrease in Malnutrition"
   ]
  },
  {
   "cell_type": "code",
   "execution_count": 9,
   "metadata": {},
   "outputs": [],
   "source": [
    "meanMalnutRates = dict()\n",
    "for i in wasteRates:\n",
    "    meanMalnutRates[i] = np.mean((wasteRates[i], ovrwtRates[i]))"
   ]
  },
  {
   "attachments": {},
   "cell_type": "markdown",
   "metadata": {},
   "source": [
    "Calculating the Descriptive Statistical Information for the Rate of Improvement in Prevalence of Malnutrition"
   ]
  },
  {
   "cell_type": "code",
   "execution_count": 10,
   "metadata": {},
   "outputs": [
    {
     "name": "stdout",
     "output_type": "stream",
     "text": [
      "The Statistical Info from the data available for the 127 out of 162 countries:\n",
      "\tThe Mean Rate of Improvement in Prevalence of Malnutrition is:\t0.003389371219568598\n",
      "\tThe Median Rate of Improvement in Prevalence of Malnutrition is:\t0.017066560294318966\n",
      "\tThe Minimum Rate of Improvement in Prevalence of Malnutrition is:\t-1.2184135430045917 which is in Papua New Guinea\n",
      "\tThe Maximum Rate of Improvement in Prevalence of Malnutrition is:\t0.4237510657474796 which is in Tonga\n"
     ]
    }
   ],
   "source": [
    "# Calculate the Statistical Information\n",
    "table = [np.mean(list(meanMalnutRates.values())), np.median(list(meanMalnutRates.values())), np.min(list(meanMalnutRates.values())), np.max(list(meanMalnutRates.values()))]\n",
    "vals = {k:v for v,k in meanMalnutRates.items()}\n",
    "table[2] = [table[2], vals[table[2]]]\n",
    "table[3] = [table[3], vals[table[3]]]\n",
    "\n",
    "# Print the Information\n",
    "print(f'''The Statistical Info from the data available for the {len(vals)} out of {len(countries)} countries:\n",
    "\\tThe Mean Rate of Improvement in Prevalence of Malnutrition is:\\t{table[0]}\n",
    "\\tThe Median Rate of Improvement in Prevalence of Malnutrition is:\\t{table[1]}\n",
    "\\tThe Minimum Rate of Improvement in Prevalence of Malnutrition is:\\t{table[2][0]} which is in {table[2][1]}\n",
    "\\tThe Maximum Rate of Improvement in Prevalence of Malnutrition is:\\t{table[3][0]} which is in {table[3][1]}''')"
   ]
  },
  {
   "attachments": {},
   "cell_type": "markdown",
   "metadata": {},
   "source": [
    "Plotting the Graph"
   ]
  },
  {
   "cell_type": "code",
   "execution_count": 11,
   "metadata": {},
   "outputs": [
    {
     "data": {
      "application/vnd.plotly.v1+json": {
       "config": {
        "plotlyServerURL": "https://plot.ly"
       },
       "data": [
        {
         "name": "Wasted Rate",
         "type": "box",
         "x": [
          0.16469037451390756,
          0.5662015754463339,
          -0.09171799623628374,
          0.22056131787675415,
          -0.4028103044496485,
          -0.23856232963017088,
          0.20472927123294937,
          0.029522570350353328,
          0,
          0.06909485924408498,
          -0.25806451612903225,
          -0.04488111680079876,
          0.5014471810381596,
          -0.3984374999999998,
          -0.4581541729985239,
          0.013129529436543774,
          -0.005081777772936391,
          0.10724916778645299,
          0.013599071554237674,
          0.08313986819232932,
          -0.09334211417833882,
          0.06620247446786054,
          0.041819850140607184,
          -0.10367116688986888,
          -0.05932203389830493,
          -0.14741528875282617,
          -0.8,
          0.33333333333333337,
          0.2831784669677867,
          0.2908215945803767,
          0.09356546541522026,
          0.029268292682926855,
          -0.12233220357406305,
          -0.18306357851546085,
          -0.35239006371111437,
          -0.17669681082910427,
          0.28157879189290036,
          -0.5078740157480315,
          -0.03780198565376658,
          0.048226404275816925,
          -0.12820512820512842,
          0.010006783916522544,
          0.49290744716289003,
          0.7065217391304348,
          -0.006843402320323433,
          0.40244395429845636,
          -0.009364833329304822,
          0.009312964588494177,
          0.25482018457013,
          0.10913545648178957,
          -0.018350154434631172,
          0.08214385472089147,
          -0.13337668378049217,
          0.0828749541620829,
          0.08324281590486604,
          0.00948574178547823,
          -0.1850127928207932,
          0.023869789075634973,
          0.06414115449419133,
          -0.02524512641660026,
          0.009161270767219176,
          0.1568489490461723,
          0.2959464514634952,
          0.07130855167585404,
          -0.735897435897436,
          0.2628250015497511,
          0.1693324953683203,
          0.08220029778397342,
          0.07804555427071125,
          -0.022581713809719295,
          -0.025321254199291987,
          0.09046540397294234,
          0.2285164692653393,
          0.3140056594299646,
          0.47434251696215324,
          0.062278181463326754,
          0.14128747017615728,
          0.08060725537563407,
          0.04444638061856121,
          0.02213119837369215,
          -0.013786950819213883,
          0.02705827226753854,
          0.04881026878865824,
          -0.41781666009137197,
          0.14604221329971712,
          0.21052631578947367,
          -2.4124700239808154,
          0.061916848035314054,
          0.08001269165582281,
          0.0175483004051038,
          -0.14049586776859524,
          0.6416666666666666,
          0.0790758631555013,
          0.21431161698487056,
          0.18181818181818188,
          -0.08333333333333348,
          -0.023764743556826007,
          0.23005704854561437,
          0.07658711890886816,
          -1.46875,
          -0.16434336023477614,
          0.08154791209660028,
          -0.09589041095890405,
          0.0027894274468640567,
          0.045302099223858194,
          -0.1158793126819373,
          0.07799751563111734,
          -0.4179112219300447,
          0.01609561984441832,
          -0.12311068346755549,
          0.07830147502977891,
          -0.018245288222668687,
          0.8571428571428571,
          -0.31914893617021267,
          0.041299667800160145,
          0.07324093718503333,
          -0.010155322452610305,
          -0.049646553576083274,
          0.16403437917947594,
          0.08434040106112173,
          0.49239935602467677,
          0.05263157894736836,
          -0.009628856676020758,
          -0.0013201551274113488,
          -0.08968651602369615,
          0.014931587844392302,
          0.13650552058907606
         ]
        },
        {
         "name": "Mean Nutrition Rate",
         "type": "box",
         "x": [
          0.08948576057854646,
          0.2892502092710178,
          -0.04566598422974549,
          0.10723741357962563,
          -0.20406777203152437,
          -0.11604038486769969,
          0.09600362962517961,
          -0.013472369099592318,
          0.002935922359882992,
          0.04140628543614294,
          -0.13380599266087223,
          -0.023308449714928403,
          0.2568812634697265,
          -0.20316387218946919,
          -0.2188996925071795,
          0.006564764718271887,
          -0.008980337108740355,
          0.06404480690771797,
          0.0031485812501402255,
          0.06432483752069701,
          -0.04667105708916941,
          0.03664909855226228,
          0.014368567173011215,
          -0.0571207058968326,
          -0.023503343998505732,
          -0.06730328608826669,
          -0.39879639844028025,
          0.16041638925861695,
          0.15331109497907708,
          0.13155879857962183,
          0.057582335463076784,
          0.017261233376197893,
          -0.06395448898163769,
          -0.11137297238706079,
          -0.18241615661420274,
          -0.09690853398354915,
          0.13732368152410318,
          -0.2551582509888981,
          -0.014880061177106496,
          0.029277332951635926,
          -0.06697101958463325,
          0.013191645520930662,
          0.2658963782238642,
          0.3499989472731234,
          0.0012575714618114353,
          0.20526848725815827,
          -0.006035925884165683,
          0.01268598759650047,
          0.11536523546002403,
          0.054567728240894786,
          -0.020095968266216402,
          0.054684895265669,
          -0.09286690871473469,
          0.03327692132740173,
          0.04048355585401714,
          0.001603980729356469,
          -0.10084654667396298,
          0.009858403126966953,
          0.04228591111011443,
          -0.009960475786889411,
          0.01224638509685877,
          0.0694276155174744,
          0.14617064673851005,
          0.03456596533557177,
          -0.37720460334133155,
          0.14844433631245274,
          0.10526012935249784,
          0.03804359885433034,
          0.03791024718113234,
          -0.002453023383462094,
          -0.006930621617218691,
          0.04855986741678647,
          0.10992785854020198,
          0.16432390537135327,
          0.23908342340794975,
          0.03389019570463381,
          0.09736832376799903,
          0.03531765837097545,
          0.004590728388591814,
          0.007084709567262648,
          -0.01647129567943073,
          0.03056097167134647,
          0.02745125848131641,
          -0.23404027832679897,
          0.08156822227467275,
          0.0989406569871536,
          -1.2184135430045917,
          0.018023296747910256,
          0.045054213154771816,
          -0.005413814052313781,
          -0.08077966296296268,
          0.3321607414645445,
          0.04658637292452794,
          0.11453214511346876,
          0.08582752052380471,
          -0.04230001265500005,
          -0.0014621487639215336,
          0.12093954868921847,
          0.038819617752786695,
          -0.742479573443356,
          -0.07130728686028837,
          0.03722860732755073,
          -0.03834443910732921,
          -0.005207603509778003,
          0.018131460706942937,
          -0.05149378627806106,
          0.03564930401142824,
          -0.21081174700709315,
          0.023656648825739868,
          -0.0707107919535157,
          0.04722046771424909,
          -0.005283690552920717,
          0.4237510657474796,
          -0.1753931151436956,
          -0.012324517758697195,
          0.042936095807404484,
          0.0019083859823109117,
          -0.02575016664457841,
          0.0769751698620898,
          0.0387858149429261,
          0.2680096524751887,
          0.023039598140754736,
          -0.01070892033937243,
          -0.02410019505213845,
          -0.03066408694338485,
          0.017066560294318966,
          0.08626937666044265
         ]
        },
        {
         "name": "Overweight Rate",
         "type": "box",
         "x": [
          0.01428114664318536,
          0.012298843095701728,
          0.00038602777679275224,
          -0.00608649071750289,
          -0.005325239613400257,
          0.006481559894771505,
          -0.012722011982590153,
          -0.056467308549537965,
          0.005871844719765984,
          0.013717711628200902,
          -0.00954746919271221,
          -0.001735782629058047,
          0.012315345901293462,
          -0.007890244378938593,
          0.0203547879841649,
          0,
          -0.012878896444544319,
          0.02084044602898294,
          -0.007301909053957223,
          0.04550980684906469,
          0,
          0.007095722636664026,
          -0.013082715794584754,
          -0.010570244903796322,
          0.012315345901293462,
          0.012808716576292789,
          0.0024072031194395382,
          -0.012500554816099463,
          0.023443722990367455,
          -0.027703997421133053,
          0.021599205510933306,
          0.005254174069468931,
          -0.005576774389212336,
          -0.03968236625866073,
          -0.012442249517291115,
          -0.017120257137994033,
          -0.006931428844693999,
          -0.0024424862297647287,
          0.008041863299553587,
          0.010328261627454927,
          -0.005736910964138087,
          0.01637650712533878,
          0.038885309284838354,
          -0.006523844584187977,
          0.009358545243946303,
          0.00809302021786018,
          -0.002707018439026543,
          0.016059010604506763,
          -0.024089713650081945,
          0,
          -0.021841782097801632,
          0.027225935810446522,
          -0.052357133648977205,
          -0.01632111150727944,
          -0.0022757041968317626,
          -0.006277780326765292,
          -0.016680300527132763,
          -0.004152982821701068,
          0.02043066772603752,
          0.005324174842821439,
          0.015331499426498363,
          -0.017993718011223514,
          -0.0036051579864750938,
          -0.0021766210047104995,
          -0.018511770785227144,
          0.0340636710751544,
          0.0411877633366754,
          -0.0061131000753127385,
          -0.0022250599084465694,
          0.017675667042795107,
          0.011460010964854606,
          0.006654330860630608,
          -0.008660752184935339,
          0.014642151312741936,
          0.0038243298537462556,
          0.005502209945940861,
          0.05344917735984078,
          -0.009971938633683175,
          -0.03526492384137758,
          -0.007961779239166855,
          -0.019155640539647578,
          0.0340636710751544,
          0.006092248173974579,
          -0.05026389656222596,
          0.01709423124962839,
          -0.012645001815166479,
          -0.02435706202836796,
          -0.025870254539493542,
          0.010095734653720823,
          -0.028375928509731363,
          -0.02106345815733013,
          0.022654816262422384,
          0.01409688269355458,
          0.014752673242066972,
          -0.010163140770572454,
          -0.001266691976666623,
          0.02084044602898294,
          0.011822048832822563,
          0.0010521165967052326,
          -0.016209146886712045,
          0.021728786514199405,
          -0.007090697441498817,
          0.01920153274424563,
          -0.013204634466420062,
          -0.00903917780997232,
          0.012891740125815176,
          -0.006698907608260862,
          -0.003712272084141599,
          0.031217677807061417,
          -0.01831090043947592,
          0.016139460398719274,
          0.007677907116827254,
          -0.009640725647897863,
          -0.03163729411717853,
          -0.06594870331755454,
          0.01263125442977564,
          0.013972094417232128,
          -0.0018537797130735445,
          -0.010084039455296345,
          -0.006768771175269528,
          0.04361994892570065,
          -0.006552382665858891,
          -0.011788984002724101,
          -0.046880234976865554,
          0.02835834213692645,
          0.01920153274424563,
          0.03603323273180925
         ]
        }
       ],
       "layout": {
        "showlegend": false,
        "template": {
         "data": {
          "bar": [
           {
            "error_x": {
             "color": "#2a3f5f"
            },
            "error_y": {
             "color": "#2a3f5f"
            },
            "marker": {
             "line": {
              "color": "#E5ECF6",
              "width": 0.5
             },
             "pattern": {
              "fillmode": "overlay",
              "size": 10,
              "solidity": 0.2
             }
            },
            "type": "bar"
           }
          ],
          "barpolar": [
           {
            "marker": {
             "line": {
              "color": "#E5ECF6",
              "width": 0.5
             },
             "pattern": {
              "fillmode": "overlay",
              "size": 10,
              "solidity": 0.2
             }
            },
            "type": "barpolar"
           }
          ],
          "carpet": [
           {
            "aaxis": {
             "endlinecolor": "#2a3f5f",
             "gridcolor": "white",
             "linecolor": "white",
             "minorgridcolor": "white",
             "startlinecolor": "#2a3f5f"
            },
            "baxis": {
             "endlinecolor": "#2a3f5f",
             "gridcolor": "white",
             "linecolor": "white",
             "minorgridcolor": "white",
             "startlinecolor": "#2a3f5f"
            },
            "type": "carpet"
           }
          ],
          "choropleth": [
           {
            "colorbar": {
             "outlinewidth": 0,
             "ticks": ""
            },
            "type": "choropleth"
           }
          ],
          "contour": [
           {
            "colorbar": {
             "outlinewidth": 0,
             "ticks": ""
            },
            "colorscale": [
             [
              0,
              "#0d0887"
             ],
             [
              0.1111111111111111,
              "#46039f"
             ],
             [
              0.2222222222222222,
              "#7201a8"
             ],
             [
              0.3333333333333333,
              "#9c179e"
             ],
             [
              0.4444444444444444,
              "#bd3786"
             ],
             [
              0.5555555555555556,
              "#d8576b"
             ],
             [
              0.6666666666666666,
              "#ed7953"
             ],
             [
              0.7777777777777778,
              "#fb9f3a"
             ],
             [
              0.8888888888888888,
              "#fdca26"
             ],
             [
              1,
              "#f0f921"
             ]
            ],
            "type": "contour"
           }
          ],
          "contourcarpet": [
           {
            "colorbar": {
             "outlinewidth": 0,
             "ticks": ""
            },
            "type": "contourcarpet"
           }
          ],
          "heatmap": [
           {
            "colorbar": {
             "outlinewidth": 0,
             "ticks": ""
            },
            "colorscale": [
             [
              0,
              "#0d0887"
             ],
             [
              0.1111111111111111,
              "#46039f"
             ],
             [
              0.2222222222222222,
              "#7201a8"
             ],
             [
              0.3333333333333333,
              "#9c179e"
             ],
             [
              0.4444444444444444,
              "#bd3786"
             ],
             [
              0.5555555555555556,
              "#d8576b"
             ],
             [
              0.6666666666666666,
              "#ed7953"
             ],
             [
              0.7777777777777778,
              "#fb9f3a"
             ],
             [
              0.8888888888888888,
              "#fdca26"
             ],
             [
              1,
              "#f0f921"
             ]
            ],
            "type": "heatmap"
           }
          ],
          "heatmapgl": [
           {
            "colorbar": {
             "outlinewidth": 0,
             "ticks": ""
            },
            "colorscale": [
             [
              0,
              "#0d0887"
             ],
             [
              0.1111111111111111,
              "#46039f"
             ],
             [
              0.2222222222222222,
              "#7201a8"
             ],
             [
              0.3333333333333333,
              "#9c179e"
             ],
             [
              0.4444444444444444,
              "#bd3786"
             ],
             [
              0.5555555555555556,
              "#d8576b"
             ],
             [
              0.6666666666666666,
              "#ed7953"
             ],
             [
              0.7777777777777778,
              "#fb9f3a"
             ],
             [
              0.8888888888888888,
              "#fdca26"
             ],
             [
              1,
              "#f0f921"
             ]
            ],
            "type": "heatmapgl"
           }
          ],
          "histogram": [
           {
            "marker": {
             "pattern": {
              "fillmode": "overlay",
              "size": 10,
              "solidity": 0.2
             }
            },
            "type": "histogram"
           }
          ],
          "histogram2d": [
           {
            "colorbar": {
             "outlinewidth": 0,
             "ticks": ""
            },
            "colorscale": [
             [
              0,
              "#0d0887"
             ],
             [
              0.1111111111111111,
              "#46039f"
             ],
             [
              0.2222222222222222,
              "#7201a8"
             ],
             [
              0.3333333333333333,
              "#9c179e"
             ],
             [
              0.4444444444444444,
              "#bd3786"
             ],
             [
              0.5555555555555556,
              "#d8576b"
             ],
             [
              0.6666666666666666,
              "#ed7953"
             ],
             [
              0.7777777777777778,
              "#fb9f3a"
             ],
             [
              0.8888888888888888,
              "#fdca26"
             ],
             [
              1,
              "#f0f921"
             ]
            ],
            "type": "histogram2d"
           }
          ],
          "histogram2dcontour": [
           {
            "colorbar": {
             "outlinewidth": 0,
             "ticks": ""
            },
            "colorscale": [
             [
              0,
              "#0d0887"
             ],
             [
              0.1111111111111111,
              "#46039f"
             ],
             [
              0.2222222222222222,
              "#7201a8"
             ],
             [
              0.3333333333333333,
              "#9c179e"
             ],
             [
              0.4444444444444444,
              "#bd3786"
             ],
             [
              0.5555555555555556,
              "#d8576b"
             ],
             [
              0.6666666666666666,
              "#ed7953"
             ],
             [
              0.7777777777777778,
              "#fb9f3a"
             ],
             [
              0.8888888888888888,
              "#fdca26"
             ],
             [
              1,
              "#f0f921"
             ]
            ],
            "type": "histogram2dcontour"
           }
          ],
          "mesh3d": [
           {
            "colorbar": {
             "outlinewidth": 0,
             "ticks": ""
            },
            "type": "mesh3d"
           }
          ],
          "parcoords": [
           {
            "line": {
             "colorbar": {
              "outlinewidth": 0,
              "ticks": ""
             }
            },
            "type": "parcoords"
           }
          ],
          "pie": [
           {
            "automargin": true,
            "type": "pie"
           }
          ],
          "scatter": [
           {
            "fillpattern": {
             "fillmode": "overlay",
             "size": 10,
             "solidity": 0.2
            },
            "type": "scatter"
           }
          ],
          "scatter3d": [
           {
            "line": {
             "colorbar": {
              "outlinewidth": 0,
              "ticks": ""
             }
            },
            "marker": {
             "colorbar": {
              "outlinewidth": 0,
              "ticks": ""
             }
            },
            "type": "scatter3d"
           }
          ],
          "scattercarpet": [
           {
            "marker": {
             "colorbar": {
              "outlinewidth": 0,
              "ticks": ""
             }
            },
            "type": "scattercarpet"
           }
          ],
          "scattergeo": [
           {
            "marker": {
             "colorbar": {
              "outlinewidth": 0,
              "ticks": ""
             }
            },
            "type": "scattergeo"
           }
          ],
          "scattergl": [
           {
            "marker": {
             "colorbar": {
              "outlinewidth": 0,
              "ticks": ""
             }
            },
            "type": "scattergl"
           }
          ],
          "scattermapbox": [
           {
            "marker": {
             "colorbar": {
              "outlinewidth": 0,
              "ticks": ""
             }
            },
            "type": "scattermapbox"
           }
          ],
          "scatterpolar": [
           {
            "marker": {
             "colorbar": {
              "outlinewidth": 0,
              "ticks": ""
             }
            },
            "type": "scatterpolar"
           }
          ],
          "scatterpolargl": [
           {
            "marker": {
             "colorbar": {
              "outlinewidth": 0,
              "ticks": ""
             }
            },
            "type": "scatterpolargl"
           }
          ],
          "scatterternary": [
           {
            "marker": {
             "colorbar": {
              "outlinewidth": 0,
              "ticks": ""
             }
            },
            "type": "scatterternary"
           }
          ],
          "surface": [
           {
            "colorbar": {
             "outlinewidth": 0,
             "ticks": ""
            },
            "colorscale": [
             [
              0,
              "#0d0887"
             ],
             [
              0.1111111111111111,
              "#46039f"
             ],
             [
              0.2222222222222222,
              "#7201a8"
             ],
             [
              0.3333333333333333,
              "#9c179e"
             ],
             [
              0.4444444444444444,
              "#bd3786"
             ],
             [
              0.5555555555555556,
              "#d8576b"
             ],
             [
              0.6666666666666666,
              "#ed7953"
             ],
             [
              0.7777777777777778,
              "#fb9f3a"
             ],
             [
              0.8888888888888888,
              "#fdca26"
             ],
             [
              1,
              "#f0f921"
             ]
            ],
            "type": "surface"
           }
          ],
          "table": [
           {
            "cells": {
             "fill": {
              "color": "#EBF0F8"
             },
             "line": {
              "color": "white"
             }
            },
            "header": {
             "fill": {
              "color": "#C8D4E3"
             },
             "line": {
              "color": "white"
             }
            },
            "type": "table"
           }
          ]
         },
         "layout": {
          "annotationdefaults": {
           "arrowcolor": "#2a3f5f",
           "arrowhead": 0,
           "arrowwidth": 1
          },
          "autotypenumbers": "strict",
          "coloraxis": {
           "colorbar": {
            "outlinewidth": 0,
            "ticks": ""
           }
          },
          "colorscale": {
           "diverging": [
            [
             0,
             "#8e0152"
            ],
            [
             0.1,
             "#c51b7d"
            ],
            [
             0.2,
             "#de77ae"
            ],
            [
             0.3,
             "#f1b6da"
            ],
            [
             0.4,
             "#fde0ef"
            ],
            [
             0.5,
             "#f7f7f7"
            ],
            [
             0.6,
             "#e6f5d0"
            ],
            [
             0.7,
             "#b8e186"
            ],
            [
             0.8,
             "#7fbc41"
            ],
            [
             0.9,
             "#4d9221"
            ],
            [
             1,
             "#276419"
            ]
           ],
           "sequential": [
            [
             0,
             "#0d0887"
            ],
            [
             0.1111111111111111,
             "#46039f"
            ],
            [
             0.2222222222222222,
             "#7201a8"
            ],
            [
             0.3333333333333333,
             "#9c179e"
            ],
            [
             0.4444444444444444,
             "#bd3786"
            ],
            [
             0.5555555555555556,
             "#d8576b"
            ],
            [
             0.6666666666666666,
             "#ed7953"
            ],
            [
             0.7777777777777778,
             "#fb9f3a"
            ],
            [
             0.8888888888888888,
             "#fdca26"
            ],
            [
             1,
             "#f0f921"
            ]
           ],
           "sequentialminus": [
            [
             0,
             "#0d0887"
            ],
            [
             0.1111111111111111,
             "#46039f"
            ],
            [
             0.2222222222222222,
             "#7201a8"
            ],
            [
             0.3333333333333333,
             "#9c179e"
            ],
            [
             0.4444444444444444,
             "#bd3786"
            ],
            [
             0.5555555555555556,
             "#d8576b"
            ],
            [
             0.6666666666666666,
             "#ed7953"
            ],
            [
             0.7777777777777778,
             "#fb9f3a"
            ],
            [
             0.8888888888888888,
             "#fdca26"
            ],
            [
             1,
             "#f0f921"
            ]
           ]
          },
          "colorway": [
           "#636efa",
           "#EF553B",
           "#00cc96",
           "#ab63fa",
           "#FFA15A",
           "#19d3f3",
           "#FF6692",
           "#B6E880",
           "#FF97FF",
           "#FECB52"
          ],
          "font": {
           "color": "#2a3f5f"
          },
          "geo": {
           "bgcolor": "white",
           "lakecolor": "white",
           "landcolor": "#E5ECF6",
           "showlakes": true,
           "showland": true,
           "subunitcolor": "white"
          },
          "hoverlabel": {
           "align": "left"
          },
          "hovermode": "closest",
          "mapbox": {
           "style": "light"
          },
          "paper_bgcolor": "white",
          "plot_bgcolor": "#E5ECF6",
          "polar": {
           "angularaxis": {
            "gridcolor": "white",
            "linecolor": "white",
            "ticks": ""
           },
           "bgcolor": "#E5ECF6",
           "radialaxis": {
            "gridcolor": "white",
            "linecolor": "white",
            "ticks": ""
           }
          },
          "scene": {
           "xaxis": {
            "backgroundcolor": "#E5ECF6",
            "gridcolor": "white",
            "gridwidth": 2,
            "linecolor": "white",
            "showbackground": true,
            "ticks": "",
            "zerolinecolor": "white"
           },
           "yaxis": {
            "backgroundcolor": "#E5ECF6",
            "gridcolor": "white",
            "gridwidth": 2,
            "linecolor": "white",
            "showbackground": true,
            "ticks": "",
            "zerolinecolor": "white"
           },
           "zaxis": {
            "backgroundcolor": "#E5ECF6",
            "gridcolor": "white",
            "gridwidth": 2,
            "linecolor": "white",
            "showbackground": true,
            "ticks": "",
            "zerolinecolor": "white"
           }
          },
          "shapedefaults": {
           "line": {
            "color": "#2a3f5f"
           }
          },
          "ternary": {
           "aaxis": {
            "gridcolor": "white",
            "linecolor": "white",
            "ticks": ""
           },
           "baxis": {
            "gridcolor": "white",
            "linecolor": "white",
            "ticks": ""
           },
           "bgcolor": "#E5ECF6",
           "caxis": {
            "gridcolor": "white",
            "linecolor": "white",
            "ticks": ""
           }
          },
          "title": {
           "x": 0.05
          },
          "xaxis": {
           "automargin": true,
           "gridcolor": "white",
           "linecolor": "white",
           "ticks": "",
           "title": {
            "standoff": 15
           },
           "zerolinecolor": "white",
           "zerolinewidth": 2
          },
          "yaxis": {
           "automargin": true,
           "gridcolor": "white",
           "linecolor": "white",
           "ticks": "",
           "title": {
            "standoff": 15
           },
           "zerolinecolor": "white",
           "zerolinewidth": 2
          }
         }
        },
        "title": {
         "text": "Rate of Improvement in Prevalence of Malnutrition"
        },
        "xaxis": {
         "title": {
          "text": "Rates of Improvement"
         }
        }
       }
      }
     },
     "metadata": {},
     "output_type": "display_data"
    }
   ],
   "source": [
    "# Plot the Data\n",
    "fig = go.Figure()\n",
    "fig.add_trace(go.Box(x=list(wasteRates.values()), name=\"Wasted Rate\"))\n",
    "fig.add_trace(go.Box(x=list(meanMalnutRates.values()), name=\"Mean Nutrition Rate\"))\n",
    "fig.add_trace(go.Box(x=list(ovrwtRates.values()), name=\"Overweight Rate\"))\n",
    "\n",
    "# Customise the Graph\n",
    "fig.update_layout(title_text=\"Rate of Improvement in Prevalence of Malnutrition\", xaxis_title=\"Rates of Improvement\", showlegend=False)\n",
    "\n",
    "# # Show the Graph\n",
    "fig.show()"
   ]
  },
  {
   "cell_type": "code",
   "execution_count": 12,
   "metadata": {},
   "outputs": [
    {
     "data": {
      "text/plain": [
       "(0.3681067758995739, 6.093422607807081e-16)"
      ]
     },
     "execution_count": 12,
     "metadata": {},
     "output_type": "execute_result"
    }
   ],
   "source": [
    "kstest(list(meanMalnutRates.values()))"
   ]
  },
  {
   "attachments": {},
   "cell_type": "markdown",
   "metadata": {},
   "source": [
    "<div align='Center'>\n",
    "<hr>\n",
    "\n",
    "##### Problem Statement 3\n",
    "\n",
    "</div>"
   ]
  },
  {
   "attachments": {},
   "cell_type": "markdown",
   "metadata": {},
   "source": [
    "Segregating the Data"
   ]
  },
  {
   "cell_type": "code",
   "execution_count": 13,
   "metadata": {},
   "outputs": [],
   "source": [
    "# Specify the Data\n",
    "stntData = regionsData.loc[regionsData['SeriesCode']=='SH_STA_STNT']\n",
    "wstData = regionsData.loc[regionsData['SeriesCode']=='SH_STA_WASTN']\n",
    "ovwtData = regionsData.loc[regionsData['SeriesCode']=='SN_STA_OVWGT']\n",
    "popData = dataPop.loc[dataPop['Year'].isin(range(2000, 2021))]['Total Population, as of 1 July (thousands)'].to_list()\n",
    "regions = np.unique(regionsData['GeoAreaName'].to_numpy())\n",
    "\n",
    "# Convert the Data into Dictionary\n",
    "regData = dict()\n",
    "for i in regions:\n",
    "    myData1 = stntData.loc[regionsData['GeoAreaName']==i]\n",
    "    myData1 = {k:float(v) for k,v in myData1[['TimePeriod', 'Value']].to_dict('split')['data']}\n",
    "    myData2 = wstData.loc[regionsData['GeoAreaName']==i]\n",
    "    myData2 = {k:float(v) for k,v in myData2[['TimePeriod', 'Value']].to_dict('split')['data']}\n",
    "    myData3 = ovwtData.loc[regionsData['GeoAreaName']==i]\n",
    "    myData3 = {k:float(v) for k,v in myData3[['TimePeriod', 'Value']].to_dict('split')['data']}\n",
    "    regData[i] = {\"Stunting\": myData1, \"Wasted\": myData2, \"Overweight\": myData3}"
   ]
  },
  {
   "attachments": {},
   "cell_type": "markdown",
   "metadata": {},
   "source": [
    "Making the Correlation Table"
   ]
  },
  {
   "cell_type": "code",
   "execution_count": 14,
   "metadata": {},
   "outputs": [],
   "source": [
    "corrDF = pd.DataFrame({\n",
    "    'Stunting': regData['World']['Stunting'].values(), \n",
    "    'Overweight': regData['World']['Overweight'].values(),\n",
    "    'Population': popData\n",
    "    })\n",
    "corrDF2 = pd.DataFrame({\n",
    "    'stnt - mean(stnt)': (corrDF['Stunting'] - pd.Series(list(np.mean(corrDF['Stunting']) for i in range(21)))),\n",
    "    'owt - mean(owt)': (corrDF['Overweight'] - pd.Series(list(np.mean(corrDF['Overweight']) for i in range(21)))),\n",
    "    'pop - mean(pop)': (corrDF['Population'] - pd.Series(list(np.mean(corrDF['Population']) for i in range(21))))\n",
    "})\n",
    "corrDF2['sqr(stnt - mean(stnt))'] = corrDF2['stnt - mean(stnt)'] * corrDF2['stnt - mean(stnt)']\n",
    "corrDF2['sqr(owt - mean(owt))'] = corrDF2['owt - mean(owt)'] * corrDF2['owt - mean(owt)']\n",
    "corrDF2['sqr(pop - mean(pop))'] = corrDF2['pop - mean(pop)'] * corrDF2['pop - mean(pop)'] \n",
    "\n",
    "stntXowt, stntXpop, owtXpop = list(), list(), list()\n",
    "for i in range(len(corrDF2)):\n",
    "    stntXowt.append(corrDF2['stnt - mean(stnt)'][i] * corrDF2['owt - mean(owt)'][i])\n",
    "    stntXpop.append(corrDF2['stnt - mean(stnt)'][i] * corrDF2['pop - mean(pop)'][i])\n",
    "    owtXpop.append(corrDF2['owt - mean(owt)'][i] * corrDF2['pop - mean(pop)'][i])\n",
    "corrDF2['(stnt - mean(stnt)) X (owt - mean(owt))'] = stntXowt\n",
    "corrDF2['(stnt - mean(stnt)) X (pop - mean(pop))'] = stntXpop\n",
    "corrDF2['(owt - mean(owt)) X (pop - mean(pop))'] = owtXpop\n",
    "\n",
    "corrStntOwt = corrDF2['(stnt - mean(stnt)) X (owt - mean(owt))'].sum() / np.sqrt(corrDF2['sqr(stnt - mean(stnt))'].sum() * corrDF2['sqr(owt - mean(owt))'].sum())\n",
    "corrStntPop = corrDF2['(stnt - mean(stnt)) X (pop - mean(pop))'].sum() / np.sqrt(corrDF2['sqr(stnt - mean(stnt))'].sum() * corrDF2['sqr(pop - mean(pop))'].sum())\n",
    "corrOwtPop = corrDF2['(owt - mean(owt)) X (pop - mean(pop))'].sum() / np.sqrt(corrDF2['sqr(owt - mean(owt))'].sum() * corrDF2['sqr(pop - mean(pop))'].sum())"
   ]
  },
  {
   "cell_type": "code",
   "execution_count": 15,
   "metadata": {},
   "outputs": [
    {
     "data": {
      "text/html": [
       "<div>\n",
       "<style scoped>\n",
       "    .dataframe tbody tr th:only-of-type {\n",
       "        vertical-align: middle;\n",
       "    }\n",
       "\n",
       "    .dataframe tbody tr th {\n",
       "        vertical-align: top;\n",
       "    }\n",
       "\n",
       "    .dataframe thead th {\n",
       "        text-align: right;\n",
       "    }\n",
       "</style>\n",
       "<table border=\"1\" class=\"dataframe\">\n",
       "  <thead>\n",
       "    <tr style=\"text-align: right;\">\n",
       "      <th></th>\n",
       "      <th>Stunting</th>\n",
       "      <th>Overweight</th>\n",
       "      <th>Population</th>\n",
       "    </tr>\n",
       "  </thead>\n",
       "  <tbody>\n",
       "    <tr>\n",
       "      <th>Stunting</th>\n",
       "      <td>1.000000</td>\n",
       "      <td>-0.333233</td>\n",
       "      <td>-0.998465</td>\n",
       "    </tr>\n",
       "    <tr>\n",
       "      <th>Overweight</th>\n",
       "      <td>-0.333233</td>\n",
       "      <td>1.000000</td>\n",
       "      <td>0.359125</td>\n",
       "    </tr>\n",
       "    <tr>\n",
       "      <th>Population</th>\n",
       "      <td>-0.998465</td>\n",
       "      <td>0.359125</td>\n",
       "      <td>1.000000</td>\n",
       "    </tr>\n",
       "  </tbody>\n",
       "</table>\n",
       "</div>"
      ],
      "text/plain": [
       "            Stunting  Overweight  Population\n",
       "Stunting    1.000000   -0.333233   -0.998465\n",
       "Overweight -0.333233    1.000000    0.359125\n",
       "Population -0.998465    0.359125    1.000000"
      ]
     },
     "execution_count": 15,
     "metadata": {},
     "output_type": "execute_result"
    }
   ],
   "source": [
    "corrDF3 = pd.DataFrame({\n",
    "        'Stunting': [1, corrStntOwt, corrStntPop],\n",
    "        'Overweight': [corrStntOwt, 1, corrOwtPop],\n",
    "        'Population': [corrStntPop, corrOwtPop, 1]\n",
    "    },\n",
    "    index=['Stunting', 'Overweight', 'Population']\n",
    ")\n",
    "corrDF3"
   ]
  },
  {
   "cell_type": "code",
   "execution_count": 16,
   "metadata": {},
   "outputs": [
    {
     "data": {
      "application/vnd.plotly.v1+json": {
       "config": {
        "plotlyServerURL": "https://plot.ly"
       },
       "data": [
        {
         "coloraxis": "coloraxis",
         "hovertemplate": "x: %{x}<br>y: %{y}<br>color: %{z}<extra></extra>",
         "name": "0",
         "texttemplate": "%{z}",
         "type": "heatmap",
         "x": [
          "Stunting",
          "Overweight",
          "Population"
         ],
         "xaxis": "x",
         "y": [
          "Stunting",
          "Overweight",
          "Population"
         ],
         "yaxis": "y",
         "z": [
          [
           1,
           -0.33323317259604296,
           -0.9984645419001977
          ],
          [
           -0.33323317259604296,
           1,
           0.35912505797881894
          ],
          [
           -0.9984645419001977,
           0.35912505797881894,
           1
          ]
         ]
        }
       ],
       "layout": {
        "coloraxis": {
         "colorscale": [
          [
           0,
           "#0d0887"
          ],
          [
           0.1111111111111111,
           "#46039f"
          ],
          [
           0.2222222222222222,
           "#7201a8"
          ],
          [
           0.3333333333333333,
           "#9c179e"
          ],
          [
           0.4444444444444444,
           "#bd3786"
          ],
          [
           0.5555555555555556,
           "#d8576b"
          ],
          [
           0.6666666666666666,
           "#ed7953"
          ],
          [
           0.7777777777777778,
           "#fb9f3a"
          ],
          [
           0.8888888888888888,
           "#fdca26"
          ],
          [
           1,
           "#f0f921"
          ]
         ]
        },
        "height": 500,
        "margin": {
         "t": 60
        },
        "template": {
         "data": {
          "bar": [
           {
            "error_x": {
             "color": "#2a3f5f"
            },
            "error_y": {
             "color": "#2a3f5f"
            },
            "marker": {
             "line": {
              "color": "#E5ECF6",
              "width": 0.5
             },
             "pattern": {
              "fillmode": "overlay",
              "size": 10,
              "solidity": 0.2
             }
            },
            "type": "bar"
           }
          ],
          "barpolar": [
           {
            "marker": {
             "line": {
              "color": "#E5ECF6",
              "width": 0.5
             },
             "pattern": {
              "fillmode": "overlay",
              "size": 10,
              "solidity": 0.2
             }
            },
            "type": "barpolar"
           }
          ],
          "carpet": [
           {
            "aaxis": {
             "endlinecolor": "#2a3f5f",
             "gridcolor": "white",
             "linecolor": "white",
             "minorgridcolor": "white",
             "startlinecolor": "#2a3f5f"
            },
            "baxis": {
             "endlinecolor": "#2a3f5f",
             "gridcolor": "white",
             "linecolor": "white",
             "minorgridcolor": "white",
             "startlinecolor": "#2a3f5f"
            },
            "type": "carpet"
           }
          ],
          "choropleth": [
           {
            "colorbar": {
             "outlinewidth": 0,
             "ticks": ""
            },
            "type": "choropleth"
           }
          ],
          "contour": [
           {
            "colorbar": {
             "outlinewidth": 0,
             "ticks": ""
            },
            "colorscale": [
             [
              0,
              "#0d0887"
             ],
             [
              0.1111111111111111,
              "#46039f"
             ],
             [
              0.2222222222222222,
              "#7201a8"
             ],
             [
              0.3333333333333333,
              "#9c179e"
             ],
             [
              0.4444444444444444,
              "#bd3786"
             ],
             [
              0.5555555555555556,
              "#d8576b"
             ],
             [
              0.6666666666666666,
              "#ed7953"
             ],
             [
              0.7777777777777778,
              "#fb9f3a"
             ],
             [
              0.8888888888888888,
              "#fdca26"
             ],
             [
              1,
              "#f0f921"
             ]
            ],
            "type": "contour"
           }
          ],
          "contourcarpet": [
           {
            "colorbar": {
             "outlinewidth": 0,
             "ticks": ""
            },
            "type": "contourcarpet"
           }
          ],
          "heatmap": [
           {
            "colorbar": {
             "outlinewidth": 0,
             "ticks": ""
            },
            "colorscale": [
             [
              0,
              "#0d0887"
             ],
             [
              0.1111111111111111,
              "#46039f"
             ],
             [
              0.2222222222222222,
              "#7201a8"
             ],
             [
              0.3333333333333333,
              "#9c179e"
             ],
             [
              0.4444444444444444,
              "#bd3786"
             ],
             [
              0.5555555555555556,
              "#d8576b"
             ],
             [
              0.6666666666666666,
              "#ed7953"
             ],
             [
              0.7777777777777778,
              "#fb9f3a"
             ],
             [
              0.8888888888888888,
              "#fdca26"
             ],
             [
              1,
              "#f0f921"
             ]
            ],
            "type": "heatmap"
           }
          ],
          "heatmapgl": [
           {
            "colorbar": {
             "outlinewidth": 0,
             "ticks": ""
            },
            "colorscale": [
             [
              0,
              "#0d0887"
             ],
             [
              0.1111111111111111,
              "#46039f"
             ],
             [
              0.2222222222222222,
              "#7201a8"
             ],
             [
              0.3333333333333333,
              "#9c179e"
             ],
             [
              0.4444444444444444,
              "#bd3786"
             ],
             [
              0.5555555555555556,
              "#d8576b"
             ],
             [
              0.6666666666666666,
              "#ed7953"
             ],
             [
              0.7777777777777778,
              "#fb9f3a"
             ],
             [
              0.8888888888888888,
              "#fdca26"
             ],
             [
              1,
              "#f0f921"
             ]
            ],
            "type": "heatmapgl"
           }
          ],
          "histogram": [
           {
            "marker": {
             "pattern": {
              "fillmode": "overlay",
              "size": 10,
              "solidity": 0.2
             }
            },
            "type": "histogram"
           }
          ],
          "histogram2d": [
           {
            "colorbar": {
             "outlinewidth": 0,
             "ticks": ""
            },
            "colorscale": [
             [
              0,
              "#0d0887"
             ],
             [
              0.1111111111111111,
              "#46039f"
             ],
             [
              0.2222222222222222,
              "#7201a8"
             ],
             [
              0.3333333333333333,
              "#9c179e"
             ],
             [
              0.4444444444444444,
              "#bd3786"
             ],
             [
              0.5555555555555556,
              "#d8576b"
             ],
             [
              0.6666666666666666,
              "#ed7953"
             ],
             [
              0.7777777777777778,
              "#fb9f3a"
             ],
             [
              0.8888888888888888,
              "#fdca26"
             ],
             [
              1,
              "#f0f921"
             ]
            ],
            "type": "histogram2d"
           }
          ],
          "histogram2dcontour": [
           {
            "colorbar": {
             "outlinewidth": 0,
             "ticks": ""
            },
            "colorscale": [
             [
              0,
              "#0d0887"
             ],
             [
              0.1111111111111111,
              "#46039f"
             ],
             [
              0.2222222222222222,
              "#7201a8"
             ],
             [
              0.3333333333333333,
              "#9c179e"
             ],
             [
              0.4444444444444444,
              "#bd3786"
             ],
             [
              0.5555555555555556,
              "#d8576b"
             ],
             [
              0.6666666666666666,
              "#ed7953"
             ],
             [
              0.7777777777777778,
              "#fb9f3a"
             ],
             [
              0.8888888888888888,
              "#fdca26"
             ],
             [
              1,
              "#f0f921"
             ]
            ],
            "type": "histogram2dcontour"
           }
          ],
          "mesh3d": [
           {
            "colorbar": {
             "outlinewidth": 0,
             "ticks": ""
            },
            "type": "mesh3d"
           }
          ],
          "parcoords": [
           {
            "line": {
             "colorbar": {
              "outlinewidth": 0,
              "ticks": ""
             }
            },
            "type": "parcoords"
           }
          ],
          "pie": [
           {
            "automargin": true,
            "type": "pie"
           }
          ],
          "scatter": [
           {
            "fillpattern": {
             "fillmode": "overlay",
             "size": 10,
             "solidity": 0.2
            },
            "type": "scatter"
           }
          ],
          "scatter3d": [
           {
            "line": {
             "colorbar": {
              "outlinewidth": 0,
              "ticks": ""
             }
            },
            "marker": {
             "colorbar": {
              "outlinewidth": 0,
              "ticks": ""
             }
            },
            "type": "scatter3d"
           }
          ],
          "scattercarpet": [
           {
            "marker": {
             "colorbar": {
              "outlinewidth": 0,
              "ticks": ""
             }
            },
            "type": "scattercarpet"
           }
          ],
          "scattergeo": [
           {
            "marker": {
             "colorbar": {
              "outlinewidth": 0,
              "ticks": ""
             }
            },
            "type": "scattergeo"
           }
          ],
          "scattergl": [
           {
            "marker": {
             "colorbar": {
              "outlinewidth": 0,
              "ticks": ""
             }
            },
            "type": "scattergl"
           }
          ],
          "scattermapbox": [
           {
            "marker": {
             "colorbar": {
              "outlinewidth": 0,
              "ticks": ""
             }
            },
            "type": "scattermapbox"
           }
          ],
          "scatterpolar": [
           {
            "marker": {
             "colorbar": {
              "outlinewidth": 0,
              "ticks": ""
             }
            },
            "type": "scatterpolar"
           }
          ],
          "scatterpolargl": [
           {
            "marker": {
             "colorbar": {
              "outlinewidth": 0,
              "ticks": ""
             }
            },
            "type": "scatterpolargl"
           }
          ],
          "scatterternary": [
           {
            "marker": {
             "colorbar": {
              "outlinewidth": 0,
              "ticks": ""
             }
            },
            "type": "scatterternary"
           }
          ],
          "surface": [
           {
            "colorbar": {
             "outlinewidth": 0,
             "ticks": ""
            },
            "colorscale": [
             [
              0,
              "#0d0887"
             ],
             [
              0.1111111111111111,
              "#46039f"
             ],
             [
              0.2222222222222222,
              "#7201a8"
             ],
             [
              0.3333333333333333,
              "#9c179e"
             ],
             [
              0.4444444444444444,
              "#bd3786"
             ],
             [
              0.5555555555555556,
              "#d8576b"
             ],
             [
              0.6666666666666666,
              "#ed7953"
             ],
             [
              0.7777777777777778,
              "#fb9f3a"
             ],
             [
              0.8888888888888888,
              "#fdca26"
             ],
             [
              1,
              "#f0f921"
             ]
            ],
            "type": "surface"
           }
          ],
          "table": [
           {
            "cells": {
             "fill": {
              "color": "#EBF0F8"
             },
             "line": {
              "color": "white"
             }
            },
            "header": {
             "fill": {
              "color": "#C8D4E3"
             },
             "line": {
              "color": "white"
             }
            },
            "type": "table"
           }
          ]
         },
         "layout": {
          "annotationdefaults": {
           "arrowcolor": "#2a3f5f",
           "arrowhead": 0,
           "arrowwidth": 1
          },
          "autotypenumbers": "strict",
          "coloraxis": {
           "colorbar": {
            "outlinewidth": 0,
            "ticks": ""
           }
          },
          "colorscale": {
           "diverging": [
            [
             0,
             "#8e0152"
            ],
            [
             0.1,
             "#c51b7d"
            ],
            [
             0.2,
             "#de77ae"
            ],
            [
             0.3,
             "#f1b6da"
            ],
            [
             0.4,
             "#fde0ef"
            ],
            [
             0.5,
             "#f7f7f7"
            ],
            [
             0.6,
             "#e6f5d0"
            ],
            [
             0.7,
             "#b8e186"
            ],
            [
             0.8,
             "#7fbc41"
            ],
            [
             0.9,
             "#4d9221"
            ],
            [
             1,
             "#276419"
            ]
           ],
           "sequential": [
            [
             0,
             "#0d0887"
            ],
            [
             0.1111111111111111,
             "#46039f"
            ],
            [
             0.2222222222222222,
             "#7201a8"
            ],
            [
             0.3333333333333333,
             "#9c179e"
            ],
            [
             0.4444444444444444,
             "#bd3786"
            ],
            [
             0.5555555555555556,
             "#d8576b"
            ],
            [
             0.6666666666666666,
             "#ed7953"
            ],
            [
             0.7777777777777778,
             "#fb9f3a"
            ],
            [
             0.8888888888888888,
             "#fdca26"
            ],
            [
             1,
             "#f0f921"
            ]
           ],
           "sequentialminus": [
            [
             0,
             "#0d0887"
            ],
            [
             0.1111111111111111,
             "#46039f"
            ],
            [
             0.2222222222222222,
             "#7201a8"
            ],
            [
             0.3333333333333333,
             "#9c179e"
            ],
            [
             0.4444444444444444,
             "#bd3786"
            ],
            [
             0.5555555555555556,
             "#d8576b"
            ],
            [
             0.6666666666666666,
             "#ed7953"
            ],
            [
             0.7777777777777778,
             "#fb9f3a"
            ],
            [
             0.8888888888888888,
             "#fdca26"
            ],
            [
             1,
             "#f0f921"
            ]
           ]
          },
          "colorway": [
           "#636efa",
           "#EF553B",
           "#00cc96",
           "#ab63fa",
           "#FFA15A",
           "#19d3f3",
           "#FF6692",
           "#B6E880",
           "#FF97FF",
           "#FECB52"
          ],
          "font": {
           "color": "#2a3f5f"
          },
          "geo": {
           "bgcolor": "white",
           "lakecolor": "white",
           "landcolor": "#E5ECF6",
           "showlakes": true,
           "showland": true,
           "subunitcolor": "white"
          },
          "hoverlabel": {
           "align": "left"
          },
          "hovermode": "closest",
          "mapbox": {
           "style": "light"
          },
          "paper_bgcolor": "white",
          "plot_bgcolor": "#E5ECF6",
          "polar": {
           "angularaxis": {
            "gridcolor": "white",
            "linecolor": "white",
            "ticks": ""
           },
           "bgcolor": "#E5ECF6",
           "radialaxis": {
            "gridcolor": "white",
            "linecolor": "white",
            "ticks": ""
           }
          },
          "scene": {
           "xaxis": {
            "backgroundcolor": "#E5ECF6",
            "gridcolor": "white",
            "gridwidth": 2,
            "linecolor": "white",
            "showbackground": true,
            "ticks": "",
            "zerolinecolor": "white"
           },
           "yaxis": {
            "backgroundcolor": "#E5ECF6",
            "gridcolor": "white",
            "gridwidth": 2,
            "linecolor": "white",
            "showbackground": true,
            "ticks": "",
            "zerolinecolor": "white"
           },
           "zaxis": {
            "backgroundcolor": "#E5ECF6",
            "gridcolor": "white",
            "gridwidth": 2,
            "linecolor": "white",
            "showbackground": true,
            "ticks": "",
            "zerolinecolor": "white"
           }
          },
          "shapedefaults": {
           "line": {
            "color": "#2a3f5f"
           }
          },
          "ternary": {
           "aaxis": {
            "gridcolor": "white",
            "linecolor": "white",
            "ticks": ""
           },
           "baxis": {
            "gridcolor": "white",
            "linecolor": "white",
            "ticks": ""
           },
           "bgcolor": "#E5ECF6",
           "caxis": {
            "gridcolor": "white",
            "linecolor": "white",
            "ticks": ""
           }
          },
          "title": {
           "x": 0.05
          },
          "xaxis": {
           "automargin": true,
           "gridcolor": "white",
           "linecolor": "white",
           "ticks": "",
           "title": {
            "standoff": 15
           },
           "zerolinecolor": "white",
           "zerolinewidth": 2
          },
          "yaxis": {
           "automargin": true,
           "gridcolor": "white",
           "linecolor": "white",
           "ticks": "",
           "title": {
            "standoff": 15
           },
           "zerolinecolor": "white",
           "zerolinewidth": 2
          }
         }
        },
        "width": 500,
        "xaxis": {
         "anchor": "y",
         "constrain": "domain",
         "domain": [
          0,
          1
         ],
         "scaleanchor": "y"
        },
        "yaxis": {
         "anchor": "x",
         "autorange": "reversed",
         "constrain": "domain",
         "domain": [
          0,
          1
         ]
        }
       }
      }
     },
     "metadata": {},
     "output_type": "display_data"
    }
   ],
   "source": [
    "fig = px.imshow(corrDF3, text_auto=True)\n",
    "fig.update_layout(width=500, height=500)\n",
    "fig.show()"
   ]
  },
  {
   "attachments": {},
   "cell_type": "markdown",
   "metadata": {},
   "source": [
    "<div align='Center'>\n",
    "<hr>\n",
    "\n",
    "##### Problem Statement 4\n",
    "\n",
    "</div>"
   ]
  },
  {
   "attachments": {},
   "cell_type": "markdown",
   "metadata": {},
   "source": [
    "Calculating the Compound Annual Growth Rate (CAGR) from the Data"
   ]
  },
  {
   "cell_type": "code",
   "execution_count": 17,
   "metadata": {},
   "outputs": [
    {
     "name": "stdout",
     "output_type": "stream",
     "text": [
      "For the region Africa,\n",
      "Rate of Improvement in Stunting: -0.014958531436904954\n",
      "Rate of Improvement in Overweight: -0.007811454346558944\n",
      "\n",
      "For the region Asia,\n",
      "Rate of Improvement in Stunting: -0.026103649320611266\n",
      "Rate of Improvement in Overweight: 0.0072552541834860484\n",
      "\n",
      "For the region Europe,\n",
      "Rate of Improvement in Stunting: -0.018967423584430376\n",
      "Rate of Improvement in Overweight: 0.0012203166373554453\n",
      "\n",
      "For the region Northern America,\n",
      "Rate of Improvement in Stunting: 0.0\n",
      "Rate of Improvement in Overweight: 0.011080947166022037\n",
      "\n",
      "For the region Oceania,\n",
      "Rate of Improvement in Stunting: 0.008511260352928263\n",
      "Rate of Improvement in Overweight: 0.034018707807229376\n",
      "\n",
      "For the region South America,\n",
      "Rate of Improvement in Stunting: -0.02644821850482726\n",
      "Rate of Improvement in Overweight: 0.007942576492167008\n",
      "\n"
     ]
    }
   ],
   "source": [
    "for i in regData:\n",
    "    if i != 'World':\n",
    "        stntRates = list(regData[i]['Stunting'].values())\n",
    "        ovwtRates = list(regData[i]['Overweight'].values())\n",
    "        try: \n",
    "            gr_Stunting = ((stntRates[-1] / stntRates[0]) ** (1 / (len(stntRates) - 1)) - 1)\n",
    "            gr_Overweight = ((ovwtRates[-1] / ovwtRates[0]) ** (1 / (len(ovwtRates) - 1)) - 1)\n",
    "            print(f\"For the region {i},\\nRate of Improvement in Stunting: {gr_Stunting}\\nRate of Improvement in Overweight: {gr_Overweight}\\n\")\n",
    "        except: pass"
   ]
  },
  {
   "attachments": {},
   "cell_type": "markdown",
   "metadata": {},
   "source": [
    "Making the Choropleth Maps for-"
   ]
  },
  {
   "attachments": {},
   "cell_type": "markdown",
   "metadata": {},
   "source": [
    "Requirement of Improvement in Stunting "
   ]
  },
  {
   "cell_type": "code",
   "execution_count": 18,
   "metadata": {},
   "outputs": [
    {
     "data": {
      "image/png": "[encoded data removed]",
      "text/plain": [
       "<Figure size 640x480 with 1 Axes>"
      ]
     },
     "metadata": {},
     "output_type": "display_data"
    }
   ],
   "source": [
    "# Plot the Data\n",
    "worldMap = gpd.read_file(datasets.get_path('naturalearth_lowres'))\n",
    "world = worldMap.plot()\n",
    "worldMap[(worldMap.continent=='Antarctica')].plot(color='#FFFFFF', ax=world)\n",
    "worldMap[(worldMap.continent=='Africa')].plot(color='#2EB62C', ax=world)\n",
    "worldMap[(worldMap.continent=='Asia')|(worldMap.name=='Russia')].plot(color='#83D475', ax=world)\n",
    "worldMap[(worldMap.continent=='Europe')&(worldMap.name!='Russia')].plot(color='#57C84D', ax=world)\n",
    "worldMap[(worldMap.continent=='North America')].plot(color='#E4FADC', ax=world)\n",
    "worldMap[(worldMap.continent=='South America')].plot(color='#ABE098', ax=world)\n",
    "worldMap[(worldMap.continent=='Oceania')].plot(color='#E4FADC', ax=world)\n",
    "\n",
    "# Customise the Graph\n",
    "plt.title(\"Requirement of Improvement in Stunting across Continents\")\n",
    "world.set_axis_off()\n",
    "\n",
    "# Show the Graph\n",
    "plt.show()"
   ]
  },
  {
   "attachments": {},
   "cell_type": "markdown",
   "metadata": {},
   "source": [
    "Requirement of Improvement in Overweight Controlling"
   ]
  },
  {
   "cell_type": "code",
   "execution_count": 19,
   "metadata": {},
   "outputs": [
    {
     "data": {
      "image/png": "[encoded data removed]",
      "text/plain": [
       "<Figure size 640x480 with 1 Axes>"
      ]
     },
     "metadata": {},
     "output_type": "display_data"
    }
   ],
   "source": [
    "# Plot the Data\n",
    "worldMap = gpd.read_file(datasets.get_path('naturalearth_lowres'))\n",
    "world = worldMap.plot()\n",
    "worldMap[(worldMap.continent=='Antarctica')].plot(color='#FFFFFF', ax=world)\n",
    "worldMap[(worldMap.continent=='Africa')].plot(color='#CCF9FF', ax=world)\n",
    "worldMap[(worldMap.continent=='Asia')|(worldMap.name=='Russia')].plot(color='#55D0FF', ax=world)\n",
    "worldMap[(worldMap.continent=='Europe')&(worldMap.name!='Russia')].plot(color='#7CE8FF', ax=world)\n",
    "worldMap[(worldMap.continent=='North America')].plot(color='#0080BF', ax=world)\n",
    "worldMap[(worldMap.continent=='South America')].plot(color='#00ACDF', ax=world)\n",
    "worldMap[(worldMap.continent=='Oceania')].plot(color='#E1F7FA', ax=world)\n",
    "\n",
    "# Customise the Graph\n",
    "plt.title(\"Requirement of Improvement in Overweight across Continents\")\n",
    "world.set_axis_off()\n",
    "\n",
    "# Show the Graph\n",
    "plt.show()"
   ]
  },
  {
   "attachments": {},
   "cell_type": "markdown",
   "metadata": {},
   "source": [
    "<div align='Center'>\n",
    "<hr>\n",
    "\n",
    "##### Problem Statement 5\n",
    "\n",
    "</div>"
   ]
  },
  {
   "attachments": {},
   "cell_type": "markdown",
   "metadata": {},
   "source": [
    "Predicting Future Prevalence of Stunting and Malnutrition"
   ]
  },
  {
   "cell_type": "code",
   "execution_count": 51,
   "metadata": {},
   "outputs": [
    {
     "name": "stdout",
     "output_type": "stream",
     "text": [
      "Africa:\n",
      "\tFor 2025, Estimated Prevalence of Stunting is 27%\n",
      "        For 2030, Estimated Prevalence of Stunting is 24%\n",
      "\tFor 2025, Estimated Prevalence of Overweight is 4%\n",
      "        For 2030, Estimated Prevalence of Overweight is 3%\n",
      "\n"
     ]
    },
    {
     "data": {
      "application/vnd.plotly.v1+json": {
       "config": {
        "plotlyServerURL": "https://plot.ly"
       },
       "data": [
        {
         "hovertemplate": "variable=Stunting<br>Year=%{x}<br>value=%{y}<extra></extra>",
         "legendgroup": "Stunting",
         "marker": {
          "color": "green",
          "symbol": "circle"
         },
         "mode": "markers",
         "name": "Stunting",
         "orientation": "v",
         "showlegend": true,
         "type": "scatter",
         "x": [
          2000,
          2001,
          2002,
          2003,
          2004,
          2005,
          2006,
          2007,
          2008,
          2009,
          2010,
          2011,
          2012,
          2013,
          2014,
          2015,
          2016,
          2017,
          2018,
          2019,
          2020,
          2025,
          2030
         ],
         "xaxis": "x",
         "y": [
          41.5,
          41.1,
          40.6,
          40.1,
          39.6,
          39.1,
          38.5,
          37.9,
          37.2,
          36.6,
          35.9,
          35.2,
          34.5,
          33.9,
          33.3,
          32.8,
          32.4,
          32,
          31.6,
          31.2,
          30.7,
          27,
          24
         ],
         "yaxis": "y"
        },
        {
         "hovertemplate": "<b>OLS trendline</b><br>value = -0.583338 * Year + 1208.47<br>R<sup>2</sup>=0.996826<br><br>variable=Stunting<br>Year=%{x}<br>value=%{y} <b>(trend)</b><extra></extra>",
         "legendgroup": "Stunting",
         "line": {
          "color": "blue"
         },
         "marker": {
          "color": "green",
          "symbol": "circle"
         },
         "mode": "lines",
         "name": "Stunting",
         "showlegend": false,
         "type": "scatter",
         "x": [
          2000,
          2001,
          2002,
          2003,
          2004,
          2005,
          2006,
          2007,
          2008,
          2009,
          2010,
          2011,
          2012,
          2013,
          2014,
          2015,
          2016,
          2017,
          2018,
          2019,
          2020,
          2025,
          2030
         ],
         "xaxis": "x",
         "y": [
          41.79497731691504,
          41.211639662994,
          40.628302009073195,
          40.04496435515216,
          39.46162670123135,
          38.87828904731032,
          38.29495139338951,
          37.711613739468476,
          37.12827608554744,
          36.54493843162663,
          35.9616007777056,
          35.37826312378479,
          34.794925469863756,
          34.21158781594295,
          33.628250162021914,
          33.044912508101106,
          32.46157485418007,
          31.878237200259264,
          31.29489954633823,
          30.71156189241742,
          30.128224238496387,
          27.211535968891667,
          24.294847699287175
         ],
         "yaxis": "y"
        },
        {
         "hovertemplate": "variable=Overweight<br>Year=%{x}<br>value=%{y}<extra></extra>",
         "legendgroup": "Overweight",
         "marker": {
          "color": "red",
          "symbol": "circle"
         },
         "mode": "markers",
         "name": "Overweight",
         "orientation": "v",
         "showlegend": true,
         "type": "scatter",
         "x": [
          2000,
          2001,
          2002,
          2003,
          2004,
          2005,
          2006,
          2007,
          2008,
          2009,
          2010,
          2011,
          2012,
          2013,
          2014,
          2015,
          2016,
          2017,
          2018,
          2019,
          2020,
          2025,
          2030
         ],
         "xaxis": "x",
         "y": [
          6.2,
          6.4,
          6.5,
          6.5,
          6.5,
          6.3,
          6,
          5.7,
          5.5,
          5.3,
          5.1,
          5.1,
          5,
          5,
          5,
          5,
          5.1,
          5.1,
          5.2,
          5.2,
          5.3,
          4,
          3
         ],
         "yaxis": "y"
        },
        {
         "hovertemplate": "<b>OLS trendline</b><br>value = -0.0975567 * Year + 201.629<br>R<sup>2</sup>=0.831458<br><br>variable=Overweight<br>Year=%{x}<br>value=%{y} <b>(trend)</b><extra></extra>",
         "legendgroup": "Overweight",
         "line": {
          "color": "blue"
         },
         "marker": {
          "color": "red",
          "symbol": "circle"
         },
         "mode": "lines",
         "name": "Overweight",
         "showlegend": false,
         "type": "scatter",
         "x": [
          2000,
          2001,
          2002,
          2003,
          2004,
          2005,
          2006,
          2007,
          2008,
          2009,
          2010,
          2011,
          2012,
          2013,
          2014,
          2015,
          2016,
          2017,
          2018,
          2019,
          2020,
          2025,
          2030
         ],
         "xaxis": "x",
         "y": [
          6.515327284510704,
          6.4177705767984605,
          6.320213869086217,
          6.222657161373945,
          6.125100453661702,
          6.027543745949458,
          5.929987038237215,
          5.832430330524971,
          5.734873622812728,
          5.637316915100456,
          5.539760207388213,
          5.442203499675969,
          5.344646791963726,
          5.247090084251482,
          5.149533376539239,
          5.051976668826967,
          4.9544199611147235,
          4.85686325340248,
          4.759306545690237,
          4.661749837977993,
          4.56419313026575,
          4.076409591704504,
          3.5886260531432583
         ],
         "yaxis": "y"
        }
       ],
       "layout": {
        "legend": {
         "orientation": "h",
         "title": {
          "text": "Prevalence of"
         },
         "tracegroupgap": 0,
         "x": 1,
         "xanchor": "right",
         "y": 1.02,
         "yanchor": "bottom"
        },
        "template": {
         "data": {
          "bar": [
           {
            "error_x": {
             "color": "#2a3f5f"
            },
            "error_y": {
             "color": "#2a3f5f"
            },
            "marker": {
             "line": {
              "color": "#E5ECF6",
              "width": 0.5
             },
             "pattern": {
              "fillmode": "overlay",
              "size": 10,
              "solidity": 0.2
             }
            },
            "type": "bar"
           }
          ],
          "barpolar": [
           {
            "marker": {
             "line": {
              "color": "#E5ECF6",
              "width": 0.5
             },
             "pattern": {
              "fillmode": "overlay",
              "size": 10,
              "solidity": 0.2
             }
            },
            "type": "barpolar"
           }
          ],
          "carpet": [
           {
            "aaxis": {
             "endlinecolor": "#2a3f5f",
             "gridcolor": "white",
             "linecolor": "white",
             "minorgridcolor": "white",
             "startlinecolor": "#2a3f5f"
            },
            "baxis": {
             "endlinecolor": "#2a3f5f",
             "gridcolor": "white",
             "linecolor": "white",
             "minorgridcolor": "white",
             "startlinecolor": "#2a3f5f"
            },
            "type": "carpet"
           }
          ],
          "choropleth": [
           {
            "colorbar": {
             "outlinewidth": 0,
             "ticks": ""
            },
            "type": "choropleth"
           }
          ],
          "contour": [
           {
            "colorbar": {
             "outlinewidth": 0,
             "ticks": ""
            },
            "colorscale": [
             [
              0,
              "#0d0887"
             ],
             [
              0.1111111111111111,
              "#46039f"
             ],
             [
              0.2222222222222222,
              "#7201a8"
             ],
             [
              0.3333333333333333,
              "#9c179e"
             ],
             [
              0.4444444444444444,
              "#bd3786"
             ],
             [
              0.5555555555555556,
              "#d8576b"
             ],
             [
              0.6666666666666666,
              "#ed7953"
             ],
             [
              0.7777777777777778,
              "#fb9f3a"
             ],
             [
              0.8888888888888888,
              "#fdca26"
             ],
             [
              1,
              "#f0f921"
             ]
            ],
            "type": "contour"
           }
          ],
          "contourcarpet": [
           {
            "colorbar": {
             "outlinewidth": 0,
             "ticks": ""
            },
            "type": "contourcarpet"
           }
          ],
          "heatmap": [
           {
            "colorbar": {
             "outlinewidth": 0,
             "ticks": ""
            },
            "colorscale": [
             [
              0,
              "#0d0887"
             ],
             [
              0.1111111111111111,
              "#46039f"
             ],
             [
              0.2222222222222222,
              "#7201a8"
             ],
             [
              0.3333333333333333,
              "#9c179e"
             ],
             [
              0.4444444444444444,
              "#bd3786"
             ],
             [
              0.5555555555555556,
              "#d8576b"
             ],
             [
              0.6666666666666666,
              "#ed7953"
             ],
             [
              0.7777777777777778,
              "#fb9f3a"
             ],
             [
              0.8888888888888888,
              "#fdca26"
             ],
             [
              1,
              "#f0f921"
             ]
            ],
            "type": "heatmap"
           }
          ],
          "heatmapgl": [
           {
            "colorbar": {
             "outlinewidth": 0,
             "ticks": ""
            },
            "colorscale": [
             [
              0,
              "#0d0887"
             ],
             [
              0.1111111111111111,
              "#46039f"
             ],
             [
              0.2222222222222222,
              "#7201a8"
             ],
             [
              0.3333333333333333,
              "#9c179e"
             ],
             [
              0.4444444444444444,
              "#bd3786"
             ],
             [
              0.5555555555555556,
              "#d8576b"
             ],
             [
              0.6666666666666666,
              "#ed7953"
             ],
             [
              0.7777777777777778,
              "#fb9f3a"
             ],
             [
              0.8888888888888888,
              "#fdca26"
             ],
             [
              1,
              "#f0f921"
             ]
            ],
            "type": "heatmapgl"
           }
          ],
          "histogram": [
           {
            "marker": {
             "pattern": {
              "fillmode": "overlay",
              "size": 10,
              "solidity": 0.2
             }
            },
            "type": "histogram"
           }
          ],
          "histogram2d": [
           {
            "colorbar": {
             "outlinewidth": 0,
             "ticks": ""
            },
            "colorscale": [
             [
              0,
              "#0d0887"
             ],
             [
              0.1111111111111111,
              "#46039f"
             ],
             [
              0.2222222222222222,
              "#7201a8"
             ],
             [
              0.3333333333333333,
              "#9c179e"
             ],
             [
              0.4444444444444444,
              "#bd3786"
             ],
             [
              0.5555555555555556,
              "#d8576b"
             ],
             [
              0.6666666666666666,
              "#ed7953"
             ],
             [
              0.7777777777777778,
              "#fb9f3a"
             ],
             [
              0.8888888888888888,
              "#fdca26"
             ],
             [
              1,
              "#f0f921"
             ]
            ],
            "type": "histogram2d"
           }
          ],
          "histogram2dcontour": [
           {
            "colorbar": {
             "outlinewidth": 0,
             "ticks": ""
            },
            "colorscale": [
             [
              0,
              "#0d0887"
             ],
             [
              0.1111111111111111,
              "#46039f"
             ],
             [
              0.2222222222222222,
              "#7201a8"
             ],
             [
              0.3333333333333333,
              "#9c179e"
             ],
             [
              0.4444444444444444,
              "#bd3786"
             ],
             [
              0.5555555555555556,
              "#d8576b"
             ],
             [
              0.6666666666666666,
              "#ed7953"
             ],
             [
              0.7777777777777778,
              "#fb9f3a"
             ],
             [
              0.8888888888888888,
              "#fdca26"
             ],
             [
              1,
              "#f0f921"
             ]
            ],
            "type": "histogram2dcontour"
           }
          ],
          "mesh3d": [
           {
            "colorbar": {
             "outlinewidth": 0,
             "ticks": ""
            },
            "type": "mesh3d"
           }
          ],
          "parcoords": [
           {
            "line": {
             "colorbar": {
              "outlinewidth": 0,
              "ticks": ""
             }
            },
            "type": "parcoords"
           }
          ],
          "pie": [
           {
            "automargin": true,
            "type": "pie"
           }
          ],
          "scatter": [
           {
            "fillpattern": {
             "fillmode": "overlay",
             "size": 10,
             "solidity": 0.2
            },
            "type": "scatter"
           }
          ],
          "scatter3d": [
           {
            "line": {
             "colorbar": {
              "outlinewidth": 0,
              "ticks": ""
             }
            },
            "marker": {
             "colorbar": {
              "outlinewidth": 0,
              "ticks": ""
             }
            },
            "type": "scatter3d"
           }
          ],
          "scattercarpet": [
           {
            "marker": {
             "colorbar": {
              "outlinewidth": 0,
              "ticks": ""
             }
            },
            "type": "scattercarpet"
           }
          ],
          "scattergeo": [
           {
            "marker": {
             "colorbar": {
              "outlinewidth": 0,
              "ticks": ""
             }
            },
            "type": "scattergeo"
           }
          ],
          "scattergl": [
           {
            "marker": {
             "colorbar": {
              "outlinewidth": 0,
              "ticks": ""
             }
            },
            "type": "scattergl"
           }
          ],
          "scattermapbox": [
           {
            "marker": {
             "colorbar": {
              "outlinewidth": 0,
              "ticks": ""
             }
            },
            "type": "scattermapbox"
           }
          ],
          "scatterpolar": [
           {
            "marker": {
             "colorbar": {
              "outlinewidth": 0,
              "ticks": ""
             }
            },
            "type": "scatterpolar"
           }
          ],
          "scatterpolargl": [
           {
            "marker": {
             "colorbar": {
              "outlinewidth": 0,
              "ticks": ""
             }
            },
            "type": "scatterpolargl"
           }
          ],
          "scatterternary": [
           {
            "marker": {
             "colorbar": {
              "outlinewidth": 0,
              "ticks": ""
             }
            },
            "type": "scatterternary"
           }
          ],
          "surface": [
           {
            "colorbar": {
             "outlinewidth": 0,
             "ticks": ""
            },
            "colorscale": [
             [
              0,
              "#0d0887"
             ],
             [
              0.1111111111111111,
              "#46039f"
             ],
             [
              0.2222222222222222,
              "#7201a8"
             ],
             [
              0.3333333333333333,
              "#9c179e"
             ],
             [
              0.4444444444444444,
              "#bd3786"
             ],
             [
              0.5555555555555556,
              "#d8576b"
             ],
             [
              0.6666666666666666,
              "#ed7953"
             ],
             [
              0.7777777777777778,
              "#fb9f3a"
             ],
             [
              0.8888888888888888,
              "#fdca26"
             ],
             [
              1,
              "#f0f921"
             ]
            ],
            "type": "surface"
           }
          ],
          "table": [
           {
            "cells": {
             "fill": {
              "color": "#EBF0F8"
             },
             "line": {
              "color": "white"
             }
            },
            "header": {
             "fill": {
              "color": "#C8D4E3"
             },
             "line": {
              "color": "white"
             }
            },
            "type": "table"
           }
          ]
         },
         "layout": {
          "annotationdefaults": {
           "arrowcolor": "#2a3f5f",
           "arrowhead": 0,
           "arrowwidth": 1
          },
          "autotypenumbers": "strict",
          "coloraxis": {
           "colorbar": {
            "outlinewidth": 0,
            "ticks": ""
           }
          },
          "colorscale": {
           "diverging": [
            [
             0,
             "#8e0152"
            ],
            [
             0.1,
             "#c51b7d"
            ],
            [
             0.2,
             "#de77ae"
            ],
            [
             0.3,
             "#f1b6da"
            ],
            [
             0.4,
             "#fde0ef"
            ],
            [
             0.5,
             "#f7f7f7"
            ],
            [
             0.6,
             "#e6f5d0"
            ],
            [
             0.7,
             "#b8e186"
            ],
            [
             0.8,
             "#7fbc41"
            ],
            [
             0.9,
             "#4d9221"
            ],
            [
             1,
             "#276419"
            ]
           ],
           "sequential": [
            [
             0,
             "#0d0887"
            ],
            [
             0.1111111111111111,
             "#46039f"
            ],
            [
             0.2222222222222222,
             "#7201a8"
            ],
            [
             0.3333333333333333,
             "#9c179e"
            ],
            [
             0.4444444444444444,
             "#bd3786"
            ],
            [
             0.5555555555555556,
             "#d8576b"
            ],
            [
             0.6666666666666666,
             "#ed7953"
            ],
            [
             0.7777777777777778,
             "#fb9f3a"
            ],
            [
             0.8888888888888888,
             "#fdca26"
            ],
            [
             1,
             "#f0f921"
            ]
           ],
           "sequentialminus": [
            [
             0,
             "#0d0887"
            ],
            [
             0.1111111111111111,
             "#46039f"
            ],
            [
             0.2222222222222222,
             "#7201a8"
            ],
            [
             0.3333333333333333,
             "#9c179e"
            ],
            [
             0.4444444444444444,
             "#bd3786"
            ],
            [
             0.5555555555555556,
             "#d8576b"
            ],
            [
             0.6666666666666666,
             "#ed7953"
            ],
            [
             0.7777777777777778,
             "#fb9f3a"
            ],
            [
             0.8888888888888888,
             "#fdca26"
            ],
            [
             1,
             "#f0f921"
            ]
           ]
          },
          "colorway": [
           "#636efa",
           "#EF553B",
           "#00cc96",
           "#ab63fa",
           "#FFA15A",
           "#19d3f3",
           "#FF6692",
           "#B6E880",
           "#FF97FF",
           "#FECB52"
          ],
          "font": {
           "color": "#2a3f5f"
          },
          "geo": {
           "bgcolor": "white",
           "lakecolor": "white",
           "landcolor": "#E5ECF6",
           "showlakes": true,
           "showland": true,
           "subunitcolor": "white"
          },
          "hoverlabel": {
           "align": "left"
          },
          "hovermode": "closest",
          "mapbox": {
           "style": "light"
          },
          "paper_bgcolor": "white",
          "plot_bgcolor": "#E5ECF6",
          "polar": {
           "angularaxis": {
            "gridcolor": "white",
            "linecolor": "white",
            "ticks": ""
           },
           "bgcolor": "#E5ECF6",
           "radialaxis": {
            "gridcolor": "white",
            "linecolor": "white",
            "ticks": ""
           }
          },
          "scene": {
           "xaxis": {
            "backgroundcolor": "#E5ECF6",
            "gridcolor": "white",
            "gridwidth": 2,
            "linecolor": "white",
            "showbackground": true,
            "ticks": "",
            "zerolinecolor": "white"
           },
           "yaxis": {
            "backgroundcolor": "#E5ECF6",
            "gridcolor": "white",
            "gridwidth": 2,
            "linecolor": "white",
            "showbackground": true,
            "ticks": "",
            "zerolinecolor": "white"
           },
           "zaxis": {
            "backgroundcolor": "#E5ECF6",
            "gridcolor": "white",
            "gridwidth": 2,
            "linecolor": "white",
            "showbackground": true,
            "ticks": "",
            "zerolinecolor": "white"
           }
          },
          "shapedefaults": {
           "line": {
            "color": "#2a3f5f"
           }
          },
          "ternary": {
           "aaxis": {
            "gridcolor": "white",
            "linecolor": "white",
            "ticks": ""
           },
           "baxis": {
            "gridcolor": "white",
            "linecolor": "white",
            "ticks": ""
           },
           "bgcolor": "#E5ECF6",
           "caxis": {
            "gridcolor": "white",
            "linecolor": "white",
            "ticks": ""
           }
          },
          "title": {
           "x": 0.05
          },
          "xaxis": {
           "automargin": true,
           "gridcolor": "white",
           "linecolor": "white",
           "ticks": "",
           "title": {
            "standoff": 15
           },
           "zerolinecolor": "white",
           "zerolinewidth": 2
          },
          "yaxis": {
           "automargin": true,
           "gridcolor": "white",
           "linecolor": "white",
           "ticks": "",
           "title": {
            "standoff": 15
           },
           "zerolinecolor": "white",
           "zerolinewidth": 2
          }
         }
        },
        "title": {
         "text": "Prevalence of Stunting and Overweight in Africa"
        },
        "xaxis": {
         "anchor": "y",
         "domain": [
          0,
          1
         ],
         "title": {
          "text": "Year"
         }
        },
        "yaxis": {
         "anchor": "x",
         "domain": [
          0,
          1
         ],
         "title": {
          "text": "Percentage (%)"
         }
        }
       }
      }
     },
     "metadata": {},
     "output_type": "display_data"
    },
    {
     "name": "stdout",
     "output_type": "stream",
     "text": [
      "Asia:\n",
      "\tFor 2025, Estimated Prevalence of Stunting is 17%\n",
      "        For 2030, Estimated Prevalence of Stunting is 13%\n",
      "\tFor 2025, Estimated Prevalence of Overweight is 5%\n",
      "        For 2030, Estimated Prevalence of Overweight is 5%\n",
      "\n"
     ]
    },
    {
     "data": {
      "application/vnd.plotly.v1+json": {
       "config": {
        "plotlyServerURL": "https://plot.ly"
       },
       "data": [
        {
         "hovertemplate": "variable=Stunting<br>Year=%{x}<br>value=%{y}<extra></extra>",
         "legendgroup": "Stunting",
         "marker": {
          "color": "green",
          "symbol": "circle"
         },
         "mode": "markers",
         "name": "Stunting",
         "orientation": "v",
         "showlegend": true,
         "type": "scatter",
         "x": [
          2000,
          2001,
          2002,
          2003,
          2004,
          2005,
          2006,
          2007,
          2008,
          2009,
          2010,
          2011,
          2012,
          2013,
          2014,
          2015,
          2016,
          2017,
          2018,
          2019,
          2020,
          2025,
          2030
         ],
         "xaxis": "x",
         "y": [
          37,
          36.1,
          35.4,
          34.9,
          34.5,
          33.9,
          33.4,
          32.7,
          32,
          31.1,
          30.1,
          29.1,
          28.1,
          27.1,
          26.2,
          25.3,
          24.5,
          23.8,
          23.1,
          22.4,
          21.8,
          17,
          13
         ],
         "yaxis": "y"
        },
        {
         "hovertemplate": "<b>OLS trendline</b><br>value = -0.81069 * Year + 1659.09<br>R<sup>2</sup>=0.994796<br><br>variable=Stunting<br>Year=%{x}<br>value=%{y} <b>(trend)</b><extra></extra>",
         "legendgroup": "Stunting",
         "line": {
          "color": "blue"
         },
         "marker": {
          "color": "green",
          "symbol": "circle"
         },
         "mode": "lines",
         "name": "Stunting",
         "showlegend": false,
         "type": "scatter",
         "x": [
          2000,
          2001,
          2002,
          2003,
          2004,
          2005,
          2006,
          2007,
          2008,
          2009,
          2010,
          2011,
          2012,
          2013,
          2014,
          2015,
          2016,
          2017,
          2018,
          2019,
          2020,
          2025,
          2030
         ],
         "xaxis": "x",
         "y": [
          37.71012637718718,
          36.899436163318114,
          36.08874594944905,
          35.27805573557998,
          34.46736552171092,
          33.65667530784185,
          32.845985093972786,
          32.03529488010372,
          31.224604666234654,
          30.41391445236559,
          29.603224238496523,
          28.79253402462723,
          27.981843810758164,
          27.1711535968891,
          26.360463383020033,
          25.549773169150967,
          24.7390829552819,
          23.928392741412836,
          23.11770252754377,
          22.307012313674704,
          21.49632209980564,
          17.44287103046031,
          13.389419961114754
         ],
         "yaxis": "y"
        },
        {
         "hovertemplate": "variable=Overweight<br>Year=%{x}<br>value=%{y}<extra></extra>",
         "legendgroup": "Overweight",
         "marker": {
          "color": "red",
          "symbol": "circle"
         },
         "mode": "markers",
         "name": "Overweight",
         "orientation": "v",
         "showlegend": true,
         "type": "scatter",
         "x": [
          2000,
          2001,
          2002,
          2003,
          2004,
          2005,
          2006,
          2007,
          2008,
          2009,
          2010,
          2011,
          2012,
          2013,
          2014,
          2015,
          2016,
          2017,
          2018,
          2019,
          2020,
          2025,
          2030
         ],
         "xaxis": "x",
         "y": [
          4.5,
          4.6,
          4.6,
          4.6,
          4.7,
          4.7,
          4.7,
          4.7,
          4.8,
          4.8,
          4.9,
          4.9,
          4.9,
          5,
          5,
          5,
          5,
          5.1,
          5.1,
          5.1,
          5.2,
          5,
          5
         ],
         "yaxis": "y"
        },
        {
         "hovertemplate": "<b>OLS trendline</b><br>value = 0.0219248 * Year + -39.237<br>R<sup>2</sup>=0.756854<br><br>variable=Overweight<br>Year=%{x}<br>value=%{y} <b>(trend)</b><extra></extra>",
         "legendgroup": "Overweight",
         "line": {
          "color": "blue"
         },
         "marker": {
          "color": "red",
          "symbol": "circle"
         },
         "mode": "lines",
         "name": "Overweight",
         "showlegend": false,
         "type": "scatter",
         "x": [
          2000,
          2001,
          2002,
          2003,
          2004,
          2005,
          2006,
          2007,
          2008,
          2009,
          2010,
          2011,
          2012,
          2013,
          2014,
          2015,
          2016,
          2017,
          2018,
          2019,
          2020,
          2025,
          2030
         ],
         "xaxis": "x",
         "y": [
          4.612605314322977,
          4.634530136098739,
          4.6564549578744945,
          4.678379779650257,
          4.700304601426019,
          4.722229423201782,
          4.744154244977544,
          4.766079066753306,
          4.788003888529069,
          4.809928710304831,
          4.831853532080586,
          4.853778353856349,
          4.875703175632111,
          4.897627997407874,
          4.919552819183636,
          4.941477640959398,
          4.963402462735161,
          4.985327284510923,
          5.0072521062866855,
          5.029176928062441,
          5.051101749838203,
          5.160725858717015,
          5.27034996759582
         ],
         "yaxis": "y"
        }
       ],
       "layout": {
        "legend": {
         "orientation": "h",
         "title": {
          "text": "Prevalence of"
         },
         "tracegroupgap": 0,
         "x": 1,
         "xanchor": "right",
         "y": 1.02,
         "yanchor": "bottom"
        },
        "template": {
         "data": {
          "bar": [
           {
            "error_x": {
             "color": "#2a3f5f"
            },
            "error_y": {
             "color": "#2a3f5f"
            },
            "marker": {
             "line": {
              "color": "#E5ECF6",
              "width": 0.5
             },
             "pattern": {
              "fillmode": "overlay",
              "size": 10,
              "solidity": 0.2
             }
            },
            "type": "bar"
           }
          ],
          "barpolar": [
           {
            "marker": {
             "line": {
              "color": "#E5ECF6",
              "width": 0.5
             },
             "pattern": {
              "fillmode": "overlay",
              "size": 10,
              "solidity": 0.2
             }
            },
            "type": "barpolar"
           }
          ],
          "carpet": [
           {
            "aaxis": {
             "endlinecolor": "#2a3f5f",
             "gridcolor": "white",
             "linecolor": "white",
             "minorgridcolor": "white",
             "startlinecolor": "#2a3f5f"
            },
            "baxis": {
             "endlinecolor": "#2a3f5f",
             "gridcolor": "white",
             "linecolor": "white",
             "minorgridcolor": "white",
             "startlinecolor": "#2a3f5f"
            },
            "type": "carpet"
           }
          ],
          "choropleth": [
           {
            "colorbar": {
             "outlinewidth": 0,
             "ticks": ""
            },
            "type": "choropleth"
           }
          ],
          "contour": [
           {
            "colorbar": {
             "outlinewidth": 0,
             "ticks": ""
            },
            "colorscale": [
             [
              0,
              "#0d0887"
             ],
             [
              0.1111111111111111,
              "#46039f"
             ],
             [
              0.2222222222222222,
              "#7201a8"
             ],
             [
              0.3333333333333333,
              "#9c179e"
             ],
             [
              0.4444444444444444,
              "#bd3786"
             ],
             [
              0.5555555555555556,
              "#d8576b"
             ],
             [
              0.6666666666666666,
              "#ed7953"
             ],
             [
              0.7777777777777778,
              "#fb9f3a"
             ],
             [
              0.8888888888888888,
              "#fdca26"
             ],
             [
              1,
              "#f0f921"
             ]
            ],
            "type": "contour"
           }
          ],
          "contourcarpet": [
           {
            "colorbar": {
             "outlinewidth": 0,
             "ticks": ""
            },
            "type": "contourcarpet"
           }
          ],
          "heatmap": [
           {
            "colorbar": {
             "outlinewidth": 0,
             "ticks": ""
            },
            "colorscale": [
             [
              0,
              "#0d0887"
             ],
             [
              0.1111111111111111,
              "#46039f"
             ],
             [
              0.2222222222222222,
              "#7201a8"
             ],
             [
              0.3333333333333333,
              "#9c179e"
             ],
             [
              0.4444444444444444,
              "#bd3786"
             ],
             [
              0.5555555555555556,
              "#d8576b"
             ],
             [
              0.6666666666666666,
              "#ed7953"
             ],
             [
              0.7777777777777778,
              "#fb9f3a"
             ],
             [
              0.8888888888888888,
              "#fdca26"
             ],
             [
              1,
              "#f0f921"
             ]
            ],
            "type": "heatmap"
           }
          ],
          "heatmapgl": [
           {
            "colorbar": {
             "outlinewidth": 0,
             "ticks": ""
            },
            "colorscale": [
             [
              0,
              "#0d0887"
             ],
             [
              0.1111111111111111,
              "#46039f"
             ],
             [
              0.2222222222222222,
              "#7201a8"
             ],
             [
              0.3333333333333333,
              "#9c179e"
             ],
             [
              0.4444444444444444,
              "#bd3786"
             ],
             [
              0.5555555555555556,
              "#d8576b"
             ],
             [
              0.6666666666666666,
              "#ed7953"
             ],
             [
              0.7777777777777778,
              "#fb9f3a"
             ],
             [
              0.8888888888888888,
              "#fdca26"
             ],
             [
              1,
              "#f0f921"
             ]
            ],
            "type": "heatmapgl"
           }
          ],
          "histogram": [
           {
            "marker": {
             "pattern": {
              "fillmode": "overlay",
              "size": 10,
              "solidity": 0.2
             }
            },
            "type": "histogram"
           }
          ],
          "histogram2d": [
           {
            "colorbar": {
             "outlinewidth": 0,
             "ticks": ""
            },
            "colorscale": [
             [
              0,
              "#0d0887"
             ],
             [
              0.1111111111111111,
              "#46039f"
             ],
             [
              0.2222222222222222,
              "#7201a8"
             ],
             [
              0.3333333333333333,
              "#9c179e"
             ],
             [
              0.4444444444444444,
              "#bd3786"
             ],
             [
              0.5555555555555556,
              "#d8576b"
             ],
             [
              0.6666666666666666,
              "#ed7953"
             ],
             [
              0.7777777777777778,
              "#fb9f3a"
             ],
             [
              0.8888888888888888,
              "#fdca26"
             ],
             [
              1,
              "#f0f921"
             ]
            ],
            "type": "histogram2d"
           }
          ],
          "histogram2dcontour": [
           {
            "colorbar": {
             "outlinewidth": 0,
             "ticks": ""
            },
            "colorscale": [
             [
              0,
              "#0d0887"
             ],
             [
              0.1111111111111111,
              "#46039f"
             ],
             [
              0.2222222222222222,
              "#7201a8"
             ],
             [
              0.3333333333333333,
              "#9c179e"
             ],
             [
              0.4444444444444444,
              "#bd3786"
             ],
             [
              0.5555555555555556,
              "#d8576b"
             ],
             [
              0.6666666666666666,
              "#ed7953"
             ],
             [
              0.7777777777777778,
              "#fb9f3a"
             ],
             [
              0.8888888888888888,
              "#fdca26"
             ],
             [
              1,
              "#f0f921"
             ]
            ],
            "type": "histogram2dcontour"
           }
          ],
          "mesh3d": [
           {
            "colorbar": {
             "outlinewidth": 0,
             "ticks": ""
            },
            "type": "mesh3d"
           }
          ],
          "parcoords": [
           {
            "line": {
             "colorbar": {
              "outlinewidth": 0,
              "ticks": ""
             }
            },
            "type": "parcoords"
           }
          ],
          "pie": [
           {
            "automargin": true,
            "type": "pie"
           }
          ],
          "scatter": [
           {
            "fillpattern": {
             "fillmode": "overlay",
             "size": 10,
             "solidity": 0.2
            },
            "type": "scatter"
           }
          ],
          "scatter3d": [
           {
            "line": {
             "colorbar": {
              "outlinewidth": 0,
              "ticks": ""
             }
            },
            "marker": {
             "colorbar": {
              "outlinewidth": 0,
              "ticks": ""
             }
            },
            "type": "scatter3d"
           }
          ],
          "scattercarpet": [
           {
            "marker": {
             "colorbar": {
              "outlinewidth": 0,
              "ticks": ""
             }
            },
            "type": "scattercarpet"
           }
          ],
          "scattergeo": [
           {
            "marker": {
             "colorbar": {
              "outlinewidth": 0,
              "ticks": ""
             }
            },
            "type": "scattergeo"
           }
          ],
          "scattergl": [
           {
            "marker": {
             "colorbar": {
              "outlinewidth": 0,
              "ticks": ""
             }
            },
            "type": "scattergl"
           }
          ],
          "scattermapbox": [
           {
            "marker": {
             "colorbar": {
              "outlinewidth": 0,
              "ticks": ""
             }
            },
            "type": "scattermapbox"
           }
          ],
          "scatterpolar": [
           {
            "marker": {
             "colorbar": {
              "outlinewidth": 0,
              "ticks": ""
             }
            },
            "type": "scatterpolar"
           }
          ],
          "scatterpolargl": [
           {
            "marker": {
             "colorbar": {
              "outlinewidth": 0,
              "ticks": ""
             }
            },
            "type": "scatterpolargl"
           }
          ],
          "scatterternary": [
           {
            "marker": {
             "colorbar": {
              "outlinewidth": 0,
              "ticks": ""
             }
            },
            "type": "scatterternary"
           }
          ],
          "surface": [
           {
            "colorbar": {
             "outlinewidth": 0,
             "ticks": ""
            },
            "colorscale": [
             [
              0,
              "#0d0887"
             ],
             [
              0.1111111111111111,
              "#46039f"
             ],
             [
              0.2222222222222222,
              "#7201a8"
             ],
             [
              0.3333333333333333,
              "#9c179e"
             ],
             [
              0.4444444444444444,
              "#bd3786"
             ],
             [
              0.5555555555555556,
              "#d8576b"
             ],
             [
              0.6666666666666666,
              "#ed7953"
             ],
             [
              0.7777777777777778,
              "#fb9f3a"
             ],
             [
              0.8888888888888888,
              "#fdca26"
             ],
             [
              1,
              "#f0f921"
             ]
            ],
            "type": "surface"
           }
          ],
          "table": [
           {
            "cells": {
             "fill": {
              "color": "#EBF0F8"
             },
             "line": {
              "color": "white"
             }
            },
            "header": {
             "fill": {
              "color": "#C8D4E3"
             },
             "line": {
              "color": "white"
             }
            },
            "type": "table"
           }
          ]
         },
         "layout": {
          "annotationdefaults": {
           "arrowcolor": "#2a3f5f",
           "arrowhead": 0,
           "arrowwidth": 1
          },
          "autotypenumbers": "strict",
          "coloraxis": {
           "colorbar": {
            "outlinewidth": 0,
            "ticks": ""
           }
          },
          "colorscale": {
           "diverging": [
            [
             0,
             "#8e0152"
            ],
            [
             0.1,
             "#c51b7d"
            ],
            [
             0.2,
             "#de77ae"
            ],
            [
             0.3,
             "#f1b6da"
            ],
            [
             0.4,
             "#fde0ef"
            ],
            [
             0.5,
             "#f7f7f7"
            ],
            [
             0.6,
             "#e6f5d0"
            ],
            [
             0.7,
             "#b8e186"
            ],
            [
             0.8,
             "#7fbc41"
            ],
            [
             0.9,
             "#4d9221"
            ],
            [
             1,
             "#276419"
            ]
           ],
           "sequential": [
            [
             0,
             "#0d0887"
            ],
            [
             0.1111111111111111,
             "#46039f"
            ],
            [
             0.2222222222222222,
             "#7201a8"
            ],
            [
             0.3333333333333333,
             "#9c179e"
            ],
            [
             0.4444444444444444,
             "#bd3786"
            ],
            [
             0.5555555555555556,
             "#d8576b"
            ],
            [
             0.6666666666666666,
             "#ed7953"
            ],
            [
             0.7777777777777778,
             "#fb9f3a"
            ],
            [
             0.8888888888888888,
             "#fdca26"
            ],
            [
             1,
             "#f0f921"
            ]
           ],
           "sequentialminus": [
            [
             0,
             "#0d0887"
            ],
            [
             0.1111111111111111,
             "#46039f"
            ],
            [
             0.2222222222222222,
             "#7201a8"
            ],
            [
             0.3333333333333333,
             "#9c179e"
            ],
            [
             0.4444444444444444,
             "#bd3786"
            ],
            [
             0.5555555555555556,
             "#d8576b"
            ],
            [
             0.6666666666666666,
             "#ed7953"
            ],
            [
             0.7777777777777778,
             "#fb9f3a"
            ],
            [
             0.8888888888888888,
             "#fdca26"
            ],
            [
             1,
             "#f0f921"
            ]
           ]
          },
          "colorway": [
           "#636efa",
           "#EF553B",
           "#00cc96",
           "#ab63fa",
           "#FFA15A",
           "#19d3f3",
           "#FF6692",
           "#B6E880",
           "#FF97FF",
           "#FECB52"
          ],
          "font": {
           "color": "#2a3f5f"
          },
          "geo": {
           "bgcolor": "white",
           "lakecolor": "white",
           "landcolor": "#E5ECF6",
           "showlakes": true,
           "showland": true,
           "subunitcolor": "white"
          },
          "hoverlabel": {
           "align": "left"
          },
          "hovermode": "closest",
          "mapbox": {
           "style": "light"
          },
          "paper_bgcolor": "white",
          "plot_bgcolor": "#E5ECF6",
          "polar": {
           "angularaxis": {
            "gridcolor": "white",
            "linecolor": "white",
            "ticks": ""
           },
           "bgcolor": "#E5ECF6",
           "radialaxis": {
            "gridcolor": "white",
            "linecolor": "white",
            "ticks": ""
           }
          },
          "scene": {
           "xaxis": {
            "backgroundcolor": "#E5ECF6",
            "gridcolor": "white",
            "gridwidth": 2,
            "linecolor": "white",
            "showbackground": true,
            "ticks": "",
            "zerolinecolor": "white"
           },
           "yaxis": {
            "backgroundcolor": "#E5ECF6",
            "gridcolor": "white",
            "gridwidth": 2,
            "linecolor": "white",
            "showbackground": true,
            "ticks": "",
            "zerolinecolor": "white"
           },
           "zaxis": {
            "backgroundcolor": "#E5ECF6",
            "gridcolor": "white",
            "gridwidth": 2,
            "linecolor": "white",
            "showbackground": true,
            "ticks": "",
            "zerolinecolor": "white"
           }
          },
          "shapedefaults": {
           "line": {
            "color": "#2a3f5f"
           }
          },
          "ternary": {
           "aaxis": {
            "gridcolor": "white",
            "linecolor": "white",
            "ticks": ""
           },
           "baxis": {
            "gridcolor": "white",
            "linecolor": "white",
            "ticks": ""
           },
           "bgcolor": "#E5ECF6",
           "caxis": {
            "gridcolor": "white",
            "linecolor": "white",
            "ticks": ""
           }
          },
          "title": {
           "x": 0.05
          },
          "xaxis": {
           "automargin": true,
           "gridcolor": "white",
           "linecolor": "white",
           "ticks": "",
           "title": {
            "standoff": 15
           },
           "zerolinecolor": "white",
           "zerolinewidth": 2
          },
          "yaxis": {
           "automargin": true,
           "gridcolor": "white",
           "linecolor": "white",
           "ticks": "",
           "title": {
            "standoff": 15
           },
           "zerolinecolor": "white",
           "zerolinewidth": 2
          }
         }
        },
        "title": {
         "text": "Prevalence of Stunting and Overweight in Asia"
        },
        "xaxis": {
         "anchor": "y",
         "domain": [
          0,
          1
         ],
         "title": {
          "text": "Year"
         }
        },
        "yaxis": {
         "anchor": "x",
         "domain": [
          0,
          1
         ],
         "title": {
          "text": "Percentage (%)"
         }
        }
       }
      }
     },
     "metadata": {},
     "output_type": "display_data"
    },
    {
     "name": "stdout",
     "output_type": "stream",
     "text": [
      "Europe:\n",
      "\tFor 2025, Estimated Prevalence of Stunting is 4%\n",
      "        For 2030, Estimated Prevalence of Stunting is 3%\n",
      "\tFor 2025, Estimated Prevalence of Overweight is 8%\n",
      "        For 2030, Estimated Prevalence of Overweight is 8%\n",
      "\n"
     ]
    },
    {
     "data": {
      "application/vnd.plotly.v1+json": {
       "config": {
        "plotlyServerURL": "https://plot.ly"
       },
       "data": [
        {
         "hovertemplate": "variable=Stunting<br>Year=%{x}<br>value=%{y}<extra></extra>",
         "legendgroup": "Stunting",
         "marker": {
          "color": "green",
          "symbol": "circle"
         },
         "mode": "markers",
         "name": "Stunting",
         "orientation": "v",
         "showlegend": true,
         "type": "scatter",
         "x": [
          2000,
          2001,
          2002,
          2003,
          2004,
          2005,
          2006,
          2007,
          2008,
          2009,
          2010,
          2011,
          2012,
          2013,
          2014,
          2015,
          2016,
          2017,
          2018,
          2019,
          2020,
          2025,
          2030
         ],
         "xaxis": "x",
         "y": [
          6.6,
          6.5,
          6.3,
          6.2,
          6,
          5.9,
          5.7,
          5.6,
          5.5,
          5.5,
          5.4,
          5.4,
          5.3,
          5.2,
          5.1,
          5.1,
          5,
          4.9,
          4.8,
          4.6,
          4.5,
          4,
          3
         ],
         "yaxis": "y"
        },
        {
         "hovertemplate": "<b>OLS trendline</b><br>value = -0.103675 * Year + 213.853<br>R<sup>2</sup>=0.971920<br><br>variable=Stunting<br>Year=%{x}<br>value=%{y} <b>(trend)</b><extra></extra>",
         "legendgroup": "Stunting",
         "line": {
          "color": "blue"
         },
         "marker": {
          "color": "green",
          "symbol": "circle"
         },
         "mode": "lines",
         "name": "Stunting",
         "showlegend": false,
         "type": "scatter",
         "x": [
          2000,
          2001,
          2002,
          2003,
          2004,
          2005,
          2006,
          2007,
          2008,
          2009,
          2010,
          2011,
          2012,
          2013,
          2014,
          2015,
          2016,
          2017,
          2018,
          2019,
          2020,
          2025,
          2030
         ],
         "xaxis": "x",
         "y": [
          6.5032080362929605,
          6.399533376539239,
          6.295858716785517,
          6.192184057031795,
          6.088509397278074,
          5.984834737524324,
          5.881160077770602,
          5.77748541801688,
          5.6738107582631585,
          5.570136098509437,
          5.466461438755715,
          5.362786779001993,
          5.259112119248243,
          5.155437459494522,
          5.0517627997408,
          4.948088139987078,
          4.8444134802333565,
          4.740738820479635,
          4.637064160725885,
          4.533389500972163,
          4.429714841218441,
          3.9113415424498044,
          3.392968243681196
         ],
         "yaxis": "y"
        },
        {
         "hovertemplate": "variable=Overweight<br>Year=%{x}<br>value=%{y}<extra></extra>",
         "legendgroup": "Overweight",
         "marker": {
          "color": "red",
          "symbol": "circle"
         },
         "mode": "markers",
         "name": "Overweight",
         "orientation": "v",
         "showlegend": true,
         "type": "scatter",
         "x": [
          2000,
          2001,
          2002,
          2003,
          2004,
          2005,
          2006,
          2007,
          2008,
          2009,
          2010,
          2011,
          2012,
          2013,
          2014,
          2015,
          2016,
          2017,
          2018,
          2019,
          2020,
          2025,
          2030
         ],
         "xaxis": "x",
         "y": [
          8.1,
          8.5,
          8.8,
          9,
          9.3,
          9.5,
          9.7,
          9.8,
          9.9,
          9.9,
          9.9,
          9.8,
          9.6,
          9.4,
          9.2,
          9,
          8.8,
          8.6,
          8.5,
          8.4,
          8.3,
          8,
          8
         ],
         "yaxis": "y"
        },
        {
         "hovertemplate": "<b>OLS trendline</b><br>value = -0.0372813 * Year + 84.0356<br>R<sup>2</sup>=0.197205<br><br>variable=Overweight<br>Year=%{x}<br>value=%{y} <b>(trend)</b><extra></extra>",
         "legendgroup": "Overweight",
         "line": {
          "color": "blue"
         },
         "marker": {
          "color": "red",
          "symbol": "circle"
         },
         "mode": "lines",
         "name": "Overweight",
         "showlegend": false,
         "type": "scatter",
         "x": [
          2000,
          2001,
          2002,
          2003,
          2004,
          2005,
          2006,
          2007,
          2008,
          2009,
          2010,
          2011,
          2012,
          2013,
          2014,
          2015,
          2016,
          2017,
          2018,
          2019,
          2020,
          2025,
          2030
         ],
         "xaxis": "x",
         "y": [
          9.473023331172854,
          9.435742060920106,
          9.398460790667357,
          9.361179520414595,
          9.323898250161847,
          9.286616979909098,
          9.249335709656336,
          9.212054439403587,
          9.17477316915084,
          9.137491898898077,
          9.100210628645328,
          9.062929358392566,
          9.025648088139818,
          8.98836681788707,
          8.951085547634307,
          8.913804277381558,
          8.87652300712881,
          8.839241736876048,
          8.8019604666233,
          8.764679196370551,
          8.727397926117789,
          8.540991574854019,
          8.354585223590263
         ],
         "yaxis": "y"
        }
       ],
       "layout": {
        "legend": {
         "orientation": "h",
         "title": {
          "text": "Prevalence of"
         },
         "tracegroupgap": 0,
         "x": 1,
         "xanchor": "right",
         "y": 1.02,
         "yanchor": "bottom"
        },
        "template": {
         "data": {
          "bar": [
           {
            "error_x": {
             "color": "#2a3f5f"
            },
            "error_y": {
             "color": "#2a3f5f"
            },
            "marker": {
             "line": {
              "color": "#E5ECF6",
              "width": 0.5
             },
             "pattern": {
              "fillmode": "overlay",
              "size": 10,
              "solidity": 0.2
             }
            },
            "type": "bar"
           }
          ],
          "barpolar": [
           {
            "marker": {
             "line": {
              "color": "#E5ECF6",
              "width": 0.5
             },
             "pattern": {
              "fillmode": "overlay",
              "size": 10,
              "solidity": 0.2
             }
            },
            "type": "barpolar"
           }
          ],
          "carpet": [
           {
            "aaxis": {
             "endlinecolor": "#2a3f5f",
             "gridcolor": "white",
             "linecolor": "white",
             "minorgridcolor": "white",
             "startlinecolor": "#2a3f5f"
            },
            "baxis": {
             "endlinecolor": "#2a3f5f",
             "gridcolor": "white",
             "linecolor": "white",
             "minorgridcolor": "white",
             "startlinecolor": "#2a3f5f"
            },
            "type": "carpet"
           }
          ],
          "choropleth": [
           {
            "colorbar": {
             "outlinewidth": 0,
             "ticks": ""
            },
            "type": "choropleth"
           }
          ],
          "contour": [
           {
            "colorbar": {
             "outlinewidth": 0,
             "ticks": ""
            },
            "colorscale": [
             [
              0,
              "#0d0887"
             ],
             [
              0.1111111111111111,
              "#46039f"
             ],
             [
              0.2222222222222222,
              "#7201a8"
             ],
             [
              0.3333333333333333,
              "#9c179e"
             ],
             [
              0.4444444444444444,
              "#bd3786"
             ],
             [
              0.5555555555555556,
              "#d8576b"
             ],
             [
              0.6666666666666666,
              "#ed7953"
             ],
             [
              0.7777777777777778,
              "#fb9f3a"
             ],
             [
              0.8888888888888888,
              "#fdca26"
             ],
             [
              1,
              "#f0f921"
             ]
            ],
            "type": "contour"
           }
          ],
          "contourcarpet": [
           {
            "colorbar": {
             "outlinewidth": 0,
             "ticks": ""
            },
            "type": "contourcarpet"
           }
          ],
          "heatmap": [
           {
            "colorbar": {
             "outlinewidth": 0,
             "ticks": ""
            },
            "colorscale": [
             [
              0,
              "#0d0887"
             ],
             [
              0.1111111111111111,
              "#46039f"
             ],
             [
              0.2222222222222222,
              "#7201a8"
             ],
             [
              0.3333333333333333,
              "#9c179e"
             ],
             [
              0.4444444444444444,
              "#bd3786"
             ],
             [
              0.5555555555555556,
              "#d8576b"
             ],
             [
              0.6666666666666666,
              "#ed7953"
             ],
             [
              0.7777777777777778,
              "#fb9f3a"
             ],
             [
              0.8888888888888888,
              "#fdca26"
             ],
             [
              1,
              "#f0f921"
             ]
            ],
            "type": "heatmap"
           }
          ],
          "heatmapgl": [
           {
            "colorbar": {
             "outlinewidth": 0,
             "ticks": ""
            },
            "colorscale": [
             [
              0,
              "#0d0887"
             ],
             [
              0.1111111111111111,
              "#46039f"
             ],
             [
              0.2222222222222222,
              "#7201a8"
             ],
             [
              0.3333333333333333,
              "#9c179e"
             ],
             [
              0.4444444444444444,
              "#bd3786"
             ],
             [
              0.5555555555555556,
              "#d8576b"
             ],
             [
              0.6666666666666666,
              "#ed7953"
             ],
             [
              0.7777777777777778,
              "#fb9f3a"
             ],
             [
              0.8888888888888888,
              "#fdca26"
             ],
             [
              1,
              "#f0f921"
             ]
            ],
            "type": "heatmapgl"
           }
          ],
          "histogram": [
           {
            "marker": {
             "pattern": {
              "fillmode": "overlay",
              "size": 10,
              "solidity": 0.2
             }
            },
            "type": "histogram"
           }
          ],
          "histogram2d": [
           {
            "colorbar": {
             "outlinewidth": 0,
             "ticks": ""
            },
            "colorscale": [
             [
              0,
              "#0d0887"
             ],
             [
              0.1111111111111111,
              "#46039f"
             ],
             [
              0.2222222222222222,
              "#7201a8"
             ],
             [
              0.3333333333333333,
              "#9c179e"
             ],
             [
              0.4444444444444444,
              "#bd3786"
             ],
             [
              0.5555555555555556,
              "#d8576b"
             ],
             [
              0.6666666666666666,
              "#ed7953"
             ],
             [
              0.7777777777777778,
              "#fb9f3a"
             ],
             [
              0.8888888888888888,
              "#fdca26"
             ],
             [
              1,
              "#f0f921"
             ]
            ],
            "type": "histogram2d"
           }
          ],
          "histogram2dcontour": [
           {
            "colorbar": {
             "outlinewidth": 0,
             "ticks": ""
            },
            "colorscale": [
             [
              0,
              "#0d0887"
             ],
             [
              0.1111111111111111,
              "#46039f"
             ],
             [
              0.2222222222222222,
              "#7201a8"
             ],
             [
              0.3333333333333333,
              "#9c179e"
             ],
             [
              0.4444444444444444,
              "#bd3786"
             ],
             [
              0.5555555555555556,
              "#d8576b"
             ],
             [
              0.6666666666666666,
              "#ed7953"
             ],
             [
              0.7777777777777778,
              "#fb9f3a"
             ],
             [
              0.8888888888888888,
              "#fdca26"
             ],
             [
              1,
              "#f0f921"
             ]
            ],
            "type": "histogram2dcontour"
           }
          ],
          "mesh3d": [
           {
            "colorbar": {
             "outlinewidth": 0,
             "ticks": ""
            },
            "type": "mesh3d"
           }
          ],
          "parcoords": [
           {
            "line": {
             "colorbar": {
              "outlinewidth": 0,
              "ticks": ""
             }
            },
            "type": "parcoords"
           }
          ],
          "pie": [
           {
            "automargin": true,
            "type": "pie"
           }
          ],
          "scatter": [
           {
            "fillpattern": {
             "fillmode": "overlay",
             "size": 10,
             "solidity": 0.2
            },
            "type": "scatter"
           }
          ],
          "scatter3d": [
           {
            "line": {
             "colorbar": {
              "outlinewidth": 0,
              "ticks": ""
             }
            },
            "marker": {
             "colorbar": {
              "outlinewidth": 0,
              "ticks": ""
             }
            },
            "type": "scatter3d"
           }
          ],
          "scattercarpet": [
           {
            "marker": {
             "colorbar": {
              "outlinewidth": 0,
              "ticks": ""
             }
            },
            "type": "scattercarpet"
           }
          ],
          "scattergeo": [
           {
            "marker": {
             "colorbar": {
              "outlinewidth": 0,
              "ticks": ""
             }
            },
            "type": "scattergeo"
           }
          ],
          "scattergl": [
           {
            "marker": {
             "colorbar": {
              "outlinewidth": 0,
              "ticks": ""
             }
            },
            "type": "scattergl"
           }
          ],
          "scattermapbox": [
           {
            "marker": {
             "colorbar": {
              "outlinewidth": 0,
              "ticks": ""
             }
            },
            "type": "scattermapbox"
           }
          ],
          "scatterpolar": [
           {
            "marker": {
             "colorbar": {
              "outlinewidth": 0,
              "ticks": ""
             }
            },
            "type": "scatterpolar"
           }
          ],
          "scatterpolargl": [
           {
            "marker": {
             "colorbar": {
              "outlinewidth": 0,
              "ticks": ""
             }
            },
            "type": "scatterpolargl"
           }
          ],
          "scatterternary": [
           {
            "marker": {
             "colorbar": {
              "outlinewidth": 0,
              "ticks": ""
             }
            },
            "type": "scatterternary"
           }
          ],
          "surface": [
           {
            "colorbar": {
             "outlinewidth": 0,
             "ticks": ""
            },
            "colorscale": [
             [
              0,
              "#0d0887"
             ],
             [
              0.1111111111111111,
              "#46039f"
             ],
             [
              0.2222222222222222,
              "#7201a8"
             ],
             [
              0.3333333333333333,
              "#9c179e"
             ],
             [
              0.4444444444444444,
              "#bd3786"
             ],
             [
              0.5555555555555556,
              "#d8576b"
             ],
             [
              0.6666666666666666,
              "#ed7953"
             ],
             [
              0.7777777777777778,
              "#fb9f3a"
             ],
             [
              0.8888888888888888,
              "#fdca26"
             ],
             [
              1,
              "#f0f921"
             ]
            ],
            "type": "surface"
           }
          ],
          "table": [
           {
            "cells": {
             "fill": {
              "color": "#EBF0F8"
             },
             "line": {
              "color": "white"
             }
            },
            "header": {
             "fill": {
              "color": "#C8D4E3"
             },
             "line": {
              "color": "white"
             }
            },
            "type": "table"
           }
          ]
         },
         "layout": {
          "annotationdefaults": {
           "arrowcolor": "#2a3f5f",
           "arrowhead": 0,
           "arrowwidth": 1
          },
          "autotypenumbers": "strict",
          "coloraxis": {
           "colorbar": {
            "outlinewidth": 0,
            "ticks": ""
           }
          },
          "colorscale": {
           "diverging": [
            [
             0,
             "#8e0152"
            ],
            [
             0.1,
             "#c51b7d"
            ],
            [
             0.2,
             "#de77ae"
            ],
            [
             0.3,
             "#f1b6da"
            ],
            [
             0.4,
             "#fde0ef"
            ],
            [
             0.5,
             "#f7f7f7"
            ],
            [
             0.6,
             "#e6f5d0"
            ],
            [
             0.7,
             "#b8e186"
            ],
            [
             0.8,
             "#7fbc41"
            ],
            [
             0.9,
             "#4d9221"
            ],
            [
             1,
             "#276419"
            ]
           ],
           "sequential": [
            [
             0,
             "#0d0887"
            ],
            [
             0.1111111111111111,
             "#46039f"
            ],
            [
             0.2222222222222222,
             "#7201a8"
            ],
            [
             0.3333333333333333,
             "#9c179e"
            ],
            [
             0.4444444444444444,
             "#bd3786"
            ],
            [
             0.5555555555555556,
             "#d8576b"
            ],
            [
             0.6666666666666666,
             "#ed7953"
            ],
            [
             0.7777777777777778,
             "#fb9f3a"
            ],
            [
             0.8888888888888888,
             "#fdca26"
            ],
            [
             1,
             "#f0f921"
            ]
           ],
           "sequentialminus": [
            [
             0,
             "#0d0887"
            ],
            [
             0.1111111111111111,
             "#46039f"
            ],
            [
             0.2222222222222222,
             "#7201a8"
            ],
            [
             0.3333333333333333,
             "#9c179e"
            ],
            [
             0.4444444444444444,
             "#bd3786"
            ],
            [
             0.5555555555555556,
             "#d8576b"
            ],
            [
             0.6666666666666666,
             "#ed7953"
            ],
            [
             0.7777777777777778,
             "#fb9f3a"
            ],
            [
             0.8888888888888888,
             "#fdca26"
            ],
            [
             1,
             "#f0f921"
            ]
           ]
          },
          "colorway": [
           "#636efa",
           "#EF553B",
           "#00cc96",
           "#ab63fa",
           "#FFA15A",
           "#19d3f3",
           "#FF6692",
           "#B6E880",
           "#FF97FF",
           "#FECB52"
          ],
          "font": {
           "color": "#2a3f5f"
          },
          "geo": {
           "bgcolor": "white",
           "lakecolor": "white",
           "landcolor": "#E5ECF6",
           "showlakes": true,
           "showland": true,
           "subunitcolor": "white"
          },
          "hoverlabel": {
           "align": "left"
          },
          "hovermode": "closest",
          "mapbox": {
           "style": "light"
          },
          "paper_bgcolor": "white",
          "plot_bgcolor": "#E5ECF6",
          "polar": {
           "angularaxis": {
            "gridcolor": "white",
            "linecolor": "white",
            "ticks": ""
           },
           "bgcolor": "#E5ECF6",
           "radialaxis": {
            "gridcolor": "white",
            "linecolor": "white",
            "ticks": ""
           }
          },
          "scene": {
           "xaxis": {
            "backgroundcolor": "#E5ECF6",
            "gridcolor": "white",
            "gridwidth": 2,
            "linecolor": "white",
            "showbackground": true,
            "ticks": "",
            "zerolinecolor": "white"
           },
           "yaxis": {
            "backgroundcolor": "#E5ECF6",
            "gridcolor": "white",
            "gridwidth": 2,
            "linecolor": "white",
            "showbackground": true,
            "ticks": "",
            "zerolinecolor": "white"
           },
           "zaxis": {
            "backgroundcolor": "#E5ECF6",
            "gridcolor": "white",
            "gridwidth": 2,
            "linecolor": "white",
            "showbackground": true,
            "ticks": "",
            "zerolinecolor": "white"
           }
          },
          "shapedefaults": {
           "line": {
            "color": "#2a3f5f"
           }
          },
          "ternary": {
           "aaxis": {
            "gridcolor": "white",
            "linecolor": "white",
            "ticks": ""
           },
           "baxis": {
            "gridcolor": "white",
            "linecolor": "white",
            "ticks": ""
           },
           "bgcolor": "#E5ECF6",
           "caxis": {
            "gridcolor": "white",
            "linecolor": "white",
            "ticks": ""
           }
          },
          "title": {
           "x": 0.05
          },
          "xaxis": {
           "automargin": true,
           "gridcolor": "white",
           "linecolor": "white",
           "ticks": "",
           "title": {
            "standoff": 15
           },
           "zerolinecolor": "white",
           "zerolinewidth": 2
          },
          "yaxis": {
           "automargin": true,
           "gridcolor": "white",
           "linecolor": "white",
           "ticks": "",
           "title": {
            "standoff": 15
           },
           "zerolinecolor": "white",
           "zerolinewidth": 2
          }
         }
        },
        "title": {
         "text": "Prevalence of Stunting and Overweight in Europe"
        },
        "xaxis": {
         "anchor": "y",
         "domain": [
          0,
          1
         ],
         "title": {
          "text": "Year"
         }
        },
        "yaxis": {
         "anchor": "x",
         "domain": [
          0,
          1
         ],
         "title": {
          "text": "Percentage (%)"
         }
        }
       }
      }
     },
     "metadata": {},
     "output_type": "display_data"
    },
    {
     "name": "stdout",
     "output_type": "stream",
     "text": [
      "Northern America:\n",
      "\tFor 2025, Estimated Prevalence of Stunting is 2%\n",
      "        For 2030, Estimated Prevalence of Stunting is 3%\n",
      "\tFor 2025, Estimated Prevalence of Overweight is 9%\n",
      "        For 2030, Estimated Prevalence of Overweight is 10%\n",
      "\n"
     ]
    },
    {
     "data": {
      "application/vnd.plotly.v1+json": {
       "config": {
        "plotlyServerURL": "https://plot.ly"
       },
       "data": [
        {
         "hovertemplate": "variable=Stunting<br>Year=%{x}<br>value=%{y}<extra></extra>",
         "legendgroup": "Stunting",
         "marker": {
          "color": "green",
          "symbol": "circle"
         },
         "mode": "markers",
         "name": "Stunting",
         "orientation": "v",
         "showlegend": true,
         "type": "scatter",
         "x": [
          2000,
          2001,
          2002,
          2003,
          2004,
          2005,
          2006,
          2007,
          2008,
          2009,
          2010,
          2011,
          2012,
          2013,
          2014,
          2015,
          2016,
          2017,
          2018,
          2019,
          2020,
          2025,
          2030
         ],
         "xaxis": "x",
         "y": [
          3.2,
          3.1,
          3,
          2.9,
          2.8,
          2.8,
          2.8,
          2.8,
          2.7,
          2.7,
          2.7,
          2.7,
          2.8,
          2.8,
          2.9,
          2.9,
          3,
          3,
          3.1,
          3.1,
          3.2,
          2,
          3
         ],
         "yaxis": "y"
        },
        {
         "hovertemplate": "<b>OLS trendline</b><br>value = -0.00494491 * Year + 12.8164<br>R<sup>2</sup>=0.024326<br><br>variable=Stunting<br>Year=%{x}<br>value=%{y} <b>(trend)</b><extra></extra>",
         "legendgroup": "Stunting",
         "line": {
          "color": "blue"
         },
         "marker": {
          "color": "green",
          "symbol": "circle"
         },
         "mode": "lines",
         "name": "Stunting",
         "showlegend": false,
         "type": "scatter",
         "x": [
          2000,
          2001,
          2002,
          2003,
          2004,
          2005,
          2006,
          2007,
          2008,
          2009,
          2010,
          2011,
          2012,
          2013,
          2014,
          2015,
          2016,
          2017,
          2018,
          2019,
          2020,
          2025,
          2030
         ],
         "xaxis": "x",
         "y": [
          2.926539209332505,
          2.921594296824404,
          2.916649384316303,
          2.9117044718082017,
          2.9067595593001005,
          2.9018146467919994,
          2.8968697342838983,
          2.891924821775797,
          2.886979909267696,
          2.882034996759595,
          2.8770900842514937,
          2.8721451717433926,
          2.8672002592352914,
          2.8622553467271903,
          2.857310434219089,
          2.852365521710988,
          2.847420609202885,
          2.842475696694784,
          2.837530784186683,
          2.8325858716785817,
          2.8276409591704805,
          2.802916396629975,
          2.778191834089469
         ],
         "yaxis": "y"
        },
        {
         "hovertemplate": "variable=Overweight<br>Year=%{x}<br>value=%{y}<extra></extra>",
         "legendgroup": "Overweight",
         "marker": {
          "color": "red",
          "symbol": "circle"
         },
         "mode": "markers",
         "name": "Overweight",
         "orientation": "v",
         "showlegend": true,
         "type": "scatter",
         "x": [
          2000,
          2001,
          2002,
          2003,
          2004,
          2005,
          2006,
          2007,
          2008,
          2009,
          2010,
          2011,
          2012,
          2013,
          2014,
          2015,
          2016,
          2017,
          2018,
          2019,
          2020,
          2025,
          2030
         ],
         "xaxis": "x",
         "y": [
          7.3,
          7.5,
          7.6,
          7.7,
          7.9,
          7.9,
          8,
          8.1,
          8.3,
          8.4,
          8.6,
          8.7,
          8.8,
          8.9,
          8.9,
          9,
          9,
          9.1,
          9.1,
          9.1,
          9.1,
          9,
          10
         ],
         "yaxis": "y"
        },
        {
         "hovertemplate": "<b>OLS trendline</b><br>value = 0.0822359 * Year + -156.898<br>R<sup>2</sup>=0.911107<br><br>variable=Overweight<br>Year=%{x}<br>value=%{y} <b>(trend)</b><extra></extra>",
         "legendgroup": "Overweight",
         "line": {
          "color": "blue"
         },
         "marker": {
          "color": "red",
          "symbol": "circle"
         },
         "mode": "lines",
         "name": "Overweight",
         "showlegend": false,
         "type": "scatter",
         "x": [
          2000,
          2001,
          2002,
          2003,
          2004,
          2005,
          2006,
          2007,
          2008,
          2009,
          2010,
          2011,
          2012,
          2013,
          2014,
          2015,
          2016,
          2017,
          2018,
          2019,
          2020,
          2025,
          2030
         ],
         "xaxis": "x",
         "y": [
          7.574238496435584,
          7.656474400518533,
          7.738710304601483,
          7.820946208684461,
          7.903182112767411,
          7.98541801685036,
          8.06765392093331,
          8.14988982501626,
          8.23212572909921,
          8.314361633182187,
          8.396597537265137,
          8.478833441348087,
          8.561069345431036,
          8.643305249513986,
          8.725541153596964,
          8.807777057679914,
          8.890012961762864,
          8.972248865845813,
          9.054484769928763,
          9.136720674011741,
          9.21895657809469,
          9.630136098509468,
          10.041315618924244
         ],
         "yaxis": "y"
        }
       ],
       "layout": {
        "legend": {
         "orientation": "h",
         "title": {
          "text": "Prevalence of"
         },
         "tracegroupgap": 0,
         "x": 1,
         "xanchor": "right",
         "y": 1.02,
         "yanchor": "bottom"
        },
        "template": {
         "data": {
          "bar": [
           {
            "error_x": {
             "color": "#2a3f5f"
            },
            "error_y": {
             "color": "#2a3f5f"
            },
            "marker": {
             "line": {
              "color": "#E5ECF6",
              "width": 0.5
             },
             "pattern": {
              "fillmode": "overlay",
              "size": 10,
              "solidity": 0.2
             }
            },
            "type": "bar"
           }
          ],
          "barpolar": [
           {
            "marker": {
             "line": {
              "color": "#E5ECF6",
              "width": 0.5
             },
             "pattern": {
              "fillmode": "overlay",
              "size": 10,
              "solidity": 0.2
             }
            },
            "type": "barpolar"
           }
          ],
          "carpet": [
           {
            "aaxis": {
             "endlinecolor": "#2a3f5f",
             "gridcolor": "white",
             "linecolor": "white",
             "minorgridcolor": "white",
             "startlinecolor": "#2a3f5f"
            },
            "baxis": {
             "endlinecolor": "#2a3f5f",
             "gridcolor": "white",
             "linecolor": "white",
             "minorgridcolor": "white",
             "startlinecolor": "#2a3f5f"
            },
            "type": "carpet"
           }
          ],
          "choropleth": [
           {
            "colorbar": {
             "outlinewidth": 0,
             "ticks": ""
            },
            "type": "choropleth"
           }
          ],
          "contour": [
           {
            "colorbar": {
             "outlinewidth": 0,
             "ticks": ""
            },
            "colorscale": [
             [
              0,
              "#0d0887"
             ],
             [
              0.1111111111111111,
              "#46039f"
             ],
             [
              0.2222222222222222,
              "#7201a8"
             ],
             [
              0.3333333333333333,
              "#9c179e"
             ],
             [
              0.4444444444444444,
              "#bd3786"
             ],
             [
              0.5555555555555556,
              "#d8576b"
             ],
             [
              0.6666666666666666,
              "#ed7953"
             ],
             [
              0.7777777777777778,
              "#fb9f3a"
             ],
             [
              0.8888888888888888,
              "#fdca26"
             ],
             [
              1,
              "#f0f921"
             ]
            ],
            "type": "contour"
           }
          ],
          "contourcarpet": [
           {
            "colorbar": {
             "outlinewidth": 0,
             "ticks": ""
            },
            "type": "contourcarpet"
           }
          ],
          "heatmap": [
           {
            "colorbar": {
             "outlinewidth": 0,
             "ticks": ""
            },
            "colorscale": [
             [
              0,
              "#0d0887"
             ],
             [
              0.1111111111111111,
              "#46039f"
             ],
             [
              0.2222222222222222,
              "#7201a8"
             ],
             [
              0.3333333333333333,
              "#9c179e"
             ],
             [
              0.4444444444444444,
              "#bd3786"
             ],
             [
              0.5555555555555556,
              "#d8576b"
             ],
             [
              0.6666666666666666,
              "#ed7953"
             ],
             [
              0.7777777777777778,
              "#fb9f3a"
             ],
             [
              0.8888888888888888,
              "#fdca26"
             ],
             [
              1,
              "#f0f921"
             ]
            ],
            "type": "heatmap"
           }
          ],
          "heatmapgl": [
           {
            "colorbar": {
             "outlinewidth": 0,
             "ticks": ""
            },
            "colorscale": [
             [
              0,
              "#0d0887"
             ],
             [
              0.1111111111111111,
              "#46039f"
             ],
             [
              0.2222222222222222,
              "#7201a8"
             ],
             [
              0.3333333333333333,
              "#9c179e"
             ],
             [
              0.4444444444444444,
              "#bd3786"
             ],
             [
              0.5555555555555556,
              "#d8576b"
             ],
             [
              0.6666666666666666,
              "#ed7953"
             ],
             [
              0.7777777777777778,
              "#fb9f3a"
             ],
             [
              0.8888888888888888,
              "#fdca26"
             ],
             [
              1,
              "#f0f921"
             ]
            ],
            "type": "heatmapgl"
           }
          ],
          "histogram": [
           {
            "marker": {
             "pattern": {
              "fillmode": "overlay",
              "size": 10,
              "solidity": 0.2
             }
            },
            "type": "histogram"
           }
          ],
          "histogram2d": [
           {
            "colorbar": {
             "outlinewidth": 0,
             "ticks": ""
            },
            "colorscale": [
             [
              0,
              "#0d0887"
             ],
             [
              0.1111111111111111,
              "#46039f"
             ],
             [
              0.2222222222222222,
              "#7201a8"
             ],
             [
              0.3333333333333333,
              "#9c179e"
             ],
             [
              0.4444444444444444,
              "#bd3786"
             ],
             [
              0.5555555555555556,
              "#d8576b"
             ],
             [
              0.6666666666666666,
              "#ed7953"
             ],
             [
              0.7777777777777778,
              "#fb9f3a"
             ],
             [
              0.8888888888888888,
              "#fdca26"
             ],
             [
              1,
              "#f0f921"
             ]
            ],
            "type": "histogram2d"
           }
          ],
          "histogram2dcontour": [
           {
            "colorbar": {
             "outlinewidth": 0,
             "ticks": ""
            },
            "colorscale": [
             [
              0,
              "#0d0887"
             ],
             [
              0.1111111111111111,
              "#46039f"
             ],
             [
              0.2222222222222222,
              "#7201a8"
             ],
             [
              0.3333333333333333,
              "#9c179e"
             ],
             [
              0.4444444444444444,
              "#bd3786"
             ],
             [
              0.5555555555555556,
              "#d8576b"
             ],
             [
              0.6666666666666666,
              "#ed7953"
             ],
             [
              0.7777777777777778,
              "#fb9f3a"
             ],
             [
              0.8888888888888888,
              "#fdca26"
             ],
             [
              1,
              "#f0f921"
             ]
            ],
            "type": "histogram2dcontour"
           }
          ],
          "mesh3d": [
           {
            "colorbar": {
             "outlinewidth": 0,
             "ticks": ""
            },
            "type": "mesh3d"
           }
          ],
          "parcoords": [
           {
            "line": {
             "colorbar": {
              "outlinewidth": 0,
              "ticks": ""
             }
            },
            "type": "parcoords"
           }
          ],
          "pie": [
           {
            "automargin": true,
            "type": "pie"
           }
          ],
          "scatter": [
           {
            "fillpattern": {
             "fillmode": "overlay",
             "size": 10,
             "solidity": 0.2
            },
            "type": "scatter"
           }
          ],
          "scatter3d": [
           {
            "line": {
             "colorbar": {
              "outlinewidth": 0,
              "ticks": ""
             }
            },
            "marker": {
             "colorbar": {
              "outlinewidth": 0,
              "ticks": ""
             }
            },
            "type": "scatter3d"
           }
          ],
          "scattercarpet": [
           {
            "marker": {
             "colorbar": {
              "outlinewidth": 0,
              "ticks": ""
             }
            },
            "type": "scattercarpet"
           }
          ],
          "scattergeo": [
           {
            "marker": {
             "colorbar": {
              "outlinewidth": 0,
              "ticks": ""
             }
            },
            "type": "scattergeo"
           }
          ],
          "scattergl": [
           {
            "marker": {
             "colorbar": {
              "outlinewidth": 0,
              "ticks": ""
             }
            },
            "type": "scattergl"
           }
          ],
          "scattermapbox": [
           {
            "marker": {
             "colorbar": {
              "outlinewidth": 0,
              "ticks": ""
             }
            },
            "type": "scattermapbox"
           }
          ],
          "scatterpolar": [
           {
            "marker": {
             "colorbar": {
              "outlinewidth": 0,
              "ticks": ""
             }
            },
            "type": "scatterpolar"
           }
          ],
          "scatterpolargl": [
           {
            "marker": {
             "colorbar": {
              "outlinewidth": 0,
              "ticks": ""
             }
            },
            "type": "scatterpolargl"
           }
          ],
          "scatterternary": [
           {
            "marker": {
             "colorbar": {
              "outlinewidth": 0,
              "ticks": ""
             }
            },
            "type": "scatterternary"
           }
          ],
          "surface": [
           {
            "colorbar": {
             "outlinewidth": 0,
             "ticks": ""
            },
            "colorscale": [
             [
              0,
              "#0d0887"
             ],
             [
              0.1111111111111111,
              "#46039f"
             ],
             [
              0.2222222222222222,
              "#7201a8"
             ],
             [
              0.3333333333333333,
              "#9c179e"
             ],
             [
              0.4444444444444444,
              "#bd3786"
             ],
             [
              0.5555555555555556,
              "#d8576b"
             ],
             [
              0.6666666666666666,
              "#ed7953"
             ],
             [
              0.7777777777777778,
              "#fb9f3a"
             ],
             [
              0.8888888888888888,
              "#fdca26"
             ],
             [
              1,
              "#f0f921"
             ]
            ],
            "type": "surface"
           }
          ],
          "table": [
           {
            "cells": {
             "fill": {
              "color": "#EBF0F8"
             },
             "line": {
              "color": "white"
             }
            },
            "header": {
             "fill": {
              "color": "#C8D4E3"
             },
             "line": {
              "color": "white"
             }
            },
            "type": "table"
           }
          ]
         },
         "layout": {
          "annotationdefaults": {
           "arrowcolor": "#2a3f5f",
           "arrowhead": 0,
           "arrowwidth": 1
          },
          "autotypenumbers": "strict",
          "coloraxis": {
           "colorbar": {
            "outlinewidth": 0,
            "ticks": ""
           }
          },
          "colorscale": {
           "diverging": [
            [
             0,
             "#8e0152"
            ],
            [
             0.1,
             "#c51b7d"
            ],
            [
             0.2,
             "#de77ae"
            ],
            [
             0.3,
             "#f1b6da"
            ],
            [
             0.4,
             "#fde0ef"
            ],
            [
             0.5,
             "#f7f7f7"
            ],
            [
             0.6,
             "#e6f5d0"
            ],
            [
             0.7,
             "#b8e186"
            ],
            [
             0.8,
             "#7fbc41"
            ],
            [
             0.9,
             "#4d9221"
            ],
            [
             1,
             "#276419"
            ]
           ],
           "sequential": [
            [
             0,
             "#0d0887"
            ],
            [
             0.1111111111111111,
             "#46039f"
            ],
            [
             0.2222222222222222,
             "#7201a8"
            ],
            [
             0.3333333333333333,
             "#9c179e"
            ],
            [
             0.4444444444444444,
             "#bd3786"
            ],
            [
             0.5555555555555556,
             "#d8576b"
            ],
            [
             0.6666666666666666,
             "#ed7953"
            ],
            [
             0.7777777777777778,
             "#fb9f3a"
            ],
            [
             0.8888888888888888,
             "#fdca26"
            ],
            [
             1,
             "#f0f921"
            ]
           ],
           "sequentialminus": [
            [
             0,
             "#0d0887"
            ],
            [
             0.1111111111111111,
             "#46039f"
            ],
            [
             0.2222222222222222,
             "#7201a8"
            ],
            [
             0.3333333333333333,
             "#9c179e"
            ],
            [
             0.4444444444444444,
             "#bd3786"
            ],
            [
             0.5555555555555556,
             "#d8576b"
            ],
            [
             0.6666666666666666,
             "#ed7953"
            ],
            [
             0.7777777777777778,
             "#fb9f3a"
            ],
            [
             0.8888888888888888,
             "#fdca26"
            ],
            [
             1,
             "#f0f921"
            ]
           ]
          },
          "colorway": [
           "#636efa",
           "#EF553B",
           "#00cc96",
           "#ab63fa",
           "#FFA15A",
           "#19d3f3",
           "#FF6692",
           "#B6E880",
           "#FF97FF",
           "#FECB52"
          ],
          "font": {
           "color": "#2a3f5f"
          },
          "geo": {
           "bgcolor": "white",
           "lakecolor": "white",
           "landcolor": "#E5ECF6",
           "showlakes": true,
           "showland": true,
           "subunitcolor": "white"
          },
          "hoverlabel": {
           "align": "left"
          },
          "hovermode": "closest",
          "mapbox": {
           "style": "light"
          },
          "paper_bgcolor": "white",
          "plot_bgcolor": "#E5ECF6",
          "polar": {
           "angularaxis": {
            "gridcolor": "white",
            "linecolor": "white",
            "ticks": ""
           },
           "bgcolor": "#E5ECF6",
           "radialaxis": {
            "gridcolor": "white",
            "linecolor": "white",
            "ticks": ""
           }
          },
          "scene": {
           "xaxis": {
            "backgroundcolor": "#E5ECF6",
            "gridcolor": "white",
            "gridwidth": 2,
            "linecolor": "white",
            "showbackground": true,
            "ticks": "",
            "zerolinecolor": "white"
           },
           "yaxis": {
            "backgroundcolor": "#E5ECF6",
            "gridcolor": "white",
            "gridwidth": 2,
            "linecolor": "white",
            "showbackground": true,
            "ticks": "",
            "zerolinecolor": "white"
           },
           "zaxis": {
            "backgroundcolor": "#E5ECF6",
            "gridcolor": "white",
            "gridwidth": 2,
            "linecolor": "white",
            "showbackground": true,
            "ticks": "",
            "zerolinecolor": "white"
           }
          },
          "shapedefaults": {
           "line": {
            "color": "#2a3f5f"
           }
          },
          "ternary": {
           "aaxis": {
            "gridcolor": "white",
            "linecolor": "white",
            "ticks": ""
           },
           "baxis": {
            "gridcolor": "white",
            "linecolor": "white",
            "ticks": ""
           },
           "bgcolor": "#E5ECF6",
           "caxis": {
            "gridcolor": "white",
            "linecolor": "white",
            "ticks": ""
           }
          },
          "title": {
           "x": 0.05
          },
          "xaxis": {
           "automargin": true,
           "gridcolor": "white",
           "linecolor": "white",
           "ticks": "",
           "title": {
            "standoff": 15
           },
           "zerolinecolor": "white",
           "zerolinewidth": 2
          },
          "yaxis": {
           "automargin": true,
           "gridcolor": "white",
           "linecolor": "white",
           "ticks": "",
           "title": {
            "standoff": 15
           },
           "zerolinecolor": "white",
           "zerolinewidth": 2
          }
         }
        },
        "title": {
         "text": "Prevalence of Stunting and Overweight in Northern America"
        },
        "xaxis": {
         "anchor": "y",
         "domain": [
          0,
          1
         ],
         "title": {
          "text": "Year"
         }
        },
        "yaxis": {
         "anchor": "x",
         "domain": [
          0,
          1
         ],
         "title": {
          "text": "Percentage (%)"
         }
        }
       }
      }
     },
     "metadata": {},
     "output_type": "display_data"
    },
    {
     "name": "stdout",
     "output_type": "stream",
     "text": [
      "Oceania:\n",
      "\tFor 2025, Estimated Prevalence of Stunting is 21%\n",
      "        For 2030, Estimated Prevalence of Stunting is 22%\n",
      "\tFor 2025, Estimated Prevalence of Overweight is 14%\n",
      "        For 2030, Estimated Prevalence of Overweight is 16%\n",
      "\n"
     ]
    },
    {
     "data": {
      "application/vnd.plotly.v1+json": {
       "config": {
        "plotlyServerURL": "https://plot.ly"
       },
       "data": [
        {
         "hovertemplate": "variable=Stunting<br>Year=%{x}<br>value=%{y}<extra></extra>",
         "legendgroup": "Stunting",
         "marker": {
          "color": "green",
          "symbol": "circle"
         },
         "mode": "markers",
         "name": "Stunting",
         "orientation": "v",
         "showlegend": true,
         "type": "scatter",
         "x": [
          2000,
          2001,
          2002,
          2003,
          2004,
          2005,
          2006,
          2007,
          2008,
          2009,
          2010,
          2011,
          2012,
          2013,
          2014,
          2015,
          2016,
          2017,
          2018,
          2019,
          2020,
          2025,
          2030
         ],
         "xaxis": "x",
         "y": [
          16.9420563,
          17.12838739,
          17.40641678,
          17.62443692,
          17.95456276,
          18.26859031,
          18.53524883,
          18.81564854,
          19.02825243,
          19.23351223,
          19.44225385,
          19.57920365,
          19.64413679,
          19.65247405,
          19.66386491,
          19.71537356,
          19.74151397,
          19.81343264,
          19.8974271,
          19.98111433,
          20.07156115,
          21,
          22
         ],
         "yaxis": "y"
        },
        {
         "hovertemplate": "<b>OLS trendline</b><br>value = 0.150908 * Year + -284.375<br>R<sup>2</sup>=0.931301<br><br>variable=Stunting<br>Year=%{x}<br>value=%{y} <b>(trend)</b><extra></extra>",
         "legendgroup": "Stunting",
         "line": {
          "color": "blue"
         },
         "marker": {
          "color": "green",
          "symbol": "circle"
         },
         "mode": "lines",
         "name": "Stunting",
         "showlegend": false,
         "type": "scatter",
         "x": [
          2000,
          2001,
          2002,
          2003,
          2004,
          2005,
          2006,
          2007,
          2008,
          2009,
          2010,
          2011,
          2012,
          2013,
          2014,
          2015,
          2016,
          2017,
          2018,
          2019,
          2020,
          2025,
          2030
         ],
         "xaxis": "x",
         "y": [
          17.44125163574722,
          17.59215986543711,
          17.743068095127,
          17.89397632481689,
          18.04488455450678,
          18.19579278419667,
          18.34670101388656,
          18.49760924357645,
          18.648517473266338,
          18.799425702956228,
          18.950333932646117,
          19.101242162336007,
          19.252150392025897,
          19.403058621715786,
          19.553966851405676,
          19.704875081095565,
          19.855783310785455,
          20.006691540475344,
          20.157599770165234,
          20.308507999855124,
          20.459416229545013,
          21.21395737799446,
          21.96849852644391
         ],
         "yaxis": "y"
        },
        {
         "hovertemplate": "variable=Overweight<br>Year=%{x}<br>value=%{y}<extra></extra>",
         "legendgroup": "Overweight",
         "marker": {
          "color": "red",
          "symbol": "circle"
         },
         "mode": "markers",
         "name": "Overweight",
         "orientation": "v",
         "showlegend": true,
         "type": "scatter",
         "x": [
          2000,
          2001,
          2002,
          2003,
          2004,
          2005,
          2006,
          2007,
          2008,
          2009,
          2010,
          2011,
          2012,
          2013,
          2014,
          2015,
          2016,
          2017,
          2018,
          2019,
          2020,
          2025,
          2030
         ],
         "xaxis": "x",
         "y": [
          6.584120453,
          6.835476259,
          7.087249991,
          7.394211324,
          7.654569777,
          7.960134256,
          8.266475117,
          8.575838888,
          8.941305285,
          9.307822091,
          9.624393125,
          10.03672331,
          10.35205367,
          10.76873762,
          11.13917884,
          11.51032592,
          11.83009913,
          12.15182404,
          12.4713462,
          12.6910647,
          12.85481089,
          14,
          16
         ],
         "yaxis": "y"
        },
        {
         "hovertemplate": "<b>OLS trendline</b><br>value = 0.320526 * Year + -634.57<br>R<sup>2</sup>=0.995582<br><br>variable=Overweight<br>Year=%{x}<br>value=%{y} <b>(trend)</b><extra></extra>",
         "legendgroup": "Overweight",
         "line": {
          "color": "blue"
         },
         "marker": {
          "color": "red",
          "symbol": "circle"
         },
         "mode": "lines",
         "name": "Overweight",
         "showlegend": false,
         "type": "scatter",
         "x": [
          2000,
          2001,
          2002,
          2003,
          2004,
          2005,
          2006,
          2007,
          2008,
          2009,
          2010,
          2011,
          2012,
          2013,
          2014,
          2015,
          2016,
          2017,
          2018,
          2019,
          2020,
          2025,
          2030
         ],
         "xaxis": "x",
         "y": [
          6.482532649821678,
          6.803059102425891,
          7.12358555502999,
          7.444112007634089,
          7.764638460238302,
          8.085164912842401,
          8.405691365446614,
          8.726217818050714,
          9.046744270654926,
          9.367270723259026,
          9.687797175863125,
          10.008323628467338,
          10.328850081071437,
          10.64937653367565,
          10.969902986279749,
          11.290429438883848,
          11.61095589148806,
          11.93148234409216,
          12.252008796696373,
          12.572535249300472,
          12.893061701904571,
          14.495693964925408,
          16.09832622794613
         ],
         "yaxis": "y"
        }
       ],
       "layout": {
        "legend": {
         "orientation": "h",
         "title": {
          "text": "Prevalence of"
         },
         "tracegroupgap": 0,
         "x": 1,
         "xanchor": "right",
         "y": 1.02,
         "yanchor": "bottom"
        },
        "template": {
         "data": {
          "bar": [
           {
            "error_x": {
             "color": "#2a3f5f"
            },
            "error_y": {
             "color": "#2a3f5f"
            },
            "marker": {
             "line": {
              "color": "#E5ECF6",
              "width": 0.5
             },
             "pattern": {
              "fillmode": "overlay",
              "size": 10,
              "solidity": 0.2
             }
            },
            "type": "bar"
           }
          ],
          "barpolar": [
           {
            "marker": {
             "line": {
              "color": "#E5ECF6",
              "width": 0.5
             },
             "pattern": {
              "fillmode": "overlay",
              "size": 10,
              "solidity": 0.2
             }
            },
            "type": "barpolar"
           }
          ],
          "carpet": [
           {
            "aaxis": {
             "endlinecolor": "#2a3f5f",
             "gridcolor": "white",
             "linecolor": "white",
             "minorgridcolor": "white",
             "startlinecolor": "#2a3f5f"
            },
            "baxis": {
             "endlinecolor": "#2a3f5f",
             "gridcolor": "white",
             "linecolor": "white",
             "minorgridcolor": "white",
             "startlinecolor": "#2a3f5f"
            },
            "type": "carpet"
           }
          ],
          "choropleth": [
           {
            "colorbar": {
             "outlinewidth": 0,
             "ticks": ""
            },
            "type": "choropleth"
           }
          ],
          "contour": [
           {
            "colorbar": {
             "outlinewidth": 0,
             "ticks": ""
            },
            "colorscale": [
             [
              0,
              "#0d0887"
             ],
             [
              0.1111111111111111,
              "#46039f"
             ],
             [
              0.2222222222222222,
              "#7201a8"
             ],
             [
              0.3333333333333333,
              "#9c179e"
             ],
             [
              0.4444444444444444,
              "#bd3786"
             ],
             [
              0.5555555555555556,
              "#d8576b"
             ],
             [
              0.6666666666666666,
              "#ed7953"
             ],
             [
              0.7777777777777778,
              "#fb9f3a"
             ],
             [
              0.8888888888888888,
              "#fdca26"
             ],
             [
              1,
              "#f0f921"
             ]
            ],
            "type": "contour"
           }
          ],
          "contourcarpet": [
           {
            "colorbar": {
             "outlinewidth": 0,
             "ticks": ""
            },
            "type": "contourcarpet"
           }
          ],
          "heatmap": [
           {
            "colorbar": {
             "outlinewidth": 0,
             "ticks": ""
            },
            "colorscale": [
             [
              0,
              "#0d0887"
             ],
             [
              0.1111111111111111,
              "#46039f"
             ],
             [
              0.2222222222222222,
              "#7201a8"
             ],
             [
              0.3333333333333333,
              "#9c179e"
             ],
             [
              0.4444444444444444,
              "#bd3786"
             ],
             [
              0.5555555555555556,
              "#d8576b"
             ],
             [
              0.6666666666666666,
              "#ed7953"
             ],
             [
              0.7777777777777778,
              "#fb9f3a"
             ],
             [
              0.8888888888888888,
              "#fdca26"
             ],
             [
              1,
              "#f0f921"
             ]
            ],
            "type": "heatmap"
           }
          ],
          "heatmapgl": [
           {
            "colorbar": {
             "outlinewidth": 0,
             "ticks": ""
            },
            "colorscale": [
             [
              0,
              "#0d0887"
             ],
             [
              0.1111111111111111,
              "#46039f"
             ],
             [
              0.2222222222222222,
              "#7201a8"
             ],
             [
              0.3333333333333333,
              "#9c179e"
             ],
             [
              0.4444444444444444,
              "#bd3786"
             ],
             [
              0.5555555555555556,
              "#d8576b"
             ],
             [
              0.6666666666666666,
              "#ed7953"
             ],
             [
              0.7777777777777778,
              "#fb9f3a"
             ],
             [
              0.8888888888888888,
              "#fdca26"
             ],
             [
              1,
              "#f0f921"
             ]
            ],
            "type": "heatmapgl"
           }
          ],
          "histogram": [
           {
            "marker": {
             "pattern": {
              "fillmode": "overlay",
              "size": 10,
              "solidity": 0.2
             }
            },
            "type": "histogram"
           }
          ],
          "histogram2d": [
           {
            "colorbar": {
             "outlinewidth": 0,
             "ticks": ""
            },
            "colorscale": [
             [
              0,
              "#0d0887"
             ],
             [
              0.1111111111111111,
              "#46039f"
             ],
             [
              0.2222222222222222,
              "#7201a8"
             ],
             [
              0.3333333333333333,
              "#9c179e"
             ],
             [
              0.4444444444444444,
              "#bd3786"
             ],
             [
              0.5555555555555556,
              "#d8576b"
             ],
             [
              0.6666666666666666,
              "#ed7953"
             ],
             [
              0.7777777777777778,
              "#fb9f3a"
             ],
             [
              0.8888888888888888,
              "#fdca26"
             ],
             [
              1,
              "#f0f921"
             ]
            ],
            "type": "histogram2d"
           }
          ],
          "histogram2dcontour": [
           {
            "colorbar": {
             "outlinewidth": 0,
             "ticks": ""
            },
            "colorscale": [
             [
              0,
              "#0d0887"
             ],
             [
              0.1111111111111111,
              "#46039f"
             ],
             [
              0.2222222222222222,
              "#7201a8"
             ],
             [
              0.3333333333333333,
              "#9c179e"
             ],
             [
              0.4444444444444444,
              "#bd3786"
             ],
             [
              0.5555555555555556,
              "#d8576b"
             ],
             [
              0.6666666666666666,
              "#ed7953"
             ],
             [
              0.7777777777777778,
              "#fb9f3a"
             ],
             [
              0.8888888888888888,
              "#fdca26"
             ],
             [
              1,
              "#f0f921"
             ]
            ],
            "type": "histogram2dcontour"
           }
          ],
          "mesh3d": [
           {
            "colorbar": {
             "outlinewidth": 0,
             "ticks": ""
            },
            "type": "mesh3d"
           }
          ],
          "parcoords": [
           {
            "line": {
             "colorbar": {
              "outlinewidth": 0,
              "ticks": ""
             }
            },
            "type": "parcoords"
           }
          ],
          "pie": [
           {
            "automargin": true,
            "type": "pie"
           }
          ],
          "scatter": [
           {
            "fillpattern": {
             "fillmode": "overlay",
             "size": 10,
             "solidity": 0.2
            },
            "type": "scatter"
           }
          ],
          "scatter3d": [
           {
            "line": {
             "colorbar": {
              "outlinewidth": 0,
              "ticks": ""
             }
            },
            "marker": {
             "colorbar": {
              "outlinewidth": 0,
              "ticks": ""
             }
            },
            "type": "scatter3d"
           }
          ],
          "scattercarpet": [
           {
            "marker": {
             "colorbar": {
              "outlinewidth": 0,
              "ticks": ""
             }
            },
            "type": "scattercarpet"
           }
          ],
          "scattergeo": [
           {
            "marker": {
             "colorbar": {
              "outlinewidth": 0,
              "ticks": ""
             }
            },
            "type": "scattergeo"
           }
          ],
          "scattergl": [
           {
            "marker": {
             "colorbar": {
              "outlinewidth": 0,
              "ticks": ""
             }
            },
            "type": "scattergl"
           }
          ],
          "scattermapbox": [
           {
            "marker": {
             "colorbar": {
              "outlinewidth": 0,
              "ticks": ""
             }
            },
            "type": "scattermapbox"
           }
          ],
          "scatterpolar": [
           {
            "marker": {
             "colorbar": {
              "outlinewidth": 0,
              "ticks": ""
             }
            },
            "type": "scatterpolar"
           }
          ],
          "scatterpolargl": [
           {
            "marker": {
             "colorbar": {
              "outlinewidth": 0,
              "ticks": ""
             }
            },
            "type": "scatterpolargl"
           }
          ],
          "scatterternary": [
           {
            "marker": {
             "colorbar": {
              "outlinewidth": 0,
              "ticks": ""
             }
            },
            "type": "scatterternary"
           }
          ],
          "surface": [
           {
            "colorbar": {
             "outlinewidth": 0,
             "ticks": ""
            },
            "colorscale": [
             [
              0,
              "#0d0887"
             ],
             [
              0.1111111111111111,
              "#46039f"
             ],
             [
              0.2222222222222222,
              "#7201a8"
             ],
             [
              0.3333333333333333,
              "#9c179e"
             ],
             [
              0.4444444444444444,
              "#bd3786"
             ],
             [
              0.5555555555555556,
              "#d8576b"
             ],
             [
              0.6666666666666666,
              "#ed7953"
             ],
             [
              0.7777777777777778,
              "#fb9f3a"
             ],
             [
              0.8888888888888888,
              "#fdca26"
             ],
             [
              1,
              "#f0f921"
             ]
            ],
            "type": "surface"
           }
          ],
          "table": [
           {
            "cells": {
             "fill": {
              "color": "#EBF0F8"
             },
             "line": {
              "color": "white"
             }
            },
            "header": {
             "fill": {
              "color": "#C8D4E3"
             },
             "line": {
              "color": "white"
             }
            },
            "type": "table"
           }
          ]
         },
         "layout": {
          "annotationdefaults": {
           "arrowcolor": "#2a3f5f",
           "arrowhead": 0,
           "arrowwidth": 1
          },
          "autotypenumbers": "strict",
          "coloraxis": {
           "colorbar": {
            "outlinewidth": 0,
            "ticks": ""
           }
          },
          "colorscale": {
           "diverging": [
            [
             0,
             "#8e0152"
            ],
            [
             0.1,
             "#c51b7d"
            ],
            [
             0.2,
             "#de77ae"
            ],
            [
             0.3,
             "#f1b6da"
            ],
            [
             0.4,
             "#fde0ef"
            ],
            [
             0.5,
             "#f7f7f7"
            ],
            [
             0.6,
             "#e6f5d0"
            ],
            [
             0.7,
             "#b8e186"
            ],
            [
             0.8,
             "#7fbc41"
            ],
            [
             0.9,
             "#4d9221"
            ],
            [
             1,
             "#276419"
            ]
           ],
           "sequential": [
            [
             0,
             "#0d0887"
            ],
            [
             0.1111111111111111,
             "#46039f"
            ],
            [
             0.2222222222222222,
             "#7201a8"
            ],
            [
             0.3333333333333333,
             "#9c179e"
            ],
            [
             0.4444444444444444,
             "#bd3786"
            ],
            [
             0.5555555555555556,
             "#d8576b"
            ],
            [
             0.6666666666666666,
             "#ed7953"
            ],
            [
             0.7777777777777778,
             "#fb9f3a"
            ],
            [
             0.8888888888888888,
             "#fdca26"
            ],
            [
             1,
             "#f0f921"
            ]
           ],
           "sequentialminus": [
            [
             0,
             "#0d0887"
            ],
            [
             0.1111111111111111,
             "#46039f"
            ],
            [
             0.2222222222222222,
             "#7201a8"
            ],
            [
             0.3333333333333333,
             "#9c179e"
            ],
            [
             0.4444444444444444,
             "#bd3786"
            ],
            [
             0.5555555555555556,
             "#d8576b"
            ],
            [
             0.6666666666666666,
             "#ed7953"
            ],
            [
             0.7777777777777778,
             "#fb9f3a"
            ],
            [
             0.8888888888888888,
             "#fdca26"
            ],
            [
             1,
             "#f0f921"
            ]
           ]
          },
          "colorway": [
           "#636efa",
           "#EF553B",
           "#00cc96",
           "#ab63fa",
           "#FFA15A",
           "#19d3f3",
           "#FF6692",
           "#B6E880",
           "#FF97FF",
           "#FECB52"
          ],
          "font": {
           "color": "#2a3f5f"
          },
          "geo": {
           "bgcolor": "white",
           "lakecolor": "white",
           "landcolor": "#E5ECF6",
           "showlakes": true,
           "showland": true,
           "subunitcolor": "white"
          },
          "hoverlabel": {
           "align": "left"
          },
          "hovermode": "closest",
          "mapbox": {
           "style": "light"
          },
          "paper_bgcolor": "white",
          "plot_bgcolor": "#E5ECF6",
          "polar": {
           "angularaxis": {
            "gridcolor": "white",
            "linecolor": "white",
            "ticks": ""
           },
           "bgcolor": "#E5ECF6",
           "radialaxis": {
            "gridcolor": "white",
            "linecolor": "white",
            "ticks": ""
           }
          },
          "scene": {
           "xaxis": {
            "backgroundcolor": "#E5ECF6",
            "gridcolor": "white",
            "gridwidth": 2,
            "linecolor": "white",
            "showbackground": true,
            "ticks": "",
            "zerolinecolor": "white"
           },
           "yaxis": {
            "backgroundcolor": "#E5ECF6",
            "gridcolor": "white",
            "gridwidth": 2,
            "linecolor": "white",
            "showbackground": true,
            "ticks": "",
            "zerolinecolor": "white"
           },
           "zaxis": {
            "backgroundcolor": "#E5ECF6",
            "gridcolor": "white",
            "gridwidth": 2,
            "linecolor": "white",
            "showbackground": true,
            "ticks": "",
            "zerolinecolor": "white"
           }
          },
          "shapedefaults": {
           "line": {
            "color": "#2a3f5f"
           }
          },
          "ternary": {
           "aaxis": {
            "gridcolor": "white",
            "linecolor": "white",
            "ticks": ""
           },
           "baxis": {
            "gridcolor": "white",
            "linecolor": "white",
            "ticks": ""
           },
           "bgcolor": "#E5ECF6",
           "caxis": {
            "gridcolor": "white",
            "linecolor": "white",
            "ticks": ""
           }
          },
          "title": {
           "x": 0.05
          },
          "xaxis": {
           "automargin": true,
           "gridcolor": "white",
           "linecolor": "white",
           "ticks": "",
           "title": {
            "standoff": 15
           },
           "zerolinecolor": "white",
           "zerolinewidth": 2
          },
          "yaxis": {
           "automargin": true,
           "gridcolor": "white",
           "linecolor": "white",
           "ticks": "",
           "title": {
            "standoff": 15
           },
           "zerolinecolor": "white",
           "zerolinewidth": 2
          }
         }
        },
        "title": {
         "text": "Prevalence of Stunting and Overweight in Oceania"
        },
        "xaxis": {
         "anchor": "y",
         "domain": [
          0,
          1
         ],
         "title": {
          "text": "Year"
         }
        },
        "yaxis": {
         "anchor": "x",
         "domain": [
          0,
          1
         ],
         "title": {
          "text": "Percentage (%)"
         }
        }
       }
      }
     },
     "metadata": {},
     "output_type": "display_data"
    },
    {
     "name": "stdout",
     "output_type": "stream",
     "text": [
      "South America:\n",
      "\tFor 2025, Estimated Prevalence of Stunting is 6%\n",
      "        For 2030, Estimated Prevalence of Stunting is 4%\n",
      "\tFor 2025, Estimated Prevalence of Overweight is 8%\n",
      "        For 2030, Estimated Prevalence of Overweight is 8%\n",
      "\n"
     ]
    },
    {
     "data": {
      "application/vnd.plotly.v1+json": {
       "config": {
        "plotlyServerURL": "https://plot.ly"
       },
       "data": [
        {
         "hovertemplate": "variable=Stunting<br>Year=%{x}<br>value=%{y}<extra></extra>",
         "legendgroup": "Stunting",
         "marker": {
          "color": "green",
          "symbol": "circle"
         },
         "mode": "markers",
         "name": "Stunting",
         "orientation": "v",
         "showlegend": true,
         "type": "scatter",
         "x": [
          2000,
          2001,
          2002,
          2003,
          2004,
          2005,
          2006,
          2007,
          2008,
          2009,
          2010,
          2011,
          2012,
          2013,
          2014,
          2015,
          2016,
          2017,
          2018,
          2019,
          2020,
          2025,
          2030
         ],
         "xaxis": "x",
         "y": [
          14.7,
          14.2,
          13.8,
          13.4,
          13.1,
          12.8,
          12.4,
          12.1,
          11.7,
          11.3,
          10.9,
          10.5,
          10.2,
          9.9,
          9.6,
          9.3,
          9.1,
          9,
          8.8,
          8.7,
          8.6,
          6,
          4
         ],
         "yaxis": "y"
        },
        {
         "hovertemplate": "<b>OLS trendline</b><br>value = -0.332297 * Year + 679.037<br>R<sup>2</sup>=0.988068<br><br>variable=Stunting<br>Year=%{x}<br>value=%{y} <b>(trend)</b><extra></extra>",
         "legendgroup": "Stunting",
         "line": {
          "color": "blue"
         },
         "marker": {
          "color": "green",
          "symbol": "circle"
         },
         "mode": "lines",
         "name": "Stunting",
         "showlegend": false,
         "type": "scatter",
         "x": [
          2000,
          2001,
          2002,
          2003,
          2004,
          2005,
          2006,
          2007,
          2008,
          2009,
          2010,
          2011,
          2012,
          2013,
          2014,
          2015,
          2016,
          2017,
          2018,
          2019,
          2020,
          2025,
          2030
         ],
         "xaxis": "x",
         "y": [
          14.441688269604356,
          14.10939079714808,
          13.777093324691918,
          13.444795852235643,
          13.112498379779367,
          12.780200907323092,
          12.447903434866816,
          12.115605962410655,
          11.78330848995438,
          11.451011017498104,
          11.118713545041828,
          10.786416072585553,
          10.45411860012939,
          10.121821127673115,
          9.78952365521684,
          9.457226182760564,
          9.124928710304289,
          8.792631237848127,
          8.460333765391852,
          8.128036292935576,
          7.795738820479301,
          6.134251458198037,
          4.472764095916773
         ],
         "yaxis": "y"
        },
        {
         "hovertemplate": "variable=Overweight<br>Year=%{x}<br>value=%{y}<extra></extra>",
         "legendgroup": "Overweight",
         "marker": {
          "color": "red",
          "symbol": "circle"
         },
         "mode": "markers",
         "name": "Overweight",
         "orientation": "v",
         "showlegend": true,
         "type": "scatter",
         "x": [
          2000,
          2001,
          2002,
          2003,
          2004,
          2005,
          2006,
          2007,
          2008,
          2009,
          2010,
          2011,
          2012,
          2013,
          2014,
          2015,
          2016,
          2017,
          2018,
          2019,
          2020,
          2025,
          2030
         ],
         "xaxis": "x",
         "y": [
          7,
          7,
          7.1,
          7.2,
          7.2,
          7.3,
          7.4,
          7.4,
          7.5,
          7.5,
          7.6,
          7.7,
          7.7,
          7.8,
          7.8,
          7.9,
          8,
          8,
          8.1,
          8.1,
          8.2,
          8,
          8
         ],
         "yaxis": "y"
        },
        {
         "hovertemplate": "<b>OLS trendline</b><br>value = 0.0444459 * Year + -81.7734<br>R<sup>2</sup>=0.841784<br><br>variable=Overweight<br>Year=%{x}<br>value=%{y} <b>(trend)</b><extra></extra>",
         "legendgroup": "Overweight",
         "line": {
          "color": "blue"
         },
         "marker": {
          "color": "red",
          "symbol": "circle"
         },
         "mode": "lines",
         "name": "Overweight",
         "showlegend": false,
         "type": "scatter",
         "x": [
          2000,
          2001,
          2002,
          2003,
          2004,
          2005,
          2006,
          2007,
          2008,
          2009,
          2010,
          2011,
          2012,
          2013,
          2014,
          2015,
          2016,
          2017,
          2018,
          2019,
          2020,
          2025,
          2030
         ],
         "xaxis": "x",
         "y": [
          7.118340894361609,
          7.1627867790019195,
          7.20723266364223,
          7.251678548282541,
          7.296124432922852,
          7.340570317563163,
          7.385016202203474,
          7.429462086843785,
          7.4739079714840955,
          7.518353856124406,
          7.562799740764717,
          7.607245625405028,
          7.651691510045339,
          7.69613739468565,
          7.740583279325961,
          7.785029163966271,
          7.829475048606582,
          7.873920933246893,
          7.918366817887204,
          7.962812702527515,
          8.007258587167826,
          8.22948801036938,
          8.451717433570934
         ],
         "yaxis": "y"
        }
       ],
       "layout": {
        "legend": {
         "orientation": "h",
         "title": {
          "text": "Prevalence of"
         },
         "tracegroupgap": 0,
         "x": 1,
         "xanchor": "right",
         "y": 1.02,
         "yanchor": "bottom"
        },
        "template": {
         "data": {
          "bar": [
           {
            "error_x": {
             "color": "#2a3f5f"
            },
            "error_y": {
             "color": "#2a3f5f"
            },
            "marker": {
             "line": {
              "color": "#E5ECF6",
              "width": 0.5
             },
             "pattern": {
              "fillmode": "overlay",
              "size": 10,
              "solidity": 0.2
             }
            },
            "type": "bar"
           }
          ],
          "barpolar": [
           {
            "marker": {
             "line": {
              "color": "#E5ECF6",
              "width": 0.5
             },
             "pattern": {
              "fillmode": "overlay",
              "size": 10,
              "solidity": 0.2
             }
            },
            "type": "barpolar"
           }
          ],
          "carpet": [
           {
            "aaxis": {
             "endlinecolor": "#2a3f5f",
             "gridcolor": "white",
             "linecolor": "white",
             "minorgridcolor": "white",
             "startlinecolor": "#2a3f5f"
            },
            "baxis": {
             "endlinecolor": "#2a3f5f",
             "gridcolor": "white",
             "linecolor": "white",
             "minorgridcolor": "white",
             "startlinecolor": "#2a3f5f"
            },
            "type": "carpet"
           }
          ],
          "choropleth": [
           {
            "colorbar": {
             "outlinewidth": 0,
             "ticks": ""
            },
            "type": "choropleth"
           }
          ],
          "contour": [
           {
            "colorbar": {
             "outlinewidth": 0,
             "ticks": ""
            },
            "colorscale": [
             [
              0,
              "#0d0887"
             ],
             [
              0.1111111111111111,
              "#46039f"
             ],
             [
              0.2222222222222222,
              "#7201a8"
             ],
             [
              0.3333333333333333,
              "#9c179e"
             ],
             [
              0.4444444444444444,
              "#bd3786"
             ],
             [
              0.5555555555555556,
              "#d8576b"
             ],
             [
              0.6666666666666666,
              "#ed7953"
             ],
             [
              0.7777777777777778,
              "#fb9f3a"
             ],
             [
              0.8888888888888888,
              "#fdca26"
             ],
             [
              1,
              "#f0f921"
             ]
            ],
            "type": "contour"
           }
          ],
          "contourcarpet": [
           {
            "colorbar": {
             "outlinewidth": 0,
             "ticks": ""
            },
            "type": "contourcarpet"
           }
          ],
          "heatmap": [
           {
            "colorbar": {
             "outlinewidth": 0,
             "ticks": ""
            },
            "colorscale": [
             [
              0,
              "#0d0887"
             ],
             [
              0.1111111111111111,
              "#46039f"
             ],
             [
              0.2222222222222222,
              "#7201a8"
             ],
             [
              0.3333333333333333,
              "#9c179e"
             ],
             [
              0.4444444444444444,
              "#bd3786"
             ],
             [
              0.5555555555555556,
              "#d8576b"
             ],
             [
              0.6666666666666666,
              "#ed7953"
             ],
             [
              0.7777777777777778,
              "#fb9f3a"
             ],
             [
              0.8888888888888888,
              "#fdca26"
             ],
             [
              1,
              "#f0f921"
             ]
            ],
            "type": "heatmap"
           }
          ],
          "heatmapgl": [
           {
            "colorbar": {
             "outlinewidth": 0,
             "ticks": ""
            },
            "colorscale": [
             [
              0,
              "#0d0887"
             ],
             [
              0.1111111111111111,
              "#46039f"
             ],
             [
              0.2222222222222222,
              "#7201a8"
             ],
             [
              0.3333333333333333,
              "#9c179e"
             ],
             [
              0.4444444444444444,
              "#bd3786"
             ],
             [
              0.5555555555555556,
              "#d8576b"
             ],
             [
              0.6666666666666666,
              "#ed7953"
             ],
             [
              0.7777777777777778,
              "#fb9f3a"
             ],
             [
              0.8888888888888888,
              "#fdca26"
             ],
             [
              1,
              "#f0f921"
             ]
            ],
            "type": "heatmapgl"
           }
          ],
          "histogram": [
           {
            "marker": {
             "pattern": {
              "fillmode": "overlay",
              "size": 10,
              "solidity": 0.2
             }
            },
            "type": "histogram"
           }
          ],
          "histogram2d": [
           {
            "colorbar": {
             "outlinewidth": 0,
             "ticks": ""
            },
            "colorscale": [
             [
              0,
              "#0d0887"
             ],
             [
              0.1111111111111111,
              "#46039f"
             ],
             [
              0.2222222222222222,
              "#7201a8"
             ],
             [
              0.3333333333333333,
              "#9c179e"
             ],
             [
              0.4444444444444444,
              "#bd3786"
             ],
             [
              0.5555555555555556,
              "#d8576b"
             ],
             [
              0.6666666666666666,
              "#ed7953"
             ],
             [
              0.7777777777777778,
              "#fb9f3a"
             ],
             [
              0.8888888888888888,
              "#fdca26"
             ],
             [
              1,
              "#f0f921"
             ]
            ],
            "type": "histogram2d"
           }
          ],
          "histogram2dcontour": [
           {
            "colorbar": {
             "outlinewidth": 0,
             "ticks": ""
            },
            "colorscale": [
             [
              0,
              "#0d0887"
             ],
             [
              0.1111111111111111,
              "#46039f"
             ],
             [
              0.2222222222222222,
              "#7201a8"
             ],
             [
              0.3333333333333333,
              "#9c179e"
             ],
             [
              0.4444444444444444,
              "#bd3786"
             ],
             [
              0.5555555555555556,
              "#d8576b"
             ],
             [
              0.6666666666666666,
              "#ed7953"
             ],
             [
              0.7777777777777778,
              "#fb9f3a"
             ],
             [
              0.8888888888888888,
              "#fdca26"
             ],
             [
              1,
              "#f0f921"
             ]
            ],
            "type": "histogram2dcontour"
           }
          ],
          "mesh3d": [
           {
            "colorbar": {
             "outlinewidth": 0,
             "ticks": ""
            },
            "type": "mesh3d"
           }
          ],
          "parcoords": [
           {
            "line": {
             "colorbar": {
              "outlinewidth": 0,
              "ticks": ""
             }
            },
            "type": "parcoords"
           }
          ],
          "pie": [
           {
            "automargin": true,
            "type": "pie"
           }
          ],
          "scatter": [
           {
            "fillpattern": {
             "fillmode": "overlay",
             "size": 10,
             "solidity": 0.2
            },
            "type": "scatter"
           }
          ],
          "scatter3d": [
           {
            "line": {
             "colorbar": {
              "outlinewidth": 0,
              "ticks": ""
             }
            },
            "marker": {
             "colorbar": {
              "outlinewidth": 0,
              "ticks": ""
             }
            },
            "type": "scatter3d"
           }
          ],
          "scattercarpet": [
           {
            "marker": {
             "colorbar": {
              "outlinewidth": 0,
              "ticks": ""
             }
            },
            "type": "scattercarpet"
           }
          ],
          "scattergeo": [
           {
            "marker": {
             "colorbar": {
              "outlinewidth": 0,
              "ticks": ""
             }
            },
            "type": "scattergeo"
           }
          ],
          "scattergl": [
           {
            "marker": {
             "colorbar": {
              "outlinewidth": 0,
              "ticks": ""
             }
            },
            "type": "scattergl"
           }
          ],
          "scattermapbox": [
           {
            "marker": {
             "colorbar": {
              "outlinewidth": 0,
              "ticks": ""
             }
            },
            "type": "scattermapbox"
           }
          ],
          "scatterpolar": [
           {
            "marker": {
             "colorbar": {
              "outlinewidth": 0,
              "ticks": ""
             }
            },
            "type": "scatterpolar"
           }
          ],
          "scatterpolargl": [
           {
            "marker": {
             "colorbar": {
              "outlinewidth": 0,
              "ticks": ""
             }
            },
            "type": "scatterpolargl"
           }
          ],
          "scatterternary": [
           {
            "marker": {
             "colorbar": {
              "outlinewidth": 0,
              "ticks": ""
             }
            },
            "type": "scatterternary"
           }
          ],
          "surface": [
           {
            "colorbar": {
             "outlinewidth": 0,
             "ticks": ""
            },
            "colorscale": [
             [
              0,
              "#0d0887"
             ],
             [
              0.1111111111111111,
              "#46039f"
             ],
             [
              0.2222222222222222,
              "#7201a8"
             ],
             [
              0.3333333333333333,
              "#9c179e"
             ],
             [
              0.4444444444444444,
              "#bd3786"
             ],
             [
              0.5555555555555556,
              "#d8576b"
             ],
             [
              0.6666666666666666,
              "#ed7953"
             ],
             [
              0.7777777777777778,
              "#fb9f3a"
             ],
             [
              0.8888888888888888,
              "#fdca26"
             ],
             [
              1,
              "#f0f921"
             ]
            ],
            "type": "surface"
           }
          ],
          "table": [
           {
            "cells": {
             "fill": {
              "color": "#EBF0F8"
             },
             "line": {
              "color": "white"
             }
            },
            "header": {
             "fill": {
              "color": "#C8D4E3"
             },
             "line": {
              "color": "white"
             }
            },
            "type": "table"
           }
          ]
         },
         "layout": {
          "annotationdefaults": {
           "arrowcolor": "#2a3f5f",
           "arrowhead": 0,
           "arrowwidth": 1
          },
          "autotypenumbers": "strict",
          "coloraxis": {
           "colorbar": {
            "outlinewidth": 0,
            "ticks": ""
           }
          },
          "colorscale": {
           "diverging": [
            [
             0,
             "#8e0152"
            ],
            [
             0.1,
             "#c51b7d"
            ],
            [
             0.2,
             "#de77ae"
            ],
            [
             0.3,
             "#f1b6da"
            ],
            [
             0.4,
             "#fde0ef"
            ],
            [
             0.5,
             "#f7f7f7"
            ],
            [
             0.6,
             "#e6f5d0"
            ],
            [
             0.7,
             "#b8e186"
            ],
            [
             0.8,
             "#7fbc41"
            ],
            [
             0.9,
             "#4d9221"
            ],
            [
             1,
             "#276419"
            ]
           ],
           "sequential": [
            [
             0,
             "#0d0887"
            ],
            [
             0.1111111111111111,
             "#46039f"
            ],
            [
             0.2222222222222222,
             "#7201a8"
            ],
            [
             0.3333333333333333,
             "#9c179e"
            ],
            [
             0.4444444444444444,
             "#bd3786"
            ],
            [
             0.5555555555555556,
             "#d8576b"
            ],
            [
             0.6666666666666666,
             "#ed7953"
            ],
            [
             0.7777777777777778,
             "#fb9f3a"
            ],
            [
             0.8888888888888888,
             "#fdca26"
            ],
            [
             1,
             "#f0f921"
            ]
           ],
           "sequentialminus": [
            [
             0,
             "#0d0887"
            ],
            [
             0.1111111111111111,
             "#46039f"
            ],
            [
             0.2222222222222222,
             "#7201a8"
            ],
            [
             0.3333333333333333,
             "#9c179e"
            ],
            [
             0.4444444444444444,
             "#bd3786"
            ],
            [
             0.5555555555555556,
             "#d8576b"
            ],
            [
             0.6666666666666666,
             "#ed7953"
            ],
            [
             0.7777777777777778,
             "#fb9f3a"
            ],
            [
             0.8888888888888888,
             "#fdca26"
            ],
            [
             1,
             "#f0f921"
            ]
           ]
          },
          "colorway": [
           "#636efa",
           "#EF553B",
           "#00cc96",
           "#ab63fa",
           "#FFA15A",
           "#19d3f3",
           "#FF6692",
           "#B6E880",
           "#FF97FF",
           "#FECB52"
          ],
          "font": {
           "color": "#2a3f5f"
          },
          "geo": {
           "bgcolor": "white",
           "lakecolor": "white",
           "landcolor": "#E5ECF6",
           "showlakes": true,
           "showland": true,
           "subunitcolor": "white"
          },
          "hoverlabel": {
           "align": "left"
          },
          "hovermode": "closest",
          "mapbox": {
           "style": "light"
          },
          "paper_bgcolor": "white",
          "plot_bgcolor": "#E5ECF6",
          "polar": {
           "angularaxis": {
            "gridcolor": "white",
            "linecolor": "white",
            "ticks": ""
           },
           "bgcolor": "#E5ECF6",
           "radialaxis": {
            "gridcolor": "white",
            "linecolor": "white",
            "ticks": ""
           }
          },
          "scene": {
           "xaxis": {
            "backgroundcolor": "#E5ECF6",
            "gridcolor": "white",
            "gridwidth": 2,
            "linecolor": "white",
            "showbackground": true,
            "ticks": "",
            "zerolinecolor": "white"
           },
           "yaxis": {
            "backgroundcolor": "#E5ECF6",
            "gridcolor": "white",
            "gridwidth": 2,
            "linecolor": "white",
            "showbackground": true,
            "ticks": "",
            "zerolinecolor": "white"
           },
           "zaxis": {
            "backgroundcolor": "#E5ECF6",
            "gridcolor": "white",
            "gridwidth": 2,
            "linecolor": "white",
            "showbackground": true,
            "ticks": "",
            "zerolinecolor": "white"
           }
          },
          "shapedefaults": {
           "line": {
            "color": "#2a3f5f"
           }
          },
          "ternary": {
           "aaxis": {
            "gridcolor": "white",
            "linecolor": "white",
            "ticks": ""
           },
           "baxis": {
            "gridcolor": "white",
            "linecolor": "white",
            "ticks": ""
           },
           "bgcolor": "#E5ECF6",
           "caxis": {
            "gridcolor": "white",
            "linecolor": "white",
            "ticks": ""
           }
          },
          "title": {
           "x": 0.05
          },
          "xaxis": {
           "automargin": true,
           "gridcolor": "white",
           "linecolor": "white",
           "ticks": "",
           "title": {
            "standoff": 15
           },
           "zerolinecolor": "white",
           "zerolinewidth": 2
          },
          "yaxis": {
           "automargin": true,
           "gridcolor": "white",
           "linecolor": "white",
           "ticks": "",
           "title": {
            "standoff": 15
           },
           "zerolinecolor": "white",
           "zerolinewidth": 2
          }
         }
        },
        "title": {
         "text": "Prevalence of Stunting and Overweight in South America"
        },
        "xaxis": {
         "anchor": "y",
         "domain": [
          0,
          1
         ],
         "title": {
          "text": "Year"
         }
        },
        "yaxis": {
         "anchor": "x",
         "domain": [
          0,
          1
         ],
         "title": {
          "text": "Percentage (%)"
         }
        }
       }
      }
     },
     "metadata": {},
     "output_type": "display_data"
    },
    {
     "name": "stdout",
     "output_type": "stream",
     "text": [
      "World:\n",
      "\tFor 2025, Estimated Prevalence of Stunting is 18%\n",
      "        For 2030, Estimated Prevalence of Stunting is 15%\n",
      "\tFor 2025, Estimated Prevalence of Overweight is 5%\n",
      "        For 2030, Estimated Prevalence of Overweight is 5%\n",
      "\n"
     ]
    },
    {
     "data": {
      "application/vnd.plotly.v1+json": {
       "config": {
        "plotlyServerURL": "https://plot.ly"
       },
       "data": [
        {
         "hovertemplate": "variable=Stunting<br>Year=%{x}<br>value=%{y}<extra></extra>",
         "legendgroup": "Stunting",
         "marker": {
          "color": "green",
          "symbol": "circle"
         },
         "mode": "markers",
         "name": "Stunting",
         "orientation": "v",
         "showlegend": true,
         "type": "scatter",
         "x": [
          2000,
          2001,
          2002,
          2003,
          2004,
          2005,
          2006,
          2007,
          2008,
          2009,
          2010,
          2011,
          2012,
          2013,
          2014,
          2015,
          2016,
          2017,
          2018,
          2019,
          2020,
          2025,
          2030
         ],
         "xaxis": "x",
         "y": [
          33.1,
          32.5,
          31.9,
          31.5,
          31.1,
          30.7,
          30.2,
          29.6,
          29,
          28.4,
          27.7,
          26.9,
          26.2,
          25.5,
          24.9,
          24.4,
          23.8,
          23.4,
          22.9,
          22.4,
          22,
          18,
          15
         ],
         "yaxis": "y"
        },
        {
         "hovertemplate": "<b>OLS trendline</b><br>value = -0.601037 * Year + 1235.57<br>R<sup>2</sup>=0.995990<br><br>variable=Stunting<br>Year=%{x}<br>value=%{y} <b>(trend)</b><extra></extra>",
         "legendgroup": "Stunting",
         "line": {
          "color": "blue"
         },
         "marker": {
          "color": "green",
          "symbol": "circle"
         },
         "mode": "lines",
         "name": "Stunting",
         "showlegend": false,
         "type": "scatter",
         "x": [
          2000,
          2001,
          2002,
          2003,
          2004,
          2005,
          2006,
          2007,
          2008,
          2009,
          2010,
          2011,
          2012,
          2013,
          2014,
          2015,
          2016,
          2017,
          2018,
          2019,
          2020,
          2025,
          2030
         ],
         "xaxis": "x",
         "y": [
          33.494556059624074,
          32.8935191185999,
          32.29248217757595,
          31.691445236552,
          31.09040829552805,
          30.4893713545041,
          29.888334413480152,
          29.287297472456203,
          28.686260531432254,
          28.085223590408305,
          27.484186649384128,
          26.88314970836018,
          26.28211276733623,
          25.68107582631228,
          25.08003888528833,
          24.479001944264382,
          23.877965003240433,
          23.276928062216484,
          22.675891121192308,
          22.07485418016836,
          21.47381723914441,
          18.468632534024664,
          15.463447828904691
         ],
         "yaxis": "y"
        },
        {
         "hovertemplate": "variable=Overweight<br>Year=%{x}<br>value=%{y}<extra></extra>",
         "legendgroup": "Overweight",
         "marker": {
          "color": "red",
          "symbol": "circle"
         },
         "mode": "markers",
         "name": "Overweight",
         "orientation": "v",
         "showlegend": true,
         "type": "scatter",
         "x": [
          2000,
          2001,
          2002,
          2003,
          2004,
          2005,
          2006,
          2007,
          2008,
          2009,
          2010,
          2011,
          2012,
          2013,
          2014,
          2015,
          2016,
          2017,
          2018,
          2019,
          2020,
          2025,
          2030
         ],
         "xaxis": "x",
         "y": [
          5.4,
          5.5,
          5.6,
          5.7,
          5.7,
          5.7,
          5.7,
          5.6,
          5.6,
          5.6,
          5.6,
          5.6,
          5.6,
          5.6,
          5.6,
          5.6,
          5.6,
          5.6,
          5.7,
          5.7,
          5.7,
          5,
          5
         ],
         "yaxis": "y"
        },
        {
         "hovertemplate": "<b>OLS trendline</b><br>value = -0.01221 * Year + 30.1259<br>R<sup>2</sup>=0.246291<br><br>variable=Overweight<br>Year=%{x}<br>value=%{y} <b>(trend)</b><extra></extra>",
         "legendgroup": "Overweight",
         "line": {
          "color": "blue"
         },
         "marker": {
          "color": "red",
          "symbol": "circle"
         },
         "mode": "lines",
         "name": "Overweight",
         "showlegend": false,
         "type": "scatter",
         "x": [
          2000,
          2001,
          2002,
          2003,
          2004,
          2005,
          2006,
          2007,
          2008,
          2009,
          2010,
          2011,
          2012,
          2013,
          2014,
          2015,
          2016,
          2017,
          2018,
          2019,
          2020,
          2025,
          2030
         ],
         "xaxis": "x",
         "y": [
          5.705897602073868,
          5.6936876215165135,
          5.681477640959159,
          5.6692676604018,
          5.657057679844446,
          5.644847699287091,
          5.632637718729736,
          5.620427738172381,
          5.608217757615023,
          5.596007777057668,
          5.583797796500313,
          5.571587815942959,
          5.559377835385604,
          5.5471678548282455,
          5.534957874270891,
          5.522747893713536,
          5.510537913156181,
          5.498327932598826,
          5.486117952041468,
          5.473907971484113,
          5.4616979909267585,
          5.400648088139981,
          5.3395981853532035
         ],
         "yaxis": "y"
        }
       ],
       "layout": {
        "legend": {
         "orientation": "h",
         "title": {
          "text": "Prevalence of"
         },
         "tracegroupgap": 0,
         "x": 1,
         "xanchor": "right",
         "y": 1.02,
         "yanchor": "bottom"
        },
        "template": {
         "data": {
          "bar": [
           {
            "error_x": {
             "color": "#2a3f5f"
            },
            "error_y": {
             "color": "#2a3f5f"
            },
            "marker": {
             "line": {
              "color": "#E5ECF6",
              "width": 0.5
             },
             "pattern": {
              "fillmode": "overlay",
              "size": 10,
              "solidity": 0.2
             }
            },
            "type": "bar"
           }
          ],
          "barpolar": [
           {
            "marker": {
             "line": {
              "color": "#E5ECF6",
              "width": 0.5
             },
             "pattern": {
              "fillmode": "overlay",
              "size": 10,
              "solidity": 0.2
             }
            },
            "type": "barpolar"
           }
          ],
          "carpet": [
           {
            "aaxis": {
             "endlinecolor": "#2a3f5f",
             "gridcolor": "white",
             "linecolor": "white",
             "minorgridcolor": "white",
             "startlinecolor": "#2a3f5f"
            },
            "baxis": {
             "endlinecolor": "#2a3f5f",
             "gridcolor": "white",
             "linecolor": "white",
             "minorgridcolor": "white",
             "startlinecolor": "#2a3f5f"
            },
            "type": "carpet"
           }
          ],
          "choropleth": [
           {
            "colorbar": {
             "outlinewidth": 0,
             "ticks": ""
            },
            "type": "choropleth"
           }
          ],
          "contour": [
           {
            "colorbar": {
             "outlinewidth": 0,
             "ticks": ""
            },
            "colorscale": [
             [
              0,
              "#0d0887"
             ],
             [
              0.1111111111111111,
              "#46039f"
             ],
             [
              0.2222222222222222,
              "#7201a8"
             ],
             [
              0.3333333333333333,
              "#9c179e"
             ],
             [
              0.4444444444444444,
              "#bd3786"
             ],
             [
              0.5555555555555556,
              "#d8576b"
             ],
             [
              0.6666666666666666,
              "#ed7953"
             ],
             [
              0.7777777777777778,
              "#fb9f3a"
             ],
             [
              0.8888888888888888,
              "#fdca26"
             ],
             [
              1,
              "#f0f921"
             ]
            ],
            "type": "contour"
           }
          ],
          "contourcarpet": [
           {
            "colorbar": {
             "outlinewidth": 0,
             "ticks": ""
            },
            "type": "contourcarpet"
           }
          ],
          "heatmap": [
           {
            "colorbar": {
             "outlinewidth": 0,
             "ticks": ""
            },
            "colorscale": [
             [
              0,
              "#0d0887"
             ],
             [
              0.1111111111111111,
              "#46039f"
             ],
             [
              0.2222222222222222,
              "#7201a8"
             ],
             [
              0.3333333333333333,
              "#9c179e"
             ],
             [
              0.4444444444444444,
              "#bd3786"
             ],
             [
              0.5555555555555556,
              "#d8576b"
             ],
             [
              0.6666666666666666,
              "#ed7953"
             ],
             [
              0.7777777777777778,
              "#fb9f3a"
             ],
             [
              0.8888888888888888,
              "#fdca26"
             ],
             [
              1,
              "#f0f921"
             ]
            ],
            "type": "heatmap"
           }
          ],
          "heatmapgl": [
           {
            "colorbar": {
             "outlinewidth": 0,
             "ticks": ""
            },
            "colorscale": [
             [
              0,
              "#0d0887"
             ],
             [
              0.1111111111111111,
              "#46039f"
             ],
             [
              0.2222222222222222,
              "#7201a8"
             ],
             [
              0.3333333333333333,
              "#9c179e"
             ],
             [
              0.4444444444444444,
              "#bd3786"
             ],
             [
              0.5555555555555556,
              "#d8576b"
             ],
             [
              0.6666666666666666,
              "#ed7953"
             ],
             [
              0.7777777777777778,
              "#fb9f3a"
             ],
             [
              0.8888888888888888,
              "#fdca26"
             ],
             [
              1,
              "#f0f921"
             ]
            ],
            "type": "heatmapgl"
           }
          ],
          "histogram": [
           {
            "marker": {
             "pattern": {
              "fillmode": "overlay",
              "size": 10,
              "solidity": 0.2
             }
            },
            "type": "histogram"
           }
          ],
          "histogram2d": [
           {
            "colorbar": {
             "outlinewidth": 0,
             "ticks": ""
            },
            "colorscale": [
             [
              0,
              "#0d0887"
             ],
             [
              0.1111111111111111,
              "#46039f"
             ],
             [
              0.2222222222222222,
              "#7201a8"
             ],
             [
              0.3333333333333333,
              "#9c179e"
             ],
             [
              0.4444444444444444,
              "#bd3786"
             ],
             [
              0.5555555555555556,
              "#d8576b"
             ],
             [
              0.6666666666666666,
              "#ed7953"
             ],
             [
              0.7777777777777778,
              "#fb9f3a"
             ],
             [
              0.8888888888888888,
              "#fdca26"
             ],
             [
              1,
              "#f0f921"
             ]
            ],
            "type": "histogram2d"
           }
          ],
          "histogram2dcontour": [
           {
            "colorbar": {
             "outlinewidth": 0,
             "ticks": ""
            },
            "colorscale": [
             [
              0,
              "#0d0887"
             ],
             [
              0.1111111111111111,
              "#46039f"
             ],
             [
              0.2222222222222222,
              "#7201a8"
             ],
             [
              0.3333333333333333,
              "#9c179e"
             ],
             [
              0.4444444444444444,
              "#bd3786"
             ],
             [
              0.5555555555555556,
              "#d8576b"
             ],
             [
              0.6666666666666666,
              "#ed7953"
             ],
             [
              0.7777777777777778,
              "#fb9f3a"
             ],
             [
              0.8888888888888888,
              "#fdca26"
             ],
             [
              1,
              "#f0f921"
             ]
            ],
            "type": "histogram2dcontour"
           }
          ],
          "mesh3d": [
           {
            "colorbar": {
             "outlinewidth": 0,
             "ticks": ""
            },
            "type": "mesh3d"
           }
          ],
          "parcoords": [
           {
            "line": {
             "colorbar": {
              "outlinewidth": 0,
              "ticks": ""
             }
            },
            "type": "parcoords"
           }
          ],
          "pie": [
           {
            "automargin": true,
            "type": "pie"
           }
          ],
          "scatter": [
           {
            "fillpattern": {
             "fillmode": "overlay",
             "size": 10,
             "solidity": 0.2
            },
            "type": "scatter"
           }
          ],
          "scatter3d": [
           {
            "line": {
             "colorbar": {
              "outlinewidth": 0,
              "ticks": ""
             }
            },
            "marker": {
             "colorbar": {
              "outlinewidth": 0,
              "ticks": ""
             }
            },
            "type": "scatter3d"
           }
          ],
          "scattercarpet": [
           {
            "marker": {
             "colorbar": {
              "outlinewidth": 0,
              "ticks": ""
             }
            },
            "type": "scattercarpet"
           }
          ],
          "scattergeo": [
           {
            "marker": {
             "colorbar": {
              "outlinewidth": 0,
              "ticks": ""
             }
            },
            "type": "scattergeo"
           }
          ],
          "scattergl": [
           {
            "marker": {
             "colorbar": {
              "outlinewidth": 0,
              "ticks": ""
             }
            },
            "type": "scattergl"
           }
          ],
          "scattermapbox": [
           {
            "marker": {
             "colorbar": {
              "outlinewidth": 0,
              "ticks": ""
             }
            },
            "type": "scattermapbox"
           }
          ],
          "scatterpolar": [
           {
            "marker": {
             "colorbar": {
              "outlinewidth": 0,
              "ticks": ""
             }
            },
            "type": "scatterpolar"
           }
          ],
          "scatterpolargl": [
           {
            "marker": {
             "colorbar": {
              "outlinewidth": 0,
              "ticks": ""
             }
            },
            "type": "scatterpolargl"
           }
          ],
          "scatterternary": [
           {
            "marker": {
             "colorbar": {
              "outlinewidth": 0,
              "ticks": ""
             }
            },
            "type": "scatterternary"
           }
          ],
          "surface": [
           {
            "colorbar": {
             "outlinewidth": 0,
             "ticks": ""
            },
            "colorscale": [
             [
              0,
              "#0d0887"
             ],
             [
              0.1111111111111111,
              "#46039f"
             ],
             [
              0.2222222222222222,
              "#7201a8"
             ],
             [
              0.3333333333333333,
              "#9c179e"
             ],
             [
              0.4444444444444444,
              "#bd3786"
             ],
             [
              0.5555555555555556,
              "#d8576b"
             ],
             [
              0.6666666666666666,
              "#ed7953"
             ],
             [
              0.7777777777777778,
              "#fb9f3a"
             ],
             [
              0.8888888888888888,
              "#fdca26"
             ],
             [
              1,
              "#f0f921"
             ]
            ],
            "type": "surface"
           }
          ],
          "table": [
           {
            "cells": {
             "fill": {
              "color": "#EBF0F8"
             },
             "line": {
              "color": "white"
             }
            },
            "header": {
             "fill": {
              "color": "#C8D4E3"
             },
             "line": {
              "color": "white"
             }
            },
            "type": "table"
           }
          ]
         },
         "layout": {
          "annotationdefaults": {
           "arrowcolor": "#2a3f5f",
           "arrowhead": 0,
           "arrowwidth": 1
          },
          "autotypenumbers": "strict",
          "coloraxis": {
           "colorbar": {
            "outlinewidth": 0,
            "ticks": ""
           }
          },
          "colorscale": {
           "diverging": [
            [
             0,
             "#8e0152"
            ],
            [
             0.1,
             "#c51b7d"
            ],
            [
             0.2,
             "#de77ae"
            ],
            [
             0.3,
             "#f1b6da"
            ],
            [
             0.4,
             "#fde0ef"
            ],
            [
             0.5,
             "#f7f7f7"
            ],
            [
             0.6,
             "#e6f5d0"
            ],
            [
             0.7,
             "#b8e186"
            ],
            [
             0.8,
             "#7fbc41"
            ],
            [
             0.9,
             "#4d9221"
            ],
            [
             1,
             "#276419"
            ]
           ],
           "sequential": [
            [
             0,
             "#0d0887"
            ],
            [
             0.1111111111111111,
             "#46039f"
            ],
            [
             0.2222222222222222,
             "#7201a8"
            ],
            [
             0.3333333333333333,
             "#9c179e"
            ],
            [
             0.4444444444444444,
             "#bd3786"
            ],
            [
             0.5555555555555556,
             "#d8576b"
            ],
            [
             0.6666666666666666,
             "#ed7953"
            ],
            [
             0.7777777777777778,
             "#fb9f3a"
            ],
            [
             0.8888888888888888,
             "#fdca26"
            ],
            [
             1,
             "#f0f921"
            ]
           ],
           "sequentialminus": [
            [
             0,
             "#0d0887"
            ],
            [
             0.1111111111111111,
             "#46039f"
            ],
            [
             0.2222222222222222,
             "#7201a8"
            ],
            [
             0.3333333333333333,
             "#9c179e"
            ],
            [
             0.4444444444444444,
             "#bd3786"
            ],
            [
             0.5555555555555556,
             "#d8576b"
            ],
            [
             0.6666666666666666,
             "#ed7953"
            ],
            [
             0.7777777777777778,
             "#fb9f3a"
            ],
            [
             0.8888888888888888,
             "#fdca26"
            ],
            [
             1,
             "#f0f921"
            ]
           ]
          },
          "colorway": [
           "#636efa",
           "#EF553B",
           "#00cc96",
           "#ab63fa",
           "#FFA15A",
           "#19d3f3",
           "#FF6692",
           "#B6E880",
           "#FF97FF",
           "#FECB52"
          ],
          "font": {
           "color": "#2a3f5f"
          },
          "geo": {
           "bgcolor": "white",
           "lakecolor": "white",
           "landcolor": "#E5ECF6",
           "showlakes": true,
           "showland": true,
           "subunitcolor": "white"
          },
          "hoverlabel": {
           "align": "left"
          },
          "hovermode": "closest",
          "mapbox": {
           "style": "light"
          },
          "paper_bgcolor": "white",
          "plot_bgcolor": "#E5ECF6",
          "polar": {
           "angularaxis": {
            "gridcolor": "white",
            "linecolor": "white",
            "ticks": ""
           },
           "bgcolor": "#E5ECF6",
           "radialaxis": {
            "gridcolor": "white",
            "linecolor": "white",
            "ticks": ""
           }
          },
          "scene": {
           "xaxis": {
            "backgroundcolor": "#E5ECF6",
            "gridcolor": "white",
            "gridwidth": 2,
            "linecolor": "white",
            "showbackground": true,
            "ticks": "",
            "zerolinecolor": "white"
           },
           "yaxis": {
            "backgroundcolor": "#E5ECF6",
            "gridcolor": "white",
            "gridwidth": 2,
            "linecolor": "white",
            "showbackground": true,
            "ticks": "",
            "zerolinecolor": "white"
           },
           "zaxis": {
            "backgroundcolor": "#E5ECF6",
            "gridcolor": "white",
            "gridwidth": 2,
            "linecolor": "white",
            "showbackground": true,
            "ticks": "",
            "zerolinecolor": "white"
           }
          },
          "shapedefaults": {
           "line": {
            "color": "#2a3f5f"
           }
          },
          "ternary": {
           "aaxis": {
            "gridcolor": "white",
            "linecolor": "white",
            "ticks": ""
           },
           "baxis": {
            "gridcolor": "white",
            "linecolor": "white",
            "ticks": ""
           },
           "bgcolor": "#E5ECF6",
           "caxis": {
            "gridcolor": "white",
            "linecolor": "white",
            "ticks": ""
           }
          },
          "title": {
           "x": 0.05
          },
          "xaxis": {
           "automargin": true,
           "gridcolor": "white",
           "linecolor": "white",
           "ticks": "",
           "title": {
            "standoff": 15
           },
           "zerolinecolor": "white",
           "zerolinewidth": 2
          },
          "yaxis": {
           "automargin": true,
           "gridcolor": "white",
           "linecolor": "white",
           "ticks": "",
           "title": {
            "standoff": 15
           },
           "zerolinecolor": "white",
           "zerolinewidth": 2
          }
         }
        },
        "title": {
         "text": "Prevalence of Stunting and Overweight in World"
        },
        "xaxis": {
         "anchor": "y",
         "domain": [
          0,
          1
         ],
         "title": {
          "text": "Year"
         }
        },
        "yaxis": {
         "anchor": "x",
         "domain": [
          0,
          1
         ],
         "title": {
          "text": "Percentage (%)"
         }
        }
       }
      }
     },
     "metadata": {},
     "output_type": "display_data"
    }
   ],
   "source": [
    "# Function for Estimation\n",
    "def lrEstimate(x,y):\n",
    "    n = len(x)\n",
    "    df = pd.DataFrame({'x': x, 'y': y})\n",
    "    df['x2'] = df['x'] * df['x']\n",
    "    df['y2'] = df['y'] * df['y']\n",
    "    df['xy'] = df['x'] * df['y']\n",
    "    slope = ((n*(df['xy'].sum())) - ((df['x'].sum()) * (df['y'].sum()))) / ((n*(df['x2'].sum()) - ((df['x'].sum())**2)))\n",
    "    intercept = (((df['y'].sum()) * (df['x2'].sum())) - ((df['x'].sum()) * (df['xy'].sum()))) / ((n*(df['x2'].sum()) - ((df['x'].sum())**2)))\n",
    "    return lambda x : slope * x + intercept\n",
    "\n",
    "\n",
    "for i in regData:\n",
    "    x = list(regData[i]['Stunting'].keys())\n",
    "    y1 = list(regData[i]['Stunting'].values())\n",
    "    y2 = list(regData[i]['Overweight'].values())\n",
    "    if [] not in [x, y1, y2]:\n",
    "        estimator = lrEstimate(x, y1)\n",
    "        mymodel = list(map(estimator, x))\n",
    "        data1 = list(int(estimator(j)) for j in (2025, 2030))\n",
    "        print(f'''{i}:\\n\\tFor 2025, Estimated Prevalence of Stunting is {data1[-2]}%\n",
    "        For 2030, Estimated Prevalence of Stunting is {data1[-1]}%''')\n",
    "\n",
    "        estimator = lrEstimate(x, y2)\n",
    "        mymodel = list(map(estimator, x))\n",
    "        data2 = list(int(estimator(j)) for j in (2025, 2030))\n",
    "        print(f'''\\tFor 2025, Estimated Prevalence of Overweight is {data2[-2]}%\n",
    "        For 2030, Estimated Prevalence of Overweight is {data2[-1]}%\\n''')\n",
    "        \n",
    "        fig = px.scatter(pd.DataFrame({\"Year\": x+[2025,2030], \"Stunting\": y1+data1, \"Overweight\": y2+data2}),\n",
    "        x=\"Year\", y=[\"Stunting\", \"Overweight\"], trendline='ols', trendline_color_override = 'blue',\n",
    "        color_discrete_sequence=[\"green\", \"red\"], title=f\"Prevalence of Stunting and Overweight in {i}\"\n",
    "        )\n",
    "        fig.update_layout(\n",
    "            legend_title=\"Prevalence of\",\n",
    "            yaxis_title=\"Percentage (%)\",\n",
    "            legend=dict(orientation=\"h\", x=1, y=1.02, xanchor=\"right\", yanchor=\"bottom\")\n",
    "            )\n",
    "        fig.show()"
   ]
  },
  {
   "attachments": {},
   "cell_type": "markdown",
   "metadata": {},
   "source": [
    "<hr>\n",
    "\n",
    "#### Objective 2 - Sheetal Kanwar (2022BTech095)\n",
    "To analyze the prevalence of anaemia in women, on the basis of pregnancy. Additionally, check the regions with lowest per capita food consumption and the people with food deficiency disabilities.\n",
    "* To access the prevalence of anaemia in pregnant and non-pregnant women across the world.\n",
    "* To check the world regions which have the lowest per capita food consumption in the year 2030.\n",
    "* To access the difference in disability-adjusted life years (SEV) and annual % change (EAPC) between females and males in different regions and sub-regions across the world in 1990 and 2019.\n",
    "\n",
    "\n",
    "<hr>"
   ]
  },
  {
   "attachments": {},
   "cell_type": "markdown",
   "metadata": {},
   "source": [
    "Reading the Datasets"
   ]
  },
  {
   "cell_type": "code",
   "execution_count": 21,
   "metadata": {},
   "outputs": [],
   "source": [
    "dataPregnant = pd.read_csv(\"2 Data 1.csv\")\n",
    "dataNonPregnant = pd.read_csv(\"2 Data 2.csv\")\n",
    "dataFood = pd.read_csv(\"2 Data 3.csv\")\n",
    "dataSEV = pd.read_csv(\"2 Data 4.csv\")"
   ]
  },
  {
   "attachments": {},
   "cell_type": "markdown",
   "metadata": {},
   "source": [
    "<div align='Center'>\n",
    "<hr>\n",
    "\n",
    "##### Problem Statement 1\n",
    "\n",
    "</div>"
   ]
  },
  {
   "cell_type": "code",
   "execution_count": 22,
   "metadata": {},
   "outputs": [
    {
     "data": {
      "application/vnd.plotly.v1+json": {
       "config": {
        "plotlyServerURL": "https://plot.ly"
       },
       "data": [
        {
         "mode": "markers",
         "name": "(WHO) Global",
         "type": "scatter",
         "x": [
          2009,
          2010,
          2011,
          2012,
          2013,
          2014,
          2015,
          2016,
          2017,
          2018,
          2019
         ],
         "y": [
          38,
          37.6,
          37.3,
          37,
          36.9,
          36.7,
          36.6,
          36.6,
          36.5,
          36.5,
          36.5
         ]
        },
        {
         "mode": "markers",
         "name": "Africa",
         "type": "scatter",
         "x": [
          2009,
          2010,
          2011,
          2012,
          2013,
          2014,
          2015,
          2016,
          2017,
          2018,
          2019
         ],
         "y": [
          47.9,
          47.5,
          47.2,
          47,
          46.7,
          46.6,
          46.4,
          46.3,
          46.1,
          45.9,
          45.8
         ]
        },
        {
         "mode": "markers",
         "name": "Americas",
         "type": "scatter",
         "x": [
          2009,
          2010,
          2011,
          2012,
          2013,
          2014,
          2015,
          2016,
          2017,
          2018,
          2019
         ],
         "y": [
          20.4,
          20.1,
          19.8,
          19.6,
          19.4,
          19.2,
          19.1,
          19,
          19,
          18.9,
          18.9
         ]
        },
        {
         "mode": "markers",
         "name": "Eastern Mediterranean",
         "type": "scatter",
         "x": [
          2009,
          2010,
          2011,
          2012,
          2013,
          2014,
          2015,
          2016,
          2017,
          2018,
          2019
         ],
         "y": [
          39.3,
          38.9,
          38.6,
          38.3,
          38.1,
          37.8,
          37.5,
          37.3,
          37.1,
          36.9,
          36.8
         ]
        },
        {
         "mode": "markers",
         "name": "Europe",
         "type": "scatter",
         "x": [
          2009,
          2010,
          2011,
          2012,
          2013,
          2014,
          2015,
          2016,
          2017,
          2018,
          2019
         ],
         "y": [
          23.3,
          23.2,
          23.1,
          23.1,
          23.1,
          23.1,
          23.2,
          23.3,
          23.4,
          23.4,
          23.5
         ]
        },
        {
         "mode": "markers",
         "name": "South-East Asia",
         "type": "scatter",
         "x": [
          2009,
          2010,
          2011,
          2012,
          2013,
          2014,
          2015,
          2016,
          2017,
          2018,
          2019
         ],
         "y": [
          49,
          48.7,
          48.6,
          48.4,
          48.2,
          48.1,
          47.9,
          47.9,
          47.9,
          47.8,
          47.8
         ]
        },
        {
         "mode": "markers",
         "name": "Western Pacific",
         "type": "scatter",
         "x": [
          2009,
          2010,
          2011,
          2012,
          2013,
          2014,
          2015,
          2016,
          2017,
          2018,
          2019
         ],
         "y": [
          24.3,
          23.6,
          23,
          22.6,
          22.3,
          22,
          21.9,
          21.8,
          21.6,
          21.4,
          21.3
         ]
        }
       ],
       "layout": {
        "legend": {
         "title": {
          "text": "Regions"
         }
        },
        "template": {
         "data": {
          "bar": [
           {
            "error_x": {
             "color": "#2a3f5f"
            },
            "error_y": {
             "color": "#2a3f5f"
            },
            "marker": {
             "line": {
              "color": "#E5ECF6",
              "width": 0.5
             },
             "pattern": {
              "fillmode": "overlay",
              "size": 10,
              "solidity": 0.2
             }
            },
            "type": "bar"
           }
          ],
          "barpolar": [
           {
            "marker": {
             "line": {
              "color": "#E5ECF6",
              "width": 0.5
             },
             "pattern": {
              "fillmode": "overlay",
              "size": 10,
              "solidity": 0.2
             }
            },
            "type": "barpolar"
           }
          ],
          "carpet": [
           {
            "aaxis": {
             "endlinecolor": "#2a3f5f",
             "gridcolor": "white",
             "linecolor": "white",
             "minorgridcolor": "white",
             "startlinecolor": "#2a3f5f"
            },
            "baxis": {
             "endlinecolor": "#2a3f5f",
             "gridcolor": "white",
             "linecolor": "white",
             "minorgridcolor": "white",
             "startlinecolor": "#2a3f5f"
            },
            "type": "carpet"
           }
          ],
          "choropleth": [
           {
            "colorbar": {
             "outlinewidth": 0,
             "ticks": ""
            },
            "type": "choropleth"
           }
          ],
          "contour": [
           {
            "colorbar": {
             "outlinewidth": 0,
             "ticks": ""
            },
            "colorscale": [
             [
              0,
              "#0d0887"
             ],
             [
              0.1111111111111111,
              "#46039f"
             ],
             [
              0.2222222222222222,
              "#7201a8"
             ],
             [
              0.3333333333333333,
              "#9c179e"
             ],
             [
              0.4444444444444444,
              "#bd3786"
             ],
             [
              0.5555555555555556,
              "#d8576b"
             ],
             [
              0.6666666666666666,
              "#ed7953"
             ],
             [
              0.7777777777777778,
              "#fb9f3a"
             ],
             [
              0.8888888888888888,
              "#fdca26"
             ],
             [
              1,
              "#f0f921"
             ]
            ],
            "type": "contour"
           }
          ],
          "contourcarpet": [
           {
            "colorbar": {
             "outlinewidth": 0,
             "ticks": ""
            },
            "type": "contourcarpet"
           }
          ],
          "heatmap": [
           {
            "colorbar": {
             "outlinewidth": 0,
             "ticks": ""
            },
            "colorscale": [
             [
              0,
              "#0d0887"
             ],
             [
              0.1111111111111111,
              "#46039f"
             ],
             [
              0.2222222222222222,
              "#7201a8"
             ],
             [
              0.3333333333333333,
              "#9c179e"
             ],
             [
              0.4444444444444444,
              "#bd3786"
             ],
             [
              0.5555555555555556,
              "#d8576b"
             ],
             [
              0.6666666666666666,
              "#ed7953"
             ],
             [
              0.7777777777777778,
              "#fb9f3a"
             ],
             [
              0.8888888888888888,
              "#fdca26"
             ],
             [
              1,
              "#f0f921"
             ]
            ],
            "type": "heatmap"
           }
          ],
          "heatmapgl": [
           {
            "colorbar": {
             "outlinewidth": 0,
             "ticks": ""
            },
            "colorscale": [
             [
              0,
              "#0d0887"
             ],
             [
              0.1111111111111111,
              "#46039f"
             ],
             [
              0.2222222222222222,
              "#7201a8"
             ],
             [
              0.3333333333333333,
              "#9c179e"
             ],
             [
              0.4444444444444444,
              "#bd3786"
             ],
             [
              0.5555555555555556,
              "#d8576b"
             ],
             [
              0.6666666666666666,
              "#ed7953"
             ],
             [
              0.7777777777777778,
              "#fb9f3a"
             ],
             [
              0.8888888888888888,
              "#fdca26"
             ],
             [
              1,
              "#f0f921"
             ]
            ],
            "type": "heatmapgl"
           }
          ],
          "histogram": [
           {
            "marker": {
             "pattern": {
              "fillmode": "overlay",
              "size": 10,
              "solidity": 0.2
             }
            },
            "type": "histogram"
           }
          ],
          "histogram2d": [
           {
            "colorbar": {
             "outlinewidth": 0,
             "ticks": ""
            },
            "colorscale": [
             [
              0,
              "#0d0887"
             ],
             [
              0.1111111111111111,
              "#46039f"
             ],
             [
              0.2222222222222222,
              "#7201a8"
             ],
             [
              0.3333333333333333,
              "#9c179e"
             ],
             [
              0.4444444444444444,
              "#bd3786"
             ],
             [
              0.5555555555555556,
              "#d8576b"
             ],
             [
              0.6666666666666666,
              "#ed7953"
             ],
             [
              0.7777777777777778,
              "#fb9f3a"
             ],
             [
              0.8888888888888888,
              "#fdca26"
             ],
             [
              1,
              "#f0f921"
             ]
            ],
            "type": "histogram2d"
           }
          ],
          "histogram2dcontour": [
           {
            "colorbar": {
             "outlinewidth": 0,
             "ticks": ""
            },
            "colorscale": [
             [
              0,
              "#0d0887"
             ],
             [
              0.1111111111111111,
              "#46039f"
             ],
             [
              0.2222222222222222,
              "#7201a8"
             ],
             [
              0.3333333333333333,
              "#9c179e"
             ],
             [
              0.4444444444444444,
              "#bd3786"
             ],
             [
              0.5555555555555556,
              "#d8576b"
             ],
             [
              0.6666666666666666,
              "#ed7953"
             ],
             [
              0.7777777777777778,
              "#fb9f3a"
             ],
             [
              0.8888888888888888,
              "#fdca26"
             ],
             [
              1,
              "#f0f921"
             ]
            ],
            "type": "histogram2dcontour"
           }
          ],
          "mesh3d": [
           {
            "colorbar": {
             "outlinewidth": 0,
             "ticks": ""
            },
            "type": "mesh3d"
           }
          ],
          "parcoords": [
           {
            "line": {
             "colorbar": {
              "outlinewidth": 0,
              "ticks": ""
             }
            },
            "type": "parcoords"
           }
          ],
          "pie": [
           {
            "automargin": true,
            "type": "pie"
           }
          ],
          "scatter": [
           {
            "fillpattern": {
             "fillmode": "overlay",
             "size": 10,
             "solidity": 0.2
            },
            "type": "scatter"
           }
          ],
          "scatter3d": [
           {
            "line": {
             "colorbar": {
              "outlinewidth": 0,
              "ticks": ""
             }
            },
            "marker": {
             "colorbar": {
              "outlinewidth": 0,
              "ticks": ""
             }
            },
            "type": "scatter3d"
           }
          ],
          "scattercarpet": [
           {
            "marker": {
             "colorbar": {
              "outlinewidth": 0,
              "ticks": ""
             }
            },
            "type": "scattercarpet"
           }
          ],
          "scattergeo": [
           {
            "marker": {
             "colorbar": {
              "outlinewidth": 0,
              "ticks": ""
             }
            },
            "type": "scattergeo"
           }
          ],
          "scattergl": [
           {
            "marker": {
             "colorbar": {
              "outlinewidth": 0,
              "ticks": ""
             }
            },
            "type": "scattergl"
           }
          ],
          "scattermapbox": [
           {
            "marker": {
             "colorbar": {
              "outlinewidth": 0,
              "ticks": ""
             }
            },
            "type": "scattermapbox"
           }
          ],
          "scatterpolar": [
           {
            "marker": {
             "colorbar": {
              "outlinewidth": 0,
              "ticks": ""
             }
            },
            "type": "scatterpolar"
           }
          ],
          "scatterpolargl": [
           {
            "marker": {
             "colorbar": {
              "outlinewidth": 0,
              "ticks": ""
             }
            },
            "type": "scatterpolargl"
           }
          ],
          "scatterternary": [
           {
            "marker": {
             "colorbar": {
              "outlinewidth": 0,
              "ticks": ""
             }
            },
            "type": "scatterternary"
           }
          ],
          "surface": [
           {
            "colorbar": {
             "outlinewidth": 0,
             "ticks": ""
            },
            "colorscale": [
             [
              0,
              "#0d0887"
             ],
             [
              0.1111111111111111,
              "#46039f"
             ],
             [
              0.2222222222222222,
              "#7201a8"
             ],
             [
              0.3333333333333333,
              "#9c179e"
             ],
             [
              0.4444444444444444,
              "#bd3786"
             ],
             [
              0.5555555555555556,
              "#d8576b"
             ],
             [
              0.6666666666666666,
              "#ed7953"
             ],
             [
              0.7777777777777778,
              "#fb9f3a"
             ],
             [
              0.8888888888888888,
              "#fdca26"
             ],
             [
              1,
              "#f0f921"
             ]
            ],
            "type": "surface"
           }
          ],
          "table": [
           {
            "cells": {
             "fill": {
              "color": "#EBF0F8"
             },
             "line": {
              "color": "white"
             }
            },
            "header": {
             "fill": {
              "color": "#C8D4E3"
             },
             "line": {
              "color": "white"
             }
            },
            "type": "table"
           }
          ]
         },
         "layout": {
          "annotationdefaults": {
           "arrowcolor": "#2a3f5f",
           "arrowhead": 0,
           "arrowwidth": 1
          },
          "autotypenumbers": "strict",
          "coloraxis": {
           "colorbar": {
            "outlinewidth": 0,
            "ticks": ""
           }
          },
          "colorscale": {
           "diverging": [
            [
             0,
             "#8e0152"
            ],
            [
             0.1,
             "#c51b7d"
            ],
            [
             0.2,
             "#de77ae"
            ],
            [
             0.3,
             "#f1b6da"
            ],
            [
             0.4,
             "#fde0ef"
            ],
            [
             0.5,
             "#f7f7f7"
            ],
            [
             0.6,
             "#e6f5d0"
            ],
            [
             0.7,
             "#b8e186"
            ],
            [
             0.8,
             "#7fbc41"
            ],
            [
             0.9,
             "#4d9221"
            ],
            [
             1,
             "#276419"
            ]
           ],
           "sequential": [
            [
             0,
             "#0d0887"
            ],
            [
             0.1111111111111111,
             "#46039f"
            ],
            [
             0.2222222222222222,
             "#7201a8"
            ],
            [
             0.3333333333333333,
             "#9c179e"
            ],
            [
             0.4444444444444444,
             "#bd3786"
            ],
            [
             0.5555555555555556,
             "#d8576b"
            ],
            [
             0.6666666666666666,
             "#ed7953"
            ],
            [
             0.7777777777777778,
             "#fb9f3a"
            ],
            [
             0.8888888888888888,
             "#fdca26"
            ],
            [
             1,
             "#f0f921"
            ]
           ],
           "sequentialminus": [
            [
             0,
             "#0d0887"
            ],
            [
             0.1111111111111111,
             "#46039f"
            ],
            [
             0.2222222222222222,
             "#7201a8"
            ],
            [
             0.3333333333333333,
             "#9c179e"
            ],
            [
             0.4444444444444444,
             "#bd3786"
            ],
            [
             0.5555555555555556,
             "#d8576b"
            ],
            [
             0.6666666666666666,
             "#ed7953"
            ],
            [
             0.7777777777777778,
             "#fb9f3a"
            ],
            [
             0.8888888888888888,
             "#fdca26"
            ],
            [
             1,
             "#f0f921"
            ]
           ]
          },
          "colorway": [
           "#636efa",
           "#EF553B",
           "#00cc96",
           "#ab63fa",
           "#FFA15A",
           "#19d3f3",
           "#FF6692",
           "#B6E880",
           "#FF97FF",
           "#FECB52"
          ],
          "font": {
           "color": "#2a3f5f"
          },
          "geo": {
           "bgcolor": "white",
           "lakecolor": "white",
           "landcolor": "#E5ECF6",
           "showlakes": true,
           "showland": true,
           "subunitcolor": "white"
          },
          "hoverlabel": {
           "align": "left"
          },
          "hovermode": "closest",
          "mapbox": {
           "style": "light"
          },
          "paper_bgcolor": "white",
          "plot_bgcolor": "#E5ECF6",
          "polar": {
           "angularaxis": {
            "gridcolor": "white",
            "linecolor": "white",
            "ticks": ""
           },
           "bgcolor": "#E5ECF6",
           "radialaxis": {
            "gridcolor": "white",
            "linecolor": "white",
            "ticks": ""
           }
          },
          "scene": {
           "xaxis": {
            "backgroundcolor": "#E5ECF6",
            "gridcolor": "white",
            "gridwidth": 2,
            "linecolor": "white",
            "showbackground": true,
            "ticks": "",
            "zerolinecolor": "white"
           },
           "yaxis": {
            "backgroundcolor": "#E5ECF6",
            "gridcolor": "white",
            "gridwidth": 2,
            "linecolor": "white",
            "showbackground": true,
            "ticks": "",
            "zerolinecolor": "white"
           },
           "zaxis": {
            "backgroundcolor": "#E5ECF6",
            "gridcolor": "white",
            "gridwidth": 2,
            "linecolor": "white",
            "showbackground": true,
            "ticks": "",
            "zerolinecolor": "white"
           }
          },
          "shapedefaults": {
           "line": {
            "color": "#2a3f5f"
           }
          },
          "ternary": {
           "aaxis": {
            "gridcolor": "white",
            "linecolor": "white",
            "ticks": ""
           },
           "baxis": {
            "gridcolor": "white",
            "linecolor": "white",
            "ticks": ""
           },
           "bgcolor": "#E5ECF6",
           "caxis": {
            "gridcolor": "white",
            "linecolor": "white",
            "ticks": ""
           }
          },
          "title": {
           "x": 0.05
          },
          "xaxis": {
           "automargin": true,
           "gridcolor": "white",
           "linecolor": "white",
           "ticks": "",
           "title": {
            "standoff": 15
           },
           "zerolinecolor": "white",
           "zerolinewidth": 2
          },
          "yaxis": {
           "automargin": true,
           "gridcolor": "white",
           "linecolor": "white",
           "ticks": "",
           "title": {
            "standoff": 15
           },
           "zerolinecolor": "white",
           "zerolinewidth": 2
          }
         }
        },
        "title": {
         "text": "Prevalence of Anaemia in Pregnant Women (2010-2019) by region"
        },
        "xaxis": {
         "title": {
          "text": "Year"
         }
        },
        "yaxis": {
         "title": {
          "text": "Prevalence of Anaemia in Pregnant Women (%)"
         }
        }
       }
      }
     },
     "metadata": {},
     "output_type": "display_data"
    }
   ],
   "source": [
    "years = list(map(int, dataPregnant.to_dict('split')['columns'][1:][::-1]))\n",
    "regionsPreg = np.unique(dataPregnant['Location'].to_numpy())\n",
    "\n",
    "fig = go.Figure()\n",
    "for i in regionsPreg:\n",
    "    data = dataPregnant.loc[dataPregnant['Location']==i].to_dict('split')['data'][0][1:][::-1]\n",
    "    fig.add_trace(go.Scatter(x=years, y=data, name=i, mode='markers'))\n",
    "\n",
    "fig.update_layout(\n",
    "    title_text='Prevalence of Anaemia in Pregnant Women (2010-2019) by region',\n",
    "    xaxis_title='Year', yaxis_title='Prevalence of Anaemia in Pregnant Women (%)', legend_title='Regions'\n",
    "    )\n",
    "fig.show()"
   ]
  },
  {
   "cell_type": "code",
   "execution_count": 23,
   "metadata": {},
   "outputs": [],
   "source": [
    "def PearsonCorrelation(x, y):    \n",
    "    df = pd.DataFrame({'x': x, 'y': y})\n",
    "    df['x - u(x)'] = (df['x'] - pd.Series(list(np.mean(df['x']) for i in range(len(x)))))\n",
    "    df['y - u(y)'] = (df['y'] - pd.Series(list(np.mean(df['y']) for i in range(len(y)))))\n",
    "    df['(x - u(x))^2'] = df['x - u(x)'] ** 2\n",
    "    df['(y - u(y))^2'] = df['y - u(y)'] ** 2\n",
    "\n",
    "    xXy = []\n",
    "    for i in range(len(df)):\n",
    "        a = df['x - u(x)'][i] * df['y - u(y)'][i]\n",
    "        xXy.append(a)\n",
    "    df['(x - u(x)) X (y - u(y))'] = xXy\n",
    "    corrN = sum(df['(x - u(x)) X (y - u(y))'])\n",
    "    corrD = (sum(df['(x - u(x))^2']) * sum(df['(y - u(y))^2'])) ** 0.5\n",
    "    corr = round(corrN / corrD, 5)\n",
    "    return corr"
   ]
  },
  {
   "cell_type": "code",
   "execution_count": 24,
   "metadata": {},
   "outputs": [
    {
     "name": "stdout",
     "output_type": "stream",
     "text": [
      "Correlation between pregnant and non-pregnant women in 2019: 0.98653\n",
      "Correlation between pregnant and non-pregnant women in 2009: 0.98414\n",
      "\n",
      "This indicates a strong correlation between the two variables, which means that there is a strong association between the prevalence of anaemia in pregnant and non-pregnant women in 2019.\n"
     ]
    }
   ],
   "source": [
    "# Prevalence of anaemia in pregnant women (aged 15-49) in 2019\n",
    "pregnant_2019 = dataPregnant['2019']\n",
    "# Prevalence of anaemia in non-pregnant women (aged 15-49) in 2019\n",
    "non_pregnant_2019 = dataNonPregnant['2019']\n",
    "\n",
    "# Calculate the correlation between the prevalence of anaemia in pregnant and non-pregnant women in 2019\n",
    "correlation= PearsonCorrelation(pregnant_2019, non_pregnant_2019)\n",
    "print(f\"Correlation between pregnant and non-pregnant women in 2019: {correlation}\")\n",
    "\n",
    "# Prevalence of anaemia in pregnant women (aged 15-49) in 2009\n",
    "pregnant_2009 = dataPregnant['2009']\n",
    "# Prevalence of anaemia in non-pregnant women (aged 15-49) in 2009\n",
    "non_pregnant_2009 = dataNonPregnant['2009']\n",
    "\n",
    "#Calculate the correlation between the prevelence of anaemia in pregnant and non-pregnant women in 2009\n",
    "correlation= PearsonCorrelation(pregnant_2009, non_pregnant_2009)\n",
    "print(f\"Correlation between pregnant and non-pregnant women in 2009: {correlation}\")\n",
    "print(\"\\nThis indicates a strong correlation between the two variables, which means that there is a strong association between the prevalence of anaemia in pregnant and non-pregnant women in 2019.\")"
   ]
  },
  {
   "attachments": {},
   "cell_type": "markdown",
   "metadata": {},
   "source": [
    "<div align='Center'>\n",
    "<hr>\n",
    "\n",
    "##### Problem Statement 2\n",
    "\n",
    "</div>"
   ]
  },
  {
   "cell_type": "code",
   "execution_count": 25,
   "metadata": {},
   "outputs": [
    {
     "data": {
      "application/vnd.plotly.v1+json": {
       "config": {
        "plotlyServerURL": "https://plot.ly"
       },
       "data": [
        {
         "name": "World",
         "type": "scatter",
         "x": [
          1964,
          1974,
          1984,
          1997,
          2015,
          2030
         ],
         "y": [
          2358,
          2435,
          2655,
          2803,
          2940,
          3050
         ]
        },
        {
         "name": "Developing countries",
         "type": "scatter",
         "x": [
          1964,
          1974,
          1984,
          1997,
          2015,
          2030
         ],
         "y": [
          2054,
          2152,
          2450,
          2681,
          2850,
          2980
         ]
        },
        {
         "name": "Near East and North Africa",
         "type": "scatter",
         "x": [
          1964,
          1974,
          1984,
          1997,
          2015,
          2030
         ],
         "y": [
          2290,
          2591,
          2953,
          3006,
          3090,
          3170
         ]
        },
        {
         "name": "Sub-Saharan Africa",
         "type": "scatter",
         "x": [
          1964,
          1974,
          1984,
          1997,
          2015,
          2030
         ],
         "y": [
          2058,
          2079,
          2057,
          2195,
          2360,
          2540
         ]
        },
        {
         "name": "Latin America and the Caribbean",
         "type": "scatter",
         "x": [
          1964,
          1974,
          1984,
          1997,
          2015,
          2030
         ],
         "y": [
          2393,
          2546,
          2689,
          2824,
          2980,
          3140
         ]
        },
        {
         "name": "East Asia",
         "type": "scatter",
         "x": [
          1964,
          1974,
          1984,
          1997,
          2015,
          2030
         ],
         "y": [
          1957,
          2105,
          2559,
          2921,
          3060,
          3190
         ]
        },
        {
         "name": "South Asia",
         "type": "scatter",
         "x": [
          1964,
          1974,
          1984,
          1997,
          2015,
          2030
         ],
         "y": [
          2017,
          1986,
          2205,
          2403,
          2700,
          2900
         ]
        },
        {
         "name": "Industrialized countries",
         "type": "scatter",
         "x": [
          1964,
          1974,
          1984,
          1997,
          2015,
          2030
         ],
         "y": [
          2947,
          3065,
          3206,
          3380,
          3440,
          3500
         ]
        },
        {
         "name": "Transition countries",
         "type": "scatter",
         "x": [
          1964,
          1974,
          1984,
          1997,
          2015,
          2030
         ],
         "y": [
          3222,
          3385,
          3379,
          2906,
          3060,
          3180
         ]
        }
       ],
       "layout": {
        "legend": {
         "title": {
          "text": "Regions"
         }
        },
        "template": {
         "data": {
          "bar": [
           {
            "error_x": {
             "color": "#2a3f5f"
            },
            "error_y": {
             "color": "#2a3f5f"
            },
            "marker": {
             "line": {
              "color": "#E5ECF6",
              "width": 0.5
             },
             "pattern": {
              "fillmode": "overlay",
              "size": 10,
              "solidity": 0.2
             }
            },
            "type": "bar"
           }
          ],
          "barpolar": [
           {
            "marker": {
             "line": {
              "color": "#E5ECF6",
              "width": 0.5
             },
             "pattern": {
              "fillmode": "overlay",
              "size": 10,
              "solidity": 0.2
             }
            },
            "type": "barpolar"
           }
          ],
          "carpet": [
           {
            "aaxis": {
             "endlinecolor": "#2a3f5f",
             "gridcolor": "white",
             "linecolor": "white",
             "minorgridcolor": "white",
             "startlinecolor": "#2a3f5f"
            },
            "baxis": {
             "endlinecolor": "#2a3f5f",
             "gridcolor": "white",
             "linecolor": "white",
             "minorgridcolor": "white",
             "startlinecolor": "#2a3f5f"
            },
            "type": "carpet"
           }
          ],
          "choropleth": [
           {
            "colorbar": {
             "outlinewidth": 0,
             "ticks": ""
            },
            "type": "choropleth"
           }
          ],
          "contour": [
           {
            "colorbar": {
             "outlinewidth": 0,
             "ticks": ""
            },
            "colorscale": [
             [
              0,
              "#0d0887"
             ],
             [
              0.1111111111111111,
              "#46039f"
             ],
             [
              0.2222222222222222,
              "#7201a8"
             ],
             [
              0.3333333333333333,
              "#9c179e"
             ],
             [
              0.4444444444444444,
              "#bd3786"
             ],
             [
              0.5555555555555556,
              "#d8576b"
             ],
             [
              0.6666666666666666,
              "#ed7953"
             ],
             [
              0.7777777777777778,
              "#fb9f3a"
             ],
             [
              0.8888888888888888,
              "#fdca26"
             ],
             [
              1,
              "#f0f921"
             ]
            ],
            "type": "contour"
           }
          ],
          "contourcarpet": [
           {
            "colorbar": {
             "outlinewidth": 0,
             "ticks": ""
            },
            "type": "contourcarpet"
           }
          ],
          "heatmap": [
           {
            "colorbar": {
             "outlinewidth": 0,
             "ticks": ""
            },
            "colorscale": [
             [
              0,
              "#0d0887"
             ],
             [
              0.1111111111111111,
              "#46039f"
             ],
             [
              0.2222222222222222,
              "#7201a8"
             ],
             [
              0.3333333333333333,
              "#9c179e"
             ],
             [
              0.4444444444444444,
              "#bd3786"
             ],
             [
              0.5555555555555556,
              "#d8576b"
             ],
             [
              0.6666666666666666,
              "#ed7953"
             ],
             [
              0.7777777777777778,
              "#fb9f3a"
             ],
             [
              0.8888888888888888,
              "#fdca26"
             ],
             [
              1,
              "#f0f921"
             ]
            ],
            "type": "heatmap"
           }
          ],
          "heatmapgl": [
           {
            "colorbar": {
             "outlinewidth": 0,
             "ticks": ""
            },
            "colorscale": [
             [
              0,
              "#0d0887"
             ],
             [
              0.1111111111111111,
              "#46039f"
             ],
             [
              0.2222222222222222,
              "#7201a8"
             ],
             [
              0.3333333333333333,
              "#9c179e"
             ],
             [
              0.4444444444444444,
              "#bd3786"
             ],
             [
              0.5555555555555556,
              "#d8576b"
             ],
             [
              0.6666666666666666,
              "#ed7953"
             ],
             [
              0.7777777777777778,
              "#fb9f3a"
             ],
             [
              0.8888888888888888,
              "#fdca26"
             ],
             [
              1,
              "#f0f921"
             ]
            ],
            "type": "heatmapgl"
           }
          ],
          "histogram": [
           {
            "marker": {
             "pattern": {
              "fillmode": "overlay",
              "size": 10,
              "solidity": 0.2
             }
            },
            "type": "histogram"
           }
          ],
          "histogram2d": [
           {
            "colorbar": {
             "outlinewidth": 0,
             "ticks": ""
            },
            "colorscale": [
             [
              0,
              "#0d0887"
             ],
             [
              0.1111111111111111,
              "#46039f"
             ],
             [
              0.2222222222222222,
              "#7201a8"
             ],
             [
              0.3333333333333333,
              "#9c179e"
             ],
             [
              0.4444444444444444,
              "#bd3786"
             ],
             [
              0.5555555555555556,
              "#d8576b"
             ],
             [
              0.6666666666666666,
              "#ed7953"
             ],
             [
              0.7777777777777778,
              "#fb9f3a"
             ],
             [
              0.8888888888888888,
              "#fdca26"
             ],
             [
              1,
              "#f0f921"
             ]
            ],
            "type": "histogram2d"
           }
          ],
          "histogram2dcontour": [
           {
            "colorbar": {
             "outlinewidth": 0,
             "ticks": ""
            },
            "colorscale": [
             [
              0,
              "#0d0887"
             ],
             [
              0.1111111111111111,
              "#46039f"
             ],
             [
              0.2222222222222222,
              "#7201a8"
             ],
             [
              0.3333333333333333,
              "#9c179e"
             ],
             [
              0.4444444444444444,
              "#bd3786"
             ],
             [
              0.5555555555555556,
              "#d8576b"
             ],
             [
              0.6666666666666666,
              "#ed7953"
             ],
             [
              0.7777777777777778,
              "#fb9f3a"
             ],
             [
              0.8888888888888888,
              "#fdca26"
             ],
             [
              1,
              "#f0f921"
             ]
            ],
            "type": "histogram2dcontour"
           }
          ],
          "mesh3d": [
           {
            "colorbar": {
             "outlinewidth": 0,
             "ticks": ""
            },
            "type": "mesh3d"
           }
          ],
          "parcoords": [
           {
            "line": {
             "colorbar": {
              "outlinewidth": 0,
              "ticks": ""
             }
            },
            "type": "parcoords"
           }
          ],
          "pie": [
           {
            "automargin": true,
            "type": "pie"
           }
          ],
          "scatter": [
           {
            "fillpattern": {
             "fillmode": "overlay",
             "size": 10,
             "solidity": 0.2
            },
            "type": "scatter"
           }
          ],
          "scatter3d": [
           {
            "line": {
             "colorbar": {
              "outlinewidth": 0,
              "ticks": ""
             }
            },
            "marker": {
             "colorbar": {
              "outlinewidth": 0,
              "ticks": ""
             }
            },
            "type": "scatter3d"
           }
          ],
          "scattercarpet": [
           {
            "marker": {
             "colorbar": {
              "outlinewidth": 0,
              "ticks": ""
             }
            },
            "type": "scattercarpet"
           }
          ],
          "scattergeo": [
           {
            "marker": {
             "colorbar": {
              "outlinewidth": 0,
              "ticks": ""
             }
            },
            "type": "scattergeo"
           }
          ],
          "scattergl": [
           {
            "marker": {
             "colorbar": {
              "outlinewidth": 0,
              "ticks": ""
             }
            },
            "type": "scattergl"
           }
          ],
          "scattermapbox": [
           {
            "marker": {
             "colorbar": {
              "outlinewidth": 0,
              "ticks": ""
             }
            },
            "type": "scattermapbox"
           }
          ],
          "scatterpolar": [
           {
            "marker": {
             "colorbar": {
              "outlinewidth": 0,
              "ticks": ""
             }
            },
            "type": "scatterpolar"
           }
          ],
          "scatterpolargl": [
           {
            "marker": {
             "colorbar": {
              "outlinewidth": 0,
              "ticks": ""
             }
            },
            "type": "scatterpolargl"
           }
          ],
          "scatterternary": [
           {
            "marker": {
             "colorbar": {
              "outlinewidth": 0,
              "ticks": ""
             }
            },
            "type": "scatterternary"
           }
          ],
          "surface": [
           {
            "colorbar": {
             "outlinewidth": 0,
             "ticks": ""
            },
            "colorscale": [
             [
              0,
              "#0d0887"
             ],
             [
              0.1111111111111111,
              "#46039f"
             ],
             [
              0.2222222222222222,
              "#7201a8"
             ],
             [
              0.3333333333333333,
              "#9c179e"
             ],
             [
              0.4444444444444444,
              "#bd3786"
             ],
             [
              0.5555555555555556,
              "#d8576b"
             ],
             [
              0.6666666666666666,
              "#ed7953"
             ],
             [
              0.7777777777777778,
              "#fb9f3a"
             ],
             [
              0.8888888888888888,
              "#fdca26"
             ],
             [
              1,
              "#f0f921"
             ]
            ],
            "type": "surface"
           }
          ],
          "table": [
           {
            "cells": {
             "fill": {
              "color": "#EBF0F8"
             },
             "line": {
              "color": "white"
             }
            },
            "header": {
             "fill": {
              "color": "#C8D4E3"
             },
             "line": {
              "color": "white"
             }
            },
            "type": "table"
           }
          ]
         },
         "layout": {
          "annotationdefaults": {
           "arrowcolor": "#2a3f5f",
           "arrowhead": 0,
           "arrowwidth": 1
          },
          "autotypenumbers": "strict",
          "coloraxis": {
           "colorbar": {
            "outlinewidth": 0,
            "ticks": ""
           }
          },
          "colorscale": {
           "diverging": [
            [
             0,
             "#8e0152"
            ],
            [
             0.1,
             "#c51b7d"
            ],
            [
             0.2,
             "#de77ae"
            ],
            [
             0.3,
             "#f1b6da"
            ],
            [
             0.4,
             "#fde0ef"
            ],
            [
             0.5,
             "#f7f7f7"
            ],
            [
             0.6,
             "#e6f5d0"
            ],
            [
             0.7,
             "#b8e186"
            ],
            [
             0.8,
             "#7fbc41"
            ],
            [
             0.9,
             "#4d9221"
            ],
            [
             1,
             "#276419"
            ]
           ],
           "sequential": [
            [
             0,
             "#0d0887"
            ],
            [
             0.1111111111111111,
             "#46039f"
            ],
            [
             0.2222222222222222,
             "#7201a8"
            ],
            [
             0.3333333333333333,
             "#9c179e"
            ],
            [
             0.4444444444444444,
             "#bd3786"
            ],
            [
             0.5555555555555556,
             "#d8576b"
            ],
            [
             0.6666666666666666,
             "#ed7953"
            ],
            [
             0.7777777777777778,
             "#fb9f3a"
            ],
            [
             0.8888888888888888,
             "#fdca26"
            ],
            [
             1,
             "#f0f921"
            ]
           ],
           "sequentialminus": [
            [
             0,
             "#0d0887"
            ],
            [
             0.1111111111111111,
             "#46039f"
            ],
            [
             0.2222222222222222,
             "#7201a8"
            ],
            [
             0.3333333333333333,
             "#9c179e"
            ],
            [
             0.4444444444444444,
             "#bd3786"
            ],
            [
             0.5555555555555556,
             "#d8576b"
            ],
            [
             0.6666666666666666,
             "#ed7953"
            ],
            [
             0.7777777777777778,
             "#fb9f3a"
            ],
            [
             0.8888888888888888,
             "#fdca26"
            ],
            [
             1,
             "#f0f921"
            ]
           ]
          },
          "colorway": [
           "#636efa",
           "#EF553B",
           "#00cc96",
           "#ab63fa",
           "#FFA15A",
           "#19d3f3",
           "#FF6692",
           "#B6E880",
           "#FF97FF",
           "#FECB52"
          ],
          "font": {
           "color": "#2a3f5f"
          },
          "geo": {
           "bgcolor": "white",
           "lakecolor": "white",
           "landcolor": "#E5ECF6",
           "showlakes": true,
           "showland": true,
           "subunitcolor": "white"
          },
          "hoverlabel": {
           "align": "left"
          },
          "hovermode": "closest",
          "mapbox": {
           "style": "light"
          },
          "paper_bgcolor": "white",
          "plot_bgcolor": "#E5ECF6",
          "polar": {
           "angularaxis": {
            "gridcolor": "white",
            "linecolor": "white",
            "ticks": ""
           },
           "bgcolor": "#E5ECF6",
           "radialaxis": {
            "gridcolor": "white",
            "linecolor": "white",
            "ticks": ""
           }
          },
          "scene": {
           "xaxis": {
            "backgroundcolor": "#E5ECF6",
            "gridcolor": "white",
            "gridwidth": 2,
            "linecolor": "white",
            "showbackground": true,
            "ticks": "",
            "zerolinecolor": "white"
           },
           "yaxis": {
            "backgroundcolor": "#E5ECF6",
            "gridcolor": "white",
            "gridwidth": 2,
            "linecolor": "white",
            "showbackground": true,
            "ticks": "",
            "zerolinecolor": "white"
           },
           "zaxis": {
            "backgroundcolor": "#E5ECF6",
            "gridcolor": "white",
            "gridwidth": 2,
            "linecolor": "white",
            "showbackground": true,
            "ticks": "",
            "zerolinecolor": "white"
           }
          },
          "shapedefaults": {
           "line": {
            "color": "#2a3f5f"
           }
          },
          "ternary": {
           "aaxis": {
            "gridcolor": "white",
            "linecolor": "white",
            "ticks": ""
           },
           "baxis": {
            "gridcolor": "white",
            "linecolor": "white",
            "ticks": ""
           },
           "bgcolor": "#E5ECF6",
           "caxis": {
            "gridcolor": "white",
            "linecolor": "white",
            "ticks": ""
           }
          },
          "title": {
           "x": 0.05
          },
          "xaxis": {
           "automargin": true,
           "gridcolor": "white",
           "linecolor": "white",
           "ticks": "",
           "title": {
            "standoff": 15
           },
           "zerolinecolor": "white",
           "zerolinewidth": 2
          },
          "yaxis": {
           "automargin": true,
           "gridcolor": "white",
           "linecolor": "white",
           "ticks": "",
           "title": {
            "standoff": 15
           },
           "zerolinecolor": "white",
           "zerolinewidth": 2
          }
         }
        },
        "title": {
         "text": "Global & Region per capita Food Consumption (kcal per capita per day)"
        },
        "xaxis": {
         "title": {
          "text": "Year"
         }
        },
        "yaxis": {
         "title": {
          "text": "per Capita Food Consumption"
         }
        }
       }
      }
     },
     "metadata": {},
     "output_type": "display_data"
    }
   ],
   "source": [
    "regions = dataFood['Region']\n",
    "years = [1964, 1974, 1984, 1997, 2015, 2030]\n",
    "\n",
    "fig = go.Figure()\n",
    "for i in regions:\n",
    "    data = dataFood.loc[dataFood['Region']==i].to_dict('split')['data'][0][1:]\n",
    "    fig.add_trace(go.Scatter(x=years, y=data, name=i))\n",
    "\n",
    "fig.update_layout(\n",
    "    title_text='Global & Region per capita Food Consumption (kcal per capita per day)',\n",
    "    xaxis_title='Year', yaxis_title='per Capita Food Consumption', legend_title='Regions'\n",
    "    )\n",
    "fig.show()"
   ]
  },
  {
   "cell_type": "code",
   "execution_count": 26,
   "metadata": {},
   "outputs": [
    {
     "data": {
      "text/html": [
       "<div>\n",
       "<style scoped>\n",
       "    .dataframe tbody tr th:only-of-type {\n",
       "        vertical-align: middle;\n",
       "    }\n",
       "\n",
       "    .dataframe tbody tr th {\n",
       "        vertical-align: top;\n",
       "    }\n",
       "\n",
       "    .dataframe thead th {\n",
       "        text-align: right;\n",
       "    }\n",
       "</style>\n",
       "<table border=\"1\" class=\"dataframe\">\n",
       "  <thead>\n",
       "    <tr style=\"text-align: right;\">\n",
       "      <th></th>\n",
       "      <th>Region</th>\n",
       "      <th>1964</th>\n",
       "      <th>1974</th>\n",
       "      <th>1984</th>\n",
       "      <th>1997</th>\n",
       "      <th>2015</th>\n",
       "      <th>2030</th>\n",
       "    </tr>\n",
       "  </thead>\n",
       "  <tbody>\n",
       "    <tr>\n",
       "      <th>3</th>\n",
       "      <td>Sub-Saharan Africa</td>\n",
       "      <td>2058</td>\n",
       "      <td>2079</td>\n",
       "      <td>2057</td>\n",
       "      <td>2195</td>\n",
       "      <td>2360</td>\n",
       "      <td>2540</td>\n",
       "    </tr>\n",
       "    <tr>\n",
       "      <th>6</th>\n",
       "      <td>South Asia</td>\n",
       "      <td>2017</td>\n",
       "      <td>1986</td>\n",
       "      <td>2205</td>\n",
       "      <td>2403</td>\n",
       "      <td>2700</td>\n",
       "      <td>2900</td>\n",
       "    </tr>\n",
       "  </tbody>\n",
       "</table>\n",
       "</div>"
      ],
      "text/plain": [
       "               Region  1964  1974  1984  1997  2015  2030\n",
       "3  Sub-Saharan Africa  2058  2079  2057  2195  2360  2540\n",
       "6          South Asia  2017  1986  2205  2403  2700  2900"
      ]
     },
     "execution_count": 26,
     "metadata": {},
     "output_type": "execute_result"
    }
   ],
   "source": [
    "# Find the regions with the lowest numbers in the latest year (2030)\n",
    "dataFood.sort_values(\"2030\").head(2)"
   ]
  },
  {
   "cell_type": "code",
   "execution_count": 27,
   "metadata": {},
   "outputs": [
    {
     "name": "stdout",
     "output_type": "stream",
     "text": [
      "Fail to reject the null hypothesis, the mean of the food deficiency diseases for the region of interest is equal to the threshold.\n"
     ]
    }
   ],
   "source": [
    "# Define the Function\n",
    "def ttest(x, popmean):\n",
    "    n = len(x)\n",
    "    var_x = np.var(x, ddof = 1)  \n",
    "    std = np.sqrt((var_x) / 2)\n",
    "    tval = (np.mean(x) - popmean) / (std * np.sqrt(2 / n))  \n",
    "    dof = 2 * n - 2\n",
    "    pval = 1 - stats.t.cdf(-tval, df = dof)*2\n",
    "    return tval, pval\n",
    "\n",
    "# Define the threshold or benchmark value\n",
    "threshold = 3000\n",
    "\n",
    "# Perform the t-test\n",
    "t, p = ttest(dataFood['2030'], threshold)\n",
    "# Check the p-value\n",
    "if p < 0.05:\n",
    "    print(\"Reject the null hypothesis, the mean of the food deficiency diseases for the region of interest is not equal to the threshold.\")\n",
    "else:\n",
    "    print(\"Fail to reject the null hypothesis, the mean of the food deficiency diseases for the region of interest is equal to the threshold.\")"
   ]
  },
  {
   "attachments": {},
   "cell_type": "markdown",
   "metadata": {},
   "source": [
    "<div align='Center'>\n",
    "<hr>\n",
    "\n",
    "##### Problem Statement 3\n",
    "\n",
    "</div>"
   ]
  },
  {
   "cell_type": "code",
   "execution_count": 28,
   "metadata": {},
   "outputs": [
    {
     "data": {
      "application/vnd.plotly.v1+json": {
       "config": {
        "plotlyServerURL": "https://plot.ly"
       },
       "data": [
        {
         "name": "1990",
         "type": "bar",
         "x": [
          "Global",
          "High-middle SDI",
          "High SDI",
          "Low-middle SDI",
          "Low SDI",
          "Middle SDI",
          "East Asia",
          "Southeast asia",
          "Oceania",
          "Central Asia",
          "Central Europe",
          "Eastern Europe",
          "High-income Asia Pacific",
          "Australasia",
          "Western Europe",
          "Southern Latin America",
          "High-income North America",
          "Caribbean",
          "Andean Latin America",
          "Central Latin America",
          "Tropical Latin America",
          "North Africa and Middle East",
          "South Asia",
          "Central Sub-Saharan Africa",
          "Eastern Sub-Saharan Africa",
          "Southern Sub-Saharan Africa",
          "Western Sub-Saharan Africa"
         ],
         "y": [
          17.1,
          15.8,
          13.9,
          19.1,
          21.8,
          19.2,
          20.7,
          20.2,
          15,
          12.7,
          13.3,
          12.8,
          17,
          14.2,
          12.2,
          15.6,
          14,
          13.4,
          14.3,
          16,
          17.3,
          16.1,
          18.2,
          23.8,
          24.9,
          21.3,
          25.9
         ]
        },
        {
         "name": "2019",
         "type": "bar",
         "x": [
          "Global",
          "High-middle SDI",
          "High SDI",
          "Low-middle SDI",
          "Low SDI",
          "Middle SDI",
          "East Asia",
          "Southeast asia",
          "Oceania",
          "Central Asia",
          "Central Europe",
          "Eastern Europe",
          "High-income Asia Pacific",
          "Australasia",
          "Western Europe",
          "Southern Latin America",
          "High-income North America",
          "Caribbean",
          "Andean Latin America",
          "Central Latin America",
          "Tropical Latin America",
          "North Africa and Middle East",
          "South Asia",
          "Central Sub-Saharan Africa",
          "Eastern Sub-Saharan Africa",
          "Southern Sub-Saharan Africa",
          "Western Sub-Saharan Africa"
         ],
         "y": [
          16.3,
          15.2,
          13.4,
          17.9,
          20.7,
          17.2,
          18,
          19.2,
          14.7,
          11.7,
          11.8,
          12.1,
          14.7,
          12.3,
          11.1,
          13.8,
          14.8,
          12,
          12.6,
          14.7,
          15.5,
          14.9,
          17.1,
          23.2,
          23.6,
          19.8,
          25.1
         ]
        }
       ],
       "layout": {
        "legend": {
         "orientation": "h",
         "title": {
          "text": "Year"
         },
         "x": 1,
         "xanchor": "right",
         "y": 1.02,
         "yanchor": "bottom"
        },
        "template": {
         "data": {
          "bar": [
           {
            "error_x": {
             "color": "#2a3f5f"
            },
            "error_y": {
             "color": "#2a3f5f"
            },
            "marker": {
             "line": {
              "color": "#E5ECF6",
              "width": 0.5
             },
             "pattern": {
              "fillmode": "overlay",
              "size": 10,
              "solidity": 0.2
             }
            },
            "type": "bar"
           }
          ],
          "barpolar": [
           {
            "marker": {
             "line": {
              "color": "#E5ECF6",
              "width": 0.5
             },
             "pattern": {
              "fillmode": "overlay",
              "size": 10,
              "solidity": 0.2
             }
            },
            "type": "barpolar"
           }
          ],
          "carpet": [
           {
            "aaxis": {
             "endlinecolor": "#2a3f5f",
             "gridcolor": "white",
             "linecolor": "white",
             "minorgridcolor": "white",
             "startlinecolor": "#2a3f5f"
            },
            "baxis": {
             "endlinecolor": "#2a3f5f",
             "gridcolor": "white",
             "linecolor": "white",
             "minorgridcolor": "white",
             "startlinecolor": "#2a3f5f"
            },
            "type": "carpet"
           }
          ],
          "choropleth": [
           {
            "colorbar": {
             "outlinewidth": 0,
             "ticks": ""
            },
            "type": "choropleth"
           }
          ],
          "contour": [
           {
            "colorbar": {
             "outlinewidth": 0,
             "ticks": ""
            },
            "colorscale": [
             [
              0,
              "#0d0887"
             ],
             [
              0.1111111111111111,
              "#46039f"
             ],
             [
              0.2222222222222222,
              "#7201a8"
             ],
             [
              0.3333333333333333,
              "#9c179e"
             ],
             [
              0.4444444444444444,
              "#bd3786"
             ],
             [
              0.5555555555555556,
              "#d8576b"
             ],
             [
              0.6666666666666666,
              "#ed7953"
             ],
             [
              0.7777777777777778,
              "#fb9f3a"
             ],
             [
              0.8888888888888888,
              "#fdca26"
             ],
             [
              1,
              "#f0f921"
             ]
            ],
            "type": "contour"
           }
          ],
          "contourcarpet": [
           {
            "colorbar": {
             "outlinewidth": 0,
             "ticks": ""
            },
            "type": "contourcarpet"
           }
          ],
          "heatmap": [
           {
            "colorbar": {
             "outlinewidth": 0,
             "ticks": ""
            },
            "colorscale": [
             [
              0,
              "#0d0887"
             ],
             [
              0.1111111111111111,
              "#46039f"
             ],
             [
              0.2222222222222222,
              "#7201a8"
             ],
             [
              0.3333333333333333,
              "#9c179e"
             ],
             [
              0.4444444444444444,
              "#bd3786"
             ],
             [
              0.5555555555555556,
              "#d8576b"
             ],
             [
              0.6666666666666666,
              "#ed7953"
             ],
             [
              0.7777777777777778,
              "#fb9f3a"
             ],
             [
              0.8888888888888888,
              "#fdca26"
             ],
             [
              1,
              "#f0f921"
             ]
            ],
            "type": "heatmap"
           }
          ],
          "heatmapgl": [
           {
            "colorbar": {
             "outlinewidth": 0,
             "ticks": ""
            },
            "colorscale": [
             [
              0,
              "#0d0887"
             ],
             [
              0.1111111111111111,
              "#46039f"
             ],
             [
              0.2222222222222222,
              "#7201a8"
             ],
             [
              0.3333333333333333,
              "#9c179e"
             ],
             [
              0.4444444444444444,
              "#bd3786"
             ],
             [
              0.5555555555555556,
              "#d8576b"
             ],
             [
              0.6666666666666666,
              "#ed7953"
             ],
             [
              0.7777777777777778,
              "#fb9f3a"
             ],
             [
              0.8888888888888888,
              "#fdca26"
             ],
             [
              1,
              "#f0f921"
             ]
            ],
            "type": "heatmapgl"
           }
          ],
          "histogram": [
           {
            "marker": {
             "pattern": {
              "fillmode": "overlay",
              "size": 10,
              "solidity": 0.2
             }
            },
            "type": "histogram"
           }
          ],
          "histogram2d": [
           {
            "colorbar": {
             "outlinewidth": 0,
             "ticks": ""
            },
            "colorscale": [
             [
              0,
              "#0d0887"
             ],
             [
              0.1111111111111111,
              "#46039f"
             ],
             [
              0.2222222222222222,
              "#7201a8"
             ],
             [
              0.3333333333333333,
              "#9c179e"
             ],
             [
              0.4444444444444444,
              "#bd3786"
             ],
             [
              0.5555555555555556,
              "#d8576b"
             ],
             [
              0.6666666666666666,
              "#ed7953"
             ],
             [
              0.7777777777777778,
              "#fb9f3a"
             ],
             [
              0.8888888888888888,
              "#fdca26"
             ],
             [
              1,
              "#f0f921"
             ]
            ],
            "type": "histogram2d"
           }
          ],
          "histogram2dcontour": [
           {
            "colorbar": {
             "outlinewidth": 0,
             "ticks": ""
            },
            "colorscale": [
             [
              0,
              "#0d0887"
             ],
             [
              0.1111111111111111,
              "#46039f"
             ],
             [
              0.2222222222222222,
              "#7201a8"
             ],
             [
              0.3333333333333333,
              "#9c179e"
             ],
             [
              0.4444444444444444,
              "#bd3786"
             ],
             [
              0.5555555555555556,
              "#d8576b"
             ],
             [
              0.6666666666666666,
              "#ed7953"
             ],
             [
              0.7777777777777778,
              "#fb9f3a"
             ],
             [
              0.8888888888888888,
              "#fdca26"
             ],
             [
              1,
              "#f0f921"
             ]
            ],
            "type": "histogram2dcontour"
           }
          ],
          "mesh3d": [
           {
            "colorbar": {
             "outlinewidth": 0,
             "ticks": ""
            },
            "type": "mesh3d"
           }
          ],
          "parcoords": [
           {
            "line": {
             "colorbar": {
              "outlinewidth": 0,
              "ticks": ""
             }
            },
            "type": "parcoords"
           }
          ],
          "pie": [
           {
            "automargin": true,
            "type": "pie"
           }
          ],
          "scatter": [
           {
            "fillpattern": {
             "fillmode": "overlay",
             "size": 10,
             "solidity": 0.2
            },
            "type": "scatter"
           }
          ],
          "scatter3d": [
           {
            "line": {
             "colorbar": {
              "outlinewidth": 0,
              "ticks": ""
             }
            },
            "marker": {
             "colorbar": {
              "outlinewidth": 0,
              "ticks": ""
             }
            },
            "type": "scatter3d"
           }
          ],
          "scattercarpet": [
           {
            "marker": {
             "colorbar": {
              "outlinewidth": 0,
              "ticks": ""
             }
            },
            "type": "scattercarpet"
           }
          ],
          "scattergeo": [
           {
            "marker": {
             "colorbar": {
              "outlinewidth": 0,
              "ticks": ""
             }
            },
            "type": "scattergeo"
           }
          ],
          "scattergl": [
           {
            "marker": {
             "colorbar": {
              "outlinewidth": 0,
              "ticks": ""
             }
            },
            "type": "scattergl"
           }
          ],
          "scattermapbox": [
           {
            "marker": {
             "colorbar": {
              "outlinewidth": 0,
              "ticks": ""
             }
            },
            "type": "scattermapbox"
           }
          ],
          "scatterpolar": [
           {
            "marker": {
             "colorbar": {
              "outlinewidth": 0,
              "ticks": ""
             }
            },
            "type": "scatterpolar"
           }
          ],
          "scatterpolargl": [
           {
            "marker": {
             "colorbar": {
              "outlinewidth": 0,
              "ticks": ""
             }
            },
            "type": "scatterpolargl"
           }
          ],
          "scatterternary": [
           {
            "marker": {
             "colorbar": {
              "outlinewidth": 0,
              "ticks": ""
             }
            },
            "type": "scatterternary"
           }
          ],
          "surface": [
           {
            "colorbar": {
             "outlinewidth": 0,
             "ticks": ""
            },
            "colorscale": [
             [
              0,
              "#0d0887"
             ],
             [
              0.1111111111111111,
              "#46039f"
             ],
             [
              0.2222222222222222,
              "#7201a8"
             ],
             [
              0.3333333333333333,
              "#9c179e"
             ],
             [
              0.4444444444444444,
              "#bd3786"
             ],
             [
              0.5555555555555556,
              "#d8576b"
             ],
             [
              0.6666666666666666,
              "#ed7953"
             ],
             [
              0.7777777777777778,
              "#fb9f3a"
             ],
             [
              0.8888888888888888,
              "#fdca26"
             ],
             [
              1,
              "#f0f921"
             ]
            ],
            "type": "surface"
           }
          ],
          "table": [
           {
            "cells": {
             "fill": {
              "color": "#EBF0F8"
             },
             "line": {
              "color": "white"
             }
            },
            "header": {
             "fill": {
              "color": "#C8D4E3"
             },
             "line": {
              "color": "white"
             }
            },
            "type": "table"
           }
          ]
         },
         "layout": {
          "annotationdefaults": {
           "arrowcolor": "#2a3f5f",
           "arrowhead": 0,
           "arrowwidth": 1
          },
          "autotypenumbers": "strict",
          "coloraxis": {
           "colorbar": {
            "outlinewidth": 0,
            "ticks": ""
           }
          },
          "colorscale": {
           "diverging": [
            [
             0,
             "#8e0152"
            ],
            [
             0.1,
             "#c51b7d"
            ],
            [
             0.2,
             "#de77ae"
            ],
            [
             0.3,
             "#f1b6da"
            ],
            [
             0.4,
             "#fde0ef"
            ],
            [
             0.5,
             "#f7f7f7"
            ],
            [
             0.6,
             "#e6f5d0"
            ],
            [
             0.7,
             "#b8e186"
            ],
            [
             0.8,
             "#7fbc41"
            ],
            [
             0.9,
             "#4d9221"
            ],
            [
             1,
             "#276419"
            ]
           ],
           "sequential": [
            [
             0,
             "#0d0887"
            ],
            [
             0.1111111111111111,
             "#46039f"
            ],
            [
             0.2222222222222222,
             "#7201a8"
            ],
            [
             0.3333333333333333,
             "#9c179e"
            ],
            [
             0.4444444444444444,
             "#bd3786"
            ],
            [
             0.5555555555555556,
             "#d8576b"
            ],
            [
             0.6666666666666666,
             "#ed7953"
            ],
            [
             0.7777777777777778,
             "#fb9f3a"
            ],
            [
             0.8888888888888888,
             "#fdca26"
            ],
            [
             1,
             "#f0f921"
            ]
           ],
           "sequentialminus": [
            [
             0,
             "#0d0887"
            ],
            [
             0.1111111111111111,
             "#46039f"
            ],
            [
             0.2222222222222222,
             "#7201a8"
            ],
            [
             0.3333333333333333,
             "#9c179e"
            ],
            [
             0.4444444444444444,
             "#bd3786"
            ],
            [
             0.5555555555555556,
             "#d8576b"
            ],
            [
             0.6666666666666666,
             "#ed7953"
            ],
            [
             0.7777777777777778,
             "#fb9f3a"
            ],
            [
             0.8888888888888888,
             "#fdca26"
            ],
            [
             1,
             "#f0f921"
            ]
           ]
          },
          "colorway": [
           "#636efa",
           "#EF553B",
           "#00cc96",
           "#ab63fa",
           "#FFA15A",
           "#19d3f3",
           "#FF6692",
           "#B6E880",
           "#FF97FF",
           "#FECB52"
          ],
          "font": {
           "color": "#2a3f5f"
          },
          "geo": {
           "bgcolor": "white",
           "lakecolor": "white",
           "landcolor": "#E5ECF6",
           "showlakes": true,
           "showland": true,
           "subunitcolor": "white"
          },
          "hoverlabel": {
           "align": "left"
          },
          "hovermode": "closest",
          "mapbox": {
           "style": "light"
          },
          "paper_bgcolor": "white",
          "plot_bgcolor": "#E5ECF6",
          "polar": {
           "angularaxis": {
            "gridcolor": "white",
            "linecolor": "white",
            "ticks": ""
           },
           "bgcolor": "#E5ECF6",
           "radialaxis": {
            "gridcolor": "white",
            "linecolor": "white",
            "ticks": ""
           }
          },
          "scene": {
           "xaxis": {
            "backgroundcolor": "#E5ECF6",
            "gridcolor": "white",
            "gridwidth": 2,
            "linecolor": "white",
            "showbackground": true,
            "ticks": "",
            "zerolinecolor": "white"
           },
           "yaxis": {
            "backgroundcolor": "#E5ECF6",
            "gridcolor": "white",
            "gridwidth": 2,
            "linecolor": "white",
            "showbackground": true,
            "ticks": "",
            "zerolinecolor": "white"
           },
           "zaxis": {
            "backgroundcolor": "#E5ECF6",
            "gridcolor": "white",
            "gridwidth": 2,
            "linecolor": "white",
            "showbackground": true,
            "ticks": "",
            "zerolinecolor": "white"
           }
          },
          "shapedefaults": {
           "line": {
            "color": "#2a3f5f"
           }
          },
          "ternary": {
           "aaxis": {
            "gridcolor": "white",
            "linecolor": "white",
            "ticks": ""
           },
           "baxis": {
            "gridcolor": "white",
            "linecolor": "white",
            "ticks": ""
           },
           "bgcolor": "#E5ECF6",
           "caxis": {
            "gridcolor": "white",
            "linecolor": "white",
            "ticks": ""
           }
          },
          "title": {
           "x": 0.05
          },
          "xaxis": {
           "automargin": true,
           "gridcolor": "white",
           "linecolor": "white",
           "ticks": "",
           "title": {
            "standoff": 15
           },
           "zerolinecolor": "white",
           "zerolinewidth": 2
          },
          "yaxis": {
           "automargin": true,
           "gridcolor": "white",
           "linecolor": "white",
           "ticks": "",
           "title": {
            "standoff": 15
           },
           "zerolinecolor": "white",
           "zerolinewidth": 2
          }
         }
        },
        "title": {
         "text": "Age-standardized SEV for both Sexes"
        },
        "xaxis": {
         "title": {
          "text": "Region"
         }
        },
        "yaxis": {
         "title": {
          "text": "Age-standardized SEV"
         }
        }
       }
      }
     },
     "metadata": {},
     "output_type": "display_data"
    }
   ],
   "source": [
    "regions = dataSEV['region']\n",
    "sev_1990 = dataSEV['Age standardized SEV in 1990 for both sexes']\n",
    "sev_2019 = dataSEV['Age standardized SEV in 2019 for both sexes']\n",
    "\n",
    "fig = go.Figure()\n",
    "fig.add_trace(go.Bar(x=regions, y=sev_1990, name='1990'))\n",
    "fig.add_trace(go.Bar(x=regions, y=sev_2019, name='2019'))\n",
    "\n",
    "fig.update_layout(\n",
    "    xaxis_title='Region', yaxis_title='Age-standardized SEV', legend_title='Year',\n",
    "    legend=dict(orientation=\"h\", x=1, y=1.02, xanchor=\"right\", yanchor=\"bottom\"),\n",
    "    title_text='Age-standardized SEV for both Sexes'\n",
    "    )\n",
    "fig.show()"
   ]
  },
  {
   "cell_type": "code",
   "execution_count": 29,
   "metadata": {},
   "outputs": [
    {
     "name": "stdout",
     "output_type": "stream",
     "text": [
      "Difference in SEV between females and males in 1990: 0      8.8\n",
      "1      8.8\n",
      "2      5.8\n",
      "3     10.6\n",
      "4     11.5\n",
      "5     11.2\n",
      "6     11.6\n",
      "7     14.8\n",
      "8     11.3\n",
      "9      7.3\n",
      "10    11.1\n",
      "11     7.1\n",
      "12     9.0\n",
      "13     3.8\n",
      "14     5.5\n",
      "15     8.9\n",
      "16     4.4\n",
      "17     5.1\n",
      "18     7.5\n",
      "19    11.1\n",
      "20    10.8\n",
      "21     6.7\n",
      "22    10.2\n",
      "23    11.0\n",
      "24    10.4\n",
      "25     6.7\n",
      "26    16.7\n",
      "dtype: float64\n",
      "Difference in SEV between females and males in 2019: 0      9.4\n",
      "1      9.0\n",
      "2      6.5\n",
      "3     10.2\n",
      "4     11.2\n",
      "5     10.5\n",
      "6     10.5\n",
      "7     14.8\n",
      "8     10.9\n",
      "9      6.9\n",
      "10    10.3\n",
      "11     6.6\n",
      "12     8.4\n",
      "13     3.7\n",
      "14     5.3\n",
      "15     7.6\n",
      "16     6.6\n",
      "17     4.8\n",
      "18     7.0\n",
      "19    10.9\n",
      "20    10.3\n",
      "21     6.1\n",
      "22     9.9\n",
      "23    11.5\n",
      "24    10.5\n",
      "25     7.1\n",
      "26    16.0\n",
      "dtype: float64\n"
     ]
    }
   ],
   "source": [
    "females_1990 = dataSEV['Age standardized SEV in 1990 for females']\n",
    "females_2019 = dataSEV['Age standardized SEV in 2019 for  females']\n",
    "males_1990 = dataSEV['Age standardized SEV in 1990 for males']\n",
    "males_2019 = dataSEV['Age standardized SEV in 2019 for males']\n",
    "\n",
    "# Calculate the difference between SEV for females and males in 1990 and 2019\n",
    "diff_1990 = females_1990 - males_1990\n",
    "diff_2019 = females_2019 - males_2019\n",
    "\n",
    "# Print the difference between SEV for females and males in 1990 and 2019\n",
    "print(\"Difference in SEV between females and males in 1990:\", diff_1990)\n",
    "print(\"Difference in SEV between females and males in 2019:\", diff_2019)"
   ]
  },
  {
   "attachments": {},
   "cell_type": "markdown",
   "metadata": {},
   "source": [
    "<hr>\n",
    "\n",
    "#### Objective 3 - Puneet (2022BTech077)\n",
    "To rank world regions based on farming and pastoral economy of the countries.\n",
    "* To analyze the rate of farming sales and animal feed expenditure across the world.\n",
    "* To rank the world regions based on the analysis before.\n",
    "* To correlate the rates of farming sales and animal feed expenditure.\n",
    "\n",
    "<hr>"
   ]
  },
  {
   "attachments": {},
   "cell_type": "markdown",
   "metadata": {},
   "source": [
    "Reading the Datasets"
   ]
  },
  {
   "cell_type": "code",
   "execution_count": 30,
   "metadata": {},
   "outputs": [],
   "source": [
    "dataFarming = pd.read_csv(\"3 Data 1.csv\")\n",
    "dataAnimals = pd.read_csv(\"3 Data 2.csv\")"
   ]
  },
  {
   "attachments": {},
   "cell_type": "markdown",
   "metadata": {},
   "source": [
    "Splitting the Dataset"
   ]
  },
  {
   "cell_type": "code",
   "execution_count": 31,
   "metadata": {},
   "outputs": [],
   "source": [
    "# Specify the Data\n",
    "countriesInFarmingData = np.unique(dataFarming['Country or Area'].to_numpy())\n",
    "countriesInAnimalData = np.unique(dataAnimals['Country or Area'].to_numpy())\n",
    "\n",
    "# Convert the Dataset to Dictionary\n",
    "allData = dict()\n",
    "for i in countriesInAnimalData:       # Lesser Size\n",
    "  fData = dataFarming.loc[dataFarming['Country or Area']==i]\n",
    "  aData = dataAnimals.loc[(dataAnimals['Country or Area']==i)&(dataAnimals['Unit']=='Mil. USD')]\n",
    "\n",
    "  y1 = np.unique(fData['Year'].to_numpy())\n",
    "  y2 = np.unique(aData['Year'].to_numpy())\n",
    "\n",
    "  if len(y1) != 0 and len(y2) != 0:\n",
    "    fCountryData = fData['Value'].to_list()\n",
    "    aCountryData = aData['Value'].to_list()\n",
    "    allData[i] = {\n",
    "      'Farming': {k:v for k,v in zip(y1, fCountryData)},\n",
    "      'Animals': {k:v for k,v in zip(y2, aCountryData)}\n",
    "      }"
   ]
  },
  {
   "attachments": {},
   "cell_type": "markdown",
   "metadata": {},
   "source": [
    "<div align='Center'>\n",
    "<hr>\n",
    "\n",
    "##### Problem Statement 1\n",
    "\n",
    "</div>"
   ]
  },
  {
   "attachments": {},
   "cell_type": "markdown",
   "metadata": {},
   "source": [
    "Calculating the Growth Rates"
   ]
  },
  {
   "cell_type": "code",
   "execution_count": 32,
   "metadata": {},
   "outputs": [
    {
     "name": "stdout",
     "output_type": "stream",
     "text": [
      "The Growth Rate in the sector of Farming Sales and Animal Feed Spendings in-\n",
      "\tAlbania are 0.046539054149960735 and 0.03680742214566357, respectively.\n",
      "\tBrazil are 0.0663700492936562 and 0.0846220713615713, respectively.\n",
      "\tBulgaria are 0.015375657351417216 and 0.06650091789326595, respectively.\n",
      "\tCanada are 0.031505580629358265 and 0.04527139056921026, respectively.\n",
      "\tChile are 0.06186134096717577 and -0.06430100470212419, respectively.\n",
      "\tChina, Hong Kong Special Administrative Region are 0.04981374021152096 and 0.07807033065752833, respectively.\n",
      "\tCzechia are 0.017435605870597337 and 0.03952857906914142, respectively.\n",
      "\tDenmark are -0.004091227143505183 and 0.07341455906226202, respectively.\n",
      "\tDominican Republic are 0.09783166675290811 and 0.12771195721597894, respectively.\n",
      "\tEcuador are 0.030018065324903143 and 0.13203975608901397, respectively.\n",
      "\tEstonia are 0.02969161354511718 and 0.06200677576657743, respectively.\n",
      "\tFinland are 0.008895535569544255 and 0.013529363276342798, respectively.\n",
      "\tFrance are 0.004446343482097825 and 0.09967827004325724, respectively.\n",
      "\tGeorgia are 0.060961618377351035 and 0.11524674682605007, respectively.\n",
      "\tGermany are 0.013314737224209505 and 0.02900690647831705, respectively.\n",
      "\tGreece are -0.005801552245092267 and -0.26870440620516023, respectively.\n",
      "\tHungary are 0.026273188202625364 and 0.05278947336024775, respectively.\n",
      "\tIceland are 0.024438438298020282 and 0.04954442894933653, respectively.\n",
      "\tIndia are 0.08918221717632202 and 0.2868591441152062, respectively.\n",
      "\tIreland are 0.010607752666591419 and 0.1849212128801756, respectively.\n",
      "\tItaly are 0.004507483292505832 and 0.02191232802145604, respectively.\n",
      "\tJordan are 0.11912842079600283 and 0.16332311302469082, respectively.\n",
      "\tKenya are 0.050117945401395025 and 0.10000243141096521, respectively.\n",
      "\tLatvia are 0.027156679411287854 and 0.03815402984513161, respectively.\n",
      "\tLithuania are -0.01990232048802132 and 0.07016991924483085, respectively.\n",
      "\tMexico are 0.08278736270768106 and 0.05344418028703346, respectively.\n",
      "\tMongolia are 0.08717825677121271 and 0.1280016293419095, respectively.\n",
      "\tMozambique are 0.04340239373575017 and 0.03915842308275086, respectively.\n",
      "\tNepal are 0.06733305839039427 and 0.7619637967381618, respectively.\n",
      "\tNetherlands are 0.009311943039991388 and 0.3589971869478529, respectively.\n",
      "\tNigeria are 0.17692093275253074 and -0.04241816255316344, respectively.\n",
      "\tNorway are 0.022853685220247 and 0.08840603691360027, respectively.\n",
      "\tPoland are 0.026286551241449296 and 0.12884495751478553, respectively.\n",
      "\tPortugal are 0.010565037847231173 and 0.0046775373292349265, respectively.\n",
      "\tRomania are 0.019159460428051944 and 0.09848487851338394, respectively.\n",
      "\tSlovakia are 0.03049416315443021 and -0.029041186200817082, respectively.\n",
      "\tSlovenia are 0.017987429182188097 and 0.06016416703875116, respectively.\n",
      "\tSpain are 0.0077050391864089685 and 0.015749665999867934, respectively.\n",
      "\tSri Lanka are 0.08874455819916482 and 0.5737486754489549, respectively.\n",
      "\tState of Palestine are 0.05501400492516473 and 0.08894862814493865, respectively.\n",
      "\tSweden are 0.011916575852935707 and 0.009218689988038764, respectively.\n",
      "\tUnited Kingdom are 0.01780346864207094 and 0.10203086856568155, respectively.\n",
      "\tUruguay are 0.09171142200733873 and -0.02005579517235656, respectively.\n"
     ]
    }
   ],
   "source": [
    "# Define the Growth Rate Function\n",
    "def growthRate(dataset):\n",
    "  gr = -((dataset[-1] / dataset[0]) ** (1 / (len(dataset) - 1)) - 1)\n",
    "  return gr\n",
    "\n",
    "# Calculate and Print the Growth Rates\n",
    "print(\"The Growth Rate in the sector of Farming Sales and Animal Feed Spendings in-\")\n",
    "growthRatesData = dict()\n",
    "for i in allData:\n",
    "  fData = allData[i]['Farming']\n",
    "  aData = allData[i]['Animals']\n",
    "  try:\n",
    "    fGrowth = growthRate(list(fData.values()))\n",
    "    aGrowth = growthRate(list(aData.values()))\n",
    "    growthRatesData[i] = {\n",
    "      'Farming Sales':fGrowth,\n",
    "      'Animal Feed Spendings':aGrowth\n",
    "      }\n",
    "    print(f\"\\t{i} are {fGrowth} and {aGrowth}, respectively.\")\n",
    "  except:\n",
    "    pass"
   ]
  },
  {
   "attachments": {},
   "cell_type": "markdown",
   "metadata": {},
   "source": [
    "Converting the Data to List"
   ]
  },
  {
   "cell_type": "code",
   "execution_count": 33,
   "metadata": {},
   "outputs": [],
   "source": [
    "cData = list()\n",
    "fData = list()\n",
    "aData = list()\n",
    "for i in growthRatesData:\n",
    "  cData.append(i)\n",
    "  fData.append(growthRatesData[i]['Farming Sales'])\n",
    "  aData.append(growthRatesData[i]['Animal Feed Spendings'])"
   ]
  },
  {
   "attachments": {},
   "cell_type": "markdown",
   "metadata": {},
   "source": [
    "Other Statistical Information regarding Total Farming Sales"
   ]
  },
  {
   "cell_type": "code",
   "execution_count": 34,
   "metadata": {},
   "outputs": [
    {
     "name": "stdout",
     "output_type": "stream",
     "text": [
      "The Mean of Total Farming Sales is 0.040066348311678865\n",
      "The Median of Total Farming Sales is 0.027156679411287854\n",
      "The Mode of Total Farming Sales is ModeResult(mode=-0.01990232048802132, count=1)\n",
      "The Standard Deviation of Total Farming Sales is 0.03828504206186734\n",
      "The Variance of Total Farming Sales is 0.0014657444456789518\n"
     ]
    }
   ],
   "source": [
    "# Calculate the Statistical Information\n",
    "fMean = np.mean(fData)\n",
    "fMedian = np.median(fData)\n",
    "fMode = stats.mode(fData, keepdims=False)\n",
    "fStd = np.std(fData)\n",
    "fVar = np.var(fData)\n",
    "\n",
    "# Print the Information\n",
    "print(\"The Mean of Total Farming Sales is\", fMean)\n",
    "print(\"The Median of Total Farming Sales is\", fMedian)\n",
    "print(\"The Mode of Total Farming Sales is\", fMode)\n",
    "print(\"The Standard Deviation of Total Farming Sales is\", fStd)\n",
    "print(\"The Variance of Total Farming Sales is\", fVar)"
   ]
  },
  {
   "attachments": {},
   "cell_type": "markdown",
   "metadata": {},
   "source": [
    "Other Statistical Information regarding Total Animal Feeding Expenditure"
   ]
  },
  {
   "cell_type": "code",
   "execution_count": 35,
   "metadata": {},
   "outputs": [
    {
     "name": "stdout",
     "output_type": "stream",
     "text": [
      "The Mean of Total Animal Feeding Expenditure is 0.09438209056575687\n",
      "The Median of Total Animal Feeding Expenditure is 0.06650091789326595\n",
      "The Mode of Total Animal Feeding Expenditure is ModeResult(mode=-0.26870440620516023, count=1)\n",
      "The Standard Deviation of Total Animal Feeding Expenditure is 0.15754712196007697\n",
      "The Variance of Total Animal Feeding Expenditure is 0.024821095637903367\n"
     ]
    }
   ],
   "source": [
    "# Calculate the Statistical Information\n",
    "aMean = np.mean(aData)\n",
    "aMedian = np.median(aData)\n",
    "aMode = stats.mode(aData, keepdims=False)\n",
    "aStd = np.std(aData)\n",
    "aVar = np.var(aData)\n",
    "\n",
    "# Print the Information\n",
    "print(\"The Mean of Total Animal Feeding Expenditure is\", aMean)\n",
    "print(\"The Median of Total Animal Feeding Expenditure is\", aMedian)\n",
    "print(\"The Mode of Total Animal Feeding Expenditure is\", aMode)\n",
    "print(\"The Standard Deviation of Total Animal Feeding Expenditure is\", aStd)\n",
    "print(\"The Variance of Total Animal Feeding Expenditure is\", aVar)"
   ]
  },
  {
   "attachments": {},
   "cell_type": "markdown",
   "metadata": {},
   "source": [
    "<div align='Center'>\n",
    "<hr>\n",
    "\n",
    "##### Problem Statement 2\n",
    "\n",
    "</div>"
   ]
  },
  {
   "attachments": {},
   "cell_type": "markdown",
   "metadata": {},
   "source": [
    "Ranking the Countries"
   ]
  },
  {
   "cell_type": "code",
   "execution_count": 36,
   "metadata": {},
   "outputs": [
    {
     "name": "stdout",
     "output_type": "stream",
     "text": [
      "1 Jordan\n",
      "2 India\n",
      "3 Sri Lanka\n",
      "4 Dominican Republic\n",
      "5 Nepal\n",
      "6 Mongolia\n",
      "7 Nigeria\n",
      "8 Georgia\n",
      "9 Brazil\n",
      "10 Uruguay\n",
      "11 Mexico\n",
      "12 Kenya\n",
      "13 State of Palestine\n",
      "14 Ecuador\n",
      "15 China, Hong Kong Special Administrative Region\n",
      "16 Poland\n",
      "17 Chile\n",
      "18 Albania\n",
      "19 Mozambique\n",
      "20 Canada\n",
      "21 Estonia\n",
      "22 Ireland\n",
      "23 Netherlands\n",
      "24 Romania\n",
      "25 Norway\n",
      "26 United Kingdom\n",
      "27 Hungary\n",
      "28 Latvia\n",
      "29 Slovakia\n",
      "30 Iceland\n",
      "31 Slovenia\n",
      "32 Bulgaria\n",
      "33 Czechia\n",
      "34 France\n",
      "35 Germany\n",
      "36 Denmark\n",
      "37 Sweden\n",
      "38 Lithuania\n",
      "39 Portugal\n",
      "40 Finland\n",
      "41 Spain\n",
      "42 Italy\n",
      "43 Greece\n"
     ]
    }
   ],
   "source": [
    "# Specify the Data\n",
    "dat = list(zip(fData, aData))\n",
    "\n",
    "# Calculate the Rank from Eigenvalue\n",
    "dataarray = list()\n",
    "for x in dat:\n",
    "    for y in dat:\n",
    "        if (x[0] == y[0]) and (x[1] == y[1]):\n",
    "            dataarray.append(0)\n",
    "        elif (x[0] <= y[0]) and (x[1] <= y[1]):\n",
    "            dataarray.append(1)\n",
    "        elif (x[0] <= y[0]) and (x[1] >= y[1]):\n",
    "            dataarray.append(2)\n",
    "        elif (x[0] >= y[0]) and (x[1] <= y[1]):\n",
    "            dataarray.append(3)\n",
    "        elif (x[0] >= y[0]) and (x[1] >= y[1]):\n",
    "            dataarray.append(4)\n",
    "matrix = np.array(dataarray).reshape(43,43)\n",
    "eigVec = np.array([[1] for _ in range(43)])\n",
    "for _ in range(7):\n",
    "    eigVec = np.matmul(matrix, eigVec)\n",
    "    eigVal = np.max(eigVec)\n",
    "    eigVec = eigVec / eigVal\n",
    "\n",
    "dat2 = list(zip(cData, [i[0] for i in eigVec]))\n",
    "dat3 = sorted(dat2, key=lambda x: x[1], reverse=True)\n",
    "\n",
    "# Print the Ranks\n",
    "for i in range(len(dat3)):\n",
    "    print(i+1, dat3[i][0])"
   ]
  },
  {
   "attachments": {},
   "cell_type": "markdown",
   "metadata": {},
   "source": [
    "<div align='Center'>\n",
    "<hr>\n",
    "\n",
    "##### Problem Statement 3\n",
    "\n",
    "</div>"
   ]
  },
  {
   "attachments": {},
   "cell_type": "markdown",
   "metadata": {},
   "source": [
    "Plotting a Bar Graph"
   ]
  },
  {
   "cell_type": "code",
   "execution_count": 37,
   "metadata": {},
   "outputs": [
    {
     "data": {
      "application/vnd.plotly.v1+json": {
       "config": {
        "plotlyServerURL": "https://plot.ly"
       },
       "data": [
        {
         "marker": {
          "color": "green"
         },
         "name": "Farming Sales",
         "type": "bar",
         "x": [
          "Albania",
          "Brazil",
          "Bulgaria",
          "Canada",
          "Chile",
          "China, Hong Kong Special Administrative Region",
          "Czechia",
          "Denmark",
          "Dominican Republic",
          "Ecuador",
          "Estonia",
          "Finland",
          "France",
          "Georgia",
          "Germany",
          "Greece",
          "Hungary",
          "Iceland",
          "India",
          "Ireland",
          "Italy",
          "Jordan",
          "Kenya",
          "Latvia",
          "Lithuania",
          "Mexico",
          "Mongolia",
          "Mozambique",
          "Nepal",
          "Netherlands",
          "Nigeria",
          "Norway",
          "Poland",
          "Portugal",
          "Romania",
          "Slovakia",
          "Slovenia",
          "Spain",
          "Sri Lanka",
          "State of Palestine",
          "Sweden",
          "United Kingdom",
          "Uruguay"
         ],
         "y": [
          0.046539054149960735,
          0.0663700492936562,
          0.015375657351417216,
          0.031505580629358265,
          0.06186134096717577,
          0.04981374021152096,
          0.017435605870597337,
          -0.004091227143505183,
          0.09783166675290811,
          0.030018065324903143,
          0.02969161354511718,
          0.008895535569544255,
          0.004446343482097825,
          0.060961618377351035,
          0.013314737224209505,
          -0.005801552245092267,
          0.026273188202625364,
          0.024438438298020282,
          0.08918221717632202,
          0.010607752666591419,
          0.004507483292505832,
          0.11912842079600283,
          0.050117945401395025,
          0.027156679411287854,
          -0.01990232048802132,
          0.08278736270768106,
          0.08717825677121271,
          0.04340239373575017,
          0.06733305839039427,
          0.009311943039991388,
          0.17692093275253074,
          0.022853685220247,
          0.026286551241449296,
          0.010565037847231173,
          0.019159460428051944,
          0.03049416315443021,
          0.017987429182188097,
          0.0077050391864089685,
          0.08874455819916482,
          0.05501400492516473,
          0.011916575852935707,
          0.01780346864207094,
          0.09171142200733873
         ]
        },
        {
         "marker": {
          "color": "yellow"
         },
         "name": "Animal Feed Expenditure",
         "type": "bar",
         "x": [
          "Albania",
          "Brazil",
          "Bulgaria",
          "Canada",
          "Chile",
          "China, Hong Kong Special Administrative Region",
          "Czechia",
          "Denmark",
          "Dominican Republic",
          "Ecuador",
          "Estonia",
          "Finland",
          "France",
          "Georgia",
          "Germany",
          "Greece",
          "Hungary",
          "Iceland",
          "India",
          "Ireland",
          "Italy",
          "Jordan",
          "Kenya",
          "Latvia",
          "Lithuania",
          "Mexico",
          "Mongolia",
          "Mozambique",
          "Nepal",
          "Netherlands",
          "Nigeria",
          "Norway",
          "Poland",
          "Portugal",
          "Romania",
          "Slovakia",
          "Slovenia",
          "Spain",
          "Sri Lanka",
          "State of Palestine",
          "Sweden",
          "United Kingdom",
          "Uruguay"
         ],
         "y": [
          0.03680742214566357,
          0.0846220713615713,
          0.06650091789326595,
          0.04527139056921026,
          -0.06430100470212419,
          0.07807033065752833,
          0.03952857906914142,
          0.07341455906226202,
          0.12771195721597894,
          0.13203975608901397,
          0.06200677576657743,
          0.013529363276342798,
          0.09967827004325724,
          0.11524674682605007,
          0.02900690647831705,
          -0.26870440620516023,
          0.05278947336024775,
          0.04954442894933653,
          0.2868591441152062,
          0.1849212128801756,
          0.02191232802145604,
          0.16332311302469082,
          0.10000243141096521,
          0.03815402984513161,
          0.07016991924483085,
          0.05344418028703346,
          0.1280016293419095,
          0.03915842308275086,
          0.7619637967381618,
          0.3589971869478529,
          -0.04241816255316344,
          0.08840603691360027,
          0.12884495751478553,
          0.0046775373292349265,
          0.09848487851338394,
          -0.029041186200817082,
          0.06016416703875116,
          0.015749665999867934,
          0.5737486754489549,
          0.08894862814493865,
          0.009218689988038764,
          0.10203086856568155,
          -0.02005579517235656
         ]
        }
       ],
       "layout": {
        "barmode": "stack",
        "height": 1000,
        "template": {
         "data": {
          "bar": [
           {
            "error_x": {
             "color": "#2a3f5f"
            },
            "error_y": {
             "color": "#2a3f5f"
            },
            "marker": {
             "line": {
              "color": "#E5ECF6",
              "width": 0.5
             },
             "pattern": {
              "fillmode": "overlay",
              "size": 10,
              "solidity": 0.2
             }
            },
            "type": "bar"
           }
          ],
          "barpolar": [
           {
            "marker": {
             "line": {
              "color": "#E5ECF6",
              "width": 0.5
             },
             "pattern": {
              "fillmode": "overlay",
              "size": 10,
              "solidity": 0.2
             }
            },
            "type": "barpolar"
           }
          ],
          "carpet": [
           {
            "aaxis": {
             "endlinecolor": "#2a3f5f",
             "gridcolor": "white",
             "linecolor": "white",
             "minorgridcolor": "white",
             "startlinecolor": "#2a3f5f"
            },
            "baxis": {
             "endlinecolor": "#2a3f5f",
             "gridcolor": "white",
             "linecolor": "white",
             "minorgridcolor": "white",
             "startlinecolor": "#2a3f5f"
            },
            "type": "carpet"
           }
          ],
          "choropleth": [
           {
            "colorbar": {
             "outlinewidth": 0,
             "ticks": ""
            },
            "type": "choropleth"
           }
          ],
          "contour": [
           {
            "colorbar": {
             "outlinewidth": 0,
             "ticks": ""
            },
            "colorscale": [
             [
              0,
              "#0d0887"
             ],
             [
              0.1111111111111111,
              "#46039f"
             ],
             [
              0.2222222222222222,
              "#7201a8"
             ],
             [
              0.3333333333333333,
              "#9c179e"
             ],
             [
              0.4444444444444444,
              "#bd3786"
             ],
             [
              0.5555555555555556,
              "#d8576b"
             ],
             [
              0.6666666666666666,
              "#ed7953"
             ],
             [
              0.7777777777777778,
              "#fb9f3a"
             ],
             [
              0.8888888888888888,
              "#fdca26"
             ],
             [
              1,
              "#f0f921"
             ]
            ],
            "type": "contour"
           }
          ],
          "contourcarpet": [
           {
            "colorbar": {
             "outlinewidth": 0,
             "ticks": ""
            },
            "type": "contourcarpet"
           }
          ],
          "heatmap": [
           {
            "colorbar": {
             "outlinewidth": 0,
             "ticks": ""
            },
            "colorscale": [
             [
              0,
              "#0d0887"
             ],
             [
              0.1111111111111111,
              "#46039f"
             ],
             [
              0.2222222222222222,
              "#7201a8"
             ],
             [
              0.3333333333333333,
              "#9c179e"
             ],
             [
              0.4444444444444444,
              "#bd3786"
             ],
             [
              0.5555555555555556,
              "#d8576b"
             ],
             [
              0.6666666666666666,
              "#ed7953"
             ],
             [
              0.7777777777777778,
              "#fb9f3a"
             ],
             [
              0.8888888888888888,
              "#fdca26"
             ],
             [
              1,
              "#f0f921"
             ]
            ],
            "type": "heatmap"
           }
          ],
          "heatmapgl": [
           {
            "colorbar": {
             "outlinewidth": 0,
             "ticks": ""
            },
            "colorscale": [
             [
              0,
              "#0d0887"
             ],
             [
              0.1111111111111111,
              "#46039f"
             ],
             [
              0.2222222222222222,
              "#7201a8"
             ],
             [
              0.3333333333333333,
              "#9c179e"
             ],
             [
              0.4444444444444444,
              "#bd3786"
             ],
             [
              0.5555555555555556,
              "#d8576b"
             ],
             [
              0.6666666666666666,
              "#ed7953"
             ],
             [
              0.7777777777777778,
              "#fb9f3a"
             ],
             [
              0.8888888888888888,
              "#fdca26"
             ],
             [
              1,
              "#f0f921"
             ]
            ],
            "type": "heatmapgl"
           }
          ],
          "histogram": [
           {
            "marker": {
             "pattern": {
              "fillmode": "overlay",
              "size": 10,
              "solidity": 0.2
             }
            },
            "type": "histogram"
           }
          ],
          "histogram2d": [
           {
            "colorbar": {
             "outlinewidth": 0,
             "ticks": ""
            },
            "colorscale": [
             [
              0,
              "#0d0887"
             ],
             [
              0.1111111111111111,
              "#46039f"
             ],
             [
              0.2222222222222222,
              "#7201a8"
             ],
             [
              0.3333333333333333,
              "#9c179e"
             ],
             [
              0.4444444444444444,
              "#bd3786"
             ],
             [
              0.5555555555555556,
              "#d8576b"
             ],
             [
              0.6666666666666666,
              "#ed7953"
             ],
             [
              0.7777777777777778,
              "#fb9f3a"
             ],
             [
              0.8888888888888888,
              "#fdca26"
             ],
             [
              1,
              "#f0f921"
             ]
            ],
            "type": "histogram2d"
           }
          ],
          "histogram2dcontour": [
           {
            "colorbar": {
             "outlinewidth": 0,
             "ticks": ""
            },
            "colorscale": [
             [
              0,
              "#0d0887"
             ],
             [
              0.1111111111111111,
              "#46039f"
             ],
             [
              0.2222222222222222,
              "#7201a8"
             ],
             [
              0.3333333333333333,
              "#9c179e"
             ],
             [
              0.4444444444444444,
              "#bd3786"
             ],
             [
              0.5555555555555556,
              "#d8576b"
             ],
             [
              0.6666666666666666,
              "#ed7953"
             ],
             [
              0.7777777777777778,
              "#fb9f3a"
             ],
             [
              0.8888888888888888,
              "#fdca26"
             ],
             [
              1,
              "#f0f921"
             ]
            ],
            "type": "histogram2dcontour"
           }
          ],
          "mesh3d": [
           {
            "colorbar": {
             "outlinewidth": 0,
             "ticks": ""
            },
            "type": "mesh3d"
           }
          ],
          "parcoords": [
           {
            "line": {
             "colorbar": {
              "outlinewidth": 0,
              "ticks": ""
             }
            },
            "type": "parcoords"
           }
          ],
          "pie": [
           {
            "automargin": true,
            "type": "pie"
           }
          ],
          "scatter": [
           {
            "fillpattern": {
             "fillmode": "overlay",
             "size": 10,
             "solidity": 0.2
            },
            "type": "scatter"
           }
          ],
          "scatter3d": [
           {
            "line": {
             "colorbar": {
              "outlinewidth": 0,
              "ticks": ""
             }
            },
            "marker": {
             "colorbar": {
              "outlinewidth": 0,
              "ticks": ""
             }
            },
            "type": "scatter3d"
           }
          ],
          "scattercarpet": [
           {
            "marker": {
             "colorbar": {
              "outlinewidth": 0,
              "ticks": ""
             }
            },
            "type": "scattercarpet"
           }
          ],
          "scattergeo": [
           {
            "marker": {
             "colorbar": {
              "outlinewidth": 0,
              "ticks": ""
             }
            },
            "type": "scattergeo"
           }
          ],
          "scattergl": [
           {
            "marker": {
             "colorbar": {
              "outlinewidth": 0,
              "ticks": ""
             }
            },
            "type": "scattergl"
           }
          ],
          "scattermapbox": [
           {
            "marker": {
             "colorbar": {
              "outlinewidth": 0,
              "ticks": ""
             }
            },
            "type": "scattermapbox"
           }
          ],
          "scatterpolar": [
           {
            "marker": {
             "colorbar": {
              "outlinewidth": 0,
              "ticks": ""
             }
            },
            "type": "scatterpolar"
           }
          ],
          "scatterpolargl": [
           {
            "marker": {
             "colorbar": {
              "outlinewidth": 0,
              "ticks": ""
             }
            },
            "type": "scatterpolargl"
           }
          ],
          "scatterternary": [
           {
            "marker": {
             "colorbar": {
              "outlinewidth": 0,
              "ticks": ""
             }
            },
            "type": "scatterternary"
           }
          ],
          "surface": [
           {
            "colorbar": {
             "outlinewidth": 0,
             "ticks": ""
            },
            "colorscale": [
             [
              0,
              "#0d0887"
             ],
             [
              0.1111111111111111,
              "#46039f"
             ],
             [
              0.2222222222222222,
              "#7201a8"
             ],
             [
              0.3333333333333333,
              "#9c179e"
             ],
             [
              0.4444444444444444,
              "#bd3786"
             ],
             [
              0.5555555555555556,
              "#d8576b"
             ],
             [
              0.6666666666666666,
              "#ed7953"
             ],
             [
              0.7777777777777778,
              "#fb9f3a"
             ],
             [
              0.8888888888888888,
              "#fdca26"
             ],
             [
              1,
              "#f0f921"
             ]
            ],
            "type": "surface"
           }
          ],
          "table": [
           {
            "cells": {
             "fill": {
              "color": "#EBF0F8"
             },
             "line": {
              "color": "white"
             }
            },
            "header": {
             "fill": {
              "color": "#C8D4E3"
             },
             "line": {
              "color": "white"
             }
            },
            "type": "table"
           }
          ]
         },
         "layout": {
          "annotationdefaults": {
           "arrowcolor": "#2a3f5f",
           "arrowhead": 0,
           "arrowwidth": 1
          },
          "autotypenumbers": "strict",
          "coloraxis": {
           "colorbar": {
            "outlinewidth": 0,
            "ticks": ""
           }
          },
          "colorscale": {
           "diverging": [
            [
             0,
             "#8e0152"
            ],
            [
             0.1,
             "#c51b7d"
            ],
            [
             0.2,
             "#de77ae"
            ],
            [
             0.3,
             "#f1b6da"
            ],
            [
             0.4,
             "#fde0ef"
            ],
            [
             0.5,
             "#f7f7f7"
            ],
            [
             0.6,
             "#e6f5d0"
            ],
            [
             0.7,
             "#b8e186"
            ],
            [
             0.8,
             "#7fbc41"
            ],
            [
             0.9,
             "#4d9221"
            ],
            [
             1,
             "#276419"
            ]
           ],
           "sequential": [
            [
             0,
             "#0d0887"
            ],
            [
             0.1111111111111111,
             "#46039f"
            ],
            [
             0.2222222222222222,
             "#7201a8"
            ],
            [
             0.3333333333333333,
             "#9c179e"
            ],
            [
             0.4444444444444444,
             "#bd3786"
            ],
            [
             0.5555555555555556,
             "#d8576b"
            ],
            [
             0.6666666666666666,
             "#ed7953"
            ],
            [
             0.7777777777777778,
             "#fb9f3a"
            ],
            [
             0.8888888888888888,
             "#fdca26"
            ],
            [
             1,
             "#f0f921"
            ]
           ],
           "sequentialminus": [
            [
             0,
             "#0d0887"
            ],
            [
             0.1111111111111111,
             "#46039f"
            ],
            [
             0.2222222222222222,
             "#7201a8"
            ],
            [
             0.3333333333333333,
             "#9c179e"
            ],
            [
             0.4444444444444444,
             "#bd3786"
            ],
            [
             0.5555555555555556,
             "#d8576b"
            ],
            [
             0.6666666666666666,
             "#ed7953"
            ],
            [
             0.7777777777777778,
             "#fb9f3a"
            ],
            [
             0.8888888888888888,
             "#fdca26"
            ],
            [
             1,
             "#f0f921"
            ]
           ]
          },
          "colorway": [
           "#636efa",
           "#EF553B",
           "#00cc96",
           "#ab63fa",
           "#FFA15A",
           "#19d3f3",
           "#FF6692",
           "#B6E880",
           "#FF97FF",
           "#FECB52"
          ],
          "font": {
           "color": "#2a3f5f"
          },
          "geo": {
           "bgcolor": "white",
           "lakecolor": "white",
           "landcolor": "#E5ECF6",
           "showlakes": true,
           "showland": true,
           "subunitcolor": "white"
          },
          "hoverlabel": {
           "align": "left"
          },
          "hovermode": "closest",
          "mapbox": {
           "style": "light"
          },
          "paper_bgcolor": "white",
          "plot_bgcolor": "#E5ECF6",
          "polar": {
           "angularaxis": {
            "gridcolor": "white",
            "linecolor": "white",
            "ticks": ""
           },
           "bgcolor": "#E5ECF6",
           "radialaxis": {
            "gridcolor": "white",
            "linecolor": "white",
            "ticks": ""
           }
          },
          "scene": {
           "xaxis": {
            "backgroundcolor": "#E5ECF6",
            "gridcolor": "white",
            "gridwidth": 2,
            "linecolor": "white",
            "showbackground": true,
            "ticks": "",
            "zerolinecolor": "white"
           },
           "yaxis": {
            "backgroundcolor": "#E5ECF6",
            "gridcolor": "white",
            "gridwidth": 2,
            "linecolor": "white",
            "showbackground": true,
            "ticks": "",
            "zerolinecolor": "white"
           },
           "zaxis": {
            "backgroundcolor": "#E5ECF6",
            "gridcolor": "white",
            "gridwidth": 2,
            "linecolor": "white",
            "showbackground": true,
            "ticks": "",
            "zerolinecolor": "white"
           }
          },
          "shapedefaults": {
           "line": {
            "color": "#2a3f5f"
           }
          },
          "ternary": {
           "aaxis": {
            "gridcolor": "white",
            "linecolor": "white",
            "ticks": ""
           },
           "baxis": {
            "gridcolor": "white",
            "linecolor": "white",
            "ticks": ""
           },
           "bgcolor": "#E5ECF6",
           "caxis": {
            "gridcolor": "white",
            "linecolor": "white",
            "ticks": ""
           }
          },
          "title": {
           "x": 0.05
          },
          "xaxis": {
           "automargin": true,
           "gridcolor": "white",
           "linecolor": "white",
           "ticks": "",
           "title": {
            "standoff": 15
           },
           "zerolinecolor": "white",
           "zerolinewidth": 2
          },
          "yaxis": {
           "automargin": true,
           "gridcolor": "white",
           "linecolor": "white",
           "ticks": "",
           "title": {
            "standoff": 15
           },
           "zerolinecolor": "white",
           "zerolinewidth": 2
          }
         }
        },
        "title": {
         "text": "Growth Rates in Farming Sales and Animal Feeding Expenditure by Country"
        },
        "width": 1250,
        "xaxis": {
         "title": {
          "text": "Countries"
         }
        },
        "yaxis": {
         "title": {
          "text": "Growth Rate"
         }
        }
       }
      }
     },
     "metadata": {},
     "output_type": "display_data"
    }
   ],
   "source": [
    "# Plot the Data\n",
    "fig = go.Figure()\n",
    "fig.add_trace(go.Bar(x=cData, y=fData, name=\"Farming Sales\", marker_color='green'))\n",
    "fig.add_trace(go.Bar(x=cData, y=aData, name=\"Animal Feed Expenditure\", marker_color='yellow'))\n",
    "\n",
    "# Customise the Graph\n",
    "fig.update_layout(\n",
    "    width=1250, height=1000,\n",
    "    barmode='stack',\n",
    "    title_text=\"Growth Rates in Farming Sales and Animal Feeding Expenditure by Country\",\n",
    "    xaxis_title=\"Countries\",\n",
    "    yaxis_title=\"Growth Rate\"\n",
    ")\n",
    "\n",
    "# # Show the Graph\n",
    "fig.show()"
   ]
  },
  {
   "attachments": {},
   "cell_type": "markdown",
   "metadata": {},
   "source": [
    "Making a Normal Distribution Curve"
   ]
  },
  {
   "cell_type": "code",
   "execution_count": 38,
   "metadata": {},
   "outputs": [],
   "source": [
    "x = np.linspace(-0.8, 0.8, 1000)\n",
    "y1 = stats.norm.pdf(x, fMean, fStd)\n",
    "y2 = stats.norm.pdf(x, aMean, aStd)"
   ]
  },
  {
   "attachments": {},
   "cell_type": "markdown",
   "metadata": {},
   "source": [
    "Making the Graph"
   ]
  },
  {
   "cell_type": "code",
   "execution_count": 39,
   "metadata": {},
   "outputs": [
    {
     "data": {
      "application/vnd.plotly.v1+json": {
       "config": {
        "plotlyServerURL": "https://plot.ly"
       },
       "data": [
        {
         "mode": "lines",
         "name": "Farming Sales",
         "type": "scatter",
         "x": [
          -0.8,
          -0.7983983983983984,
          -0.7967967967967968,
          -0.7951951951951952,
          -0.7935935935935936,
          -0.791991991991992,
          -0.7903903903903904,
          -0.7887887887887889,
          -0.7871871871871873,
          -0.7855855855855857,
          -0.7839839839839841,
          -0.7823823823823824,
          -0.7807807807807808,
          -0.7791791791791792,
          -0.7775775775775776,
          -0.775975975975976,
          -0.7743743743743744,
          -0.7727727727727728,
          -0.7711711711711712,
          -0.7695695695695696,
          -0.7679679679679681,
          -0.7663663663663665,
          -0.7647647647647648,
          -0.7631631631631632,
          -0.7615615615615616,
          -0.75995995995996,
          -0.7583583583583584,
          -0.7567567567567568,
          -0.7551551551551552,
          -0.7535535535535536,
          -0.751951951951952,
          -0.7503503503503504,
          -0.7487487487487487,
          -0.7471471471471471,
          -0.7455455455455455,
          -0.743943943943944,
          -0.7423423423423424,
          -0.7407407407407408,
          -0.7391391391391392,
          -0.7375375375375376,
          -0.735935935935936,
          -0.7343343343343344,
          -0.7327327327327328,
          -0.7311311311311312,
          -0.7295295295295295,
          -0.7279279279279279,
          -0.7263263263263263,
          -0.7247247247247248,
          -0.7231231231231232,
          -0.7215215215215216,
          -0.71991991991992,
          -0.7183183183183184,
          -0.7167167167167168,
          -0.7151151151151152,
          -0.7135135135135136,
          -0.7119119119119119,
          -0.7103103103103103,
          -0.7087087087087087,
          -0.7071071071071071,
          -0.7055055055055055,
          -0.7039039039039039,
          -0.7023023023023023,
          -0.7007007007007008,
          -0.6990990990990992,
          -0.6974974974974976,
          -0.695895895895896,
          -0.6942942942942943,
          -0.6926926926926927,
          -0.6910910910910911,
          -0.6894894894894895,
          -0.6878878878878879,
          -0.6862862862862863,
          -0.6846846846846847,
          -0.6830830830830831,
          -0.6814814814814816,
          -0.67987987987988,
          -0.6782782782782784,
          -0.6766766766766767,
          -0.6750750750750751,
          -0.6734734734734735,
          -0.6718718718718719,
          -0.6702702702702703,
          -0.6686686686686687,
          -0.6670670670670671,
          -0.6654654654654655,
          -0.6638638638638639,
          -0.6622622622622623,
          -0.6606606606606606,
          -0.659059059059059,
          -0.6574574574574574,
          -0.6558558558558559,
          -0.6542542542542543,
          -0.6526526526526527,
          -0.6510510510510511,
          -0.6494494494494495,
          -0.6478478478478479,
          -0.6462462462462463,
          -0.6446446446446447,
          -0.643043043043043,
          -0.6414414414414414,
          -0.6398398398398399,
          -0.6382382382382383,
          -0.6366366366366367,
          -0.6350350350350351,
          -0.6334334334334335,
          -0.6318318318318319,
          -0.6302302302302303,
          -0.6286286286286287,
          -0.6270270270270271,
          -0.6254254254254255,
          -0.6238238238238238,
          -0.6222222222222222,
          -0.6206206206206206,
          -0.619019019019019,
          -0.6174174174174174,
          -0.6158158158158158,
          -0.6142142142142142,
          -0.6126126126126127,
          -0.6110110110110111,
          -0.6094094094094095,
          -0.6078078078078079,
          -0.6062062062062062,
          -0.6046046046046046,
          -0.603003003003003,
          -0.6014014014014014,
          -0.5997997997997998,
          -0.5981981981981982,
          -0.5965965965965967,
          -0.5949949949949951,
          -0.5933933933933935,
          -0.5917917917917919,
          -0.5901901901901903,
          -0.5885885885885886,
          -0.586986986986987,
          -0.5853853853853854,
          -0.5837837837837838,
          -0.5821821821821822,
          -0.5805805805805806,
          -0.578978978978979,
          -0.5773773773773774,
          -0.5757757757757758,
          -0.5741741741741742,
          -0.5725725725725725,
          -0.5709709709709709,
          -0.5693693693693694,
          -0.5677677677677678,
          -0.5661661661661662,
          -0.5645645645645646,
          -0.562962962962963,
          -0.5613613613613614,
          -0.5597597597597598,
          -0.5581581581581582,
          -0.5565565565565566,
          -0.554954954954955,
          -0.5533533533533534,
          -0.5517517517517518,
          -0.5501501501501502,
          -0.5485485485485486,
          -0.546946946946947,
          -0.5453453453453454,
          -0.5437437437437438,
          -0.5421421421421422,
          -0.5405405405405406,
          -0.538938938938939,
          -0.5373373373373374,
          -0.5357357357357357,
          -0.5341341341341341,
          -0.5325325325325325,
          -0.5309309309309309,
          -0.5293293293293293,
          -0.5277277277277277,
          -0.5261261261261261,
          -0.5245245245245246,
          -0.522922922922923,
          -0.5213213213213214,
          -0.5197197197197198,
          -0.5181181181181181,
          -0.5165165165165165,
          -0.5149149149149149,
          -0.5133133133133134,
          -0.5117117117117118,
          -0.5101101101101102,
          -0.5085085085085086,
          -0.506906906906907,
          -0.5053053053053054,
          -0.5037037037037038,
          -0.5021021021021022,
          -0.5005005005005005,
          -0.49889889889889893,
          -0.4972972972972973,
          -0.4956956956956957,
          -0.4940940940940941,
          -0.4924924924924925,
          -0.49089089089089094,
          -0.48928928928928933,
          -0.4876876876876877,
          -0.4860860860860861,
          -0.4844844844844845,
          -0.4828828828828829,
          -0.48128128128128134,
          -0.4796796796796797,
          -0.4780780780780781,
          -0.4764764764764765,
          -0.4748748748748749,
          -0.4732732732732733,
          -0.4716716716716717,
          -0.4700700700700701,
          -0.4684684684684685,
          -0.4668668668668669,
          -0.4652652652652653,
          -0.4636636636636637,
          -0.4620620620620621,
          -0.46046046046046046,
          -0.4588588588588589,
          -0.4572572572572573,
          -0.4556556556556557,
          -0.4540540540540541,
          -0.45245245245245247,
          -0.45085085085085086,
          -0.4492492492492493,
          -0.4476476476476477,
          -0.4460460460460461,
          -0.4444444444444445,
          -0.44284284284284287,
          -0.44124124124124126,
          -0.43963963963963965,
          -0.4380380380380381,
          -0.4364364364364365,
          -0.43483483483483487,
          -0.43323323323323326,
          -0.43163163163163165,
          -0.43003003003003004,
          -0.42842842842842843,
          -0.4268268268268269,
          -0.42522522522522527,
          -0.42362362362362366,
          -0.42202202202202205,
          -0.42042042042042044,
          -0.4188188188188188,
          -0.4172172172172172,
          -0.41561561561561566,
          -0.41401401401401405,
          -0.41241241241241244,
          -0.41081081081081083,
          -0.4092092092092092,
          -0.4076076076076076,
          -0.40600600600600606,
          -0.40440440440440445,
          -0.40280280280280284,
          -0.40120120120120123,
          -0.3995995995995996,
          -0.397997997997998,
          -0.3963963963963964,
          -0.39479479479479485,
          -0.39319319319319324,
          -0.3915915915915916,
          -0.38998998998999,
          -0.3883883883883884,
          -0.3867867867867868,
          -0.3851851851851852,
          -0.38358358358358363,
          -0.381981981981982,
          -0.3803803803803804,
          -0.3787787787787788,
          -0.3771771771771772,
          -0.3755755755755756,
          -0.37397397397397397,
          -0.3723723723723724,
          -0.3707707707707708,
          -0.3691691691691692,
          -0.3675675675675676,
          -0.365965965965966,
          -0.36436436436436437,
          -0.3627627627627628,
          -0.3611611611611612,
          -0.3595595595595596,
          -0.357957957957958,
          -0.3563563563563564,
          -0.35475475475475476,
          -0.35315315315315315,
          -0.3515515515515516,
          -0.34994994994995,
          -0.3483483483483484,
          -0.34674674674674677,
          -0.34514514514514516,
          -0.34354354354354355,
          -0.34194194194194194,
          -0.3403403403403404,
          -0.3387387387387388,
          -0.33713713713713717,
          -0.33553553553553556,
          -0.33393393393393395,
          -0.33233233233233234,
          -0.3307307307307307,
          -0.32912912912912917,
          -0.32752752752752756,
          -0.32592592592592595,
          -0.32432432432432434,
          -0.32272272272272273,
          -0.3211211211211211,
          -0.31951951951951957,
          -0.31791791791791796,
          -0.31631631631631635,
          -0.31471471471471474,
          -0.31311311311311313,
          -0.3115115115115115,
          -0.3099099099099099,
          -0.30830830830830835,
          -0.30670670670670674,
          -0.30510510510510513,
          -0.3035035035035035,
          -0.3019019019019019,
          -0.3003003003003003,
          -0.2986986986986987,
          -0.2970970970970971,
          -0.2954954954954955,
          -0.29389389389389386,
          -0.29229229229229237,
          -0.29069069069069076,
          -0.28908908908908915,
          -0.28748748748748754,
          -0.2858858858858859,
          -0.2842842842842843,
          -0.2826826826826827,
          -0.2810810810810811,
          -0.2794794794794795,
          -0.2778778778778779,
          -0.27627627627627627,
          -0.27467467467467466,
          -0.27307307307307305,
          -0.27147147147147144,
          -0.26986986986986994,
          -0.26826826826826833,
          -0.2666666666666667,
          -0.2650650650650651,
          -0.2634634634634635,
          -0.2618618618618619,
          -0.2602602602602603,
          -0.25865865865865867,
          -0.25705705705705706,
          -0.25545545545545545,
          -0.25385385385385384,
          -0.25225225225225223,
          -0.2506506506506506,
          -0.24904904904904912,
          -0.2474474474474475,
          -0.2458458458458459,
          -0.2442442442442443,
          -0.24264264264264268,
          -0.24104104104104107,
          -0.23943943943943946,
          -0.23783783783783785,
          -0.23623623623623624,
          -0.23463463463463463,
          -0.23303303303303302,
          -0.2314314314314314,
          -0.2298298298298298,
          -0.2282282282282282,
          -0.2266266266266267,
          -0.22502502502502508,
          -0.22342342342342347,
          -0.22182182182182186,
          -0.22022022022022025,
          -0.21861861861861864,
          -0.21701701701701703,
          -0.21541541541541542,
          -0.2138138138138138,
          -0.2122122122122122,
          -0.2106106106106106,
          -0.20900900900900898,
          -0.20740740740740737,
          -0.20580580580580587,
          -0.20420420420420426,
          -0.20260260260260265,
          -0.20100100100100105,
          -0.19939939939939944,
          -0.19779779779779783,
          -0.19619619619619622,
          -0.1945945945945946,
          -0.192992992992993,
          -0.19139139139139139,
          -0.18978978978978978,
          -0.18818818818818817,
          -0.18658658658658656,
          -0.18498498498498495,
          -0.18338338338338345,
          -0.18178178178178184,
          -0.18018018018018023,
          -0.17857857857857862,
          -0.176976976976977,
          -0.1753753753753754,
          -0.1737737737737738,
          -0.17217217217217218,
          -0.17057057057057057,
          -0.16896896896896896,
          -0.16736736736736735,
          -0.16576576576576574,
          -0.16416416416416413,
          -0.16256256256256263,
          -0.16096096096096102,
          -0.1593593593593594,
          -0.1577577577577578,
          -0.1561561561561562,
          -0.15455455455455458,
          -0.15295295295295297,
          -0.15135135135135136,
          -0.14974974974974975,
          -0.14814814814814814,
          -0.14654654654654653,
          -0.14494494494494492,
          -0.1433433433433433,
          -0.1417417417417418,
          -0.1401401401401402,
          -0.1385385385385386,
          -0.13693693693693698,
          -0.13533533533533537,
          -0.13373373373373376,
          -0.13213213213213215,
          -0.13053053053053054,
          -0.12892892892892893,
          -0.12732732732732732,
          -0.1257257257257257,
          -0.1241241241241241,
          -0.12252252252252249,
          -0.12092092092092088,
          -0.11931931931931938,
          -0.11771771771771777,
          -0.11611611611611616,
          -0.11451451451451455,
          -0.11291291291291294,
          -0.11131131131131133,
          -0.10970970970970972,
          -0.10810810810810811,
          -0.1065065065065065,
          -0.1049049049049049,
          -0.10330330330330328,
          -0.10170170170170167,
          -0.10010010010010006,
          -0.09849849849849857,
          -0.09689689689689696,
          -0.09529529529529535,
          -0.09369369369369374,
          -0.09209209209209213,
          -0.09049049049049052,
          -0.0888888888888889,
          -0.0872872872872873,
          -0.08568568568568569,
          -0.08408408408408408,
          -0.08248248248248247,
          -0.08088088088088086,
          -0.07927927927927925,
          -0.07767767767767764,
          -0.07607607607607614,
          -0.07447447447447453,
          -0.07287287287287292,
          -0.07127127127127131,
          -0.0696696696696697,
          -0.06806806806806809,
          -0.06646646646646648,
          -0.06486486486486487,
          -0.06326326326326326,
          -0.06166166166166165,
          -0.06006006006006004,
          -0.05845845845845843,
          -0.05685685685685682,
          -0.05525525525525532,
          -0.05365365365365371,
          -0.0520520520520521,
          -0.05045045045045049,
          -0.04884884884884888,
          -0.04724724724724727,
          -0.04564564564564566,
          -0.04404404404404405,
          -0.04244244244244244,
          -0.04084084084084083,
          -0.03923923923923922,
          -0.03763763763763761,
          -0.036036036036036,
          -0.03443443443443439,
          -0.03283283283283289,
          -0.031231231231231282,
          -0.029629629629629672,
          -0.028028028028028062,
          -0.026426426426426453,
          -0.024824824824824843,
          -0.023223223223223233,
          -0.021621621621621623,
          -0.020020020020020013,
          -0.018418418418418403,
          -0.016816816816816793,
          -0.015215215215215183,
          -0.013613613613613573,
          -0.012012012012012074,
          -0.010410410410410464,
          -0.008808808808808855,
          -0.007207207207207245,
          -0.005605605605605635,
          -0.004004004004004025,
          -0.002402402402402415,
          -0.000800800800800805,
          0.000800800800800805,
          0.002402402402402415,
          0.004004004004004025,
          0.005605605605605635,
          0.007207207207207245,
          0.008808808808808855,
          0.010410410410410353,
          0.012012012012011963,
          0.013613613613613573,
          0.015215215215215183,
          0.016816816816816793,
          0.018418418418418403,
          0.020020020020020013,
          0.021621621621621623,
          0.023223223223223233,
          0.024824824824824843,
          0.026426426426426453,
          0.028028028028028062,
          0.029629629629629672,
          0.03123123123123117,
          0.03283283283283278,
          0.03443443443443439,
          0.036036036036036,
          0.03763763763763761,
          0.03923923923923922,
          0.04084084084084083,
          0.04244244244244244,
          0.04404404404404405,
          0.04564564564564566,
          0.04724724724724727,
          0.04884884884884888,
          0.05045045045045049,
          0.0520520520520521,
          0.0536536536536536,
          0.05525525525525521,
          0.05685685685685682,
          0.05845845845845843,
          0.06006006006006004,
          0.06166166166166165,
          0.06326326326326326,
          0.06486486486486487,
          0.06646646646646648,
          0.06806806806806809,
          0.0696696696696697,
          0.07127127127127131,
          0.07287287287287292,
          0.07447447447447442,
          0.07607607607607603,
          0.07767767767767764,
          0.07927927927927925,
          0.08088088088088086,
          0.08248248248248247,
          0.08408408408408408,
          0.08568568568568569,
          0.0872872872872873,
          0.0888888888888889,
          0.09049049049049052,
          0.09209209209209213,
          0.09369369369369374,
          0.09529529529529535,
          0.09689689689689684,
          0.09849849849849845,
          0.10010010010010006,
          0.10170170170170167,
          0.10330330330330328,
          0.1049049049049049,
          0.1065065065065065,
          0.10810810810810811,
          0.10970970970970972,
          0.11131131131131133,
          0.11291291291291294,
          0.11451451451451455,
          0.11611611611611616,
          0.11771771771771766,
          0.11931931931931927,
          0.12092092092092088,
          0.12252252252252249,
          0.1241241241241241,
          0.1257257257257257,
          0.12732732732732732,
          0.12892892892892893,
          0.13053053053053054,
          0.13213213213213215,
          0.13373373373373376,
          0.13533533533533537,
          0.13693693693693698,
          0.1385385385385386,
          0.1401401401401401,
          0.1417417417417417,
          0.1433433433433433,
          0.14494494494494492,
          0.14654654654654653,
          0.14814814814814814,
          0.14974974974974975,
          0.15135135135135136,
          0.15295295295295297,
          0.15455455455455458,
          0.1561561561561562,
          0.1577577577577578,
          0.1593593593593594,
          0.1609609609609609,
          0.16256256256256252,
          0.16416416416416413,
          0.16576576576576574,
          0.16736736736736735,
          0.16896896896896896,
          0.17057057057057057,
          0.17217217217217218,
          0.1737737737737738,
          0.1753753753753754,
          0.176976976976977,
          0.17857857857857862,
          0.18018018018018023,
          0.18178178178178184,
          0.18338338338338334,
          0.18498498498498495,
          0.18658658658658656,
          0.18818818818818817,
          0.18978978978978978,
          0.19139139139139139,
          0.192992992992993,
          0.1945945945945946,
          0.19619619619619622,
          0.19779779779779783,
          0.19939939939939944,
          0.20100100100100105,
          0.20260260260260265,
          0.20420420420420426,
          0.20580580580580587,
          0.20740740740740748,
          0.2090090090090091,
          0.2106106106106107,
          0.21221221221221231,
          0.21381381381381392,
          0.2154154154154153,
          0.21701701701701692,
          0.21861861861861853,
          0.22022022022022014,
          0.22182182182182175,
          0.22342342342342336,
          0.22502502502502497,
          0.22662662662662658,
          0.2282282282282282,
          0.2298298298298298,
          0.2314314314314314,
          0.23303303303303302,
          0.23463463463463463,
          0.23623623623623624,
          0.23783783783783785,
          0.23943943943943946,
          0.24104104104104107,
          0.24264264264264268,
          0.2442442442442443,
          0.2458458458458459,
          0.2474474474474475,
          0.24904904904904912,
          0.25065065065065073,
          0.25225225225225234,
          0.25385385385385395,
          0.25545545545545556,
          0.25705705705705717,
          0.25865865865865856,
          0.26026026026026017,
          0.2618618618618618,
          0.2634634634634634,
          0.265065065065065,
          0.2666666666666666,
          0.2682682682682682,
          0.2698698698698698,
          0.27147147147147144,
          0.27307307307307305,
          0.27467467467467466,
          0.27627627627627627,
          0.2778778778778779,
          0.2794794794794795,
          0.2810810810810811,
          0.2826826826826827,
          0.2842842842842843,
          0.2858858858858859,
          0.28748748748748754,
          0.28908908908908915,
          0.29069069069069076,
          0.29229229229229237,
          0.293893893893894,
          0.2954954954954956,
          0.2970970970970972,
          0.2986986986986988,
          0.3003003003003004,
          0.3019019019019018,
          0.3035035035035034,
          0.305105105105105,
          0.30670670670670663,
          0.30830830830830824,
          0.30990990990990985,
          0.31151151151151146,
          0.3131131131131131,
          0.3147147147147147,
          0.3163163163163163,
          0.3179179179179179,
          0.3195195195195195,
          0.3211211211211211,
          0.32272272272272273,
          0.32432432432432434,
          0.32592592592592595,
          0.32752752752752756,
          0.32912912912912917,
          0.3307307307307308,
          0.3323323323323324,
          0.333933933933934,
          0.3355355355355356,
          0.3371371371371372,
          0.33873873873873883,
          0.34034034034034044,
          0.34194194194194205,
          0.34354354354354366,
          0.34514514514514505,
          0.34674674674674666,
          0.34834834834834827,
          0.3499499499499499,
          0.3515515515515515,
          0.3531531531531531,
          0.3547547547547547,
          0.3563563563563563,
          0.35795795795795793,
          0.35955955955955954,
          0.36116116116116115,
          0.36276276276276276,
          0.36436436436436437,
          0.365965965965966,
          0.3675675675675676,
          0.3691691691691692,
          0.3707707707707708,
          0.3723723723723724,
          0.373973973973974,
          0.37557557557557564,
          0.37717717717717725,
          0.37877877877877886,
          0.38038038038038047,
          0.3819819819819821,
          0.3835835835835837,
          0.3851851851851853,
          0.3867867867867869,
          0.3883883883883883,
          0.3899899899899899,
          0.3915915915915915,
          0.3931931931931931,
          0.39479479479479473,
          0.39639639639639634,
          0.39799799799799795,
          0.39959959959959956,
          0.4012012012012012,
          0.4028028028028028,
          0.4044044044044044,
          0.406006006006006,
          0.4076076076076076,
          0.4092092092092092,
          0.41081081081081083,
          0.41241241241241244,
          0.41401401401401405,
          0.41561561561561566,
          0.4172172172172173,
          0.4188188188188189,
          0.4204204204204205,
          0.4220220220220221,
          0.4236236236236237,
          0.4252252252252253,
          0.42682682682682693,
          0.42842842842842854,
          0.43003003003003015,
          0.43163163163163154,
          0.43323323323323315,
          0.43483483483483476,
          0.43643643643643637,
          0.438038038038038,
          0.4396396396396396,
          0.4412412412412412,
          0.4428428428428428,
          0.4444444444444444,
          0.44604604604604603,
          0.44764764764764764,
          0.44924924924924925,
          0.45085085085085086,
          0.45245245245245247,
          0.4540540540540541,
          0.4556556556556557,
          0.4572572572572573,
          0.4588588588588589,
          0.4604604604604605,
          0.46206206206206213,
          0.46366366366366374,
          0.46526526526526535,
          0.46686686686686696,
          0.46846846846846857,
          0.4700700700700702,
          0.4716716716716718,
          0.4732732732732732,
          0.4748748748748748,
          0.4764764764764764,
          0.478078078078078,
          0.4796796796796796,
          0.4812812812812812,
          0.48288288288288284,
          0.48448448448448445,
          0.48608608608608606,
          0.48768768768768767,
          0.4892892892892893,
          0.4908908908908909,
          0.4924924924924925,
          0.4940940940940941,
          0.4956956956956957,
          0.4972972972972973,
          0.49889889889889893,
          0.5005005005005005,
          0.5021021021021022,
          0.5037037037037038,
          0.5053053053053054,
          0.506906906906907,
          0.5085085085085086,
          0.5101101101101102,
          0.5117117117117118,
          0.5133133133133134,
          0.514914914914915,
          0.5165165165165164,
          0.518118118118118,
          0.5197197197197196,
          0.5213213213213213,
          0.5229229229229229,
          0.5245245245245245,
          0.5261261261261261,
          0.5277277277277277,
          0.5293293293293293,
          0.5309309309309309,
          0.5325325325325325,
          0.5341341341341341,
          0.5357357357357357,
          0.5373373373373374,
          0.538938938938939,
          0.5405405405405406,
          0.5421421421421422,
          0.5437437437437438,
          0.5453453453453454,
          0.546946946946947,
          0.5485485485485486,
          0.5501501501501502,
          0.5517517517517518,
          0.5533533533533534,
          0.5549549549549551,
          0.5565565565565567,
          0.5581581581581583,
          0.5597597597597597,
          0.5613613613613613,
          0.5629629629629629,
          0.5645645645645645,
          0.5661661661661661,
          0.5677677677677677,
          0.5693693693693693,
          0.5709709709709709,
          0.5725725725725725,
          0.5741741741741742,
          0.5757757757757758,
          0.5773773773773774,
          0.578978978978979,
          0.5805805805805806,
          0.5821821821821822,
          0.5837837837837838,
          0.5853853853853854,
          0.586986986986987,
          0.5885885885885886,
          0.5901901901901903,
          0.5917917917917919,
          0.5933933933933935,
          0.5949949949949951,
          0.5965965965965967,
          0.5981981981981983,
          0.5997997997997999,
          0.6014014014014015,
          0.6030030030030029,
          0.6046046046046045,
          0.6062062062062061,
          0.6078078078078077,
          0.6094094094094094,
          0.611011011011011,
          0.6126126126126126,
          0.6142142142142142,
          0.6158158158158158,
          0.6174174174174174,
          0.619019019019019,
          0.6206206206206206,
          0.6222222222222222,
          0.6238238238238238,
          0.6254254254254255,
          0.6270270270270271,
          0.6286286286286287,
          0.6302302302302303,
          0.6318318318318319,
          0.6334334334334335,
          0.6350350350350351,
          0.6366366366366367,
          0.6382382382382383,
          0.6398398398398399,
          0.6414414414414416,
          0.6430430430430432,
          0.6446446446446448,
          0.6462462462462462,
          0.6478478478478478,
          0.6494494494494494,
          0.651051051051051,
          0.6526526526526526,
          0.6542542542542542,
          0.6558558558558558,
          0.6574574574574574,
          0.659059059059059,
          0.6606606606606606,
          0.6622622622622623,
          0.6638638638638639,
          0.6654654654654655,
          0.6670670670670671,
          0.6686686686686687,
          0.6702702702702703,
          0.6718718718718719,
          0.6734734734734735,
          0.6750750750750751,
          0.6766766766766767,
          0.6782782782782784,
          0.67987987987988,
          0.6814814814814816,
          0.6830830830830832,
          0.6846846846846848,
          0.6862862862862864,
          0.687887887887888,
          0.6894894894894894,
          0.691091091091091,
          0.6926926926926926,
          0.6942942942942942,
          0.6958958958958958,
          0.6974974974974975,
          0.6990990990990991,
          0.7007007007007007,
          0.7023023023023023,
          0.7039039039039039,
          0.7055055055055055,
          0.7071071071071071,
          0.7087087087087087,
          0.7103103103103103,
          0.7119119119119119,
          0.7135135135135136,
          0.7151151151151152,
          0.7167167167167168,
          0.7183183183183184,
          0.71991991991992,
          0.7215215215215216,
          0.7231231231231232,
          0.7247247247247248,
          0.7263263263263264,
          0.727927927927928,
          0.7295295295295297,
          0.7311311311311313,
          0.7327327327327327,
          0.7343343343343343,
          0.7359359359359359,
          0.7375375375375375,
          0.7391391391391391,
          0.7407407407407407,
          0.7423423423423423,
          0.7439439439439439,
          0.7455455455455455,
          0.7471471471471471,
          0.7487487487487487,
          0.7503503503503504,
          0.751951951951952,
          0.7535535535535536,
          0.7551551551551552,
          0.7567567567567568,
          0.7583583583583584,
          0.75995995995996,
          0.7615615615615616,
          0.7631631631631632,
          0.7647647647647648,
          0.7663663663663665,
          0.7679679679679681,
          0.7695695695695697,
          0.7711711711711713,
          0.7727727727727729,
          0.7743743743743745,
          0.7759759759759759,
          0.7775775775775775,
          0.7791791791791791,
          0.7807807807807807,
          0.7823823823823823,
          0.783983983983984,
          0.7855855855855856,
          0.7871871871871872,
          0.7887887887887888,
          0.7903903903903904,
          0.791991991991992,
          0.7935935935935936,
          0.7951951951951952,
          0.7967967967967968,
          0.7983983983983984,
          0.8
         ],
         "y": [
          2.9381515875639495e-104,
          7.350998827604347e-104,
          1.835939944674458e-103,
          4.577312367534889e-103,
          1.1392068643403755e-102,
          2.8303138591417956e-102,
          7.0195062530994696e-102,
          1.7378748367969165e-101,
          4.295071393796358e-101,
          1.0596495104949666e-100,
          2.6097208719248357e-100,
          6.416021912882047e-100,
          1.5746265888462174e-99,
          3.8577074085623676e-99,
          9.43454482123471e-99,
          2.3033109989268143e-98,
          5.6133765154023803e-98,
          1.3656384239672538e-97,
          3.316555310862182e-97,
          8.040419788923203e-97,
          1.945853614875828e-96,
          4.700906028581967e-96,
          1.13368639894118e-95,
          2.7292559480385324e-95,
          6.558968679217434e-95,
          1.573500231238974e-94,
          3.768235420958649e-94,
          9.00843203931328e-94,
          2.1498113327473215e-93,
          5.121432484564749e-93,
          1.2179305329305349e-92,
          2.8913026014143202e-92,
          6.851797799840594e-92,
          1.6208972742873531e-91,
          3.827775057195596e-91,
          9.023547042292275e-91,
          2.1234797698950663e-90,
          4.9883731326046865e-90,
          1.1697948295785254e-89,
          2.7384223201681602e-89,
          6.3992800561326e-89,
          1.4928004947112406e-88,
          3.4762610806694534e-88,
          8.080960139148278e-88,
          1.8752255226840204e-87,
          4.343941906285179e-87,
          1.0045104851362357e-86,
          2.318808600328586e-86,
          5.343370557381924e-86,
          1.2291521530226374e-85,
          2.822513070757583e-85,
          6.470029186585505e-85,
          1.4805275057646116e-84,
          3.3819461116962428e-84,
          7.711819367666643e-84,
          1.7554439870362473e-83,
          3.988935985639421e-83,
          9.048302671847095e-83,
          2.0488828859260696e-82,
          4.6313447731340076e-82,
          1.0450499594375864e-81,
          2.354002693113029e-81,
          5.293181920677058e-81,
          1.1881373487388923e-80,
          2.6622966030578497e-80,
          5.955060671102291e-80,
          1.3297068481771376e-79,
          2.9639138955801114e-79,
          6.595006420659929e-79,
          1.4648893614581053e-78,
          3.248137382619667e-78,
          7.1895865635226e-78,
          1.5885957880535617e-77,
          3.503990006749817e-77,
          7.715290332113719e-77,
          1.6958274101654946e-76,
          3.7209256324280743e-76,
          8.150050357633439e-76,
          1.782007619428079e-75,
          3.889544849162024e-75,
          8.47477102273955e-75,
          1.8433046761300288e-74,
          4.00226866917534e-74,
          8.674717008661165e-74,
          1.8769139195644618e-73,
          4.0539030369647647e-73,
          8.740621637758639e-73,
          1.8812705094748792e-72,
          4.0420356229886347e-72,
          8.669398937540642e-72,
          1.856170226704836e-71,
          3.967222685573562e-71,
          8.464383221043814e-71,
          1.80278534503191e-70,
          3.832945841640799e-70,
          8.13507027880349e-70,
          1.7235738561791696e-69,
          3.6453434251800384e-69,
          7.696388160556335e-69,
          1.6220918378637238e-68,
          3.4127453029947925e-68,
          7.167575539160954e-68,
          1.5027289121433014e-67,
          3.145060239531914e-67,
          6.570784994147041e-67,
          1.3703941864558458e-66,
          2.853078499320143e-66,
          5.929552201755419e-66,
          1.230183889204868e-65,
          2.547757776499806e-65,
          5.267277498198947e-65,
          1.0870617752663949e-64,
          2.2395574772887994e-64,
          4.605853960496858e-64,
          9.455795617652672e-64,
          1.9378758570133534e-63,
          3.9645490017648804e-63,
          8.09657961162183e-63,
          1.6506285532915346e-62,
          3.359209414825502e-62,
          6.824404594035801e-62,
          1.3839882944726817e-61,
          2.8018187010349248e-61,
          5.6622312838904884e-61,
          1.1422867589144568e-60,
          2.3003962064349697e-60,
          4.6245566658454776e-60,
          9.280631534773894e-60,
          1.8591948936848969e-59,
          3.71802467684946e-59,
          7.422318395110447e-59,
          1.4791317357491146e-58,
          2.9424838820873097e-58,
          5.843341824083411e-58,
          1.1583730760823124e-57,
          2.2923217730815988e-57,
          4.528377946405238e-57,
          8.929964169759518e-57,
          1.7579103716389697e-56,
          3.454488116713925e-56,
          6.776581098857063e-56,
          1.32702021790004e-55,
          2.5940861896417175e-55,
          5.062105895631197e-55,
          9.86093311220509e-55,
          1.9175414578332397e-54,
          3.7223008725921623e-54,
          7.213036808144575e-54,
          1.3952909749984193e-53,
          2.694333707220439e-53,
          5.193712985434627e-53,
          9.994117937977583e-53,
          1.9197777622558216e-52,
          3.68126774649732e-52,
          7.0466681110659e-52,
          1.346511885531405e-51,
          2.5684820067871564e-51,
          4.89083291771699e-51,
          9.296705805406826e-51,
          1.7640679583268451e-50,
          3.3415002503514143e-50,
          6.318407715737879e-50,
          1.1926520470433186e-49,
          2.247293685932225e-49,
          4.227132564677597e-49,
          7.937283020818578e-49,
          1.487776954739423e-48,
          2.783836667130149e-48,
          5.199835884395482e-48,
          9.695617752651948e-48,
          1.804684532373949e-47,
          3.353258772585644e-47,
          6.219748230824032e-47,
          1.1516446741328978e-46,
          2.128649535002507e-46,
          3.927622935349506e-46,
          7.234280984875928e-46,
          1.3301509261872725e-45,
          2.4414421141852173e-45,
          4.4733399633723143e-45,
          8.181959779553508e-45,
          1.493904165562565e-44,
          2.722877471323399e-44,
          4.954198705878004e-44,
          8.99826350467768e-44,
          1.6314882662716183e-43,
          2.9529028904325615e-43,
          5.3352446336770585e-43,
          9.622755980433144e-43,
          1.7325451873630887e-42,
          3.113935628684145e-42,
          5.58694830779536e-42,
          1.0006440980375788e-41,
          1.7890586811393445e-41,
          3.1930777652163073e-41,
          5.688979489692967e-41,
          1.0118105487685407e-40,
          1.796403945406129e-40,
          3.183821858184764e-40,
          5.632918689216663e-40,
          9.948512890040855e-40,
          1.7539726383177204e-39,
          3.086934565951215e-39,
          5.423404484621836e-39,
          9.511664658069347e-39,
          1.665256078060991e-38,
          2.9103517850931557e-38,
          5.07749972899881e-38,
          8.842891437567736e-38,
          1.5373708428690748e-37,
          2.6681052013961863e-37,
          4.622396772637905e-37,
          7.994134584739306e-37,
          1.3801161952798988e-36,
          2.378481684039702e-36,
          4.0918898372795954e-36,
          7.027292279661547e-36,
          1.2047364868981693e-35,
          2.0617503297110575e-35,
          3.522248916148201e-35,
          6.00681114797163e-35,
          1.0226049119970282e-34,
          1.7378477796128891e-34,
          2.9481905831140365e-34,
          4.992744460021827e-34,
          8.440401085889756e-34,
          1.4243830382356496e-33,
          2.3995536504330807e-33,
          4.035283932641214e-33,
          6.774195004646892e-33,
          1.1352231864146477e-32,
          1.899086619320871e-32,
          3.171379811979241e-32,
          5.286785658439155e-32,
          8.797820797439949e-32,
          1.4614988650987212e-31,
          2.423604865889565e-31,
          4.012038681291799e-31,
          6.629921248005938e-31,
          1.0936833245755145e-30,
          1.8010043990943565e-30,
          2.9605876232443513e-30,
          4.8582630655712e-30,
          7.958369475609752e-30,
          1.3013889979533756e-29,
          2.1243698364181853e-29,
          3.4617291428960706e-29,
          5.631135848527987e-29,
          9.144056218196686e-29,
          1.4822509343166817e-28,
          2.3985266072841216e-28,
          3.874425467460839e-28,
          6.2475543576571895e-28,
          1.0056636173168414e-27,
          1.6159778222758364e-27,
          2.5921373884459507e-27,
          4.150692868205792e-27,
          6.63472831706692e-27,
          1.0586822976741122e-26,
          1.6863515695480204e-26,
          2.6814552500245935e-26,
          4.2563070300963264e-26,
          6.744275546841736e-26,
          1.0667867808088215e-25,
          1.6844569172685752e-25,
          2.65510776204071e-25,
          4.1777683890284505e-25,
          6.562155676401413e-25,
          1.0289367078101459e-24,
          1.610537181953661e-24,
          2.516476115032385e-24,
          3.925137112906983e-24,
          6.111626622487302e-24,
          9.499456500864797e-24,
          1.4739429196523127e-23,
          2.2829822480300323e-23,
          3.529915963415717e-23,
          5.448364574796812e-23,
          8.394752899722438e-23,
          1.2911884612346526e-22,
          1.9824914267728545e-22,
          3.038596001107261e-22,
          4.649160812202343e-22,
          7.100944813614974e-22,
          1.0826739037946292e-21,
          1.647855640142147e-21,
          2.50369037151286e-21,
          3.79736233112577e-21,
          5.749411843601341e-21,
          8.689699594520552e-21,
          1.3110705714146482e-20,
          1.974637306887975e-20,
          2.9688521426562197e-20,
          4.4558417933016873e-20,
          6.67591684782487e-20,
          9.984631409459753e-20,
          1.4907098398340016e-19,
          2.22174474481913e-19,
          3.305484823206959e-19,
          4.909261157534747e-19,
          7.278419225629469e-19,
          1.0772040062519758e-18,
          1.5914713166845017e-18,
          2.3471434541011647e-18,
          3.455575725485598e-18,
          5.078566664615764e-18,
          7.45078211223825e-18,
          1.0911954119806102e-17,
          1.5953029261691245e-17,
          2.3282186015995275e-17,
          3.3919099211378754e-17,
          4.932928584326528e-17,
          7.16152163766946e-17,
          1.0378766735978049e-16,
          1.501502834937998e-16,
          2.1684355780687314e-16,
          3.126128706210175e-16,
          4.498908361568796e-16,
          6.463197129076076e-16,
          9.268887687699489e-16,
          1.3269293487363375e-15,
          1.896303917874989e-15,
          2.705253996426439e-15,
          3.852548499287153e-15,
          5.476815924893549e-15,
          7.772274614339926e-15,
          1.1010526632586826e-14,
          1.5570695401979903e-14,
          2.1981022394865204e-14,
          3.097617084417382e-14,
          4.357601738857738e-14,
          6.119378307915503e-14,
          8.578414602353971e-14,
          1.2004573203675397e-13,
          1.676974191000421e-13,
          2.338546423638913e-13,
          3.255409114888965e-13,
          4.5238179242693437e-13,
          6.27544635419407e-13,
          8.690086275246454e-13,
          1.2012779830061365e-12,
          1.6576884408617025e-12,
          2.2835065585999414e-12,
          3.1400862700575e-12,
          4.310432604061052e-12,
          5.906634539223237e-12,
          8.07977570013353e-12,
          1.1033123287075244e-11,
          1.503964551626129e-11,
          2.0465232903925033e-11,
          2.7799420662476695e-11,
          3.7695955985683734e-11,
          5.102626033452763e-11,
          6.894974775974068e-11,
          9.300613251674872e-11,
          1.252363644041783e-10,
          1.683407587272098e-10,
          2.258853531601805e-10,
          3.025706685780836e-10,
          4.045810534887732e-10,
          5.400378746438317e-10,
          7.195862569183154e-10,
          9.571532178699886e-10,
          1.2709253129517635e-9,
          1.6846068330414782e-9,
          2.2290358260698724e-9,
          2.9442555471204397e-9,
          3.882164354708853e-9,
          5.10989876098498e-9,
          6.7141437684531935e-9,
          8.80661355833567e-9,
          1.1531006185445363e-8,
          1.5071810780293693e-8,
          1.9665437994367865e-8,
          2.56142578155889e-8,
          3.330426794231261e-8,
          4.322728603066843e-8,
          5.6008766748695605e-8,
          7.244259731529623e-8,
          9.353453211039186e-8,
          1.2055629868137594e-7,
          1.5511285658718217e-7,
          1.9922583172551155e-7,
          2.554367992685105e-7,
          3.269348680993648e-7,
          4.177139519129088e-7,
          5.327662237523731e-7,
          6.783195726002344e-7,
          8.621284481639928e-7,
          0.0000010938293336784632,
          0.0000013853742724340228,
          0.0000017515584439828007,
          0.000002210660799363562,
          0.0000027852202871771527,
          0.000003502974307569553,
          0.000004397990800891399,
          0.000005512030902270635,
          0.0000068961854716181855,
          0.000008612836148702263,
          0.00001073800000181542,
          0.000013364126461867041,
          0.00001660342619531283,
          0.000020591824010415697,
          0.000025493641959359174,
          0.00003150713464571585,
          0.00003887101652712264,
          0.0000478721408708929,
          0.000058854512126139025,
          0.00007222983796253755,
          0.0000884898542231534,
          0.0001082206856584838,
          0.00013211953763764807,
          0.00016101404912450965,
          0.00019588467507406217,
          0.00023789050700980877,
          0.00028839898378629823,
          0.00034901999025050844,
          0.00042164488943349706,
          0.0005084910836742534,
          0.0006121527512330042,
          0.0007356584568984036,
          0.0008825363870984832,
          0.0010568880112029457,
          0.0012634710200007814,
          0.0015077924385217417,
          0.0017962128520224647,
          0.0021360627194632353,
          0.002535771776340414,
          0.003005012546296138,
          0.0035548589862774583,
          0.004197961280756387,
          0.004948737774058942,
          0.005823584983445537,
          0.006841106566363802,
          0.00802236202029795,
          0.00939113576985788,
          0.010974227140188062,
          0.012801761525504446,
          0.014907522833808704,
          0.017329307021033576,
          0.020109296217809478,
          0.023294452597918163,
          0.026936930738022325,
          0.031094506772821454,
          0.03583102215850664,
          0.04121683932129649,
          0.04732930588895209,
          0.05425322358463702,
          0.062081317208673256,
          0.07091469845035095,
          0.0808633185660708,
          0.09204640324032466,
          0.10459286222243137,
          0.11864166561616718,
          0.13434217800455456,
          0.15185444093273406,
          0.17134939366385307,
          0.19300902158350322,
          0.21702642117548646,
          0.24360577014458334,
          0.27296219103993924,
          0.30532149665532077,
          0.3409198055692124,
          0.3800030164573258,
          0.4228261302802644,
          0.4696524101359663,
          0.5207523694841644,
          0.5764025806098044,
          0.6368842966025987,
          0.7024818817949082,
          0.7734810475206763,
          0.8501668922296819,
          0.9328217474047019,
          1.021722833369524,
          1.1171397319227176,
          1.2193316857593437,
          1.328544737818279,
          1.4450087269784877,
          1.568934159879799,
          1.7005089820136272,
          1.83989527456302,
          1.9872259067111868,
          2.1426011762229553,
          2.306085473969528,
          2.4777040106497465,
          2.657439646194879,
          2.845229864165003,
          3.0409639347918715,
          3.2444803111378944,
          3.455564303071436,
          3.673946073359419,
          3.8992989991118057,
          4.1312384400511,
          4.369320952606422,
          4.613043985639799,
          4.861846089710612,
          5.115107667190707,
          5.3721522852934775,
          5.632248568221488,
          5.89461267823063,
          6.158411388528492,
          6.422765743657244,
          6.686755295454719,
          6.949422894949301,
          7.209780012740629,
          7.466812552671596,
          7.719487116033917,
          7.966757666298665,
          8.207572537551766,
          8.440881723569138,
          8.665644378904025,
          8.880836458593716,
          9.085458419223464,
          9.278542901200586,
          9.459162310264306,
          9.62643621554316,
          9.779538481909539,
          9.917704055989,
          10.040235327958296,
          10.146507995188562,
          10.23597635881574,
          10.308177990385994,
          10.36273771274798,
          10.399370847245464,
          10.417885687887832,
          10.418185172411688,
          10.40026772985265,
          10.36422729427165,
          10.310252484467966,
          10.238624959701644,
          10.149716971481089,
          10.04398814119043,
          9.921981502584728,
          9.784318856827182,
          9.63169549565073,
          9.464874355280214,
          9.284679669849806,
          9.091990198111466,
          8.8877321011896,
          8.672871551951625,
          8.448407158210612,
          8.21536228245229,
          7.974777340102261,
          7.727702156557581,
          7.475188460355794,
          7.21828258601616,
          6.958018455350094,
          6.695410900500582,
          6.431449385745439,
          6.167092178304186,
          5.90326101115041,
          5.640836273276113,
          5.380652755112121,
          5.123495969004932,
          4.870099056908264,
          4.6211402898832485,
          4.377241156722657,
          4.1389650321201445,
          3.906816408382066,
          3.6812406688017383,
          3.4626243755456536,
          3.251296040286031,
          3.047527341888996,
          2.851534752252107,
          2.6634815288881697,
          2.4834800310673866,
          2.3115943152411087,
          2.1478429650499042,
          1.992202111429138,
          1.8446085991216998,
          1.704963257237671,
          1.5731342333071912,
          1.4489603524940882,
          1.3322544662100397,
          1.2228067572270092,
          1.120387971464576,
          1.0247525498644539,
          0.9356416370964495,
          0.8527859472095434,
          0.7759084696954465,
          0.7047270027205494,
          0.6389565034619036,
          0.578311248515599,
          0.5225068001992087,
          0.4712617772174839,
          0.4242994305815167,
          0.381349027851282,
          0.34214705070027274,
          0.3064382124744575,
          0.27397630383630267,
          0.2445248757523825,
          0.2178577700085857,
          0.19375950813111414,
          0.17202555006854214,
          0.15246243426611183,
          0.13488781085587542,
          0.1191303796140176,
          0.10502974411907134,
          0.09243619320143497,
          0.08121042032501517,
          0.07122319100495758,
          0.06235496775943326,
          0.05449550143552367,
          0.04754339705529329,
          0.041405661612847484,
          0.03599724052963932,
          0.031240548755220116,
          0.027065001794154664,
          0.023406551255564473,
          0.0202072288668804,
          0.017414702273617175,
          0.014981845366739913,
          0.012866325341657664,
          0.011030208200109486,
          0.009439583959253796,
          0.008064212431295785,
          0.0068771900813873925,
          0.005854638160048507,
          0.004975412037210195,
          0.0042208314359431995,
          0.0035744310724756378,
          0.0030217310524461795,
          0.002550026248561269,
          0.0021481937889303556,
          0.0018065177153324162,
          0.0015165298235579482,
          0.0012708656708966715,
          0.0010631347260567157,
          0.000887803641711968,
          0.0007400916470649943,
          0.0006158770850581512,
          0.0005116141541383676,
          0.0004242589559585723,
          0.00035120399645765263,
          0.0002902203369758823,
          0.00023940664319601433,
          0.00019714443169381222,
          0.0001620588658429162,
          0.00013298450401079794,
          0.00010893545280642677,
          0.00008907942612517623,
          0.00007271525652312845,
          0.00005925344878059801,
          0.0000481994062086644,
          0.000039138998210926715,
          0.00003172617279578901,
          0.000025672350153463503,
          0.000020737363119404782,
          0.00001672173742767077,
          0.000013460129224764891,
          0.000010815759496359024,
          0.000008675704998336554,
          0.000006946923130087439,
          0.000005552904096024402,
          0.0000044308578253229,
          0.00000352935561205083,
          0.0000028063574457532817,
          0.0000022275656676642214,
          0.0000017650540441306226,
          0.0000013961287224842124,
          0.0000011023839427128015,
          8.689209291783027e-7,
          6.837031796546598e-7,
          5.370254946696326e-7,
          4.2107763055639497e-7,
          3.295864886469902e-7,
          2.5752333686854014e-7,
          2.0086475765462095e-7,
          1.5639787991552803e-7,
          1.2156202906265321e-7,
          9.432025841004342e-8,
          7.305534327759064e-8,
          5.6485756835331275e-8,
          4.3597931118171895e-8,
          3.35917610331036e-8,
          2.5836853687654832e-8,
          1.9837477263495493e-8,
          1.5204537729483042e-8,
          1.163322054762063e-8,
          8.88518889750542e-9,
          6.774438917621154e-9,
          5.156083711754729e-9,
          3.917477859818574e-9,
          2.9712083306074652e-9,
          2.249570560649054e-9,
          1.7002238274938883e-9,
          1.2827810599104603e-9,
          9.661375065515734e-10,
          7.263823918130544e-10,
          5.451696070141071e-10,
          4.084490842624967e-10,
          3.054809832500863e-10,
          2.2807117254547627e-10,
          1.6997951014577229e-10,
          1.2646277686396864e-10,
          9.392232109563703e-11,
          6.963296405479331e-11,
          5.153483738042961e-11,
          3.807385926537289e-11,
          2.807972518329705e-11,
          2.0672774543508356e-11,
          1.5193038765329637e-11,
          1.1146293796522821e-11,
          8.163122028614528e-12,
          5.967907096678495e-12,
          4.355397337749684e-12,
          3.1730248351340753e-12,
          2.307592526593156e-12,
          1.6752697195009175e-12,
          1.2140884179031298e-12,
          8.783262367956269e-13,
          6.343097079438759e-13,
          4.572848601878463e-13,
          3.290881545098555e-13,
          2.364164217720808e-13,
          1.6954422131379707e-13,
          1.2137473833062055e-13,
          8.673883478189164e-14,
          6.187836404888537e-14,
          4.406604008892041e-14,
          3.132630627379331e-14,
          2.223076033041205e-14,
          1.5748507657500614e-14,
          1.1136903531148256e-14,
          7.861935419704847e-15,
          5.5403148872649934e-15,
          3.8974395510629204e-15,
          2.736933779506589e-15,
          1.918620824127938e-15,
          1.3426226840523252e-15,
          9.379048238120798e-16,
          6.540388120441552e-16,
          4.552901294326019e-16,
          3.163828336646854e-16,
          2.1947120613122767e-16,
          1.5197849928175406e-16,
          1.050574162184389e-16,
          7.249553210415054e-17,
          4.9938527282711904e-17,
          3.4339991379906165e-17,
          2.3572443066501034e-17,
          1.6152842989107222e-17,
          1.1049262979983479e-17,
          7.544971632438305e-18,
          5.1430633614526405e-18,
          3.4996619908082706e-18,
          2.3772250018075628e-18,
          1.6119606654397475e-18,
          1.0911351676075468e-18,
          7.372972758065954e-19,
          4.973323016923816e-19,
          3.348811237005937e-19,
          2.25099552429596e-19,
          1.5104228849332805e-19,
          1.0117249152298666e-19,
          6.764976555507208e-20,
          4.5155443166444703e-20,
          3.0088039074003105e-20,
          2.0013250087080835e-20,
          1.3288664069177004e-20,
          8.808155755488595e-21,
          5.828121688423522e-21,
          3.849569802218191e-21,
          2.5382579151925453e-21,
          1.6707030362644526e-21,
          1.0977482086422956e-21,
          7.200226770818753e-22,
          4.71443415920323e-22,
          3.0814344771041113e-22,
          2.0105564095314903e-22,
          1.3095423563265115e-22,
          8.514571562119797e-23,
          5.526447037799243e-23,
          3.580710314203035e-23,
          2.3159667744764926e-23,
          1.4953244151865176e-23,
          9.637812802888292e-24,
          6.200996859376037e-24,
          3.9827633183522756e-24,
          2.5535681227701093e-24,
          1.6343699187946407e-24,
          1.0442229523613403e-24,
          6.66002825945213e-25,
          4.2403223349360065e-25,
          2.6950177717433115e-25,
          1.7098749813222101e-25,
          1.082946606387814e-25,
          6.846832351126994e-26,
          4.321278987378852e-26,
          2.7225438296165023e-26,
          1.7122903803332015e-26,
          1.075028346639569e-26,
          6.737555840849525e-27,
          4.215264216201686e-27,
          2.632614010958599e-27,
          1.6413059252530636e-27,
          1.0214846594490885e-27,
          6.346205378048769e-28,
          3.935830248955157e-28,
          2.4366803331965535e-28,
          1.5059159022100169e-28,
          9.290580339055337e-29,
          5.72169797487794e-29,
          3.5176042566674167e-29,
          2.158782999545418e-29,
          1.3225465378799873e-29,
          8.088218947564649e-30,
          4.937814806554059e-30,
          3.0092388404076253e-30,
          1.8307054824341845e-30,
          1.1117836118501316e-30,
          6.7400329002934365e-31,
          4.078906285453871e-31,
          2.4641401251043307e-31,
          1.486028150197871e-31,
          8.945994662017225e-32,
          5.376135367224838e-32,
          3.225163369615567e-32,
          1.9314043455438045e-32,
          1.1546082392832564e-32,
          6.890267183576489e-33,
          4.104662331616359e-33,
          2.4409493696358058e-33,
          1.4490389829063972e-33,
          8.586997365823286e-34,
          5.079752497601211e-34,
          2.999740853839242e-34,
          1.7683363957404755e-34,
          1.0406052098147349e-34,
          6.112896865147911e-35,
          3.584661106073927e-35,
          2.0984039802893708e-35,
          1.2262247042841955e-35,
          7.153045441086931e-36,
          4.165353543470796e-36,
          2.4213229391299722e-36,
          1.405055652346811e-36,
          8.13906091336101e-37,
          4.70646717030685e-37,
          2.7167878789712303e-37,
          1.5655119632097644e-37,
          9.00527568975151e-38,
          5.171036433123996e-38,
          2.964136128436451e-38,
          1.6961281202965531e-38,
          9.688557621213406e-39,
          5.5245837422737984e-39,
          3.1447053393134264e-39,
          1.7869002825645962e-39,
          1.0135860843450292e-39,
          5.739326395997109e-40,
          3.2441518237874314e-40,
          1.8305490903252069e-40,
          1.03110181596447e-40,
          5.797779388238643e-41,
          3.2543314454311905e-41,
          1.8234835163515014e-41,
          1.0199570012358469e-41,
          5.6951064681130805e-42,
          3.174401049181935e-42,
          1.7662887508547185e-42,
          9.810735664576401e-43,
          5.439780907051196e-43,
          3.010933784534342e-43,
          1.6636461664203782e-43,
          9.176153816928388e-44,
          5.052430738189027e-44,
          2.777026441265917e-44,
          1.523700547349307e-44,
          8.345631309823441e-45,
          4.563086781215241e-45,
          2.4905669711505544e-45,
          1.3569932359798085e-45,
          7.380692365489288e-46,
          4.00734273052778e-46,
          2.1719800568706634e-46,
          1.1751549698893584e-46,
          6.347086432678872e-47,
          3.422107481517026e-47,
          1.8418439907818065e-47,
          9.895824844522484e-48,
          5.3075136574607855e-48,
          2.8416474989549334e-48,
          1.518760344912403e-48,
          8.103045119753794e-49,
          4.315660052581092e-49,
          2.294489954614665e-49,
          1.2177693976781494e-49,
          6.451844832499431e-50,
          3.412264865026698e-50,
          1.8015300771290076e-50,
          9.494678474799616e-51,
          4.9952700337493804e-51,
          2.6234792915825823e-51,
          1.3754229706140324e-51,
          7.198381642040298e-52,
          3.760741008555354e-52,
          1.9613357564832406e-52,
          1.0211050602235001e-52,
          5.306752991234119e-53,
          2.753133562635072e-53,
          1.4258231137750549e-53,
          7.371298241962687e-54,
          3.804190685595319e-54,
          1.9598396293445795e-54,
          1.0079030395256256e-54,
          5.174363528399432e-55,
          2.6517652906497856e-55,
          1.3566042987024463e-55,
          6.9280539104811345e-56,
          3.531907252420692e-56,
          1.7974105439936752e-56,
          9.131145056446135e-57,
          4.63066284419396e-57,
          2.3442344469006487e-57,
          1.184674083328595e-57,
          5.9763592312570435e-58,
          3.009639400256875e-58,
          1.5129765452731057e-58,
          7.592588969820081e-59,
          3.803536132914715e-59,
          1.9020641734688878e-59,
          9.495170051246282e-60,
          4.731733660045263e-60,
          2.3538446546351764e-60,
          1.168894369120918e-60,
          5.794456380703811e-61,
          2.867411956536628e-61,
          1.4164702195704359e-61,
          6.984973567181645e-62,
          3.4384447332900038e-62,
          1.689659879401974e-62,
          8.288510617952151e-63,
          4.058762758422067e-63,
          1.9840417097417523e-63,
          9.681616851115616e-64,
          4.7161210912460674e-64,
          2.2933057819928707e-64,
          1.1132147369405605e-64,
          5.394309869985742e-65,
          2.609352763934998e-65,
          1.2599974453914686e-65,
          6.073604321166183e-66,
          2.9225590086782394e-66,
          1.4038478602432326e-66,
          6.731576142370827e-67,
          3.222207047582924e-67,
          1.5396786452016662e-67,
          7.344237146782548e-68,
          3.4970614189259646e-68,
          1.6622632000769787e-68,
          7.887443900287907e-69,
          3.7360505069165476e-69,
          1.766563107981587e-69,
          8.338453993674331e-70,
          3.928998651276639e-70,
          1.848069012172385e-70,
          8.677496610337728e-71,
          4.0673419207840134e-71,
          1.903123077106822e-71,
          8.889207225472611e-72,
          4.144757710721152e-72,
          1.9291910043668594e-72,
          8.963781685264529e-73,
          4.1576437669899505e-73,
          1.9250554473514856e-73,
          8.897728972378351e-74,
          4.105396097903742e-74,
          1.8909102672316967e-74,
          8.694142161131416e-75,
          3.9904559120104985e-75,
          1.828345465893005e-75,
          8.362458272782833e-76,
          3.8181205017257593e-76,
          1.7402244267864763e-76,
          7.917732998142871e-77,
          3.59613847727951e-77,
          1.6304666640079939e-77,
          7.379507919998282e-78,
          3.334132424287597e-78,
          1.5037590337573038e-78,
          6.77038890454502e-79,
          3.0429088644799864e-79,
          1.3652250144504592e-79,
          6.1144794712895664e-80,
          2.7337242662579473e-80,
          1.22008443560708e-80,
          5.435819515351178e-81,
          2.417575982464802e-81,
          1.073334771677733e-81,
          4.756967977519176e-82,
          2.104578935500967e-82,
          9.294802649815652e-83,
          4.097840868584375e-83,
          1.803474342885166e-83,
          7.923276456223937e-84,
          3.4748784132827544e-84,
          1.5212982976691539e-84,
          6.648583200704603e-85,
          2.90057299308061e-85
         ]
        },
        {
         "mode": "lines",
         "name": "Animal Feeding Expenditure",
         "type": "scatter",
         "x": [
          -0.8,
          -0.7983983983983984,
          -0.7967967967967968,
          -0.7951951951951952,
          -0.7935935935935936,
          -0.791991991991992,
          -0.7903903903903904,
          -0.7887887887887889,
          -0.7871871871871873,
          -0.7855855855855857,
          -0.7839839839839841,
          -0.7823823823823824,
          -0.7807807807807808,
          -0.7791791791791792,
          -0.7775775775775776,
          -0.775975975975976,
          -0.7743743743743744,
          -0.7727727727727728,
          -0.7711711711711712,
          -0.7695695695695696,
          -0.7679679679679681,
          -0.7663663663663665,
          -0.7647647647647648,
          -0.7631631631631632,
          -0.7615615615615616,
          -0.75995995995996,
          -0.7583583583583584,
          -0.7567567567567568,
          -0.7551551551551552,
          -0.7535535535535536,
          -0.751951951951952,
          -0.7503503503503504,
          -0.7487487487487487,
          -0.7471471471471471,
          -0.7455455455455455,
          -0.743943943943944,
          -0.7423423423423424,
          -0.7407407407407408,
          -0.7391391391391392,
          -0.7375375375375376,
          -0.735935935935936,
          -0.7343343343343344,
          -0.7327327327327328,
          -0.7311311311311312,
          -0.7295295295295295,
          -0.7279279279279279,
          -0.7263263263263263,
          -0.7247247247247248,
          -0.7231231231231232,
          -0.7215215215215216,
          -0.71991991991992,
          -0.7183183183183184,
          -0.7167167167167168,
          -0.7151151151151152,
          -0.7135135135135136,
          -0.7119119119119119,
          -0.7103103103103103,
          -0.7087087087087087,
          -0.7071071071071071,
          -0.7055055055055055,
          -0.7039039039039039,
          -0.7023023023023023,
          -0.7007007007007008,
          -0.6990990990990992,
          -0.6974974974974976,
          -0.695895895895896,
          -0.6942942942942943,
          -0.6926926926926927,
          -0.6910910910910911,
          -0.6894894894894895,
          -0.6878878878878879,
          -0.6862862862862863,
          -0.6846846846846847,
          -0.6830830830830831,
          -0.6814814814814816,
          -0.67987987987988,
          -0.6782782782782784,
          -0.6766766766766767,
          -0.6750750750750751,
          -0.6734734734734735,
          -0.6718718718718719,
          -0.6702702702702703,
          -0.6686686686686687,
          -0.6670670670670671,
          -0.6654654654654655,
          -0.6638638638638639,
          -0.6622622622622623,
          -0.6606606606606606,
          -0.659059059059059,
          -0.6574574574574574,
          -0.6558558558558559,
          -0.6542542542542543,
          -0.6526526526526527,
          -0.6510510510510511,
          -0.6494494494494495,
          -0.6478478478478479,
          -0.6462462462462463,
          -0.6446446446446447,
          -0.643043043043043,
          -0.6414414414414414,
          -0.6398398398398399,
          -0.6382382382382383,
          -0.6366366366366367,
          -0.6350350350350351,
          -0.6334334334334335,
          -0.6318318318318319,
          -0.6302302302302303,
          -0.6286286286286287,
          -0.6270270270270271,
          -0.6254254254254255,
          -0.6238238238238238,
          -0.6222222222222222,
          -0.6206206206206206,
          -0.619019019019019,
          -0.6174174174174174,
          -0.6158158158158158,
          -0.6142142142142142,
          -0.6126126126126127,
          -0.6110110110110111,
          -0.6094094094094095,
          -0.6078078078078079,
          -0.6062062062062062,
          -0.6046046046046046,
          -0.603003003003003,
          -0.6014014014014014,
          -0.5997997997997998,
          -0.5981981981981982,
          -0.5965965965965967,
          -0.5949949949949951,
          -0.5933933933933935,
          -0.5917917917917919,
          -0.5901901901901903,
          -0.5885885885885886,
          -0.586986986986987,
          -0.5853853853853854,
          -0.5837837837837838,
          -0.5821821821821822,
          -0.5805805805805806,
          -0.578978978978979,
          -0.5773773773773774,
          -0.5757757757757758,
          -0.5741741741741742,
          -0.5725725725725725,
          -0.5709709709709709,
          -0.5693693693693694,
          -0.5677677677677678,
          -0.5661661661661662,
          -0.5645645645645646,
          -0.562962962962963,
          -0.5613613613613614,
          -0.5597597597597598,
          -0.5581581581581582,
          -0.5565565565565566,
          -0.554954954954955,
          -0.5533533533533534,
          -0.5517517517517518,
          -0.5501501501501502,
          -0.5485485485485486,
          -0.546946946946947,
          -0.5453453453453454,
          -0.5437437437437438,
          -0.5421421421421422,
          -0.5405405405405406,
          -0.538938938938939,
          -0.5373373373373374,
          -0.5357357357357357,
          -0.5341341341341341,
          -0.5325325325325325,
          -0.5309309309309309,
          -0.5293293293293293,
          -0.5277277277277277,
          -0.5261261261261261,
          -0.5245245245245246,
          -0.522922922922923,
          -0.5213213213213214,
          -0.5197197197197198,
          -0.5181181181181181,
          -0.5165165165165165,
          -0.5149149149149149,
          -0.5133133133133134,
          -0.5117117117117118,
          -0.5101101101101102,
          -0.5085085085085086,
          -0.506906906906907,
          -0.5053053053053054,
          -0.5037037037037038,
          -0.5021021021021022,
          -0.5005005005005005,
          -0.49889889889889893,
          -0.4972972972972973,
          -0.4956956956956957,
          -0.4940940940940941,
          -0.4924924924924925,
          -0.49089089089089094,
          -0.48928928928928933,
          -0.4876876876876877,
          -0.4860860860860861,
          -0.4844844844844845,
          -0.4828828828828829,
          -0.48128128128128134,
          -0.4796796796796797,
          -0.4780780780780781,
          -0.4764764764764765,
          -0.4748748748748749,
          -0.4732732732732733,
          -0.4716716716716717,
          -0.4700700700700701,
          -0.4684684684684685,
          -0.4668668668668669,
          -0.4652652652652653,
          -0.4636636636636637,
          -0.4620620620620621,
          -0.46046046046046046,
          -0.4588588588588589,
          -0.4572572572572573,
          -0.4556556556556557,
          -0.4540540540540541,
          -0.45245245245245247,
          -0.45085085085085086,
          -0.4492492492492493,
          -0.4476476476476477,
          -0.4460460460460461,
          -0.4444444444444445,
          -0.44284284284284287,
          -0.44124124124124126,
          -0.43963963963963965,
          -0.4380380380380381,
          -0.4364364364364365,
          -0.43483483483483487,
          -0.43323323323323326,
          -0.43163163163163165,
          -0.43003003003003004,
          -0.42842842842842843,
          -0.4268268268268269,
          -0.42522522522522527,
          -0.42362362362362366,
          -0.42202202202202205,
          -0.42042042042042044,
          -0.4188188188188188,
          -0.4172172172172172,
          -0.41561561561561566,
          -0.41401401401401405,
          -0.41241241241241244,
          -0.41081081081081083,
          -0.4092092092092092,
          -0.4076076076076076,
          -0.40600600600600606,
          -0.40440440440440445,
          -0.40280280280280284,
          -0.40120120120120123,
          -0.3995995995995996,
          -0.397997997997998,
          -0.3963963963963964,
          -0.39479479479479485,
          -0.39319319319319324,
          -0.3915915915915916,
          -0.38998998998999,
          -0.3883883883883884,
          -0.3867867867867868,
          -0.3851851851851852,
          -0.38358358358358363,
          -0.381981981981982,
          -0.3803803803803804,
          -0.3787787787787788,
          -0.3771771771771772,
          -0.3755755755755756,
          -0.37397397397397397,
          -0.3723723723723724,
          -0.3707707707707708,
          -0.3691691691691692,
          -0.3675675675675676,
          -0.365965965965966,
          -0.36436436436436437,
          -0.3627627627627628,
          -0.3611611611611612,
          -0.3595595595595596,
          -0.357957957957958,
          -0.3563563563563564,
          -0.35475475475475476,
          -0.35315315315315315,
          -0.3515515515515516,
          -0.34994994994995,
          -0.3483483483483484,
          -0.34674674674674677,
          -0.34514514514514516,
          -0.34354354354354355,
          -0.34194194194194194,
          -0.3403403403403404,
          -0.3387387387387388,
          -0.33713713713713717,
          -0.33553553553553556,
          -0.33393393393393395,
          -0.33233233233233234,
          -0.3307307307307307,
          -0.32912912912912917,
          -0.32752752752752756,
          -0.32592592592592595,
          -0.32432432432432434,
          -0.32272272272272273,
          -0.3211211211211211,
          -0.31951951951951957,
          -0.31791791791791796,
          -0.31631631631631635,
          -0.31471471471471474,
          -0.31311311311311313,
          -0.3115115115115115,
          -0.3099099099099099,
          -0.30830830830830835,
          -0.30670670670670674,
          -0.30510510510510513,
          -0.3035035035035035,
          -0.3019019019019019,
          -0.3003003003003003,
          -0.2986986986986987,
          -0.2970970970970971,
          -0.2954954954954955,
          -0.29389389389389386,
          -0.29229229229229237,
          -0.29069069069069076,
          -0.28908908908908915,
          -0.28748748748748754,
          -0.2858858858858859,
          -0.2842842842842843,
          -0.2826826826826827,
          -0.2810810810810811,
          -0.2794794794794795,
          -0.2778778778778779,
          -0.27627627627627627,
          -0.27467467467467466,
          -0.27307307307307305,
          -0.27147147147147144,
          -0.26986986986986994,
          -0.26826826826826833,
          -0.2666666666666667,
          -0.2650650650650651,
          -0.2634634634634635,
          -0.2618618618618619,
          -0.2602602602602603,
          -0.25865865865865867,
          -0.25705705705705706,
          -0.25545545545545545,
          -0.25385385385385384,
          -0.25225225225225223,
          -0.2506506506506506,
          -0.24904904904904912,
          -0.2474474474474475,
          -0.2458458458458459,
          -0.2442442442442443,
          -0.24264264264264268,
          -0.24104104104104107,
          -0.23943943943943946,
          -0.23783783783783785,
          -0.23623623623623624,
          -0.23463463463463463,
          -0.23303303303303302,
          -0.2314314314314314,
          -0.2298298298298298,
          -0.2282282282282282,
          -0.2266266266266267,
          -0.22502502502502508,
          -0.22342342342342347,
          -0.22182182182182186,
          -0.22022022022022025,
          -0.21861861861861864,
          -0.21701701701701703,
          -0.21541541541541542,
          -0.2138138138138138,
          -0.2122122122122122,
          -0.2106106106106106,
          -0.20900900900900898,
          -0.20740740740740737,
          -0.20580580580580587,
          -0.20420420420420426,
          -0.20260260260260265,
          -0.20100100100100105,
          -0.19939939939939944,
          -0.19779779779779783,
          -0.19619619619619622,
          -0.1945945945945946,
          -0.192992992992993,
          -0.19139139139139139,
          -0.18978978978978978,
          -0.18818818818818817,
          -0.18658658658658656,
          -0.18498498498498495,
          -0.18338338338338345,
          -0.18178178178178184,
          -0.18018018018018023,
          -0.17857857857857862,
          -0.176976976976977,
          -0.1753753753753754,
          -0.1737737737737738,
          -0.17217217217217218,
          -0.17057057057057057,
          -0.16896896896896896,
          -0.16736736736736735,
          -0.16576576576576574,
          -0.16416416416416413,
          -0.16256256256256263,
          -0.16096096096096102,
          -0.1593593593593594,
          -0.1577577577577578,
          -0.1561561561561562,
          -0.15455455455455458,
          -0.15295295295295297,
          -0.15135135135135136,
          -0.14974974974974975,
          -0.14814814814814814,
          -0.14654654654654653,
          -0.14494494494494492,
          -0.1433433433433433,
          -0.1417417417417418,
          -0.1401401401401402,
          -0.1385385385385386,
          -0.13693693693693698,
          -0.13533533533533537,
          -0.13373373373373376,
          -0.13213213213213215,
          -0.13053053053053054,
          -0.12892892892892893,
          -0.12732732732732732,
          -0.1257257257257257,
          -0.1241241241241241,
          -0.12252252252252249,
          -0.12092092092092088,
          -0.11931931931931938,
          -0.11771771771771777,
          -0.11611611611611616,
          -0.11451451451451455,
          -0.11291291291291294,
          -0.11131131131131133,
          -0.10970970970970972,
          -0.10810810810810811,
          -0.1065065065065065,
          -0.1049049049049049,
          -0.10330330330330328,
          -0.10170170170170167,
          -0.10010010010010006,
          -0.09849849849849857,
          -0.09689689689689696,
          -0.09529529529529535,
          -0.09369369369369374,
          -0.09209209209209213,
          -0.09049049049049052,
          -0.0888888888888889,
          -0.0872872872872873,
          -0.08568568568568569,
          -0.08408408408408408,
          -0.08248248248248247,
          -0.08088088088088086,
          -0.07927927927927925,
          -0.07767767767767764,
          -0.07607607607607614,
          -0.07447447447447453,
          -0.07287287287287292,
          -0.07127127127127131,
          -0.0696696696696697,
          -0.06806806806806809,
          -0.06646646646646648,
          -0.06486486486486487,
          -0.06326326326326326,
          -0.06166166166166165,
          -0.06006006006006004,
          -0.05845845845845843,
          -0.05685685685685682,
          -0.05525525525525532,
          -0.05365365365365371,
          -0.0520520520520521,
          -0.05045045045045049,
          -0.04884884884884888,
          -0.04724724724724727,
          -0.04564564564564566,
          -0.04404404404404405,
          -0.04244244244244244,
          -0.04084084084084083,
          -0.03923923923923922,
          -0.03763763763763761,
          -0.036036036036036,
          -0.03443443443443439,
          -0.03283283283283289,
          -0.031231231231231282,
          -0.029629629629629672,
          -0.028028028028028062,
          -0.026426426426426453,
          -0.024824824824824843,
          -0.023223223223223233,
          -0.021621621621621623,
          -0.020020020020020013,
          -0.018418418418418403,
          -0.016816816816816793,
          -0.015215215215215183,
          -0.013613613613613573,
          -0.012012012012012074,
          -0.010410410410410464,
          -0.008808808808808855,
          -0.007207207207207245,
          -0.005605605605605635,
          -0.004004004004004025,
          -0.002402402402402415,
          -0.000800800800800805,
          0.000800800800800805,
          0.002402402402402415,
          0.004004004004004025,
          0.005605605605605635,
          0.007207207207207245,
          0.008808808808808855,
          0.010410410410410353,
          0.012012012012011963,
          0.013613613613613573,
          0.015215215215215183,
          0.016816816816816793,
          0.018418418418418403,
          0.020020020020020013,
          0.021621621621621623,
          0.023223223223223233,
          0.024824824824824843,
          0.026426426426426453,
          0.028028028028028062,
          0.029629629629629672,
          0.03123123123123117,
          0.03283283283283278,
          0.03443443443443439,
          0.036036036036036,
          0.03763763763763761,
          0.03923923923923922,
          0.04084084084084083,
          0.04244244244244244,
          0.04404404404404405,
          0.04564564564564566,
          0.04724724724724727,
          0.04884884884884888,
          0.05045045045045049,
          0.0520520520520521,
          0.0536536536536536,
          0.05525525525525521,
          0.05685685685685682,
          0.05845845845845843,
          0.06006006006006004,
          0.06166166166166165,
          0.06326326326326326,
          0.06486486486486487,
          0.06646646646646648,
          0.06806806806806809,
          0.0696696696696697,
          0.07127127127127131,
          0.07287287287287292,
          0.07447447447447442,
          0.07607607607607603,
          0.07767767767767764,
          0.07927927927927925,
          0.08088088088088086,
          0.08248248248248247,
          0.08408408408408408,
          0.08568568568568569,
          0.0872872872872873,
          0.0888888888888889,
          0.09049049049049052,
          0.09209209209209213,
          0.09369369369369374,
          0.09529529529529535,
          0.09689689689689684,
          0.09849849849849845,
          0.10010010010010006,
          0.10170170170170167,
          0.10330330330330328,
          0.1049049049049049,
          0.1065065065065065,
          0.10810810810810811,
          0.10970970970970972,
          0.11131131131131133,
          0.11291291291291294,
          0.11451451451451455,
          0.11611611611611616,
          0.11771771771771766,
          0.11931931931931927,
          0.12092092092092088,
          0.12252252252252249,
          0.1241241241241241,
          0.1257257257257257,
          0.12732732732732732,
          0.12892892892892893,
          0.13053053053053054,
          0.13213213213213215,
          0.13373373373373376,
          0.13533533533533537,
          0.13693693693693698,
          0.1385385385385386,
          0.1401401401401401,
          0.1417417417417417,
          0.1433433433433433,
          0.14494494494494492,
          0.14654654654654653,
          0.14814814814814814,
          0.14974974974974975,
          0.15135135135135136,
          0.15295295295295297,
          0.15455455455455458,
          0.1561561561561562,
          0.1577577577577578,
          0.1593593593593594,
          0.1609609609609609,
          0.16256256256256252,
          0.16416416416416413,
          0.16576576576576574,
          0.16736736736736735,
          0.16896896896896896,
          0.17057057057057057,
          0.17217217217217218,
          0.1737737737737738,
          0.1753753753753754,
          0.176976976976977,
          0.17857857857857862,
          0.18018018018018023,
          0.18178178178178184,
          0.18338338338338334,
          0.18498498498498495,
          0.18658658658658656,
          0.18818818818818817,
          0.18978978978978978,
          0.19139139139139139,
          0.192992992992993,
          0.1945945945945946,
          0.19619619619619622,
          0.19779779779779783,
          0.19939939939939944,
          0.20100100100100105,
          0.20260260260260265,
          0.20420420420420426,
          0.20580580580580587,
          0.20740740740740748,
          0.2090090090090091,
          0.2106106106106107,
          0.21221221221221231,
          0.21381381381381392,
          0.2154154154154153,
          0.21701701701701692,
          0.21861861861861853,
          0.22022022022022014,
          0.22182182182182175,
          0.22342342342342336,
          0.22502502502502497,
          0.22662662662662658,
          0.2282282282282282,
          0.2298298298298298,
          0.2314314314314314,
          0.23303303303303302,
          0.23463463463463463,
          0.23623623623623624,
          0.23783783783783785,
          0.23943943943943946,
          0.24104104104104107,
          0.24264264264264268,
          0.2442442442442443,
          0.2458458458458459,
          0.2474474474474475,
          0.24904904904904912,
          0.25065065065065073,
          0.25225225225225234,
          0.25385385385385395,
          0.25545545545545556,
          0.25705705705705717,
          0.25865865865865856,
          0.26026026026026017,
          0.2618618618618618,
          0.2634634634634634,
          0.265065065065065,
          0.2666666666666666,
          0.2682682682682682,
          0.2698698698698698,
          0.27147147147147144,
          0.27307307307307305,
          0.27467467467467466,
          0.27627627627627627,
          0.2778778778778779,
          0.2794794794794795,
          0.2810810810810811,
          0.2826826826826827,
          0.2842842842842843,
          0.2858858858858859,
          0.28748748748748754,
          0.28908908908908915,
          0.29069069069069076,
          0.29229229229229237,
          0.293893893893894,
          0.2954954954954956,
          0.2970970970970972,
          0.2986986986986988,
          0.3003003003003004,
          0.3019019019019018,
          0.3035035035035034,
          0.305105105105105,
          0.30670670670670663,
          0.30830830830830824,
          0.30990990990990985,
          0.31151151151151146,
          0.3131131131131131,
          0.3147147147147147,
          0.3163163163163163,
          0.3179179179179179,
          0.3195195195195195,
          0.3211211211211211,
          0.32272272272272273,
          0.32432432432432434,
          0.32592592592592595,
          0.32752752752752756,
          0.32912912912912917,
          0.3307307307307308,
          0.3323323323323324,
          0.333933933933934,
          0.3355355355355356,
          0.3371371371371372,
          0.33873873873873883,
          0.34034034034034044,
          0.34194194194194205,
          0.34354354354354366,
          0.34514514514514505,
          0.34674674674674666,
          0.34834834834834827,
          0.3499499499499499,
          0.3515515515515515,
          0.3531531531531531,
          0.3547547547547547,
          0.3563563563563563,
          0.35795795795795793,
          0.35955955955955954,
          0.36116116116116115,
          0.36276276276276276,
          0.36436436436436437,
          0.365965965965966,
          0.3675675675675676,
          0.3691691691691692,
          0.3707707707707708,
          0.3723723723723724,
          0.373973973973974,
          0.37557557557557564,
          0.37717717717717725,
          0.37877877877877886,
          0.38038038038038047,
          0.3819819819819821,
          0.3835835835835837,
          0.3851851851851853,
          0.3867867867867869,
          0.3883883883883883,
          0.3899899899899899,
          0.3915915915915915,
          0.3931931931931931,
          0.39479479479479473,
          0.39639639639639634,
          0.39799799799799795,
          0.39959959959959956,
          0.4012012012012012,
          0.4028028028028028,
          0.4044044044044044,
          0.406006006006006,
          0.4076076076076076,
          0.4092092092092092,
          0.41081081081081083,
          0.41241241241241244,
          0.41401401401401405,
          0.41561561561561566,
          0.4172172172172173,
          0.4188188188188189,
          0.4204204204204205,
          0.4220220220220221,
          0.4236236236236237,
          0.4252252252252253,
          0.42682682682682693,
          0.42842842842842854,
          0.43003003003003015,
          0.43163163163163154,
          0.43323323323323315,
          0.43483483483483476,
          0.43643643643643637,
          0.438038038038038,
          0.4396396396396396,
          0.4412412412412412,
          0.4428428428428428,
          0.4444444444444444,
          0.44604604604604603,
          0.44764764764764764,
          0.44924924924924925,
          0.45085085085085086,
          0.45245245245245247,
          0.4540540540540541,
          0.4556556556556557,
          0.4572572572572573,
          0.4588588588588589,
          0.4604604604604605,
          0.46206206206206213,
          0.46366366366366374,
          0.46526526526526535,
          0.46686686686686696,
          0.46846846846846857,
          0.4700700700700702,
          0.4716716716716718,
          0.4732732732732732,
          0.4748748748748748,
          0.4764764764764764,
          0.478078078078078,
          0.4796796796796796,
          0.4812812812812812,
          0.48288288288288284,
          0.48448448448448445,
          0.48608608608608606,
          0.48768768768768767,
          0.4892892892892893,
          0.4908908908908909,
          0.4924924924924925,
          0.4940940940940941,
          0.4956956956956957,
          0.4972972972972973,
          0.49889889889889893,
          0.5005005005005005,
          0.5021021021021022,
          0.5037037037037038,
          0.5053053053053054,
          0.506906906906907,
          0.5085085085085086,
          0.5101101101101102,
          0.5117117117117118,
          0.5133133133133134,
          0.514914914914915,
          0.5165165165165164,
          0.518118118118118,
          0.5197197197197196,
          0.5213213213213213,
          0.5229229229229229,
          0.5245245245245245,
          0.5261261261261261,
          0.5277277277277277,
          0.5293293293293293,
          0.5309309309309309,
          0.5325325325325325,
          0.5341341341341341,
          0.5357357357357357,
          0.5373373373373374,
          0.538938938938939,
          0.5405405405405406,
          0.5421421421421422,
          0.5437437437437438,
          0.5453453453453454,
          0.546946946946947,
          0.5485485485485486,
          0.5501501501501502,
          0.5517517517517518,
          0.5533533533533534,
          0.5549549549549551,
          0.5565565565565567,
          0.5581581581581583,
          0.5597597597597597,
          0.5613613613613613,
          0.5629629629629629,
          0.5645645645645645,
          0.5661661661661661,
          0.5677677677677677,
          0.5693693693693693,
          0.5709709709709709,
          0.5725725725725725,
          0.5741741741741742,
          0.5757757757757758,
          0.5773773773773774,
          0.578978978978979,
          0.5805805805805806,
          0.5821821821821822,
          0.5837837837837838,
          0.5853853853853854,
          0.586986986986987,
          0.5885885885885886,
          0.5901901901901903,
          0.5917917917917919,
          0.5933933933933935,
          0.5949949949949951,
          0.5965965965965967,
          0.5981981981981983,
          0.5997997997997999,
          0.6014014014014015,
          0.6030030030030029,
          0.6046046046046045,
          0.6062062062062061,
          0.6078078078078077,
          0.6094094094094094,
          0.611011011011011,
          0.6126126126126126,
          0.6142142142142142,
          0.6158158158158158,
          0.6174174174174174,
          0.619019019019019,
          0.6206206206206206,
          0.6222222222222222,
          0.6238238238238238,
          0.6254254254254255,
          0.6270270270270271,
          0.6286286286286287,
          0.6302302302302303,
          0.6318318318318319,
          0.6334334334334335,
          0.6350350350350351,
          0.6366366366366367,
          0.6382382382382383,
          0.6398398398398399,
          0.6414414414414416,
          0.6430430430430432,
          0.6446446446446448,
          0.6462462462462462,
          0.6478478478478478,
          0.6494494494494494,
          0.651051051051051,
          0.6526526526526526,
          0.6542542542542542,
          0.6558558558558558,
          0.6574574574574574,
          0.659059059059059,
          0.6606606606606606,
          0.6622622622622623,
          0.6638638638638639,
          0.6654654654654655,
          0.6670670670670671,
          0.6686686686686687,
          0.6702702702702703,
          0.6718718718718719,
          0.6734734734734735,
          0.6750750750750751,
          0.6766766766766767,
          0.6782782782782784,
          0.67987987987988,
          0.6814814814814816,
          0.6830830830830832,
          0.6846846846846848,
          0.6862862862862864,
          0.687887887887888,
          0.6894894894894894,
          0.691091091091091,
          0.6926926926926926,
          0.6942942942942942,
          0.6958958958958958,
          0.6974974974974975,
          0.6990990990990991,
          0.7007007007007007,
          0.7023023023023023,
          0.7039039039039039,
          0.7055055055055055,
          0.7071071071071071,
          0.7087087087087087,
          0.7103103103103103,
          0.7119119119119119,
          0.7135135135135136,
          0.7151151151151152,
          0.7167167167167168,
          0.7183183183183184,
          0.71991991991992,
          0.7215215215215216,
          0.7231231231231232,
          0.7247247247247248,
          0.7263263263263264,
          0.727927927927928,
          0.7295295295295297,
          0.7311311311311313,
          0.7327327327327327,
          0.7343343343343343,
          0.7359359359359359,
          0.7375375375375375,
          0.7391391391391391,
          0.7407407407407407,
          0.7423423423423423,
          0.7439439439439439,
          0.7455455455455455,
          0.7471471471471471,
          0.7487487487487487,
          0.7503503503503504,
          0.751951951951952,
          0.7535535535535536,
          0.7551551551551552,
          0.7567567567567568,
          0.7583583583583584,
          0.75995995995996,
          0.7615615615615616,
          0.7631631631631632,
          0.7647647647647648,
          0.7663663663663665,
          0.7679679679679681,
          0.7695695695695697,
          0.7711711711711713,
          0.7727727727727729,
          0.7743743743743745,
          0.7759759759759759,
          0.7775775775775775,
          0.7791791791791791,
          0.7807807807807807,
          0.7823823823823823,
          0.783983983983984,
          0.7855855855855856,
          0.7871871871871872,
          0.7887887887887888,
          0.7903903903903904,
          0.791991991991992,
          0.7935935935935936,
          0.7951951951951952,
          0.7967967967967968,
          0.7983983983983984,
          0.8
         ],
         "y": [
          2.5433672107514464e-7,
          2.69432563262206e-7,
          2.8539490496808284e-7,
          3.022716845433328e-7,
          3.201133859140837e-7,
          3.3897316763044204e-7,
          3.589069981164469e-7,
          3.7997379740122944e-7,
          4.0223558562284885e-7,
          4.257576386082004e-7,
          4.5060865084517255e-7,
          4.768609061760606e-7,
          5.045904565548728e-7,
          5.33877309225193e-7,
          5.648056226896618e-7,
          5.974639118573906e-7,
          6.319452627710411e-7,
          6.683475573315874e-7,
          7.067737084555308e-7,
          7.473319061165837e-7,
          7.901358747419567e-7,
          8.353051424518433e-7,
          8.829653226500527e-7,
          9.332484084936135e-7,
          9.862930807898486e-7,
          0.0000010422450298906754,
          0.00000110125729217602,
          0.0000011634906017410683,
          0.0000012291137579255614,
          0.0000012983040093479255,
          0.000001371247455132002,
          0.0000014481394640403793,
          0.0000015291851122552361,
          0.0000016145996405751683,
          0.0000017046089318255696,
          0.0000017994500093093793,
          0.0000018993715571558825,
          0.000002004634463456702,
          0.0000021155123871106687,
          0.000002232292349333064,
          0.000002355275350819027,
          0.0000024847770155871417,
          0.0000026211282625655194,
          0.000002764676006021294,
          0.000002915783885972941,
          0.0000030748330297656454,
          0.0000032422228460313467,
          0.0000034183718522975704,
          0.0000036037185375538313,
          0.000003798722261128758,
          0.000004003864189278952,
          0.000004219648270937406,
          0.000004446602254119358,
          0.000004685278744534257,
          0.000004936256308004028,
          0.0000052001406183424895,
          0.0000054775656524049014,
          0.000005769194934073833,
          0.0000060757228290057435,
          0.00000639787589202188,
          0.000006736414269089109,
          0.000007092133155898453,
          0.000007465864315114597,
          0.000007858477654434833,
          0.000008270882867664625,
          0.000008704031141086436,
          0.000009158916927469234,
          0.00000963657979014059,
          0.000010138106319616172,
          0.00001066463212536068,
          0.000011217343905330296,
          0.00001179748159602866,
          0.000012406340605891242,
          0.000013045274134894182,
          0.0000137156955833741,
          0.000014419081053129076,
          0.000015156971943963913,
          0.000015930977648933087,
          0.00001674277835162982,
          0.000017594127928963902,
          0.000018486856962969905,
          0.00001942287586528782,
          0.000020404178118057236,
          0.000021432843635073676,
          0.00002251104224715805,
          0.000023641037315799826,
          0.00002482518947924534,
          0.000026065960535310306,
          0.000027365917465315406,
          0.000028727736603653982,
          0.00003015420795762129,
          0.00003164823968225709,
          0.00003321286271506648,
          0.000034851235575619906,
          0.000036566649335146194,
          0.000038362532761370294,
          0.000040242457643967696,
          0.000042210144306147934,
          0.00004426946730800242,
          0.0000464244613473946,
          0.000048679327364303335,
          0.000051038438854667506,
          0.0000535063483999213,
          0.000056087794418548834,
          0.00005878770814613387,
          0.00006161122085051702,
          0.0000645636712888237,
          0.00006765061341327476,
          0.00007087782433283042,
          0.00007425131253787898,
          0.00007777732639532214,
          0.00008146236292156394,
          0.00008531317684106739,
          0.00008933678993828006,
          0.0000935405007109052,
          0.00009793189433262572,
          0.00010251885293356365,
          0.00010730956620689373,
          0.00011231254235020024,
          0.0001175366193503081,
          0.0001229909766204814,
          0.00012868514699903875,
          0.0001346290291185727,
          0.00014083290015514256,
          0.00014730742896692747,
          0.00015406368963200544,
          0.00016111317539506688,
          0.00016846781303300225,
          0.00017613997764949076,
          0.00018414250790880333,
          0.00019248872171924743,
          0.0002011924323767537,
          0.00021026796517929842,
          0.00021973017452295076,
          0.0002295944614904939,
          0.00023987679194369005,
          0.00025059371513037296,
          0.00026176238281770496,
          0.00027340056896301324,
          0.0002855266899337707,
          0.00029815982528837886,
          0.0003113197391295051,
          0.00032502690204185876,
          0.00033930251362633844,
          0.0003541685256426091,
          0.00036964766577224297,
          0.00038576346201458627,
          0.0004025402677276752,
          0.0004200032873264725,
          0.00043817860265084774,
          0.00045709320001569465,
          0.000476774997955666,
          0.0004972528756769986,
          0.0005185567022289312,
          0.0005407173664072415,
          0.0005637668074023916,
          0.000587738046204782,
          0.0006126652177795787,
          0.0006385836040235731,
          0.0006655296675164112,
          0.0006935410860785558,
          0.0007226567881482266,
          0.0007529169889894474,
          0.0007843632277433207,
          0.0008170384053344194,
          0.000850986823244127,
          0.0008862542231626321,
          0.0009228878275310318,
          0.0009609363809848956,
          0.001000450192710435,
          0.0010414811797241777,
          0.0010840829110868512,
          0.0011283106530619125,
          0.001174221415228889,
          0.0012218739975614163,
          0.0012713290384795677,
          0.0013226490638856814,
          0.0013758985371926298,
          0.0014311439103530136,
          0.0014884536758974375,
          0.0015478984199895907,
          0.001609550876505344,
          0.0016734859821427668,
          0.0017397809325693236,
          0.0018085152396120554,
          0.0018797707894960592,
          0.0019536319021359405,
          0.0020301853914843617,
          0.0021095206269411927,
          0.0021917295958261084,
          0.0022769069669168105,
          0.0023651501550543907,
          0.002456559386816541,
          0.0025512377672586334,
          0.0026492913477218993,
          0.002750829194706999,
          0.002855963459810689,
          0.0029648094507220783,
          0.0030774857032743685,
          0.003194114054546792,
          0.0033148197170106627,
          0.0034397313537123204,
          0.003568981154484846,
          0.0037027049131791705,
          0.003841042105904349,
          0.003984135970265378,
          0.004132133585585955,
          0.0042851859541023695,
          0.004443448083113221,
          0.0046070790680688666,
          0.004776242176582781,
          0.004951104933345788,
          0.005131839205922991,
          0.005318621291411435,
          0.005511632003935443,
          0.005711056762954951,
          0.005917085682360603,
          0.006129913660328036,
          0.006349740469902062,
          0.006576770850279871,
          0.006811214598760922,
          0.007053286663329119,
          0.007303207235831837,
          0.0075612018457180226,
          0.007827501454296105,
          0.008102342549470764,
          0.008385967240915683,
          0.008678623355637526,
          0.008980564533884667,
          0.009292050325352212,
          0.009613346285632958,
          0.009944724072862033,
          0.010286461544501002,
          0.010638842854205147,
          0.011002158548715878,
          0.011376705664717657,
          0.011762787825597682,
          0.012160715338043568,
          0.01257080528841278,
          0.012993381638805297,
          0.013428775322768928,
          0.013877324340564474,
          0.01433937385391606,
          0.014815276280169364,
          0.015305391385778935,
          0.015810086379043225,
          0.01632973600200381,
          0.01686472262142355,
          0.0174154363187553,
          0.017982274979012444,
          0.018565644378448,
          0.019165958270949173,
          0.019783638473050445,
          0.020419114947467218,
          0.021072825885049523,
          0.02174521778505275,
          0.022436745533621693,
          0.023147872480380426,
          0.023879070513019747,
          0.024630820129771552,
          0.025403610509657306,
          0.026197939580396422,
          0.027014314083857602,
          0.02785324963893534,
          0.028715270801731217,
          0.029600911122918183,
          0.03051071320216431,
          0.031445228739490544,
          0.03240501858343586,
          0.033390652775901156,
          0.03440271059354172,
          0.035441780585577766,
          0.03650846060788918,
          0.03760335785326097,
          0.03872708887764457,
          0.03988027962229715,
          0.041063565431663396,
          0.04227759106685922,
          0.0435230107146195,
          0.04480048799156913,
          0.0461106959436759,
          0.047454317040744785,
          0.04883204316581005,
          0.05024457559928449,
          0.05169262499772096,
          0.05317691136704506,
          0.05469816403011447,
          0.056257121588462466,
          0.05785453187808304,
          0.059491151919113916,
          0.061167747859276055,
          0.0628850949109279,
          0.064643977281593,
          0.06644518809782074,
          0.0682895293222413,
          0.07017781166367615,
          0.07211085448016749,
          0.07408948567479044,
          0.07611454158411483,
          0.07818686685918369,
          0.08030731433887747,
          0.08247674491553691,
          0.08469602739271591,
          0.0869660383349435,
          0.08928766190936971,
          0.0916617897191805,
          0.09408932062866199,
          0.09657116057980393,
          0.09910822240033115,
          0.10170142560305656,
          0.10435169617645368,
          0.1070599663663487,
          0.10982717444863743,
          0.11265426449293586,
          0.1155421861170771,
          0.1184918942323732,
          0.12150434877956238,
          0.12458051445537073,
          0.12772136042962046,
          0.1309278600528178,
          0.13420099055417042,
          0.1375417327299757,
          0.14095107062233833,
          0.14442999118817507,
          0.14797948395847224,
          0.15160054068777057,
          0.15529415499385368,
          0.15906132198762685,
          0.16290303789317798,
          0.1668202996580212,
          0.17081410455352583,
          0.1748854497655494,
          0.1790353319752938,
          0.18326474693041006,
          0.18757468900639504,
          0.19196615075832027,
          0.19644012246294623,
          0.20099759165128506,
          0.2056395426316786,
          0.21036695600347283,
          0.215180808161373,
          0.22008207079057635,
          0.22507171035278767,
          0.23015068756322893,
          0.23531995685876794,
          0.24058046585730017,
          0.2459331548085168,
          0.25137895603622235,
          0.256918793372352,
          0.26255358158286396,
          0.2682842257856872,
          0.27411162086090896,
          0.2800366508534095,
          0.28606018836814795,
          0.29218309395831876,
          0.29840621550661195,
          0.30473038759981325,
          0.31115643089699246,
          0.3176851514915441,
          0.3243173402673468,
          0.3310537722493168,
          0.3378952059486543,
          0.34484238270307277,
          0.35189602601232733,
          0.3590568408693545,
          0.3663255130873593,
          0.3737027086231811,
          0.3811890728972933,
          0.3887852301107888,
          0.3964917825597203,
          0.4043093099471734,
          0.41223836869345626,
          0.42027949124480124,
          0.4284331853809789,
          0.43669993352224296,
          0.44508019203602056,
          0.45357439054378196,
          0.4621829312285219,
          0.4709061881433023,
          0.47974450652130785,
          0.488698202087873,
          0.49776756037495234,
          0.5069528360385044,
          0.5162542521792741,
          0.5256719996674615,
          0.5352062364717657,
          0.5448570869933176,
          0.5546246414049861,
          0.5645089549965909,
          0.5745100475265233,
          0.5846279025803005,
          0.5948624669365772,
          0.6052136499411466,
          0.6156813228894545,
          0.6262653184181731,
          0.6369654299063634,
          0.6477814108867701,
          0.6587129744677929,
          0.6697597927666732,
          0.680921496354449,
          0.6921976737132131,
          0.7035878707062273,
          0.7150915900614407,
          0.7267082908689484,
          0.7384373880929386,
          0.7502782520986729,
          0.7622302081950351,
          0.774292536193185,
          0.7864644699818595,
          0.7987451971198374,
          0.8111338584461103,
          0.8236295477082691,
          0.8362313112096291,
          0.8489381474755997,
          0.8617490069398113,
          0.8746627916504909,
          0.8876783549975793,
          0.900794501461076,
          0.9140099863810821,
          0.9273235157500148,
          0.9407337460274404,
          0.9542392839779862,
          0.9678386865327587,
          0.9815304606746965,
          0.9953130633482765,
          1.0091849013939753,
          1.0231443315078759,
          1.0371896602267952,
          1.0513191439393053,
          1.0655309889229923,
          1.0798233514082938,
          1.0941943376692342,
          1.1086420041413665,
          1.1231643575672152,
          1.1377593551694853,
          1.1524249048523105,
          1.1671588654307672,
          1.1819590468888912,
          1.1968232106663943,
          1.2117490699742766,
          1.226734290139493,
          1.241776488978837,
          1.2568732372021643,
          1.2720220588450726,
          1.2872204317311213,
          1.302465787963672,
          1.3177555144473942,
          1.3330869534394616,
          1.3484574031304581,
          1.3638641182549687,
          1.3793043107318252,
          1.3947751503339498,
          1.410273765387716,
          1.4257972435017239,
          1.4413426323248664,
          1.4569069403335375,
          1.4724871376478186,
          1.4880801568764435,
          1.503682893990326,
          1.519292209224416,
          1.5349049280076208,
          1.5505178419204984,
          1.5661277096804291,
          1.5817312581539198,
          1.5973251833956925,
          1.6129061517141792,
          1.6284708007630242,
          1.6440157406581608,
          1.6595375551200284,
          1.6750328026404542,
          1.690498017673707,
          1.7059297118512133,
          1.7213243752193987,
          1.736678477500092,
          1.7519884693729242,
          1.7672507837791105,
          1.782461837246001,
          1.7976180312317545,
          1.812715753489479,
          1.8277513794501488,
          1.8427212736236072,
          1.8576217910169197,
          1.8724492785693558,
          1.88720007660323,
          1.9018705202898325,
          1.9164569411296526,
          1.9309556684460951,
          1.9453630308918546,
          1.9596753579671125,
          1.9738889815487028,
          1.9880002374293746,
          2.0020054668662635,
          2.0159010181376864,
          2.0296832481073412,
          2.043348523794987,
          2.0568932239526885,
          2.070313740645664,
          2.083606480836799,
          2.096767867973851,
          2.1097943435783866,
          2.1226823688354712,
          2.135428426183119,
          2.1480290209005295,
          2.1604806826940943,
          2.1727799672801966,
          2.1849234579637855,
          2.1969077672117203,
          2.2087295382198886,
          2.2203854464730663,
          2.2318722012965395,
          2.2431865473984525,
          2.25432526640189,
          2.2652851783656835,
          2.2760631432929403,
          2.2866560626262906,
          2.297060880728871,
          2.3072745863500432,
          2.3172942140748796,
          2.3271168457564206,
          2.3367396119297643,
          2.3461596932070075,
          2.3553743216521013,
          2.364380782134685,
          2.3731764136619677,
          2.381758610687741,
          2.3901248243976383,
          2.398272563969733,
          2.4061993978096172,
          2.413902954759101,
          2.421380925277688,
          2.4286310625960095,
          2.4356511838404087,
          2.442439171127882,
          2.4489929726306183,
          2.4553106036093824,
          2.46139014741501,
          2.467229756457318,
          2.472827653140729,
          2.478182130765968,
          2.4832915543971668,
          2.4881543616937773,
          2.492769063706695,
          2.497134245638023,
          2.5012485675639415,
          2.5051107651201483,
          2.5087196501494056,
          2.512074111310705,
          2.5151731146496252,
          2.5180157041294717,
          2.520601002122815,
          2.5229282098630703,
          2.5249966078558033,
          2.526805556249454,
          2.5283544951652157,
          2.5296429449858375,
          2.5306705066031285,
          2.5314368616239995,
          2.531941772534879,
          2.532185082824396,
          2.5321667170642383,
          2.5318866809481197,
          2.531345061288841,
          2.530542025973437,
          2.529477823876443,
          2.5281527847313527,
          2.5265673189603457,
          2.5247219174624203,
          2.5226171513600786,
          2.5202536717047477,
          2.5176322091411496,
          2.5147535735308657,
          2.511618653535361,
          2.508228416158771,
          2.504583906250788,
          2.50068624596999,
          2.496536634208011,
          2.492136345974959,
          2.487486731746529,
          2.4825892167732695,
          2.4774453003525094,
          2.4720565550634532,
          2.466424625966001,
          2.4605512297638605,
          2.454438153932543,
          2.4480872558128732,
          2.4415004616706475,
          2.4346797657231107,
          2.4276272291329386,
          2.4203449789704385,
          2.4128352071446995,
          2.405100169304439,
          2.397142183709324,
          2.388963630072551,
          2.3805669483755008,
          2.371954637655281,
          2.3631292547660196,
          2.354093413114744,
          2.3448497813727434,
          2.335401082163285,
          2.3257500907265958,
          2.315899633563026,
          2.3058525870553117,
          2.295611876070893,
          2.2851804725452163,
          2.274561394046997,
          2.2637577023263997,
          2.252772501847114,
          2.241608938303313,
          2.23027019712248,
          2.2187595019550947,
          2.207080113152184,
          2.195235326231742,
          2.183228470335012,
          2.1710629066736553,
          2.1587420269688065,
          2.1462692518830204,
          2.133648029446136,
          2.1208818334760458,
          2.1079741619953873,
          2.0949285356451623,
          2.081748496096271,
          2.068437604459966,
          2.054999439698212,
          2.0414375970349337,
          2.027755686369126,
          2.013957330690801,
          2.0000461645007275,
          1.9860258322349142,
          1.9718999866947766,
          1.9576722874839259,
          1.9433463994524882,
          1.9289259911498704,
          1.9144147332868602,
          1.8998162972079538,
          1.885134353374762,
          1.8703725698613585,
          1.8555346108624193,
          1.8406241352149482,
          1.8256447949344194,
          1.8106002337661167,
          1.7954940857524397,
          1.7803299738169425,
          1.765111508365825,
          1.7498422859076102,
          1.734525887691698,
          1.7191658783664727,
          1.7037658046576314,
          1.688329194067365,
          1.6728595535950137,
          1.6573603684797913,
          1.6418351009661591,
          1.6262871890924004,
          1.610720045502926,
          1.595137056284827,
          1.5795415798291619,
          1.5639369457174364,
          1.5483264536337316,
          1.532713372302891,
          1.5171009384551692,
          1.5014923558177133,
          1.4858907941332327,
          1.470299388206184,
          1.4547212369767666,
          1.4391594026230399,
          1.4236169096913804,
          1.4080967442555479,
          1.392601853104556,
          1.3771351429595438,
          1.361699479719812,
          1.3462976877381703,
          1.3309325491257122,
          1.3156068030861257,
          1.3003231452796034,
          1.2850842272164165,
          1.2698926556801826,
          1.254750992180833,
          1.2396617524372764,
          1.2246274058897197,
          1.2096503752415957,
          1.1947330360310287,
          1.1798777162317333,
          1.1650866958832422,
          1.150362206750324,
          1.1357064320114418,
          1.1211215059760713,
          1.1066095138307048,
          1.092172491413312,
          1.077812425016047,
          1.063531251215952,
          1.0493308567333848,
          1.0352130783179256,
          1.0211797026614278,
          1.0072324663379326,
          0.9933730557701156,
          0.979603107221919,
          0.9659242068170308,
          0.9523378905828289,
          0.9388456445194187,
          0.9254489046933716,
          0.9121490573557559,
          0.8989474390840413,
          0.8858453369474594,
          0.8728439886953658,
          0.8599445829681702,
          0.8471482595303662,
          0.8344561095251941,
          0.8218691757504648,
          0.8093884529550567,
          0.7970148881555922,
          0.7847493809728001,
          0.7725927839870501,
          0.7605459031125548,
          0.7486094979897188,
          0.73678428239511,
          0.7250709246685316,
          0.7134700481566612,
          0.7019822316727107,
          0.6906080099716037,
          0.6793478742400837,
          0.6682022726012481,
          0.657171610632946,
          0.6462562518994991,
          0.6354565184962038,
          0.6247726916060623,
          0.6142050120682008,
          0.6037536809574325,
          0.5934188601744148,
          0.5832006730458662,
          0.5730992049342993,
          0.5631145038567282,
          0.5532465811118269,
          0.5434954119149923,
          0.533860936040796,
          0.524343058472294,
          0.5149416500566762,
          0.5056565481667403,
          0.4964875573676807,
          0.4874344500886854,
          0.4784969672988439,
          0.4696748191868711,
          0.46096768584416037,
          0.45237521795068614,
          0.44389703746328163,
          0.4355327383058185,
          0.427281887060849,
          0.4191440236622296,
          0.41111866208830644,
          0.4032052910552134,
          0.39540337470986026,
          0.38771235332218845,
          0.3801316439762859,
          0.37266064125995596,
          0.3652987179523507,
          0.3580452257092799,
          0.3508994957458253,
          0.3438608395158901,
          0.33692854938833067,
          0.330101899319322,
          0.32338014552062017,
          0.3167625271233944,
          0.3102482668373102,
          0.3038365716045592,
          0.2975266332485325,
          0.29131762911685366,
          0.28520872271849207,
          0.2791990643546894,
          0.2732877917434375,
          0.26747403063726843,
          0.2617568954341074,
          0.2561354897809701,
          0.25060890717027917,
          0.24517623152860013,
          0.2398365377975897,
          0.23458889250697332,
          0.2294323543393722,
          0.22436597468681127,
          0.2193887981987472,
          0.21449986332147053,
          0.209698202828737,
          0.20498284434350048,
          0.20035281085062517,
          0.1958071212004641,
          0.191344790603201,
          0.18696483111386236,
          0.182666252107911,
          0.17844806074734773,
          0.17430926243725056,
          0.17024886127269143,
          0.16626586047598105,
          0.16235926282419536,
          0.15852807106694927,
          0.154771288334391,
          0.15108791853539438,
          0.14747696674593785,
          0.14393743958766636,
          0.1404683455966343,
          0.1370686955822395,
          0.1337375029763684,
          0.13047378417276553,
          0.12727655885666495,
          0.12414485032471217,
          0.12107768579522099,
          0.1180740967088107,
          0.11513311901947648,
          0.11225379347615162,
          0.1094351658948242,
          0.1066762874212772,
          0.10397621478452611,
          0.10133401054103187,
          0.09874874330977229,
          0.09621948799826018,
          0.09374532601959844,
          0.09132534550066941,
          0.088958641481557,
          0.08664431610630559,
          0.08438147880512288,
          0.08216924646813571,
          0.0800067436108137,
          0.07789310253117605,
          0.07582746345890133,
          0.07380897469646154,
          0.07183679275240575,
          0.06991008246691911,
          0.06802801712978518,
          0.06618977859088616,
          0.06439455736336787,
          0.062641552719609,
          0.06092997278012727,
          0.059259034595560964,
          0.05762796422186402,
          0.05603599678885339,
          0.054482376562250745,
          0.05296635699935752,
          0.051487200798506765,
          0.0500441799424333,
          0.0486365757357052,
          0.047263678836359194,
          0.045924789281883795,
          0.04461921650969251,
          0.04334627937223025,
          0.04210530614685639,
          0.04089563454064596,
          0.03971661169025183,
          0.0385675941569689,
          0.03744794791714127,
          0.03635704834805244,
          0.035294280209438124,
          0.03425903762075944,
          0.033250724034374825,
          0.03226875220474588,
          0.031312544153812495,
          0.030381531132672616,
          0.029475153579696517,
          0.028592861075209332,
          0.027734112292869928,
          0.02689837494787525,
          0.026085125742116255,
          0.025293850306410726,
          0.0245240431399366,
          0.023775207546986643,
          0.023046855571165065,
          0.022338507927143935,
          0.021649693930095228,
          0.02097995142291311,
          0.02032882670133891,
          0.019695874437098724,
          0.019080657599162335,
          0.01848274737322983,
          0.01790172307955008,
          0.017337172089173424,
          0.01678868973873876,
          0.01625587924389295,
          0.01573835161143879,
          0.01523572555030501,
          0.01474762738143017,
          0.014273690946650331,
          0.013813557516677193,
          0.013366875698252425,
          0.01293330134056164,
          0.012512497440987964,
          0.012104134050285075,
          0.011707888177245704,
          0.011323443692940433,
          0.010950491234599196,
          0.010588728109205633,
          0.010237858196872819,
          0.009897591854066076,
          0.009567645816737271,
          0.009247743103432423,
          0.008937612918432633,
          0.008636990554986146,
          0.008345617298687758,
          0.008063240331059209,
          0.007789612633382758,
          0.007524492890838,
          0.007267645396989972,
          0.0070188399586750255,
          0.0067778518013287,
          0.006544461474798308,
          0.006318454759680988,
          0.006099622574226314,
          0.0058877608818405855,
          0.005682670599228643,
          0.005484157505206823,
          0.0052920321502193095,
          0.0051061097665888655,
          0.004926210179530356,
          0.004752157718955103,
          0.0045837811320916305,
          0.004420913496947452,
          0.004263392136634778,
          0.004111058534581777,
          0.003963758250649561,
          0.003821340838173582,
          0.0036836597619470984,
          0.0035505723171627376,
          0.003421939549327191,
          0.003297626175162629,
          0.003177500504507479,
          0.00306143436322775,
          0.002949303017149207,
          0.002840985097019499,
          0.0027363625245082467,
          0.002635320439252177,
          0.0025377471269512415,
          0.002443533948520846,
          0.002352575270304246,
          0.002264768395348358,
          0.0021800134957453026,
          0.0020982135460411947,
          0.002019274257712828,
          0.0019431040147121481,
          0.0018696138100777527,
          0.0017987171836116723,
          0.0017303301606192987,
          0.0016643711917094285,
          0.0016007610936508842,
          0.0015394229912814772,
          0.0014802822604645305,
          0.001423266472087654,
          0.0013683053370978269,
          0.0013153306525664319,
          0.0012642762487773671,
          0.001215077937330886,
          0.0011676734602553784,
          0.0011220024401189536,
          0.001078006331132187,
          0.0010356283712331213,
          0.0009948135351452196,
          0.0009555084883986451,
          0.0009176615423049538,
          0.0008812226098749749,
          0.00084614316266941,
          0.0008123761885714256,
          0.000779876150470309,
          0.0007485989458449641,
          0.0007185018672359906,
          0.0006895435635947031,
          0.0006616840024974885,
          0.0006348844332136304,
          0.000609107350614643,
          0.000584316459913016,
          0.0005604766422182343,
          0.0005375539208977952,
          0.0005155154287308651,
          0.0004943293758422291,
          0.0004739650184040521,
          0.0004543926280930114,
          0.0004355834622902749,
          0.00041750973501184267,
          0.0004001445885567309,
          0.000383462065860482,
          0.0003674370835415522,
          0.00035204540562808493,
          0.00033726361795268135,
          0.0003230691032027823,
          0.00030944001661433243,
          0.0002963552622964953,
          0.0002837944701751991,
          0.0002717379735434238,
          0.000260166787206186,
          0.0002490625862082711,
          0.00023840768513288247,
          0.00022818501795943813,
          0.00021837811846888835,
          0.00020897110118499234,
          0.00019994864284018324,
          0.00019129596435465808,
          0.00018299881331756775,
          0.0001750434469592238,
          0.00016741661560341838,
          0.000160105546589064,
          0.00015309792865049598,
          0.00014638189674593966,
          0.00013994601732375664,
          0.00013377927401625505,
          0.00012787105375097762,
          0.0001222111332695297,
          0.00011678966604417234,
          0.00011159716958253616
         ]
        }
       ],
       "layout": {
        "showlegend": true,
        "template": {
         "data": {
          "bar": [
           {
            "error_x": {
             "color": "#2a3f5f"
            },
            "error_y": {
             "color": "#2a3f5f"
            },
            "marker": {
             "line": {
              "color": "#E5ECF6",
              "width": 0.5
             },
             "pattern": {
              "fillmode": "overlay",
              "size": 10,
              "solidity": 0.2
             }
            },
            "type": "bar"
           }
          ],
          "barpolar": [
           {
            "marker": {
             "line": {
              "color": "#E5ECF6",
              "width": 0.5
             },
             "pattern": {
              "fillmode": "overlay",
              "size": 10,
              "solidity": 0.2
             }
            },
            "type": "barpolar"
           }
          ],
          "carpet": [
           {
            "aaxis": {
             "endlinecolor": "#2a3f5f",
             "gridcolor": "white",
             "linecolor": "white",
             "minorgridcolor": "white",
             "startlinecolor": "#2a3f5f"
            },
            "baxis": {
             "endlinecolor": "#2a3f5f",
             "gridcolor": "white",
             "linecolor": "white",
             "minorgridcolor": "white",
             "startlinecolor": "#2a3f5f"
            },
            "type": "carpet"
           }
          ],
          "choropleth": [
           {
            "colorbar": {
             "outlinewidth": 0,
             "ticks": ""
            },
            "type": "choropleth"
           }
          ],
          "contour": [
           {
            "colorbar": {
             "outlinewidth": 0,
             "ticks": ""
            },
            "colorscale": [
             [
              0,
              "#0d0887"
             ],
             [
              0.1111111111111111,
              "#46039f"
             ],
             [
              0.2222222222222222,
              "#7201a8"
             ],
             [
              0.3333333333333333,
              "#9c179e"
             ],
             [
              0.4444444444444444,
              "#bd3786"
             ],
             [
              0.5555555555555556,
              "#d8576b"
             ],
             [
              0.6666666666666666,
              "#ed7953"
             ],
             [
              0.7777777777777778,
              "#fb9f3a"
             ],
             [
              0.8888888888888888,
              "#fdca26"
             ],
             [
              1,
              "#f0f921"
             ]
            ],
            "type": "contour"
           }
          ],
          "contourcarpet": [
           {
            "colorbar": {
             "outlinewidth": 0,
             "ticks": ""
            },
            "type": "contourcarpet"
           }
          ],
          "heatmap": [
           {
            "colorbar": {
             "outlinewidth": 0,
             "ticks": ""
            },
            "colorscale": [
             [
              0,
              "#0d0887"
             ],
             [
              0.1111111111111111,
              "#46039f"
             ],
             [
              0.2222222222222222,
              "#7201a8"
             ],
             [
              0.3333333333333333,
              "#9c179e"
             ],
             [
              0.4444444444444444,
              "#bd3786"
             ],
             [
              0.5555555555555556,
              "#d8576b"
             ],
             [
              0.6666666666666666,
              "#ed7953"
             ],
             [
              0.7777777777777778,
              "#fb9f3a"
             ],
             [
              0.8888888888888888,
              "#fdca26"
             ],
             [
              1,
              "#f0f921"
             ]
            ],
            "type": "heatmap"
           }
          ],
          "heatmapgl": [
           {
            "colorbar": {
             "outlinewidth": 0,
             "ticks": ""
            },
            "colorscale": [
             [
              0,
              "#0d0887"
             ],
             [
              0.1111111111111111,
              "#46039f"
             ],
             [
              0.2222222222222222,
              "#7201a8"
             ],
             [
              0.3333333333333333,
              "#9c179e"
             ],
             [
              0.4444444444444444,
              "#bd3786"
             ],
             [
              0.5555555555555556,
              "#d8576b"
             ],
             [
              0.6666666666666666,
              "#ed7953"
             ],
             [
              0.7777777777777778,
              "#fb9f3a"
             ],
             [
              0.8888888888888888,
              "#fdca26"
             ],
             [
              1,
              "#f0f921"
             ]
            ],
            "type": "heatmapgl"
           }
          ],
          "histogram": [
           {
            "marker": {
             "pattern": {
              "fillmode": "overlay",
              "size": 10,
              "solidity": 0.2
             }
            },
            "type": "histogram"
           }
          ],
          "histogram2d": [
           {
            "colorbar": {
             "outlinewidth": 0,
             "ticks": ""
            },
            "colorscale": [
             [
              0,
              "#0d0887"
             ],
             [
              0.1111111111111111,
              "#46039f"
             ],
             [
              0.2222222222222222,
              "#7201a8"
             ],
             [
              0.3333333333333333,
              "#9c179e"
             ],
             [
              0.4444444444444444,
              "#bd3786"
             ],
             [
              0.5555555555555556,
              "#d8576b"
             ],
             [
              0.6666666666666666,
              "#ed7953"
             ],
             [
              0.7777777777777778,
              "#fb9f3a"
             ],
             [
              0.8888888888888888,
              "#fdca26"
             ],
             [
              1,
              "#f0f921"
             ]
            ],
            "type": "histogram2d"
           }
          ],
          "histogram2dcontour": [
           {
            "colorbar": {
             "outlinewidth": 0,
             "ticks": ""
            },
            "colorscale": [
             [
              0,
              "#0d0887"
             ],
             [
              0.1111111111111111,
              "#46039f"
             ],
             [
              0.2222222222222222,
              "#7201a8"
             ],
             [
              0.3333333333333333,
              "#9c179e"
             ],
             [
              0.4444444444444444,
              "#bd3786"
             ],
             [
              0.5555555555555556,
              "#d8576b"
             ],
             [
              0.6666666666666666,
              "#ed7953"
             ],
             [
              0.7777777777777778,
              "#fb9f3a"
             ],
             [
              0.8888888888888888,
              "#fdca26"
             ],
             [
              1,
              "#f0f921"
             ]
            ],
            "type": "histogram2dcontour"
           }
          ],
          "mesh3d": [
           {
            "colorbar": {
             "outlinewidth": 0,
             "ticks": ""
            },
            "type": "mesh3d"
           }
          ],
          "parcoords": [
           {
            "line": {
             "colorbar": {
              "outlinewidth": 0,
              "ticks": ""
             }
            },
            "type": "parcoords"
           }
          ],
          "pie": [
           {
            "automargin": true,
            "type": "pie"
           }
          ],
          "scatter": [
           {
            "fillpattern": {
             "fillmode": "overlay",
             "size": 10,
             "solidity": 0.2
            },
            "type": "scatter"
           }
          ],
          "scatter3d": [
           {
            "line": {
             "colorbar": {
              "outlinewidth": 0,
              "ticks": ""
             }
            },
            "marker": {
             "colorbar": {
              "outlinewidth": 0,
              "ticks": ""
             }
            },
            "type": "scatter3d"
           }
          ],
          "scattercarpet": [
           {
            "marker": {
             "colorbar": {
              "outlinewidth": 0,
              "ticks": ""
             }
            },
            "type": "scattercarpet"
           }
          ],
          "scattergeo": [
           {
            "marker": {
             "colorbar": {
              "outlinewidth": 0,
              "ticks": ""
             }
            },
            "type": "scattergeo"
           }
          ],
          "scattergl": [
           {
            "marker": {
             "colorbar": {
              "outlinewidth": 0,
              "ticks": ""
             }
            },
            "type": "scattergl"
           }
          ],
          "scattermapbox": [
           {
            "marker": {
             "colorbar": {
              "outlinewidth": 0,
              "ticks": ""
             }
            },
            "type": "scattermapbox"
           }
          ],
          "scatterpolar": [
           {
            "marker": {
             "colorbar": {
              "outlinewidth": 0,
              "ticks": ""
             }
            },
            "type": "scatterpolar"
           }
          ],
          "scatterpolargl": [
           {
            "marker": {
             "colorbar": {
              "outlinewidth": 0,
              "ticks": ""
             }
            },
            "type": "scatterpolargl"
           }
          ],
          "scatterternary": [
           {
            "marker": {
             "colorbar": {
              "outlinewidth": 0,
              "ticks": ""
             }
            },
            "type": "scatterternary"
           }
          ],
          "surface": [
           {
            "colorbar": {
             "outlinewidth": 0,
             "ticks": ""
            },
            "colorscale": [
             [
              0,
              "#0d0887"
             ],
             [
              0.1111111111111111,
              "#46039f"
             ],
             [
              0.2222222222222222,
              "#7201a8"
             ],
             [
              0.3333333333333333,
              "#9c179e"
             ],
             [
              0.4444444444444444,
              "#bd3786"
             ],
             [
              0.5555555555555556,
              "#d8576b"
             ],
             [
              0.6666666666666666,
              "#ed7953"
             ],
             [
              0.7777777777777778,
              "#fb9f3a"
             ],
             [
              0.8888888888888888,
              "#fdca26"
             ],
             [
              1,
              "#f0f921"
             ]
            ],
            "type": "surface"
           }
          ],
          "table": [
           {
            "cells": {
             "fill": {
              "color": "#EBF0F8"
             },
             "line": {
              "color": "white"
             }
            },
            "header": {
             "fill": {
              "color": "#C8D4E3"
             },
             "line": {
              "color": "white"
             }
            },
            "type": "table"
           }
          ]
         },
         "layout": {
          "annotationdefaults": {
           "arrowcolor": "#2a3f5f",
           "arrowhead": 0,
           "arrowwidth": 1
          },
          "autotypenumbers": "strict",
          "coloraxis": {
           "colorbar": {
            "outlinewidth": 0,
            "ticks": ""
           }
          },
          "colorscale": {
           "diverging": [
            [
             0,
             "#8e0152"
            ],
            [
             0.1,
             "#c51b7d"
            ],
            [
             0.2,
             "#de77ae"
            ],
            [
             0.3,
             "#f1b6da"
            ],
            [
             0.4,
             "#fde0ef"
            ],
            [
             0.5,
             "#f7f7f7"
            ],
            [
             0.6,
             "#e6f5d0"
            ],
            [
             0.7,
             "#b8e186"
            ],
            [
             0.8,
             "#7fbc41"
            ],
            [
             0.9,
             "#4d9221"
            ],
            [
             1,
             "#276419"
            ]
           ],
           "sequential": [
            [
             0,
             "#0d0887"
            ],
            [
             0.1111111111111111,
             "#46039f"
            ],
            [
             0.2222222222222222,
             "#7201a8"
            ],
            [
             0.3333333333333333,
             "#9c179e"
            ],
            [
             0.4444444444444444,
             "#bd3786"
            ],
            [
             0.5555555555555556,
             "#d8576b"
            ],
            [
             0.6666666666666666,
             "#ed7953"
            ],
            [
             0.7777777777777778,
             "#fb9f3a"
            ],
            [
             0.8888888888888888,
             "#fdca26"
            ],
            [
             1,
             "#f0f921"
            ]
           ],
           "sequentialminus": [
            [
             0,
             "#0d0887"
            ],
            [
             0.1111111111111111,
             "#46039f"
            ],
            [
             0.2222222222222222,
             "#7201a8"
            ],
            [
             0.3333333333333333,
             "#9c179e"
            ],
            [
             0.4444444444444444,
             "#bd3786"
            ],
            [
             0.5555555555555556,
             "#d8576b"
            ],
            [
             0.6666666666666666,
             "#ed7953"
            ],
            [
             0.7777777777777778,
             "#fb9f3a"
            ],
            [
             0.8888888888888888,
             "#fdca26"
            ],
            [
             1,
             "#f0f921"
            ]
           ]
          },
          "colorway": [
           "#636efa",
           "#EF553B",
           "#00cc96",
           "#ab63fa",
           "#FFA15A",
           "#19d3f3",
           "#FF6692",
           "#B6E880",
           "#FF97FF",
           "#FECB52"
          ],
          "font": {
           "color": "#2a3f5f"
          },
          "geo": {
           "bgcolor": "white",
           "lakecolor": "white",
           "landcolor": "#E5ECF6",
           "showlakes": true,
           "showland": true,
           "subunitcolor": "white"
          },
          "hoverlabel": {
           "align": "left"
          },
          "hovermode": "closest",
          "mapbox": {
           "style": "light"
          },
          "paper_bgcolor": "white",
          "plot_bgcolor": "#E5ECF6",
          "polar": {
           "angularaxis": {
            "gridcolor": "white",
            "linecolor": "white",
            "ticks": ""
           },
           "bgcolor": "#E5ECF6",
           "radialaxis": {
            "gridcolor": "white",
            "linecolor": "white",
            "ticks": ""
           }
          },
          "scene": {
           "xaxis": {
            "backgroundcolor": "#E5ECF6",
            "gridcolor": "white",
            "gridwidth": 2,
            "linecolor": "white",
            "showbackground": true,
            "ticks": "",
            "zerolinecolor": "white"
           },
           "yaxis": {
            "backgroundcolor": "#E5ECF6",
            "gridcolor": "white",
            "gridwidth": 2,
            "linecolor": "white",
            "showbackground": true,
            "ticks": "",
            "zerolinecolor": "white"
           },
           "zaxis": {
            "backgroundcolor": "#E5ECF6",
            "gridcolor": "white",
            "gridwidth": 2,
            "linecolor": "white",
            "showbackground": true,
            "ticks": "",
            "zerolinecolor": "white"
           }
          },
          "shapedefaults": {
           "line": {
            "color": "#2a3f5f"
           }
          },
          "ternary": {
           "aaxis": {
            "gridcolor": "white",
            "linecolor": "white",
            "ticks": ""
           },
           "baxis": {
            "gridcolor": "white",
            "linecolor": "white",
            "ticks": ""
           },
           "bgcolor": "#E5ECF6",
           "caxis": {
            "gridcolor": "white",
            "linecolor": "white",
            "ticks": ""
           }
          },
          "title": {
           "x": 0.05
          },
          "xaxis": {
           "automargin": true,
           "gridcolor": "white",
           "linecolor": "white",
           "ticks": "",
           "title": {
            "standoff": 15
           },
           "zerolinecolor": "white",
           "zerolinewidth": 2
          },
          "yaxis": {
           "automargin": true,
           "gridcolor": "white",
           "linecolor": "white",
           "ticks": "",
           "title": {
            "standoff": 15
           },
           "zerolinecolor": "white",
           "zerolinewidth": 2
          }
         }
        },
        "title": {
         "text": "Normal Distribution Curve for Growth Rate in Farming Sales and Animal Feeding Expenditure"
        },
        "xaxis": {
         "title": {
          "text": "Percentage (%)"
         }
        },
        "yaxis": {
         "title": {
          "text": "Probability Density"
         }
        }
       }
      }
     },
     "metadata": {},
     "output_type": "display_data"
    }
   ],
   "source": [
    "# Plot the Data\n",
    "fig = go.Figure()\n",
    "fig.add_trace(go.Scatter(x=x, y=y1, name=\"Farming Sales\", mode='lines'))\n",
    "fig.add_trace(go.Scatter(x=x, y=y2, name=\"Animal Feeding Expenditure\", mode='lines'))\n",
    "\n",
    "# Customise the Graph\n",
    "fig.update_layout(\n",
    "    title_text=\"Normal Distribution Curve for Growth Rate in Farming Sales and Animal Feeding Expenditure\",\n",
    "    xaxis_title=\"Percentage (%)\",\n",
    "    yaxis_title=\"Probability Density\",\n",
    "    showlegend=True)\n",
    "\n",
    "# # Show the Graph\n",
    "fig.show()"
   ]
  },
  {
   "attachments": {},
   "cell_type": "markdown",
   "metadata": {},
   "source": [
    "<hr>\n",
    "\n",
    "#### Objective 4 - Riya Gupta (2022BTech086)\n",
    "To analyze countries on the basis of global hunger index and GDP per capita.\n",
    "* To comprehend the rate of improvement in hunger index and GDP across various regions.\n",
    "* To check whether *“Hunger Index is a crucial indicator for food security and one that historically has been neglected in the context of developing countries.”*\n",
    "* To illustrate the relationship between food deficiency diseases, and agricultural economy.\n",
    "\n",
    "\n",
    "<hr>"
   ]
  },
  {
   "attachments": {},
   "cell_type": "markdown",
   "metadata": {},
   "source": [
    "Reading the Datasets"
   ]
  },
  {
   "cell_type": "code",
   "execution_count": 40,
   "metadata": {},
   "outputs": [],
   "source": [
    "dataGHI = pd.read_csv(\"4 Data 1.csv\")\n",
    "dataGDP = pd.read_csv(\"4 Data 2.csv\")"
   ]
  },
  {
   "attachments": {},
   "cell_type": "markdown",
   "metadata": {},
   "source": [
    "Handling the Null Values"
   ]
  },
  {
   "cell_type": "code",
   "execution_count": 41,
   "metadata": {},
   "outputs": [],
   "source": [
    "dataGHI = dataGHI.fillna(0)\n",
    "dataGDP = dataGDP.fillna(0)"
   ]
  },
  {
   "attachments": {},
   "cell_type": "markdown",
   "metadata": {},
   "source": [
    "<div align='Center'>\n",
    "<hr>\n",
    "\n",
    "##### Problem Statement 1\n",
    "\n",
    "</div>"
   ]
  },
  {
   "attachments": {},
   "cell_type": "markdown",
   "metadata": {},
   "source": [
    "Calculating the World Data on the basis of All Countries"
   ]
  },
  {
   "cell_type": "code",
   "execution_count": 42,
   "metadata": {},
   "outputs": [],
   "source": [
    "# Function for Handling Non-Float Values\n",
    "def converter(array):\n",
    "    narray = list()\n",
    "    for i in range(len(array)):\n",
    "        fNum = 2.5\n",
    "        try:\n",
    "            fNum = float(array[i])\n",
    "        except:\n",
    "            pass\n",
    "        narray.append(fNum)\n",
    "    return narray\n",
    "\n",
    "ghi2000 = converter(dataGHI['2000'].to_list())\n",
    "ghi2007 = converter(dataGHI['2007'].to_list())\n",
    "ghi2014 = converter(dataGHI['2014'].to_list())\n",
    "ghi2022 = converter(dataGHI['2022'].to_list())\n",
    "\n",
    "# Configure the Data\n",
    "yearsGHI = ['2000', '2007', '2014', '2022']\n",
    "valueGHI = [np.mean(ghi2000), np.mean(ghi2007), np.mean(ghi2014), np.mean(ghi2022)]\n",
    "\n",
    "gdpData = dataGDP.loc[dataGDP['Country Name']=='World'].to_dict('split')\n",
    "yearsGDP = gdpData['columns'][4:]\n",
    "valueGDP = gdpData['data'][0][4:]"
   ]
  },
  {
   "attachments": {},
   "cell_type": "markdown",
   "metadata": {},
   "source": [
    "Making the Graph"
   ]
  },
  {
   "cell_type": "code",
   "execution_count": 43,
   "metadata": {},
   "outputs": [
    {
     "data": {
      "application/vnd.plotly.v1+json": {
       "config": {
        "plotlyServerURL": "https://plot.ly"
       },
       "data": [
        {
         "mode": "lines+markers",
         "type": "scatter",
         "x": [
          "2000",
          "2007",
          "2014",
          "2022"
         ],
         "xaxis": "x",
         "y": [
          23.839669421487606,
          20.19586776859504,
          16.21487603305785,
          15.150413223140497
         ],
         "yaxis": "y"
        },
        {
         "mode": "lines+markers",
         "type": "scatter",
         "x": [
          "1960",
          "1961",
          "1962",
          "1963",
          "1964",
          "1965",
          "1966",
          "1967",
          "1968",
          "1969",
          "1970",
          "1971",
          "1972",
          "1973",
          "1974",
          "1975",
          "1976",
          "1977",
          "1978",
          "1979",
          "1980",
          "1981",
          "1982",
          "1983",
          "1984",
          "1985",
          "1986",
          "1987",
          "1988",
          "1989",
          "1990",
          "1991",
          "1992",
          "1993",
          "1994",
          "1995",
          "1996",
          "1997",
          "1998",
          "1999",
          "2000",
          "2001",
          "2002",
          "2003",
          "2004",
          "2005",
          "2006",
          "2007",
          "2008",
          "2009",
          "2010",
          "2011",
          "2012",
          "2013",
          "2014",
          "2015",
          "2016",
          "2017",
          "2018",
          "2019",
          "2020",
          "2021"
         ],
         "xaxis": "x2",
         "y": [
          459.26004,
          471.4793749,
          495.8684291,
          523.4412757,
          561.3501145,
          599.0789364,
          636.7103894,
          663.8499052,
          701.9887473,
          758.3486025,
          812.1893392,
          878.651836,
          993.0930048,
          1187.974372,
          1343.249801,
          1468.981096,
          1568.688501,
          1743.573539,
          2017.885412,
          2302.927285,
          2551.889983,
          2594.040332,
          2522.354013,
          2527.266209,
          2574.440831,
          2651.904305,
          3080.930618,
          3445.247959,
          3782.393297,
          3882.113626,
          4304.097258,
          4414.838231,
          4645.166252,
          4647.750794,
          4940.836684,
          5421.609098,
          5461.787415,
          5364.214365,
          5275.582114,
          5401.511533,
          5507.46287,
          5400.277171,
          5535.422924,
          6127.714821,
          6818.915694,
          7292.471174,
          7804.180263,
          8686.008951,
          9427.571924,
          8830.752749,
          9556.568971,
          10471.01428,
          10573.06453,
          10735.26132,
          10896.2156,
          10153.78077,
          10205.8488,
          10741.48551,
          11284.18325,
          11319.75411,
          10881.7037,
          12234.7968
         ],
         "yaxis": "y2"
        }
       ],
       "layout": {
        "annotations": [
         {
          "font": {
           "size": 16
          },
          "showarrow": false,
          "text": "Global Hunger Index",
          "x": 0.225,
          "xanchor": "center",
          "xref": "paper",
          "y": 1,
          "yanchor": "bottom",
          "yref": "paper"
         },
         {
          "font": {
           "size": 16
          },
          "showarrow": false,
          "text": "GDP per Capita",
          "x": 0.775,
          "xanchor": "center",
          "xref": "paper",
          "y": 1,
          "yanchor": "bottom",
          "yref": "paper"
         }
        ],
        "showlegend": false,
        "template": {
         "data": {
          "bar": [
           {
            "error_x": {
             "color": "#2a3f5f"
            },
            "error_y": {
             "color": "#2a3f5f"
            },
            "marker": {
             "line": {
              "color": "#E5ECF6",
              "width": 0.5
             },
             "pattern": {
              "fillmode": "overlay",
              "size": 10,
              "solidity": 0.2
             }
            },
            "type": "bar"
           }
          ],
          "barpolar": [
           {
            "marker": {
             "line": {
              "color": "#E5ECF6",
              "width": 0.5
             },
             "pattern": {
              "fillmode": "overlay",
              "size": 10,
              "solidity": 0.2
             }
            },
            "type": "barpolar"
           }
          ],
          "carpet": [
           {
            "aaxis": {
             "endlinecolor": "#2a3f5f",
             "gridcolor": "white",
             "linecolor": "white",
             "minorgridcolor": "white",
             "startlinecolor": "#2a3f5f"
            },
            "baxis": {
             "endlinecolor": "#2a3f5f",
             "gridcolor": "white",
             "linecolor": "white",
             "minorgridcolor": "white",
             "startlinecolor": "#2a3f5f"
            },
            "type": "carpet"
           }
          ],
          "choropleth": [
           {
            "colorbar": {
             "outlinewidth": 0,
             "ticks": ""
            },
            "type": "choropleth"
           }
          ],
          "contour": [
           {
            "colorbar": {
             "outlinewidth": 0,
             "ticks": ""
            },
            "colorscale": [
             [
              0,
              "#0d0887"
             ],
             [
              0.1111111111111111,
              "#46039f"
             ],
             [
              0.2222222222222222,
              "#7201a8"
             ],
             [
              0.3333333333333333,
              "#9c179e"
             ],
             [
              0.4444444444444444,
              "#bd3786"
             ],
             [
              0.5555555555555556,
              "#d8576b"
             ],
             [
              0.6666666666666666,
              "#ed7953"
             ],
             [
              0.7777777777777778,
              "#fb9f3a"
             ],
             [
              0.8888888888888888,
              "#fdca26"
             ],
             [
              1,
              "#f0f921"
             ]
            ],
            "type": "contour"
           }
          ],
          "contourcarpet": [
           {
            "colorbar": {
             "outlinewidth": 0,
             "ticks": ""
            },
            "type": "contourcarpet"
           }
          ],
          "heatmap": [
           {
            "colorbar": {
             "outlinewidth": 0,
             "ticks": ""
            },
            "colorscale": [
             [
              0,
              "#0d0887"
             ],
             [
              0.1111111111111111,
              "#46039f"
             ],
             [
              0.2222222222222222,
              "#7201a8"
             ],
             [
              0.3333333333333333,
              "#9c179e"
             ],
             [
              0.4444444444444444,
              "#bd3786"
             ],
             [
              0.5555555555555556,
              "#d8576b"
             ],
             [
              0.6666666666666666,
              "#ed7953"
             ],
             [
              0.7777777777777778,
              "#fb9f3a"
             ],
             [
              0.8888888888888888,
              "#fdca26"
             ],
             [
              1,
              "#f0f921"
             ]
            ],
            "type": "heatmap"
           }
          ],
          "heatmapgl": [
           {
            "colorbar": {
             "outlinewidth": 0,
             "ticks": ""
            },
            "colorscale": [
             [
              0,
              "#0d0887"
             ],
             [
              0.1111111111111111,
              "#46039f"
             ],
             [
              0.2222222222222222,
              "#7201a8"
             ],
             [
              0.3333333333333333,
              "#9c179e"
             ],
             [
              0.4444444444444444,
              "#bd3786"
             ],
             [
              0.5555555555555556,
              "#d8576b"
             ],
             [
              0.6666666666666666,
              "#ed7953"
             ],
             [
              0.7777777777777778,
              "#fb9f3a"
             ],
             [
              0.8888888888888888,
              "#fdca26"
             ],
             [
              1,
              "#f0f921"
             ]
            ],
            "type": "heatmapgl"
           }
          ],
          "histogram": [
           {
            "marker": {
             "pattern": {
              "fillmode": "overlay",
              "size": 10,
              "solidity": 0.2
             }
            },
            "type": "histogram"
           }
          ],
          "histogram2d": [
           {
            "colorbar": {
             "outlinewidth": 0,
             "ticks": ""
            },
            "colorscale": [
             [
              0,
              "#0d0887"
             ],
             [
              0.1111111111111111,
              "#46039f"
             ],
             [
              0.2222222222222222,
              "#7201a8"
             ],
             [
              0.3333333333333333,
              "#9c179e"
             ],
             [
              0.4444444444444444,
              "#bd3786"
             ],
             [
              0.5555555555555556,
              "#d8576b"
             ],
             [
              0.6666666666666666,
              "#ed7953"
             ],
             [
              0.7777777777777778,
              "#fb9f3a"
             ],
             [
              0.8888888888888888,
              "#fdca26"
             ],
             [
              1,
              "#f0f921"
             ]
            ],
            "type": "histogram2d"
           }
          ],
          "histogram2dcontour": [
           {
            "colorbar": {
             "outlinewidth": 0,
             "ticks": ""
            },
            "colorscale": [
             [
              0,
              "#0d0887"
             ],
             [
              0.1111111111111111,
              "#46039f"
             ],
             [
              0.2222222222222222,
              "#7201a8"
             ],
             [
              0.3333333333333333,
              "#9c179e"
             ],
             [
              0.4444444444444444,
              "#bd3786"
             ],
             [
              0.5555555555555556,
              "#d8576b"
             ],
             [
              0.6666666666666666,
              "#ed7953"
             ],
             [
              0.7777777777777778,
              "#fb9f3a"
             ],
             [
              0.8888888888888888,
              "#fdca26"
             ],
             [
              1,
              "#f0f921"
             ]
            ],
            "type": "histogram2dcontour"
           }
          ],
          "mesh3d": [
           {
            "colorbar": {
             "outlinewidth": 0,
             "ticks": ""
            },
            "type": "mesh3d"
           }
          ],
          "parcoords": [
           {
            "line": {
             "colorbar": {
              "outlinewidth": 0,
              "ticks": ""
             }
            },
            "type": "parcoords"
           }
          ],
          "pie": [
           {
            "automargin": true,
            "type": "pie"
           }
          ],
          "scatter": [
           {
            "fillpattern": {
             "fillmode": "overlay",
             "size": 10,
             "solidity": 0.2
            },
            "type": "scatter"
           }
          ],
          "scatter3d": [
           {
            "line": {
             "colorbar": {
              "outlinewidth": 0,
              "ticks": ""
             }
            },
            "marker": {
             "colorbar": {
              "outlinewidth": 0,
              "ticks": ""
             }
            },
            "type": "scatter3d"
           }
          ],
          "scattercarpet": [
           {
            "marker": {
             "colorbar": {
              "outlinewidth": 0,
              "ticks": ""
             }
            },
            "type": "scattercarpet"
           }
          ],
          "scattergeo": [
           {
            "marker": {
             "colorbar": {
              "outlinewidth": 0,
              "ticks": ""
             }
            },
            "type": "scattergeo"
           }
          ],
          "scattergl": [
           {
            "marker": {
             "colorbar": {
              "outlinewidth": 0,
              "ticks": ""
             }
            },
            "type": "scattergl"
           }
          ],
          "scattermapbox": [
           {
            "marker": {
             "colorbar": {
              "outlinewidth": 0,
              "ticks": ""
             }
            },
            "type": "scattermapbox"
           }
          ],
          "scatterpolar": [
           {
            "marker": {
             "colorbar": {
              "outlinewidth": 0,
              "ticks": ""
             }
            },
            "type": "scatterpolar"
           }
          ],
          "scatterpolargl": [
           {
            "marker": {
             "colorbar": {
              "outlinewidth": 0,
              "ticks": ""
             }
            },
            "type": "scatterpolargl"
           }
          ],
          "scatterternary": [
           {
            "marker": {
             "colorbar": {
              "outlinewidth": 0,
              "ticks": ""
             }
            },
            "type": "scatterternary"
           }
          ],
          "surface": [
           {
            "colorbar": {
             "outlinewidth": 0,
             "ticks": ""
            },
            "colorscale": [
             [
              0,
              "#0d0887"
             ],
             [
              0.1111111111111111,
              "#46039f"
             ],
             [
              0.2222222222222222,
              "#7201a8"
             ],
             [
              0.3333333333333333,
              "#9c179e"
             ],
             [
              0.4444444444444444,
              "#bd3786"
             ],
             [
              0.5555555555555556,
              "#d8576b"
             ],
             [
              0.6666666666666666,
              "#ed7953"
             ],
             [
              0.7777777777777778,
              "#fb9f3a"
             ],
             [
              0.8888888888888888,
              "#fdca26"
             ],
             [
              1,
              "#f0f921"
             ]
            ],
            "type": "surface"
           }
          ],
          "table": [
           {
            "cells": {
             "fill": {
              "color": "#EBF0F8"
             },
             "line": {
              "color": "white"
             }
            },
            "header": {
             "fill": {
              "color": "#C8D4E3"
             },
             "line": {
              "color": "white"
             }
            },
            "type": "table"
           }
          ]
         },
         "layout": {
          "annotationdefaults": {
           "arrowcolor": "#2a3f5f",
           "arrowhead": 0,
           "arrowwidth": 1
          },
          "autotypenumbers": "strict",
          "coloraxis": {
           "colorbar": {
            "outlinewidth": 0,
            "ticks": ""
           }
          },
          "colorscale": {
           "diverging": [
            [
             0,
             "#8e0152"
            ],
            [
             0.1,
             "#c51b7d"
            ],
            [
             0.2,
             "#de77ae"
            ],
            [
             0.3,
             "#f1b6da"
            ],
            [
             0.4,
             "#fde0ef"
            ],
            [
             0.5,
             "#f7f7f7"
            ],
            [
             0.6,
             "#e6f5d0"
            ],
            [
             0.7,
             "#b8e186"
            ],
            [
             0.8,
             "#7fbc41"
            ],
            [
             0.9,
             "#4d9221"
            ],
            [
             1,
             "#276419"
            ]
           ],
           "sequential": [
            [
             0,
             "#0d0887"
            ],
            [
             0.1111111111111111,
             "#46039f"
            ],
            [
             0.2222222222222222,
             "#7201a8"
            ],
            [
             0.3333333333333333,
             "#9c179e"
            ],
            [
             0.4444444444444444,
             "#bd3786"
            ],
            [
             0.5555555555555556,
             "#d8576b"
            ],
            [
             0.6666666666666666,
             "#ed7953"
            ],
            [
             0.7777777777777778,
             "#fb9f3a"
            ],
            [
             0.8888888888888888,
             "#fdca26"
            ],
            [
             1,
             "#f0f921"
            ]
           ],
           "sequentialminus": [
            [
             0,
             "#0d0887"
            ],
            [
             0.1111111111111111,
             "#46039f"
            ],
            [
             0.2222222222222222,
             "#7201a8"
            ],
            [
             0.3333333333333333,
             "#9c179e"
            ],
            [
             0.4444444444444444,
             "#bd3786"
            ],
            [
             0.5555555555555556,
             "#d8576b"
            ],
            [
             0.6666666666666666,
             "#ed7953"
            ],
            [
             0.7777777777777778,
             "#fb9f3a"
            ],
            [
             0.8888888888888888,
             "#fdca26"
            ],
            [
             1,
             "#f0f921"
            ]
           ]
          },
          "colorway": [
           "#636efa",
           "#EF553B",
           "#00cc96",
           "#ab63fa",
           "#FFA15A",
           "#19d3f3",
           "#FF6692",
           "#B6E880",
           "#FF97FF",
           "#FECB52"
          ],
          "font": {
           "color": "#2a3f5f"
          },
          "geo": {
           "bgcolor": "white",
           "lakecolor": "white",
           "landcolor": "#E5ECF6",
           "showlakes": true,
           "showland": true,
           "subunitcolor": "white"
          },
          "hoverlabel": {
           "align": "left"
          },
          "hovermode": "closest",
          "mapbox": {
           "style": "light"
          },
          "paper_bgcolor": "white",
          "plot_bgcolor": "#E5ECF6",
          "polar": {
           "angularaxis": {
            "gridcolor": "white",
            "linecolor": "white",
            "ticks": ""
           },
           "bgcolor": "#E5ECF6",
           "radialaxis": {
            "gridcolor": "white",
            "linecolor": "white",
            "ticks": ""
           }
          },
          "scene": {
           "xaxis": {
            "backgroundcolor": "#E5ECF6",
            "gridcolor": "white",
            "gridwidth": 2,
            "linecolor": "white",
            "showbackground": true,
            "ticks": "",
            "zerolinecolor": "white"
           },
           "yaxis": {
            "backgroundcolor": "#E5ECF6",
            "gridcolor": "white",
            "gridwidth": 2,
            "linecolor": "white",
            "showbackground": true,
            "ticks": "",
            "zerolinecolor": "white"
           },
           "zaxis": {
            "backgroundcolor": "#E5ECF6",
            "gridcolor": "white",
            "gridwidth": 2,
            "linecolor": "white",
            "showbackground": true,
            "ticks": "",
            "zerolinecolor": "white"
           }
          },
          "shapedefaults": {
           "line": {
            "color": "#2a3f5f"
           }
          },
          "ternary": {
           "aaxis": {
            "gridcolor": "white",
            "linecolor": "white",
            "ticks": ""
           },
           "baxis": {
            "gridcolor": "white",
            "linecolor": "white",
            "ticks": ""
           },
           "bgcolor": "#E5ECF6",
           "caxis": {
            "gridcolor": "white",
            "linecolor": "white",
            "ticks": ""
           }
          },
          "title": {
           "x": 0.05
          },
          "xaxis": {
           "automargin": true,
           "gridcolor": "white",
           "linecolor": "white",
           "ticks": "",
           "title": {
            "standoff": 15
           },
           "zerolinecolor": "white",
           "zerolinewidth": 2
          },
          "yaxis": {
           "automargin": true,
           "gridcolor": "white",
           "linecolor": "white",
           "ticks": "",
           "title": {
            "standoff": 15
           },
           "zerolinecolor": "white",
           "zerolinewidth": 2
          }
         }
        },
        "xaxis": {
         "anchor": "y",
         "domain": [
          0,
          0.45
         ],
         "title": {
          "text": "Years"
         }
        },
        "xaxis2": {
         "anchor": "y2",
         "domain": [
          0.55,
          1
         ],
         "title": {
          "text": "Years"
         }
        },
        "yaxis": {
         "anchor": "x",
         "domain": [
          0,
          1
         ],
         "title": {
          "text": "Hunger Score"
         }
        },
        "yaxis2": {
         "anchor": "x2",
         "domain": [
          0,
          1
         ],
         "title": {
          "text": "GDP (in million $)"
         }
        }
       }
      }
     },
     "metadata": {},
     "output_type": "display_data"
    }
   ],
   "source": [
    "# Plot the Data\n",
    "fig = make_subplots(rows=1, cols=2, subplot_titles=(\"Global Hunger Index\", \"GDP per Capita\"))\n",
    "fig.add_trace(go.Scatter(\n",
    "    x=yearsGHI,\n",
    "    y=valueGHI,\n",
    "    mode='lines+markers'),\n",
    "    row=1, col=1\n",
    "    )\n",
    "fig.add_trace(go.Scatter(\n",
    "    x=yearsGDP,\n",
    "    y=valueGDP,\n",
    "    mode='lines+markers'),\n",
    "    row=1, col=2\n",
    "    )\n",
    "\n",
    "# Customise the Graph\n",
    "fig.update_xaxes(title_text=\"Years\", row=1, col=1)\n",
    "fig.update_xaxes(title_text=\"Years\", row=1, col=2)\n",
    "fig.update_yaxes(title_text=\"Hunger Score\", row=1, col=1)\n",
    "fig.update_yaxes(title_text=\"GDP (in million $)\", row=1, col=2)\n",
    "fig.update_layout(showlegend=False)\n",
    "\n",
    "# Show the Graph\n",
    "fig.show()"
   ]
  },
  {
   "attachments": {},
   "cell_type": "markdown",
   "metadata": {},
   "source": [
    "<div align='Center'>\n",
    "<hr>\n",
    "\n",
    "##### Problem Statement 2\n",
    "\n",
    "</div>"
   ]
  },
  {
   "attachments": {},
   "cell_type": "markdown",
   "metadata": {},
   "source": [
    "State the Hypothesis"
   ]
  },
  {
   "attachments": {},
   "cell_type": "markdown",
   "metadata": {},
   "source": [
    "${\\alpha} = 0.05 (5\\%)$\n",
    "\n",
    "$H_{0}: {\\mu}_{2000} {\\ge} {\\mu}_{2022}$\n",
    "\n",
    "$H_{a}: {\\mu}_{2000} < {\\mu}_{2022}$"
   ]
  },
  {
   "cell_type": "code",
   "execution_count": 44,
   "metadata": {},
   "outputs": [
    {
     "data": {
      "text/plain": [
       "(5.174011353005595, 9.306383193067887e-07)"
      ]
     },
     "execution_count": 44,
     "metadata": {},
     "output_type": "execute_result"
    }
   ],
   "source": [
    "def ttest(data1, data2, tail=2):\n",
    "    mean1 = np.mean(data1)\n",
    "    mean2 = np.mean(data2)\n",
    "    std1 = np.std(data1)\n",
    "    std2 = np.std(data2)\n",
    "    n1 = len(data1)\n",
    "    n2 = len(data2)\n",
    "    tN = mean1 - mean2\n",
    "    tD = np.sqrt(((std1**2)/n1) + ((std2**2)/n2))\n",
    "    t = tN / tD\n",
    "    if tail == 2:\n",
    "        p = stats.t.sf(abs(t), df=n1-1)*2\n",
    "    elif tail in (-1,1):\n",
    "        p = stats.t.sf(abs(tail*t), df=n1-1)\n",
    "    else:\n",
    "        return None\n",
    "    return (t, p)\n",
    "\n",
    "x = ttest(ghi2000, ghi2022)\n",
    "x"
   ]
  },
  {
   "attachments": {},
   "cell_type": "markdown",
   "metadata": {},
   "source": [
    "As the P-Value comes out to be $9.306383193067887e-07$, which is lesser than $\\alpha$, therefore, we reject the Null Hypothesis.\n",
    "\n",
    "Hence, we can conclude that even though developing countries do not account for Hunger Index, but they still do some work to ensure food security and food production."
   ]
  },
  {
   "attachments": {},
   "cell_type": "markdown",
   "metadata": {},
   "source": [
    "<div align='Center'>\n",
    "<hr>\n",
    "\n",
    "##### Problem Statement 3\n",
    "\n",
    "</div>"
   ]
  },
  {
   "attachments": {},
   "cell_type": "markdown",
   "metadata": {},
   "source": [
    "Make the Correlation Heatmap"
   ]
  },
  {
   "cell_type": "code",
   "execution_count": 45,
   "metadata": {},
   "outputs": [],
   "source": [
    "# Define the Pearson Correlation Function\n",
    "def corrPearson(x,y):\n",
    "    df = pd.DataFrame({'x': x, 'y': y})\n",
    "    df2 = pd.DataFrame({\n",
    "        'x - mean(x)': (df['x'] - pd.Series(list(np.mean(df['x']) for i in range(len(x))))),\n",
    "        'y - mean(y)': (df['y'] - pd.Series(list(np.mean(df['y']) for i in range(len(y)))))\n",
    "    })\n",
    "    df2['sqr(x - mean(x))'] = df2['x - mean(x)'] * df2['x - mean(x)']\n",
    "    df2['sqr(y - mean(y))'] = df2['y - mean(y)'] * df2['y - mean(y)']\n",
    "\n",
    "    xXy = list()\n",
    "    for i in range(len(df2)):\n",
    "        xXy.append(df2['x - mean(x)'][i] * df2['y - mean(y)'][i])\n",
    "    df2['(x - mean(x)) X (y - mean(y))'] = xXy\n",
    "\n",
    "    return df2['(x - mean(x)) X (y - mean(y))'].sum() / np.sqrt(df2['sqr(x - mean(x))'].sum() * df2['sqr(y - mean(y))'].sum())\n",
    "\n",
    "# Add the Data\n",
    "alldata = {\n",
    "    \"Prevalence of Stunting\": [-0.014, 0, -0.026, -0.018, 0.0, 0.0, -0.026],\n",
    "    \"Prevalence of Malnutrition\": [-0.007, 0, 0.007, 0.001, 0.0, 0.011, 0.007],\n",
    "    \"Prevalence of Anaemia in Women\": [42.8,0,47.15,21.05,18.75,17.1,17.1],\n",
    "    \"Annual Farming Sales\": [0.09,0,0.08,0.01,0.05,0.07,0.07],\n",
    "    \"Annual Animal Feed Expenditure\": [0.03,0,0.33,0.06,0.00,0.07,0.00],\n",
    "    \"Global Hunger Index\": [10.12,0,6.36,4.91,2.81,5.4,6.978],\n",
    "    \"GDP per Capita\": [1.809,0,5.635,25.851,35.087,37.477,8.520]\n",
    "}\n",
    "\n",
    "# Create Correlation Table\n",
    "correlation = dict()\n",
    "for i in alldata:\n",
    "    correlation[i] = list()\n",
    "    for j in alldata:\n",
    "        correlation[i].append(corrPearson(alldata[i], alldata[j]))\n",
    "correlation = pd.DataFrame(correlation, index=list(correlation.keys()))"
   ]
  },
  {
   "cell_type": "code",
   "execution_count": 46,
   "metadata": {},
   "outputs": [
    {
     "data": {
      "application/vnd.plotly.v1+json": {
       "config": {
        "plotlyServerURL": "https://plot.ly"
       },
       "data": [
        {
         "coloraxis": "coloraxis",
         "hovertemplate": "x: %{x}<br>y: %{y}<br>color: %{z}<extra></extra>",
         "name": "0",
         "texttemplate": "%{z}",
         "type": "heatmap",
         "x": [
          "Prevalence of Stunting",
          "Prevalence of Malnutrition",
          "Prevalence of Anaemia in Women",
          "Annual Farming Sales",
          "Annual Animal Feed Expenditure",
          "Global Hunger Index",
          "GDP per Capita"
         ],
         "xaxis": "x",
         "y": [
          "Prevalence of Stunting",
          "Prevalence of Malnutrition",
          "Prevalence of Anaemia in Women",
          "Annual Farming Sales",
          "Annual Animal Feed Expenditure",
          "Global Hunger Index",
          "GDP per Capita"
         ],
         "yaxis": "y",
         "z": [
          [
           1,
           -0.12920307490403096,
           -0.5803699565050789,
           -0.35731652253466334,
           -0.4930066485916345,
           -0.5978715139729384,
           0.44511923690297484
          ],
          [
           -0.12920307490403096,
           1,
           -0.14556128002845803,
           0.15489296079900441,
           0.3743880976427967,
           -0.10756575850796428,
           0.36962327614640805
          ],
          [
           -0.5803699565050789,
           -0.14556128002845803,
           1,
           0.7306460352229757,
           0.6763053848334352,
           0.7786701287337564,
           -0.22138936568608672
          ],
          [
           -0.35731652253466334,
           0.15489296079900441,
           0.7306460352229757,
           1,
           0.3503055919937637,
           0.8063634635011224,
           -0.05927328009158725
          ],
          [
           -0.4930066485916345,
           0.3743880976427967,
           0.6763053848334352,
           0.3503055919937637,
           1,
           0.22622582223511592,
           -0.16851727128913066
          ],
          [
           -0.5978715139729384,
           -0.10756575850796428,
           0.7786701287337564,
           0.8063634635011224,
           0.22622582223511592,
           1,
           -0.18228014167906026
          ],
          [
           0.44511923690297484,
           0.36962327614640805,
           -0.22138936568608672,
           -0.05927328009158725,
           -0.16851727128913066,
           -0.18228014167906026,
           1
          ]
         ]
        }
       ],
       "layout": {
        "coloraxis": {
         "colorscale": [
          [
           0,
           "#0d0887"
          ],
          [
           0.1111111111111111,
           "#46039f"
          ],
          [
           0.2222222222222222,
           "#7201a8"
          ],
          [
           0.3333333333333333,
           "#9c179e"
          ],
          [
           0.4444444444444444,
           "#bd3786"
          ],
          [
           0.5555555555555556,
           "#d8576b"
          ],
          [
           0.6666666666666666,
           "#ed7953"
          ],
          [
           0.7777777777777778,
           "#fb9f3a"
          ],
          [
           0.8888888888888888,
           "#fdca26"
          ],
          [
           1,
           "#f0f921"
          ]
         ]
        },
        "margin": {
         "t": 60
        },
        "template": {
         "data": {
          "bar": [
           {
            "error_x": {
             "color": "#2a3f5f"
            },
            "error_y": {
             "color": "#2a3f5f"
            },
            "marker": {
             "line": {
              "color": "#E5ECF6",
              "width": 0.5
             },
             "pattern": {
              "fillmode": "overlay",
              "size": 10,
              "solidity": 0.2
             }
            },
            "type": "bar"
           }
          ],
          "barpolar": [
           {
            "marker": {
             "line": {
              "color": "#E5ECF6",
              "width": 0.5
             },
             "pattern": {
              "fillmode": "overlay",
              "size": 10,
              "solidity": 0.2
             }
            },
            "type": "barpolar"
           }
          ],
          "carpet": [
           {
            "aaxis": {
             "endlinecolor": "#2a3f5f",
             "gridcolor": "white",
             "linecolor": "white",
             "minorgridcolor": "white",
             "startlinecolor": "#2a3f5f"
            },
            "baxis": {
             "endlinecolor": "#2a3f5f",
             "gridcolor": "white",
             "linecolor": "white",
             "minorgridcolor": "white",
             "startlinecolor": "#2a3f5f"
            },
            "type": "carpet"
           }
          ],
          "choropleth": [
           {
            "colorbar": {
             "outlinewidth": 0,
             "ticks": ""
            },
            "type": "choropleth"
           }
          ],
          "contour": [
           {
            "colorbar": {
             "outlinewidth": 0,
             "ticks": ""
            },
            "colorscale": [
             [
              0,
              "#0d0887"
             ],
             [
              0.1111111111111111,
              "#46039f"
             ],
             [
              0.2222222222222222,
              "#7201a8"
             ],
             [
              0.3333333333333333,
              "#9c179e"
             ],
             [
              0.4444444444444444,
              "#bd3786"
             ],
             [
              0.5555555555555556,
              "#d8576b"
             ],
             [
              0.6666666666666666,
              "#ed7953"
             ],
             [
              0.7777777777777778,
              "#fb9f3a"
             ],
             [
              0.8888888888888888,
              "#fdca26"
             ],
             [
              1,
              "#f0f921"
             ]
            ],
            "type": "contour"
           }
          ],
          "contourcarpet": [
           {
            "colorbar": {
             "outlinewidth": 0,
             "ticks": ""
            },
            "type": "contourcarpet"
           }
          ],
          "heatmap": [
           {
            "colorbar": {
             "outlinewidth": 0,
             "ticks": ""
            },
            "colorscale": [
             [
              0,
              "#0d0887"
             ],
             [
              0.1111111111111111,
              "#46039f"
             ],
             [
              0.2222222222222222,
              "#7201a8"
             ],
             [
              0.3333333333333333,
              "#9c179e"
             ],
             [
              0.4444444444444444,
              "#bd3786"
             ],
             [
              0.5555555555555556,
              "#d8576b"
             ],
             [
              0.6666666666666666,
              "#ed7953"
             ],
             [
              0.7777777777777778,
              "#fb9f3a"
             ],
             [
              0.8888888888888888,
              "#fdca26"
             ],
             [
              1,
              "#f0f921"
             ]
            ],
            "type": "heatmap"
           }
          ],
          "heatmapgl": [
           {
            "colorbar": {
             "outlinewidth": 0,
             "ticks": ""
            },
            "colorscale": [
             [
              0,
              "#0d0887"
             ],
             [
              0.1111111111111111,
              "#46039f"
             ],
             [
              0.2222222222222222,
              "#7201a8"
             ],
             [
              0.3333333333333333,
              "#9c179e"
             ],
             [
              0.4444444444444444,
              "#bd3786"
             ],
             [
              0.5555555555555556,
              "#d8576b"
             ],
             [
              0.6666666666666666,
              "#ed7953"
             ],
             [
              0.7777777777777778,
              "#fb9f3a"
             ],
             [
              0.8888888888888888,
              "#fdca26"
             ],
             [
              1,
              "#f0f921"
             ]
            ],
            "type": "heatmapgl"
           }
          ],
          "histogram": [
           {
            "marker": {
             "pattern": {
              "fillmode": "overlay",
              "size": 10,
              "solidity": 0.2
             }
            },
            "type": "histogram"
           }
          ],
          "histogram2d": [
           {
            "colorbar": {
             "outlinewidth": 0,
             "ticks": ""
            },
            "colorscale": [
             [
              0,
              "#0d0887"
             ],
             [
              0.1111111111111111,
              "#46039f"
             ],
             [
              0.2222222222222222,
              "#7201a8"
             ],
             [
              0.3333333333333333,
              "#9c179e"
             ],
             [
              0.4444444444444444,
              "#bd3786"
             ],
             [
              0.5555555555555556,
              "#d8576b"
             ],
             [
              0.6666666666666666,
              "#ed7953"
             ],
             [
              0.7777777777777778,
              "#fb9f3a"
             ],
             [
              0.8888888888888888,
              "#fdca26"
             ],
             [
              1,
              "#f0f921"
             ]
            ],
            "type": "histogram2d"
           }
          ],
          "histogram2dcontour": [
           {
            "colorbar": {
             "outlinewidth": 0,
             "ticks": ""
            },
            "colorscale": [
             [
              0,
              "#0d0887"
             ],
             [
              0.1111111111111111,
              "#46039f"
             ],
             [
              0.2222222222222222,
              "#7201a8"
             ],
             [
              0.3333333333333333,
              "#9c179e"
             ],
             [
              0.4444444444444444,
              "#bd3786"
             ],
             [
              0.5555555555555556,
              "#d8576b"
             ],
             [
              0.6666666666666666,
              "#ed7953"
             ],
             [
              0.7777777777777778,
              "#fb9f3a"
             ],
             [
              0.8888888888888888,
              "#fdca26"
             ],
             [
              1,
              "#f0f921"
             ]
            ],
            "type": "histogram2dcontour"
           }
          ],
          "mesh3d": [
           {
            "colorbar": {
             "outlinewidth": 0,
             "ticks": ""
            },
            "type": "mesh3d"
           }
          ],
          "parcoords": [
           {
            "line": {
             "colorbar": {
              "outlinewidth": 0,
              "ticks": ""
             }
            },
            "type": "parcoords"
           }
          ],
          "pie": [
           {
            "automargin": true,
            "type": "pie"
           }
          ],
          "scatter": [
           {
            "fillpattern": {
             "fillmode": "overlay",
             "size": 10,
             "solidity": 0.2
            },
            "type": "scatter"
           }
          ],
          "scatter3d": [
           {
            "line": {
             "colorbar": {
              "outlinewidth": 0,
              "ticks": ""
             }
            },
            "marker": {
             "colorbar": {
              "outlinewidth": 0,
              "ticks": ""
             }
            },
            "type": "scatter3d"
           }
          ],
          "scattercarpet": [
           {
            "marker": {
             "colorbar": {
              "outlinewidth": 0,
              "ticks": ""
             }
            },
            "type": "scattercarpet"
           }
          ],
          "scattergeo": [
           {
            "marker": {
             "colorbar": {
              "outlinewidth": 0,
              "ticks": ""
             }
            },
            "type": "scattergeo"
           }
          ],
          "scattergl": [
           {
            "marker": {
             "colorbar": {
              "outlinewidth": 0,
              "ticks": ""
             }
            },
            "type": "scattergl"
           }
          ],
          "scattermapbox": [
           {
            "marker": {
             "colorbar": {
              "outlinewidth": 0,
              "ticks": ""
             }
            },
            "type": "scattermapbox"
           }
          ],
          "scatterpolar": [
           {
            "marker": {
             "colorbar": {
              "outlinewidth": 0,
              "ticks": ""
             }
            },
            "type": "scatterpolar"
           }
          ],
          "scatterpolargl": [
           {
            "marker": {
             "colorbar": {
              "outlinewidth": 0,
              "ticks": ""
             }
            },
            "type": "scatterpolargl"
           }
          ],
          "scatterternary": [
           {
            "marker": {
             "colorbar": {
              "outlinewidth": 0,
              "ticks": ""
             }
            },
            "type": "scatterternary"
           }
          ],
          "surface": [
           {
            "colorbar": {
             "outlinewidth": 0,
             "ticks": ""
            },
            "colorscale": [
             [
              0,
              "#0d0887"
             ],
             [
              0.1111111111111111,
              "#46039f"
             ],
             [
              0.2222222222222222,
              "#7201a8"
             ],
             [
              0.3333333333333333,
              "#9c179e"
             ],
             [
              0.4444444444444444,
              "#bd3786"
             ],
             [
              0.5555555555555556,
              "#d8576b"
             ],
             [
              0.6666666666666666,
              "#ed7953"
             ],
             [
              0.7777777777777778,
              "#fb9f3a"
             ],
             [
              0.8888888888888888,
              "#fdca26"
             ],
             [
              1,
              "#f0f921"
             ]
            ],
            "type": "surface"
           }
          ],
          "table": [
           {
            "cells": {
             "fill": {
              "color": "#EBF0F8"
             },
             "line": {
              "color": "white"
             }
            },
            "header": {
             "fill": {
              "color": "#C8D4E3"
             },
             "line": {
              "color": "white"
             }
            },
            "type": "table"
           }
          ]
         },
         "layout": {
          "annotationdefaults": {
           "arrowcolor": "#2a3f5f",
           "arrowhead": 0,
           "arrowwidth": 1
          },
          "autotypenumbers": "strict",
          "coloraxis": {
           "colorbar": {
            "outlinewidth": 0,
            "ticks": ""
           }
          },
          "colorscale": {
           "diverging": [
            [
             0,
             "#8e0152"
            ],
            [
             0.1,
             "#c51b7d"
            ],
            [
             0.2,
             "#de77ae"
            ],
            [
             0.3,
             "#f1b6da"
            ],
            [
             0.4,
             "#fde0ef"
            ],
            [
             0.5,
             "#f7f7f7"
            ],
            [
             0.6,
             "#e6f5d0"
            ],
            [
             0.7,
             "#b8e186"
            ],
            [
             0.8,
             "#7fbc41"
            ],
            [
             0.9,
             "#4d9221"
            ],
            [
             1,
             "#276419"
            ]
           ],
           "sequential": [
            [
             0,
             "#0d0887"
            ],
            [
             0.1111111111111111,
             "#46039f"
            ],
            [
             0.2222222222222222,
             "#7201a8"
            ],
            [
             0.3333333333333333,
             "#9c179e"
            ],
            [
             0.4444444444444444,
             "#bd3786"
            ],
            [
             0.5555555555555556,
             "#d8576b"
            ],
            [
             0.6666666666666666,
             "#ed7953"
            ],
            [
             0.7777777777777778,
             "#fb9f3a"
            ],
            [
             0.8888888888888888,
             "#fdca26"
            ],
            [
             1,
             "#f0f921"
            ]
           ],
           "sequentialminus": [
            [
             0,
             "#0d0887"
            ],
            [
             0.1111111111111111,
             "#46039f"
            ],
            [
             0.2222222222222222,
             "#7201a8"
            ],
            [
             0.3333333333333333,
             "#9c179e"
            ],
            [
             0.4444444444444444,
             "#bd3786"
            ],
            [
             0.5555555555555556,
             "#d8576b"
            ],
            [
             0.6666666666666666,
             "#ed7953"
            ],
            [
             0.7777777777777778,
             "#fb9f3a"
            ],
            [
             0.8888888888888888,
             "#fdca26"
            ],
            [
             1,
             "#f0f921"
            ]
           ]
          },
          "colorway": [
           "#636efa",
           "#EF553B",
           "#00cc96",
           "#ab63fa",
           "#FFA15A",
           "#19d3f3",
           "#FF6692",
           "#B6E880",
           "#FF97FF",
           "#FECB52"
          ],
          "font": {
           "color": "#2a3f5f"
          },
          "geo": {
           "bgcolor": "white",
           "lakecolor": "white",
           "landcolor": "#E5ECF6",
           "showlakes": true,
           "showland": true,
           "subunitcolor": "white"
          },
          "hoverlabel": {
           "align": "left"
          },
          "hovermode": "closest",
          "mapbox": {
           "style": "light"
          },
          "paper_bgcolor": "white",
          "plot_bgcolor": "#E5ECF6",
          "polar": {
           "angularaxis": {
            "gridcolor": "white",
            "linecolor": "white",
            "ticks": ""
           },
           "bgcolor": "#E5ECF6",
           "radialaxis": {
            "gridcolor": "white",
            "linecolor": "white",
            "ticks": ""
           }
          },
          "scene": {
           "xaxis": {
            "backgroundcolor": "#E5ECF6",
            "gridcolor": "white",
            "gridwidth": 2,
            "linecolor": "white",
            "showbackground": true,
            "ticks": "",
            "zerolinecolor": "white"
           },
           "yaxis": {
            "backgroundcolor": "#E5ECF6",
            "gridcolor": "white",
            "gridwidth": 2,
            "linecolor": "white",
            "showbackground": true,
            "ticks": "",
            "zerolinecolor": "white"
           },
           "zaxis": {
            "backgroundcolor": "#E5ECF6",
            "gridcolor": "white",
            "gridwidth": 2,
            "linecolor": "white",
            "showbackground": true,
            "ticks": "",
            "zerolinecolor": "white"
           }
          },
          "shapedefaults": {
           "line": {
            "color": "#2a3f5f"
           }
          },
          "ternary": {
           "aaxis": {
            "gridcolor": "white",
            "linecolor": "white",
            "ticks": ""
           },
           "baxis": {
            "gridcolor": "white",
            "linecolor": "white",
            "ticks": ""
           },
           "bgcolor": "#E5ECF6",
           "caxis": {
            "gridcolor": "white",
            "linecolor": "white",
            "ticks": ""
           }
          },
          "title": {
           "x": 0.05
          },
          "xaxis": {
           "automargin": true,
           "gridcolor": "white",
           "linecolor": "white",
           "ticks": "",
           "title": {
            "standoff": 15
           },
           "zerolinecolor": "white",
           "zerolinewidth": 2
          },
          "yaxis": {
           "automargin": true,
           "gridcolor": "white",
           "linecolor": "white",
           "ticks": "",
           "title": {
            "standoff": 15
           },
           "zerolinecolor": "white",
           "zerolinewidth": 2
          }
         }
        },
        "xaxis": {
         "anchor": "y",
         "constrain": "domain",
         "domain": [
          0,
          1
         ],
         "scaleanchor": "y"
        },
        "yaxis": {
         "anchor": "x",
         "autorange": "reversed",
         "constrain": "domain",
         "domain": [
          0,
          1
         ]
        }
       }
      }
     },
     "metadata": {},
     "output_type": "display_data"
    }
   ],
   "source": [
    "# Plot the Data\n",
    "fig = px.imshow(correlation, text_auto=True)\n",
    "\n",
    "# Show the Graph\n",
    "fig.show()"
   ]
  },
  {
   "attachments": {},
   "cell_type": "markdown",
   "metadata": {},
   "source": [
    "<hr>"
   ]
  }
 ],
 "metadata": {
  "kernelspec": {
   "display_name": "Python 3",
   "language": "python",
   "name": "python3"
  },
  "language_info": {
   "codemirror_mode": {
    "name": "ipython",
    "version": 3
   },
   "file_extension": ".py",
   "mimetype": "text/x-python",
   "name": "python",
   "nbconvert_exporter": "python",
   "pygments_lexer": "ipython3",
   "version": "3.11.1"
  },
  "orig_nbformat": 4,
  "vscode": {
   "interpreter": {
    "hash": "153fc1e6fea5a8a2bd5b9c6255e2ffa89a3c40fd54ceb683cab0b97a850bf258"
   }
  }
 },
 "nbformat": 4,
 "nbformat_minor": 2
}
